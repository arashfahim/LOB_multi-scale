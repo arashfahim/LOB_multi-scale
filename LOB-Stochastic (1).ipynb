{
 "cells": [
  {
   "cell_type": "code",
   "execution_count": 14,
   "id": "e88956d7",
   "metadata": {},
   "outputs": [],
   "source": [
    "import numpy as np\n",
    "import time\n",
    "from scipy import misc\n",
    "import matplotlib.pyplot as plt\n",
    "import torch\n",
    "import torch.nn as nn\n",
    "import torch.nn.functional as F\n",
    "import torch.optim as optim\n",
    "import random\n",
    "import math\n",
    "import pandas as pd\n",
    "from scipy.optimize import fsolve"
   ]
  },
  {
   "cell_type": "code",
   "execution_count": 15,
   "id": "50a8335d",
   "metadata": {},
   "outputs": [
    {
     "name": "stdout",
     "output_type": "stream",
     "text": [
      "tensor(0.0500)\n"
     ]
    }
   ],
   "source": [
    "M=1000\n",
    "ite=20\n",
    "dim_n=5\n",
    "T=1\n",
    "delta = torch.tensor(T/ite)\n",
    "#delta=torch.tensor(0.01)\n",
    "sigma=0.2\n",
    "sigma1=1e-3\n",
    "sigma2=0.01\n",
    "theta1=1\n",
    "theta2=1\n",
    "mu1=1e-3\n",
    "mu2=5\n",
    "A0=0.0\n",
    "gamma=0.0\n",
    "X0=1000\n",
    "neuron_model_psi=20\n",
    "print(delta)"
   ]
  },
  {
   "cell_type": "code",
   "execution_count": 16,
   "id": "74cdec5b",
   "metadata": {},
   "outputs": [],
   "source": [
    "model= torch.nn.Sequential(\n",
    "    torch.nn.Linear(dim_n, neuron_model_psi),\n",
    "#     torch.nn.Linear(neuron_model_psi, neuron_model_psi),\n",
    "#     torch.nn.ReLU(),\n",
    "#     torch.nn.Linear(neuron_model_psi, neuron_model_psi),\n",
    "#     torch.nn.ReLU(),   torch.nn.ReLU(),\n",
    "#   \n",
    "    torch.nn.Linear(neuron_model_psi, neuron_model_psi),\n",
    "    torch.nn.ReLU(),\n",
    "    torch.nn.Linear(neuron_model_psi,1)\n",
    ")"
   ]
  },
  {
   "cell_type": "code",
   "execution_count": 17,
   "id": "3939a847",
   "metadata": {},
   "outputs": [],
   "source": [
    "def kappa_rho_sim(M,ite,theta1,mu1,sigma1,theta2,mu2,sigma2):\n",
    "    kappa=torch.zeros([M,ite+1])\n",
    "    kappa[:,0]=1e-3\n",
    "    rho=torch.zeros([M,ite+1])\n",
    "    rho[:,0]=5\n",
    "\n",
    "    for i in range (1,ite+1):\n",
    "        kappa[:,i]=kappa[:,i-1]+theta1*(mu1-kappa[:,i-1])*delta+np.sqrt(delta)*sigma1*np.random.rand(M)  # Xn+1=Xn+θ(μ−Xn)Δt+σΔWn\n",
    "        rho[:,i]=rho[:,i-1]+theta2*(mu2-rho[:,i-1])*delta+sigma2*np.random.rand(M)\n",
    "    return kappa,rho"
   ]
  },
  {
   "cell_type": "code",
   "execution_count": 18,
   "id": "b4cff12c",
   "metadata": {},
   "outputs": [],
   "source": [
    "t=torch.zeros([M,1])\n",
    "D=torch.zeros([M,1])\n",
    "kappa,rho=kappa_rho_sim(M,ite,theta1,mu1,sigma1,theta2,mu2,sigma2)\n",
    "R=torch.FloatTensor(M,1).uniform_(X0*0.9,X0*1.1)   #remaining balance R_t   #To get a positive solution R_t has to be greater than D_t\n"
   ]
  },
  {
   "cell_type": "code",
   "execution_count": 19,
   "id": "136ed2c7",
   "metadata": {},
   "outputs": [
    {
     "name": "stdout",
     "output_type": "stream",
     "text": [
      "kappa= tensor([[0.3000, 0.2853, 0.2712,  ..., 0.1212, 0.1154, 0.1097],\n",
      "        [0.3000, 0.2852, 0.2711,  ..., 0.1213, 0.1153, 0.1098],\n",
      "        [0.3000, 0.2852, 0.2710,  ..., 0.1208, 0.1148, 0.1092],\n",
      "        ...,\n",
      "        [0.3000, 0.2851, 0.2711,  ..., 0.1210, 0.1151, 0.1096],\n",
      "        [0.3000, 0.2851, 0.2709,  ..., 0.1212, 0.1154, 0.1097],\n",
      "        [0.3000, 0.2852, 0.2712,  ..., 0.1211, 0.1153, 0.1097]]) \n",
      " rho= tensor([[1.0000, 1.2016, 1.3917,  ..., 3.4766, 3.5540, 3.6264],\n",
      "        [1.0000, 1.2045, 1.4032,  ..., 3.4785, 3.5640, 3.6432],\n",
      "        [1.0000, 1.2001, 1.3960,  ..., 3.4701, 3.5541, 3.6271],\n",
      "        ...,\n",
      "        [1.0000, 1.2037, 1.3949,  ..., 3.4744, 3.5510, 3.6278],\n",
      "        [1.0000, 1.2078, 1.4025,  ..., 3.4680, 3.5507, 3.6233],\n",
      "        [1.0000, 1.2060, 1.3976,  ..., 3.4767, 3.5553, 3.6316]])\n"
     ]
    }
   ],
   "source": [
    "print('kappa=',kappa,'\\n rho=',rho) \n",
    "x=torch.cat((t,D,R,kappa[:,0].unsqueeze(1),rho[:,0].unsqueeze(1)),dim=1)"
   ]
  },
  {
   "cell_type": "code",
   "execution_count": 20,
   "id": "518c9f39",
   "metadata": {},
   "outputs": [],
   "source": [
    "def update(x3,psi,i):\n",
    "  t=(x3[:,0]+(1/ite))\n",
    "  kap=kappa[:,i+1]\n",
    "  rh=rho[:,i+1]\n",
    "#   kappa=x3[:,3]+theta1*(mu1-x3[:,3])*delta+torch.sqrt(delta)*sigma1*W1[i]\n",
    "#   rho=x3[:,4]+theta2*(mu2-x3[:,4])*delta+torch.sqrt(delta)*sigma1*W2[i]\n",
    "  D = (x3[:,1]+kap*psi)*torch.exp(-rh*delta)\n",
    "  #print('d',D.shape)\n",
    "  R= x3[:,2]-psi\n",
    "  #print(kappa.shape,rho.shape)\n",
    "  up=torch.cat((t.unsqueeze(1),D.unsqueeze(1),R.unsqueeze(1),kap.unsqueeze(1),rh.unsqueeze(1)),dim=1)\n",
    "  return up\n",
    "\n",
    "def loss_func(x2,psi):\n",
    "  loss=(x2[:,1]*psi+(x2[:,3]/2.0)*torch.pow(psi,2))\n",
    "  #print('loss',loss.shape)\n",
    "  return loss\n",
    "\n",
    "def unit(x1,model,i):\n",
    "    psi=model(x1).squeeze(1)\n",
    "    los=loss_func(x1,psi)\n",
    "    upd=update(x1,psi,i)\n",
    "    #print(upd)\n",
    "    return psi,los,upd\n",
    "\n",
    "def loss_func_total(u,model):\n",
    "  loss=torch.zeros(M,ite)\n",
    "  psi=torch.zeros(M,ite)\n",
    "  for i in range(ite+1):\n",
    "    if(i!=ite):\n",
    "      psi_run,loss_run,u_run=unit(u,model,i)\n",
    "      #print('los func=',psi_run.shape,loss_run.shape)\n",
    "      loss[:,i]=loss_run\n",
    "      #print(loss)\n",
    "      psi[:,i]=psi_run\n",
    "      #print(psi)\n",
    "      u=u_run\n",
    "      #print(u)\n",
    "    else:\n",
    "      #print(torch.sum(psi,dim=1),R.squeeze(1))\n",
    "      psi_ter=R.squeeze(1)-torch.sum(psi,dim=1)\n",
    "      loss_ter=loss_func(u,psi_ter)\n",
    "      #print('ter',loss_ter.shape)\n",
    "  #print(torch.sum(loss,dim=1))\n",
    "  loss=torch.sum(loss,dim=1)+loss_ter\n",
    "  #print(loss.shape)\n",
    "  return torch.mean(loss)"
   ]
  },
  {
   "cell_type": "code",
   "execution_count": 21,
   "id": "4ba6edff",
   "metadata": {},
   "outputs": [
    {
     "name": "stdout",
     "output_type": "stream",
     "text": [
      "At epoch 0 the mean cost is 58403.84375.\n",
      "At epoch 100 the mean cost is 37409.87890625.\n",
      "At epoch 200 the mean cost is 37341.44140625.\n",
      "At epoch 300 the mean cost is 37070.04296875.\n",
      "At epoch 400 the mean cost is 37332.14453125.\n",
      "At epoch 500 the mean cost is 37248.390625.\n",
      "At epoch 600 the mean cost is 36997.640625.\n",
      "At epoch 700 the mean cost is 37224.9375.\n",
      "At epoch 800 the mean cost is 37103.44921875.\n",
      "At epoch 900 the mean cost is 36773.0078125.\n",
      "At epoch 1000 the mean cost is 36609.671875.\n",
      "At epoch 1100 the mean cost is 36621.60546875.\n",
      "At epoch 1200 the mean cost is 36579.3125.\n",
      "At epoch 1300 the mean cost is 36616.5703125.\n",
      "At epoch 1400 the mean cost is 36607.953125.\n",
      "At epoch 1500 the mean cost is 36662.6953125.\n",
      "At epoch 1600 the mean cost is 36554.6328125.\n",
      "At epoch 1700 the mean cost is 36608.01953125.\n",
      "At epoch 1800 the mean cost is 36627.796875.\n",
      "At epoch 1900 the mean cost is 36557.0234375.\n",
      "At epoch 2000 the mean cost is 36546.1171875.\n",
      "At epoch 2100 the mean cost is 36736.71875.\n",
      "At epoch 2200 the mean cost is 36555.359375.\n",
      "At epoch 2300 the mean cost is 36536.59765625.\n",
      "At epoch 2400 the mean cost is 36534.7109375.\n",
      "At epoch 2500 the mean cost is 36532.94140625.\n",
      "At epoch 2600 the mean cost is 36622.453125.\n",
      "At epoch 2700 the mean cost is 36682.68359375.\n",
      "At epoch 2800 the mean cost is 36532.1953125.\n",
      "At epoch 2900 the mean cost is 36658.18359375.\n",
      "At epoch 3000 the mean cost is 36544.265625.\n",
      "At epoch 3100 the mean cost is 36547.265625.\n",
      "At epoch 3200 the mean cost is 36546.0.\n",
      "At epoch 3300 the mean cost is 36547.61328125.\n",
      "At epoch 3400 the mean cost is 36531.19921875.\n",
      "At epoch 3500 the mean cost is 36648.6640625.\n",
      "At epoch 3600 the mean cost is 36524.62109375.\n",
      "At epoch 3700 the mean cost is 36520.98828125.\n",
      "At epoch 3800 the mean cost is 36660.765625.\n",
      "At epoch 3900 the mean cost is 36606.01953125.\n",
      "At epoch 4000 the mean cost is 36555.8125.\n",
      "At epoch 4100 the mean cost is 36557.76953125.\n",
      "At epoch 4200 the mean cost is 36531.5546875.\n",
      "At epoch 4300 the mean cost is 36510.48046875.\n",
      "At epoch 4400 the mean cost is 36538.51171875.\n",
      "At epoch 4500 the mean cost is 36510.6875.\n",
      "At epoch 4600 the mean cost is 36523.4921875.\n",
      "At epoch 4700 the mean cost is 36517.34765625.\n",
      "At epoch 4800 the mean cost is 36532.203125.\n",
      "At epoch 4900 the mean cost is 36539.4765625.\n",
      "At epoch 5000 the mean cost is 36509.1875.\n",
      "At epoch 5100 the mean cost is 36524.65234375.\n",
      "At epoch 5200 the mean cost is 36507.9453125.\n",
      "At epoch 5300 the mean cost is 36505.234375.\n",
      "At epoch 5400 the mean cost is 36511.54296875.\n",
      "At epoch 5500 the mean cost is 36533.53125.\n",
      "At epoch 5600 the mean cost is 36500.4375.\n",
      "At epoch 5700 the mean cost is 36500.6484375.\n",
      "At epoch 5800 the mean cost is 36505.30859375.\n",
      "At epoch 5900 the mean cost is 36494.14453125.\n",
      "At epoch 6000 the mean cost is 36518.7109375.\n",
      "At epoch 6100 the mean cost is 36491.72265625.\n",
      "At epoch 6200 the mean cost is 36494.3046875.\n",
      "At epoch 6300 the mean cost is 36506.46484375.\n",
      "At epoch 6400 the mean cost is 36493.71875.\n",
      "At epoch 6500 the mean cost is 36570.91015625.\n",
      "At epoch 6600 the mean cost is 36504.01171875.\n",
      "At epoch 6700 the mean cost is 36485.75390625.\n",
      "At epoch 6800 the mean cost is 36504.0.\n",
      "At epoch 6900 the mean cost is 36494.72265625.\n",
      "At epoch 7000 the mean cost is 36580.77734375.\n",
      "At epoch 7100 the mean cost is 36485.9921875.\n",
      "At epoch 7200 the mean cost is 36483.43359375.\n",
      "At epoch 7300 the mean cost is 36483.26953125.\n",
      "At epoch 7400 the mean cost is 36482.0390625.\n",
      "At epoch 7500 the mean cost is 36488.1875.\n",
      "At epoch 7600 the mean cost is 36609.62890625.\n",
      "At epoch 7700 the mean cost is 36483.75390625.\n",
      "At epoch 7800 the mean cost is 36481.0546875.\n",
      "At epoch 7900 the mean cost is 36478.703125.\n",
      "At epoch 8000 the mean cost is 36477.20703125.\n",
      "At epoch 8100 the mean cost is 36476.81640625.\n",
      "At epoch 8200 the mean cost is 36515.7109375.\n"
     ]
    }
   ],
   "source": [
    "start=time.time()\n",
    "lr1 = 8e-3\n",
    "max_epoch = 10000\n",
    "optimizer = optim.Adam(model.parameters(), lr1)\n",
    "\n",
    "#print(psi.shape)\n",
    "for epoch in range(max_epoch):\n",
    "  optimizer.zero_grad()\n",
    "  cost=loss_func_total(x,model)\n",
    "  cost.backward()\n",
    "  optimizer.step()\n",
    "  #print(loss.item())\n",
    "  if (epoch % 100==0):\n",
    "    print(\"At epoch {} the mean cost is {}.\".format(epoch,cost.detach()))\n",
    "end=time.time()\n",
    "print('time elapsed=',end-start)"
   ]
  },
  {
   "cell_type": "code",
   "execution_count": null,
   "id": "eecaa5a4",
   "metadata": {},
   "outputs": [],
   "source": [
    "def cost(y):\n",
    "  cost1=0.0\n",
    "  D1=0.0\n",
    "  for i in range(ite+1):\n",
    "    cost1+=D1*y[i]+(kappa/2.0)*np.power(y[i],2)\n",
    "    D1=(D1+kappa*y[i])*np.exp(-rho*T/ite)\n",
    "  return cost1"
   ]
  },
  {
   "cell_type": "code",
   "execution_count": null,
   "id": "6ea2526d",
   "metadata": {},
   "outputs": [
    {
     "name": "stdout",
     "output_type": "stream",
     "text": [
      "Input= tensor([[0.0000e+00, 0.0000e+00, 9.5000e+02, 3.0000e-01, 1.0000e+00],\n",
      "        [0.0000e+00, 0.0000e+00, 9.6111e+02, 3.0000e-01, 1.0000e+00],\n",
      "        [0.0000e+00, 0.0000e+00, 9.7222e+02, 3.0000e-01, 1.0000e+00],\n",
      "        [0.0000e+00, 0.0000e+00, 9.8333e+02, 3.0000e-01, 1.0000e+00],\n",
      "        [0.0000e+00, 0.0000e+00, 9.9444e+02, 3.0000e-01, 1.0000e+00],\n",
      "        [0.0000e+00, 0.0000e+00, 1.0056e+03, 3.0000e-01, 1.0000e+00],\n",
      "        [0.0000e+00, 0.0000e+00, 1.0167e+03, 3.0000e-01, 1.0000e+00],\n",
      "        [0.0000e+00, 0.0000e+00, 1.0278e+03, 3.0000e-01, 1.0000e+00],\n",
      "        [0.0000e+00, 0.0000e+00, 1.0389e+03, 3.0000e-01, 1.0000e+00],\n",
      "        [0.0000e+00, 0.0000e+00, 1.0500e+03, 3.0000e-01, 1.0000e+00]]) \n",
      "\n",
      "size of total order= 950.0\n",
      "predicted soln= tensor([ 565.2286, -179.7717,   76.8429,   -1.2897,   23.5985,   15.7559,\n",
      "          18.2551,   17.3061,   17.5742,   17.4184,   17.3868,   17.3587,\n",
      "          17.2769,   17.3347,   17.2418,   17.1632,   17.0891,    8.7070,\n",
      "          19.3122,    2.9316,  227.2798]) sum of all execution= tensor(950.)\n",
      "size of total order= 961.1111\n",
      "predicted soln= tensor([ 572.2892, -185.6110,   81.0455,   -2.4826,   24.2809,   15.9030,\n",
      "          18.4414,   17.5445,   17.8384,   17.6139,   17.5547,   17.4875,\n",
      "          17.5132,   17.4170,   17.4363,   17.2878,   17.3154,    9.9181,\n",
      "          17.9221,    5.4738,  228.9219]) sum of all execution= tensor(961.1111)\n",
      "size of total order= 972.2222\n",
      "predicted soln= tensor([ 579.3498, -188.8013,   83.1976,   -3.3643,   24.6878,   15.8861,\n",
      "          18.7487,   17.6544,   17.9259,   17.7900,   17.7290,   17.6168,\n",
      "          17.6474,   17.5389,   17.4265,   17.4212,   17.4006,   11.0092,\n",
      "          16.5966,    7.8301,  230.9313]) sum of all execution= tensor(972.2222)\n",
      "size of total order= 983.3333\n",
      "predicted soln= tensor([ 586.4104, -188.3301,   81.5163,   -2.4972,   24.3191,   15.8773,\n",
      "          18.5859,   17.5734,   17.9490,   17.7195,   17.6951,   17.6820,\n",
      "          17.5439,   17.6436,   17.5410,   17.4180,   17.4372,   12.3553,\n",
      "          14.6860,   10.6599,  233.5476]) sum of all execution= tensor(983.3333)\n",
      "size of total order= 994.44446\n",
      "predicted soln= tensor([ 593.4710, -193.5489,   85.3771,   -3.5569,   25.0792,   16.1382,\n",
      "          18.9090,   17.9176,   18.2544,   17.9882,   17.9864,   17.9915,\n",
      "          17.9349,   17.8330,   17.9158,   17.7569,   17.6580,   13.3059,\n",
      "          13.7142,   12.7359,  233.5830]) sum of all execution= tensor(994.4445)\n",
      "size of total order= 1005.55554\n",
      "predicted soln= tensor([ 600.5316, -196.6310,   87.0941,   -4.1167,   25.5015,   16.2158,\n",
      "          19.0150,   18.1024,   18.4094,   18.2668,   18.2040,   18.1057,\n",
      "          18.0002,   17.9740,   17.8394,   17.7792,   17.6523,   14.2320,\n",
      "          12.5149,   14.5706,  236.2944]) sum of all execution= tensor(1005.5555)\n",
      "size of total order= 1016.6667\n",
      "predicted soln= tensor([ 607.5922, -198.3041,   86.8234,   -3.5139,   25.0856,   16.3068,\n",
      "          19.0968,   18.1151,   18.3162,   18.2570,   18.2212,   18.2204,\n",
      "          18.0445,   18.1297,   17.9447,   17.9748,   17.8915,   15.8028,\n",
      "          10.4751,   17.8307,  238.3563]) sum of all execution= tensor(1016.6667)\n",
      "size of total order= 1027.7778\n",
      "predicted soln= tensor([ 614.6528, -200.2411,   87.9912,   -3.7763,   25.4782,   16.4348,\n",
      "          19.1815,   18.2924,   18.5101,   18.3876,   18.3041,   18.3123,\n",
      "          18.1465,   18.1399,   18.0251,   18.0953,   18.0409,   16.7961,\n",
      "           9.3202,   20.0873,  239.5991]) sum of all execution= tensor(1027.7777)\n",
      "size of total order= 1038.8889\n",
      "predicted soln= tensor([ 621.7134, -203.5371,   89.6471,   -4.1584,   25.8947,   16.4824,\n",
      "          19.3613,   18.4079,   18.5936,   18.4900,   18.4015,   18.3350,\n",
      "          18.2391,   18.1261,   18.1791,   18.1370,   17.9527,   18.0099,\n",
      "           7.8579,   22.2422,  242.5135]) sum of all execution= tensor(1038.8889)\n",
      "size of total order= 1050.0\n",
      "predicted soln= tensor([ 628.7740, -207.1900,   92.2854,   -5.2815,   26.2499,   16.2642,\n",
      "          19.4816,   18.2654,   18.6560,   18.5362,   18.3932,   18.4283,\n",
      "          18.3250,   18.2585,   18.1820,   18.0599,   18.0924,   18.0514,\n",
      "           9.2708,   20.5164,  248.3810]) sum of all execution= tensor(1050.)\n"
     ]
    }
   ],
   "source": [
    "from torch.nn.modules.pooling import MaxPool1d\n",
    "M1=10\n",
    "t_test=torch.zeros([M1,1])\n",
    "D_test=torch.zeros([M1,1])\n",
    "#D_test=torch.FloatTensor(M,1).uniform_(0.1,0.5)   #Price impact D_t\n",
    "#R_test=torch.FloatTensor(M1,1).uniform_(50,100)   #remaining balance R_t   #To get a positive solution R_t has to be greater than D_t\n",
    "R_test=torch.linspace(X0*0.95, X0*1.05, steps=M1).unsqueeze(1)\n",
    "kappa,rho=kappa_rho_sim(M1,ite,0.1,mu1,sigma1,0.1,mu2,sigma2)\n",
    "x_test=torch.cat((t_test,D_test,R_test,kappa[:,0].unsqueeze(1),rho[:,0].unsqueeze(1)),dim=1)\n",
    "print('Input=',x_test,'\\n')\n",
    "a=torch.zeros(M1,ite+1)\n",
    "#print(a.shape)\n",
    "for i in range(ite+1):\n",
    "  if(i!=ite):\n",
    "    #print(x_test)\n",
    "    soln_pred=model(x_test).squeeze(1).detach()\n",
    "    a[:,i]=soln_pred\n",
    "    x_test=update(x_test,soln_pred,i)\n",
    "    #print(x_test,'\\n')\n",
    "  else:\n",
    "    a[:,i]=R_test.squeeze(1)-torch.sum(a,dim=1)\n",
    "\n",
    "x1=R_test.squeeze().numpy()\n",
    "c_pred=np.zeros(M1)\n",
    "\n",
    "for i in range(M1):\n",
    "  print('size of total order=',x1[i])\n",
    "\n",
    "\n",
    "  print('predicted soln=',a[i,:],'sum of all execution=',torch.sum(a[i,:]).detach())\n",
    "  pred_cost=cost(a[i,:].detach().numpy())\n",
    "#   print('predicted cost=',pred_cost,'\\n')"
   ]
  },
  {
   "cell_type": "code",
   "execution_count": null,
   "id": "392a3b45",
   "metadata": {},
   "outputs": [
    {
     "data": {
      "image/png": "[encoded data removed]",
      "text/plain": [
       "<Figure size 432x216 with 1 Axes>"
      ]
     },
     "metadata": {
      "needs_background": "light"
     },
     "output_type": "display_data"
    },
    {
     "data": {
      "image/png": "[encoded data removed]",
      "text/plain": [
       "<Figure size 432x216 with 1 Axes>"
      ]
     },
     "metadata": {
      "needs_background": "light"
     },
     "output_type": "display_data"
    },
    {
     "data": {
      "image/png": "[encoded data removed]",
      "text/plain": [
       "<Figure size 432x216 with 1 Axes>"
      ]
     },
     "metadata": {
      "needs_background": "light"
     },
     "output_type": "display_data"
    },
    {
     "data": {
      "image/png": "[encoded data removed]",
      "text/plain": [
       "<Figure size 432x216 with 1 Axes>"
      ]
     },
     "metadata": {
      "needs_background": "light"
     },
     "output_type": "display_data"
    }
   ],
   "source": [
    "p_soln=a.numpy()\n",
    "t_step=np.linspace(0,ite,num=ite+1)\n",
    "#name='E:/Robin research/7thECMF_PosterPresent/Figures/N.eps'\n",
    "def plotting(t):\n",
    "  #print('Total order size=',x1[t],np.sum(n_soln[t]),np.sum(p_soln[t]))\n",
    "  #print(n_soln[t],p_soln[t])\n",
    "  plt.figure(figsize=(6,3))\n",
    "  #plt.bar(t_step,t_soln[t],color='blue',width=0.3,label='Closed-Form')\n",
    "  plt.bar(t_step,p_soln[t],color='red',width=0.2)\n",
    "  #plt.bar(t_step,n_soln[t],color='green',width=0.1,label='numeric')\n",
    "  plt.title('Total Order size X= %f' % (x1[t]))\n",
    "  plt.xlabel('Time steps')\n",
    "  plt.ylabel('Optimal orders')\n",
    "  #plt.legend()\n",
    "\n",
    "#   #plt.savefig('f.eps', format='eps')\n",
    "#   if(t==0):\n",
    "#     plt.savefig(name,format='eps')      \n",
    "  plt.show()\n",
    "for i in range(0,M1,3):\n",
    "  plotting(i)"
   ]
  },
  {
   "cell_type": "code",
   "execution_count": null,
   "id": "5912121b",
   "metadata": {},
   "outputs": [
    {
     "name": "stdout",
     "output_type": "stream",
     "text": [
      "tensor([[0.3000, 0.3035, 0.3083, 0.3138, 0.3188, 0.3242, 0.3276, 0.3320, 0.3362,\n",
      "         0.3407, 0.3457, 0.3492, 0.3533, 0.3579, 0.3627, 0.3678, 0.3725, 0.3765,\n",
      "         0.3802, 0.3851, 0.3887],\n",
      "        [0.3000, 0.3053, 0.3093, 0.3136, 0.3183, 0.3232, 0.3286, 0.3324, 0.3377,\n",
      "         0.3430, 0.3479, 0.3515, 0.3552, 0.3594, 0.3640, 0.3686, 0.3736, 0.3771,\n",
      "         0.3807, 0.3847, 0.3881],\n",
      "        [0.3000, 0.3055, 0.3103, 0.3149, 0.3193, 0.3247, 0.3287, 0.3332, 0.3384,\n",
      "         0.3425, 0.3476, 0.3515, 0.3567, 0.3615, 0.3665, 0.3717, 0.3751, 0.3786,\n",
      "         0.3835, 0.3885, 0.3916],\n",
      "        [0.3000, 0.3037, 0.3086, 0.3140, 0.3183, 0.3235, 0.3289, 0.3338, 0.3385,\n",
      "         0.3438, 0.3482, 0.3530, 0.3571, 0.3612, 0.3659, 0.3707, 0.3758, 0.3796,\n",
      "         0.3836, 0.3880, 0.3921],\n",
      "        [0.3000, 0.3051, 0.3101, 0.3139, 0.3191, 0.3226, 0.3277, 0.3317, 0.3352,\n",
      "         0.3399, 0.3454, 0.3502, 0.3537, 0.3579, 0.3619, 0.3657, 0.3709, 0.3742,\n",
      "         0.3788, 0.3833, 0.3865],\n",
      "        [0.3000, 0.3053, 0.3102, 0.3151, 0.3194, 0.3245, 0.3300, 0.3336, 0.3387,\n",
      "         0.3435, 0.3475, 0.3522, 0.3565, 0.3614, 0.3663, 0.3701, 0.3751, 0.3804,\n",
      "         0.3850, 0.3896, 0.3935],\n",
      "        [0.3000, 0.3047, 0.3087, 0.3122, 0.3163, 0.3207, 0.3245, 0.3285, 0.3339,\n",
      "         0.3377, 0.3414, 0.3456, 0.3501, 0.3552, 0.3600, 0.3635, 0.3685, 0.3726,\n",
      "         0.3763, 0.3806, 0.3855],\n",
      "        [0.3000, 0.3044, 0.3091, 0.3133, 0.3175, 0.3229, 0.3275, 0.3316, 0.3367,\n",
      "         0.3402, 0.3447, 0.3495, 0.3540, 0.3580, 0.3626, 0.3663, 0.3704, 0.3740,\n",
      "         0.3791, 0.3822, 0.3863],\n",
      "        [0.3000, 0.3046, 0.3090, 0.3136, 0.3184, 0.3220, 0.3255, 0.3296, 0.3331,\n",
      "         0.3366, 0.3404, 0.3455, 0.3504, 0.3547, 0.3593, 0.3636, 0.3687, 0.3730,\n",
      "         0.3774, 0.3827, 0.3861],\n",
      "        [0.3000, 0.3050, 0.3103, 0.3146, 0.3202, 0.3241, 0.3296, 0.3339, 0.3383,\n",
      "         0.3416, 0.3469, 0.3506, 0.3540, 0.3590, 0.3638, 0.3692, 0.3730, 0.3765,\n",
      "         0.3803, 0.3842, 0.3886]])\n"
     ]
    }
   ],
   "source": [
    "print(kappa)"
   ]
  },
  {
   "cell_type": "code",
   "execution_count": null,
   "id": "231d0e98",
   "metadata": {},
   "outputs": [
    {
     "name": "stdout",
     "output_type": "stream",
     "text": [
      "tensor([[1.0000, 1.0106, 1.0239, 1.0421, 1.0585, 1.0724, 1.0874, 1.0974, 1.1100,\n",
      "         1.1231, 1.1360, 1.1495, 1.1601, 1.1773, 1.1920, 1.2040, 1.2152, 1.2268,\n",
      "         1.2442, 1.2533, 1.2684],\n",
      "        [1.0000, 1.0178, 1.0326, 1.0508, 1.0675, 1.0816, 1.0930, 1.1064, 1.1238,\n",
      "         1.1374, 1.1483, 1.1589, 1.1736, 1.1856, 1.2012, 1.2116, 1.2267, 1.2397,\n",
      "         1.2538, 1.2634, 1.2805],\n",
      "        [1.0000, 1.0197, 1.0318, 1.0474, 1.0643, 1.0814, 1.1008, 1.1123, 1.1248,\n",
      "         1.1398, 1.1524, 1.1620, 1.1782, 1.1920, 1.2020, 1.2166, 1.2318, 1.2420,\n",
      "         1.2594, 1.2777, 1.2888],\n",
      "        [1.0000, 1.0112, 1.0286, 1.0391, 1.0499, 1.0602, 1.0778, 1.0916, 1.1109,\n",
      "         1.1259, 1.1383, 1.1543, 1.1644, 1.1822, 1.1974, 1.2068, 1.2220, 1.2374,\n",
      "         1.2502, 1.2595, 1.2735],\n",
      "        [1.0000, 1.0169, 1.0338, 1.0483, 1.0643, 1.0796, 1.0937, 1.1073, 1.1236,\n",
      "         1.1341, 1.1475, 1.1666, 1.1820, 1.1929, 1.2114, 1.2229, 1.2318, 1.2451,\n",
      "         1.2561, 1.2724, 1.2849],\n",
      "        [1.0000, 1.0177, 1.0365, 1.0518, 1.0694, 1.0870, 1.0976, 1.1153, 1.1344,\n",
      "         1.1533, 1.1666, 1.1784, 1.1883, 1.2023, 1.2135, 1.2239, 1.2330, 1.2468,\n",
      "         1.2639, 1.2748, 1.2921],\n",
      "        [1.0000, 1.0119, 1.0257, 1.0364, 1.0465, 1.0599, 1.0781, 1.0921, 1.1045,\n",
      "         1.1222, 1.1368, 1.1535, 1.1631, 1.1818, 1.1941, 1.2083, 1.2228, 1.2332,\n",
      "         1.2436, 1.2529, 1.2709],\n",
      "        [1.0000, 1.0159, 1.0324, 1.0461, 1.0568, 1.0736, 1.0860, 1.1039, 1.1195,\n",
      "         1.1349, 1.1465, 1.1634, 1.1744, 1.1873, 1.1990, 1.2168, 1.2338, 1.2448,\n",
      "         1.2554, 1.2716, 1.2873],\n",
      "        [1.0000, 1.0107, 1.0307, 1.0482, 1.0625, 1.0739, 1.0842, 1.0995, 1.1099,\n",
      "         1.1232, 1.1335, 1.1461, 1.1588, 1.1688, 1.1863, 1.2042, 1.2137, 1.2296,\n",
      "         1.2446, 1.2549, 1.2736],\n",
      "        [1.0000, 1.0100, 1.0288, 1.0406, 1.0506, 1.0621, 1.0802, 1.0929, 1.1089,\n",
      "         1.1268, 1.1372, 1.1528, 1.1649, 1.1772, 1.1904, 1.2019, 1.2179, 1.2335,\n",
      "         1.2456, 1.2584, 1.2751]])\n"
     ]
    }
   ],
   "source": [
    "print(rho)"
   ]
  },
  {
   "cell_type": "code",
   "execution_count": null,
   "id": "0a9f2288",
   "metadata": {},
   "outputs": [],
   "source": []
  }
 ],
 "metadata": {
  "kernelspec": {
   "display_name": "Python 3 (ipykernel)",
   "language": "python",
   "name": "python3"
  },
  "language_info": {
   "codemirror_mode": {
    "name": "ipython",
    "version": 3
   },
   "file_extension": ".py",
   "mimetype": "text/x-python",
   "name": "python",
   "nbconvert_exporter": "python",
   "pygments_lexer": "ipython3",
   "version": "3.8.10"
  }
 },
 "nbformat": 4,
 "nbformat_minor": 5
}
