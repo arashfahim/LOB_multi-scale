{
 "cells": [
  {
   "cell_type": "code",
   "execution_count": 1,
   "id": "e88956d7",
   "metadata": {},
   "outputs": [],
   "source": [
    "import numpy as np\n",
    "import time\n",
    "from scipy import misc\n",
    "import matplotlib.pyplot as plt\n",
    "import torch\n",
    "import torch.nn as nn\n",
    "import torch.nn.functional as F\n",
    "import torch.optim as optim\n",
    "import random\n",
    "import math\n",
    "import pandas as pd\n",
    "from scipy.optimize import fsolve"
   ]
  },
  {
   "cell_type": "code",
   "execution_count": 2,
   "id": "50a8335d",
   "metadata": {},
   "outputs": [
    {
     "name": "stdout",
     "output_type": "stream",
     "text": [
      "tensor(0.1000)\n"
     ]
    }
   ],
   "source": [
    "M=2000\n",
    "ite=10\n",
    "dim_n=5\n",
    "T=1\n",
    "delta = torch.tensor(T/ite)\n",
    "#delta=torch.tensor(0.01)\n",
    "sigma=0.1\n",
    "sigma1=1e-3\n",
    "sigma2=1e-2\n",
    "theta1=1\n",
    "theta2=1\n",
    "mu1=1e-2 #kappa\n",
    "mu2=5 #rho\n",
    "A0=0.0\n",
    "gamma=0.0\n",
    "X0=10000\n",
    "neuron_model_psi=20\n",
    "print(delta)"
   ]
  },
  {
   "cell_type": "code",
   "execution_count": 3,
   "id": "74cdec5b",
   "metadata": {},
   "outputs": [],
   "source": [
    "model= torch.nn.Sequential(\n",
    "    torch.nn.Linear(dim_n, neuron_model_psi),\n",
    "    torch.nn.ReLU(),\n",
    "#     torch.nn.Linear(neuron_model_psi, neuron_model_psi),\n",
    "#     torch.nn.ReLU(),\n",
    "#     torch.nn.Linear(neuron_model_psi, neuron_model_psi),\n",
    "#     torch.nn.ReLU(),   torch.nn.ReLU(),\n",
    "#   \n",
    "    torch.nn.Linear(neuron_model_psi, neuron_model_psi),\n",
    "    torch.nn.ReLU(),\n",
    "    torch.nn.Linear(neuron_model_psi,1)\n",
    ")"
   ]
  },
  {
   "cell_type": "code",
   "execution_count": 4,
   "id": "c2135973",
   "metadata": {},
   "outputs": [],
   "source": [
    "def kappa_rho_sim(M,ite,theta1,mu1,sigma1,theta2,mu2,sigma2):\n",
    "    kappa=torch.zeros([M,ite+1])\n",
    "    kappa[:,0]=mu1\n",
    "    rho=torch.zeros([M,ite+1])\n",
    "    rho[:,0]=mu2\n",
    "\n",
    "    for i in range (1,ite+1):\n",
    "        kappa[:,i]=kappa[:,i-1]+theta1*(mu1-kappa[:,i-1])*delta+np.sqrt(delta)*sigma1*np.random.rand(M)  # Xn+1=Xn+θ(μ−Xn)Δt+σΔWn\n",
    "        rho[:,i]=rho[:,i-1]+theta2*(mu2-rho[:,i-1])*delta+np.sqrt(delta)*sigma2*np.random.rand(M)\n",
    "    return kappa,rho"
   ]
  },
  {
   "cell_type": "code",
   "execution_count": 5,
   "id": "b4cff12c",
   "metadata": {},
   "outputs": [],
   "source": [
    "t=torch.zeros([M,1])\n",
    "D=torch.zeros([M,1])\n",
    "kappa,rho=kappa_rho_sim(M,ite,theta1,mu1,sigma1,theta2,mu2,sigma2)\n",
    "R=torch.FloatTensor(M,1).uniform_(X0*0.9,X0*1.1)   #remaining balance R_t   #To get a positive solution R_t has to be greater than D_t\n"
   ]
  },
  {
   "cell_type": "code",
   "execution_count": 6,
   "id": "136ed2c7",
   "metadata": {},
   "outputs": [
    {
     "name": "stdout",
     "output_type": "stream",
     "text": [
      "kappa= tensor([[0.0100, 0.0102, 0.0104,  ..., 0.0109, 0.0110, 0.0111],\n",
      "        [0.0100, 0.0103, 0.0103,  ..., 0.0107, 0.0107, 0.0109],\n",
      "        [0.0100, 0.0102, 0.0104,  ..., 0.0110, 0.0110, 0.0110],\n",
      "        ...,\n",
      "        [0.0100, 0.0102, 0.0105,  ..., 0.0113, 0.0111, 0.0111],\n",
      "        [0.0100, 0.0101, 0.0102,  ..., 0.0111, 0.0111, 0.0112],\n",
      "        [0.0100, 0.0102, 0.0104,  ..., 0.0110, 0.0110, 0.0110]]) \n",
      " rho= tensor([[5.0000, 5.0026, 5.0047,  ..., 5.0068, 5.0075, 5.0070],\n",
      "        [5.0000, 5.0016, 5.0025,  ..., 5.0117, 5.0123, 5.0114],\n",
      "        [5.0000, 5.0024, 5.0043,  ..., 5.0106, 5.0122, 5.0139],\n",
      "        ...,\n",
      "        [5.0000, 5.0004, 5.0014,  ..., 5.0098, 5.0089, 5.0092],\n",
      "        [5.0000, 5.0018, 5.0021,  ..., 5.0059, 5.0073, 5.0080],\n",
      "        [5.0000, 5.0014, 5.0037,  ..., 5.0082, 5.0104, 5.0111]])\n"
     ]
    }
   ],
   "source": [
    "print('kappa=',kappa,'\\n rho=',rho) \n",
    "x=torch.cat((t,D,R,kappa[:,0].unsqueeze(1),rho[:,0].unsqueeze(1)),dim=1)"
   ]
  },
  {
   "cell_type": "code",
   "execution_count": 7,
   "id": "6df336b9",
   "metadata": {},
   "outputs": [
    {
     "name": "stdout",
     "output_type": "stream",
     "text": [
      "true\n"
     ]
    }
   ],
   "source": [
    "if (rho >0).all():\n",
    "    print('true')"
   ]
  },
  {
   "cell_type": "code",
   "execution_count": 8,
   "id": "518c9f39",
   "metadata": {},
   "outputs": [],
   "source": [
    "def update(x3,psi,i):\n",
    "  t=(x3[:,0]+(1/ite))\n",
    "  kap=kappa[:,i+1]\n",
    "  rh=rho[:,i+1]\n",
    "#   kappa=x3[:,3]+theta1*(mu1-x3[:,3])*delta+torch.sqrt(delta)*sigma1*W1[i]\n",
    "#   rho=x3[:,4]+theta2*(mu2-x3[:,4])*delta+torch.sqrt(delta)*sigma1*W2[i]\n",
    "  D = (x3[:,1]+kap*psi)*torch.exp(-rh*delta)\n",
    "  #print('d',D.shape)\n",
    "  R= x3[:,2]-psi\n",
    "  #print(kappa.shape,rho.shape)\n",
    "  up=torch.cat((t.unsqueeze(1),D.unsqueeze(1),R.unsqueeze(1),kap.unsqueeze(1),rh.unsqueeze(1)),dim=1)\n",
    "  return up\n",
    "\n",
    "def loss_func(x2,psi):\n",
    "  loss=(x2[:,1]*psi+(x2[:,3]/2.0)*torch.pow(psi,2))\n",
    "  #print('loss',loss.shape)\n",
    "  return loss\n",
    "\n",
    "def unit(x1,model,i):\n",
    "    psi=model(x1).squeeze(1)\n",
    "    los=loss_func(x1,psi)\n",
    "    upd=update(x1,psi,i)\n",
    "    #print(upd)\n",
    "    return psi,los,upd\n",
    "\n",
    "def loss_func_total(u,model):\n",
    "  loss=torch.zeros(M,ite)\n",
    "  psi=torch.zeros(M,ite)\n",
    "  for i in range(ite+1):\n",
    "    if(i!=ite):\n",
    "      psi_run,loss_run,u_run=unit(u,model,i)\n",
    "      #print('los func=',psi_run.shape,loss_run.shape)\n",
    "      loss[:,i]=loss_run\n",
    "      #print(loss)\n",
    "      psi[:,i]=psi_run\n",
    "      #print(psi)\n",
    "      u=u_run\n",
    "      #print(u)\n",
    "    else:\n",
    "      #print(torch.sum(psi,dim=1),R.squeeze(1))\n",
    "      psi_ter=R.squeeze(1)-torch.sum(psi,dim=1)\n",
    "      loss_ter=loss_func(u,psi_ter)\n",
    "      #print('ter',loss_ter.shape)\n",
    "  #print(torch.sum(loss,dim=1))\n",
    "  loss=torch.sum(loss,dim=1)+loss_ter\n",
    "  #print(loss.shape)\n",
    "  return torch.mean(loss)"
   ]
  },
  {
   "cell_type": "code",
   "execution_count": 9,
   "id": "4ba6edff",
   "metadata": {},
   "outputs": [
    {
     "name": "stdout",
     "output_type": "stream",
     "text": [
      "At epoch 0 the mean cost is 1829863.0.\n",
      "At epoch 100 the mean cost is 157418.578125.\n",
      "At epoch 200 the mean cost is 157413.375.\n",
      "At epoch 300 the mean cost is 157406.78125.\n",
      "At epoch 400 the mean cost is 157398.9375.\n",
      "At epoch 500 the mean cost is 157389.984375.\n",
      "At epoch 600 the mean cost is 157379.9375.\n",
      "At epoch 700 the mean cost is 157368.84375.\n",
      "At epoch 800 the mean cost is 157356.703125.\n",
      "At epoch 900 the mean cost is 157343.359375.\n",
      "At epoch 1000 the mean cost is 157328.703125.\n",
      "At epoch 1100 the mean cost is 157312.5625.\n",
      "At epoch 1200 the mean cost is 157294.5625.\n",
      "At epoch 1300 the mean cost is 157274.34375.\n",
      "At epoch 1400 the mean cost is 157251.25.\n",
      "At epoch 1500 the mean cost is 157224.46875.\n",
      "At epoch 1600 the mean cost is 157192.703125.\n",
      "At epoch 1700 the mean cost is 157154.140625.\n",
      "At epoch 1800 the mean cost is 157105.15625.\n",
      "At epoch 1900 the mean cost is 157043.5.\n",
      "At epoch 2000 the mean cost is 156964.375.\n",
      "At epoch 2100 the mean cost is 156865.515625.\n",
      "At epoch 2200 the mean cost is 156639.6875.\n",
      "At epoch 2300 the mean cost is 156343.515625.\n",
      "At epoch 2400 the mean cost is 155901.328125.\n",
      "At epoch 2500 the mean cost is 155390.96875.\n",
      "At epoch 2600 the mean cost is 155194.03125.\n",
      "At epoch 2700 the mean cost is 155130.46875.\n",
      "At epoch 2800 the mean cost is 155084.40625.\n",
      "At epoch 2900 the mean cost is 155048.046875.\n",
      "At epoch 3000 the mean cost is 155006.90625.\n",
      "At epoch 3100 the mean cost is 154987.46875.\n",
      "At epoch 3200 the mean cost is 154955.296875.\n",
      "At epoch 3300 the mean cost is 154931.5.\n",
      "At epoch 3400 the mean cost is 154903.359375.\n",
      "At epoch 3500 the mean cost is 154885.640625.\n",
      "At epoch 3600 the mean cost is 154844.65625.\n",
      "At epoch 3700 the mean cost is 154817.03125.\n",
      "At epoch 3800 the mean cost is 154792.71875.\n",
      "At epoch 3900 the mean cost is 158023.828125.\n",
      "At epoch 4000 the mean cost is 157437.96875.\n",
      "At epoch 4100 the mean cost is 157348.484375.\n",
      "At epoch 4200 the mean cost is 157251.53125.\n",
      "At epoch 4300 the mean cost is 157136.84375.\n",
      "At epoch 4400 the mean cost is 156990.71875.\n",
      "At epoch 4500 the mean cost is 156796.515625.\n",
      "At epoch 4600 the mean cost is 156546.71875.\n",
      "At epoch 4700 the mean cost is 156274.90625.\n",
      "At epoch 4800 the mean cost is 155907.84375.\n",
      "At epoch 4900 the mean cost is 156076.3125.\n",
      "At epoch 5000 the mean cost is 155877.9375.\n",
      "At epoch 5100 the mean cost is 155682.171875.\n",
      "At epoch 5200 the mean cost is 155461.25.\n",
      "At epoch 5300 the mean cost is 155192.5.\n",
      "At epoch 5400 the mean cost is 154896.4375.\n",
      "At epoch 5500 the mean cost is 154571.796875.\n",
      "At epoch 5600 the mean cost is 154698.234375.\n",
      "At epoch 5700 the mean cost is 154063.28125.\n",
      "At epoch 5800 the mean cost is 153817.375.\n",
      "At epoch 5900 the mean cost is 153664.640625.\n",
      "At epoch 6000 the mean cost is 153586.484375.\n",
      "At epoch 6100 the mean cost is 153507.65625.\n",
      "At epoch 6200 the mean cost is 153472.0.\n",
      "At epoch 6300 the mean cost is 153454.78125.\n",
      "At epoch 6400 the mean cost is 153460.953125.\n",
      "At epoch 6500 the mean cost is 153437.796875.\n",
      "At epoch 6600 the mean cost is 153448.515625.\n",
      "At epoch 6700 the mean cost is 153430.453125.\n",
      "At epoch 6800 the mean cost is 153428.0625.\n",
      "At epoch 6900 the mean cost is 153424.90625.\n",
      "At epoch 7000 the mean cost is 153425.5625.\n",
      "At epoch 7100 the mean cost is 153419.71875.\n",
      "At epoch 7200 the mean cost is 153417.75.\n",
      "At epoch 7300 the mean cost is 153458.578125.\n",
      "At epoch 7400 the mean cost is 153504.390625.\n",
      "At epoch 7500 the mean cost is 153410.265625.\n",
      "At epoch 7600 the mean cost is 153407.484375.\n",
      "At epoch 7700 the mean cost is 153404.625.\n",
      "At epoch 7800 the mean cost is 153402.125.\n",
      "At epoch 7900 the mean cost is 153401.4375.\n",
      "At epoch 8000 the mean cost is 153401.796875.\n",
      "At epoch 8100 the mean cost is 153398.296875.\n",
      "At epoch 8200 the mean cost is 153393.8125.\n",
      "At epoch 8300 the mean cost is 153539.9375.\n",
      "At epoch 8400 the mean cost is 153387.484375.\n",
      "At epoch 8500 the mean cost is 153408.296875.\n",
      "At epoch 8600 the mean cost is 153382.71875.\n",
      "At epoch 8700 the mean cost is 153380.515625.\n",
      "At epoch 8800 the mean cost is 153379.609375.\n",
      "At epoch 8900 the mean cost is 153376.484375.\n",
      "At epoch 9000 the mean cost is 153378.5.\n",
      "At epoch 9100 the mean cost is 153388.171875.\n",
      "At epoch 9200 the mean cost is 153368.796875.\n",
      "At epoch 9300 the mean cost is 153366.59375.\n",
      "At epoch 9400 the mean cost is 153364.25.\n",
      "At epoch 9500 the mean cost is 153370.84375.\n",
      "At epoch 9600 the mean cost is 153870.75.\n",
      "At epoch 9700 the mean cost is 153357.296875.\n",
      "At epoch 9800 the mean cost is 153356.046875.\n",
      "At epoch 9900 the mean cost is 153352.96875.\n",
      "At epoch 10000 the mean cost is 153350.703125.\n",
      "At epoch 10100 the mean cost is 153378.40625.\n",
      "At epoch 10200 the mean cost is 153346.59375.\n",
      "At epoch 10300 the mean cost is 153344.109375.\n",
      "At epoch 10400 the mean cost is 153347.140625.\n",
      "At epoch 10500 the mean cost is 153448.625.\n",
      "At epoch 10600 the mean cost is 153339.40625.\n",
      "At epoch 10700 the mean cost is 153335.640625.\n",
      "At epoch 10800 the mean cost is 153333.4375.\n",
      "At epoch 10900 the mean cost is 153331.40625.\n",
      "At epoch 11000 the mean cost is 153332.75.\n",
      "At epoch 11100 the mean cost is 153399.6875.\n",
      "At epoch 11200 the mean cost is 153324.953125.\n",
      "At epoch 11300 the mean cost is 153323.265625.\n",
      "At epoch 11400 the mean cost is 153320.984375.\n",
      "At epoch 11500 the mean cost is 153319.140625.\n",
      "At epoch 11600 the mean cost is 153329.90625.\n",
      "At epoch 11700 the mean cost is 153314.75.\n",
      "At epoch 11800 the mean cost is 153313.3125.\n",
      "At epoch 11900 the mean cost is 153317.546875.\n",
      "At epoch 12000 the mean cost is 153323.75.\n",
      "At epoch 12100 the mean cost is 153355.640625.\n",
      "At epoch 12200 the mean cost is 153314.125.\n",
      "At epoch 12300 the mean cost is 153415.875.\n",
      "At epoch 12400 the mean cost is 153315.109375.\n",
      "At epoch 12500 the mean cost is 153300.953125.\n",
      "At epoch 12600 the mean cost is 153297.375.\n",
      "At epoch 12700 the mean cost is 153294.96875.\n",
      "At epoch 12800 the mean cost is 153293.28125.\n",
      "At epoch 12900 the mean cost is 153291.828125.\n",
      "At epoch 13000 the mean cost is 153291.28125.\n",
      "At epoch 13100 the mean cost is 153290.65625.\n",
      "At epoch 13200 the mean cost is 153290.8125.\n",
      "At epoch 13300 the mean cost is 153283.390625.\n",
      "At epoch 13400 the mean cost is 153283.5625.\n",
      "At epoch 13500 the mean cost is 153286.359375.\n",
      "At epoch 13600 the mean cost is 153286.96875.\n",
      "At epoch 13700 the mean cost is 153302.5625.\n",
      "At epoch 13800 the mean cost is 153273.96875.\n",
      "At epoch 13900 the mean cost is 153272.421875.\n",
      "At epoch 14000 the mean cost is 153274.8125.\n",
      "At epoch 14100 the mean cost is 153311.734375.\n",
      "At epoch 14200 the mean cost is 153376.15625.\n",
      "At epoch 14300 the mean cost is 153266.421875.\n",
      "At epoch 14400 the mean cost is 153263.109375.\n",
      "At epoch 14500 the mean cost is 153263.609375.\n",
      "At epoch 14600 the mean cost is 153297.734375.\n",
      "At epoch 14700 the mean cost is 153258.4375.\n",
      "At epoch 14800 the mean cost is 153255.921875.\n",
      "At epoch 14900 the mean cost is 153263.875.\n",
      "time elapsed= 171.37826991081238\n"
     ]
    }
   ],
   "source": [
    "start=time.time()\n",
    "lr1 = 8e-3\n",
    "max_epoch = 15000\n",
    "optimizer = optim.Adam(model.parameters(), lr1)\n",
    "\n",
    "#print(psi.shape)\n",
    "for epoch in range(max_epoch):\n",
    "  optimizer.zero_grad()\n",
    "  cost=loss_func_total(x,model)\n",
    "  cost.backward()\n",
    "  optimizer.step()\n",
    "  #print(loss.item())\n",
    "  if (epoch % 100==0):\n",
    "    print(\"At epoch {} the mean cost is {}.\".format(epoch,cost.detach()))\n",
    "end=time.time()\n",
    "print('time elapsed=',end-start)"
   ]
  },
  {
   "cell_type": "code",
   "execution_count": 10,
   "id": "eecaa5a4",
   "metadata": {},
   "outputs": [],
   "source": [
    "def cost(y):\n",
    "  cost1=0.0\n",
    "  D1=0.0\n",
    "  for i in range(ite+1):\n",
    "    cost1+=D1*y[i]+(kappa/2.0)*np.power(y[i],2)\n",
    "    D1=(D1+kappa*y[i])*np.exp(-rho*T/ite)\n",
    "  return cost1"
   ]
  },
  {
   "cell_type": "code",
   "execution_count": 11,
   "id": "6ea2526d",
   "metadata": {},
   "outputs": [
    {
     "name": "stdout",
     "output_type": "stream",
     "text": [
      "Input= tensor([[0.0000e+00, 0.0000e+00, 9.5000e+03, 1.0000e-02, 5.0000e+00],\n",
      "        [0.0000e+00, 0.0000e+00, 9.6111e+03, 1.0000e-02, 5.0000e+00],\n",
      "        [0.0000e+00, 0.0000e+00, 9.7222e+03, 1.0000e-02, 5.0000e+00],\n",
      "        [0.0000e+00, 0.0000e+00, 9.8333e+03, 1.0000e-02, 5.0000e+00],\n",
      "        [0.0000e+00, 0.0000e+00, 9.9444e+03, 1.0000e-02, 5.0000e+00],\n",
      "        [0.0000e+00, 0.0000e+00, 1.0056e+04, 1.0000e-02, 5.0000e+00],\n",
      "        [0.0000e+00, 0.0000e+00, 1.0167e+04, 1.0000e-02, 5.0000e+00],\n",
      "        [0.0000e+00, 0.0000e+00, 1.0278e+04, 1.0000e-02, 5.0000e+00],\n",
      "        [0.0000e+00, 0.0000e+00, 1.0389e+04, 1.0000e-02, 5.0000e+00],\n",
      "        [0.0000e+00, 0.0000e+00, 1.0500e+04, 1.0000e-02, 5.0000e+00]]) \n",
      "\n",
      "size of total order= 9500.0\n",
      "predicted soln= tensor([1841.6835,  752.2876,  698.1779,  687.4490,  678.2108,  673.4552,\n",
      "         665.4110,  661.6825,  654.3705,  653.3106, 1533.9609]) sum of all execution= tensor(9500.)\n",
      "size of total order= 9611.111\n",
      "predicted soln= tensor([1854.8790,  758.7561,  708.6283,  704.7830,  693.7757,  679.4756,\n",
      "         672.8408,  670.0750,  666.5760,  664.6083, 1536.7139]) sum of all execution= tensor(9611.1123)\n",
      "size of total order= 9722.223\n",
      "predicted soln= tensor([1868.0746,  758.1555,  708.8032,  694.8617,  693.4676,  684.2109,\n",
      "         673.8930,  665.6533,  655.7290,  649.7715, 1669.6016]) sum of all execution= tensor(9722.2217)\n",
      "size of total order= 9833.333\n",
      "predicted soln= tensor([1881.2699,  767.3751,  714.6376,  698.8569,  699.0182,  694.5362,\n",
      "         681.0129,  674.7195,  666.7612,  661.2549, 1693.8906]) sum of all execution= tensor(9833.3330)\n",
      "size of total order= 9944.444\n",
      "predicted soln= tensor([1894.4655,  777.9160,  721.9010,  706.1332,  710.1530,  694.0779,\n",
      "         688.3036,  684.9576,  677.7905,  674.8294, 1713.9160]) sum of all execution= tensor(9944.4443)\n",
      "size of total order= 10055.556\n",
      "predicted soln= tensor([1907.6613,  791.6483,  733.9832,  712.2969,  708.9731,  695.7396,\n",
      "         689.6764,  677.7891,  675.3965,  663.1787, 1799.2119]) sum of all execution= tensor(10055.5557)\n",
      "size of total order= 10166.667\n",
      "predicted soln= tensor([1920.8571,  790.0582,  734.9794,  714.0568,  715.7885,  706.7355,\n",
      "         701.8040,  692.2053,  687.7878,  674.0479, 1828.3467]) sum of all execution= tensor(10166.6670)\n",
      "size of total order= 10277.777\n",
      "predicted soln= tensor([1934.0525,  802.7340,  744.2676,  718.4742,  720.8939,  705.0596,\n",
      "         691.4111,  681.0756,  672.3674,  663.0574, 1944.3838]) sum of all execution= tensor(10277.7764)\n",
      "size of total order= 10388.889\n",
      "predicted soln= tensor([1947.2482,  808.2087,  748.2085,  721.3389,  720.6962,  710.0215,\n",
      "         697.4107,  684.3925,  679.7642,  671.3306, 2000.2686]) sum of all execution= tensor(10388.8887)\n",
      "size of total order= 10500.0\n",
      "predicted soln= tensor([1960.4436,  813.4872,  751.2255,  713.3370,  716.5812,  708.8506,\n",
      "         700.0387,  696.5349,  684.3530,  679.0374, 2076.1113]) sum of all execution= tensor(10500.0010)\n"
     ]
    }
   ],
   "source": [
    "from torch.nn.modules.pooling import MaxPool1d\n",
    "M1=10\n",
    "t_test=torch.zeros([M1,1])\n",
    "D_test=torch.zeros([M1,1])\n",
    "#D_test=torch.FloatTensor(M,1).uniform_(0.1,0.5)   #Price impact D_t\n",
    "#R_test=torch.FloatTensor(M1,1).uniform_(50,100)   #remaining balance R_t   #To get a positive solution R_t has to be greater than D_t\n",
    "R_test=torch.linspace(X0*0.95, X0*1.05, steps=M1).unsqueeze(1)\n",
    "kappa,rho=kappa_rho_sim(M1,ite,theta1,mu1,sigma1,theta2,mu2,sigma2)\n",
    "#(M,ite,theta1,mu1,sigma1,theta2,mu2,sigma2)\n",
    "x_test=torch.cat((t_test,D_test,R_test,kappa[:,0].unsqueeze(1),rho[:,0].unsqueeze(1)),dim=1)\n",
    "print('Input=',x_test,'\\n')\n",
    "a=torch.zeros(M1,ite+1)\n",
    "#print(a.shape)\n",
    "for i in range(ite+1):\n",
    "  if(i!=ite):\n",
    "    #print(x_test)\n",
    "    soln_pred=model(x_test).squeeze(1).detach()\n",
    "    a[:,i]=soln_pred\n",
    "    x_test=update(x_test,soln_pred,i)\n",
    "    #print(x_test,'\\n')\n",
    "  else:\n",
    "    a[:,i]=R_test.squeeze(1)-torch.sum(a,dim=1)\n",
    "\n",
    "x1=R_test.squeeze().numpy()\n",
    "c_pred=np.zeros(M1)\n",
    "\n",
    "for i in range(M1):\n",
    "  print('size of total order=',x1[i])\n",
    "\n",
    "\n",
    "  print('predicted soln=',a[i,:],'sum of all execution=',torch.sum(a[i,:]).detach())\n",
    "  #pred_cost=cost(a[i,:].detach().numpy())\n",
    "#   print('predicted cost=',pred_cost,'\\n')"
   ]
  },
  {
   "cell_type": "code",
   "execution_count": 12,
   "id": "392a3b45",
   "metadata": {},
   "outputs": [
    {
     "data": {
      "image/png": "[encoded data removed]",
      "text/plain": [
       "<Figure size 432x216 with 1 Axes>"
      ]
     },
     "metadata": {
      "needs_background": "light"
     },
     "output_type": "display_data"
    },
    {
     "data": {
      "image/png": "[encoded data removed]",
      "text/plain": [
       "<Figure size 432x216 with 1 Axes>"
      ]
     },
     "metadata": {
      "needs_background": "light"
     },
     "output_type": "display_data"
    },
    {
     "data": {
      "image/png": "[encoded data removed]",
      "text/plain": [
       "<Figure size 432x216 with 1 Axes>"
      ]
     },
     "metadata": {
      "needs_background": "light"
     },
     "output_type": "display_data"
    },
    {
     "data": {
      "image/png": "[encoded data removed]",
      "text/plain": [
       "<Figure size 432x216 with 1 Axes>"
      ]
     },
     "metadata": {
      "needs_background": "light"
     },
     "output_type": "display_data"
    }
   ],
   "source": [
    "p_soln=a.numpy()\n",
    "t_step=np.linspace(0,ite,num=ite+1)\n",
    "#name='E:/Robin research/7thECMF_PosterPresent/Figures/N.eps'\n",
    "def plotting(t):\n",
    "  #print('Total order size=',x1[t],np.sum(n_soln[t]),np.sum(p_soln[t]))\n",
    "  #print(n_soln[t],p_soln[t])\n",
    "  plt.figure(figsize=(6,3))\n",
    "  #plt.bar(t_step,t_soln[t],color='blue',width=0.3,label='Closed-Form')\n",
    "  plt.bar(t_step,p_soln[t],color='red',width=0.2)\n",
    "  #plt.bar(t_step,n_soln[t],color='green',width=0.1,label='numeric')\n",
    "  plt.title('Total Order size X= %f' % (x1[t]))\n",
    "  plt.xlabel('Time steps')\n",
    "  plt.ylabel('Optimal orders')\n",
    "  #plt.legend()\n",
    "\n",
    "#   #plt.savefig('f.eps', format='eps')\n",
    "#   if(t==0):\n",
    "#     plt.savefig(name,format='eps')      \n",
    "  plt.show()\n",
    "for i in range(0,M1,3):\n",
    "  plotting(i)"
   ]
  },
  {
   "cell_type": "code",
   "execution_count": 13,
   "id": "5912121b",
   "metadata": {},
   "outputs": [
    {
     "name": "stdout",
     "output_type": "stream",
     "text": [
      "tensor([[0.0100, 0.0101, 0.0104, 0.0106, 0.0108, 0.0108, 0.0109, 0.0110, 0.0111,\n",
      "         0.0110, 0.0111],\n",
      "        [0.0100, 0.0101, 0.0101, 0.0103, 0.0104, 0.0107, 0.0108, 0.0107, 0.0107,\n",
      "         0.0107, 0.0109],\n",
      "        [0.0100, 0.0103, 0.0103, 0.0105, 0.0106, 0.0107, 0.0109, 0.0110, 0.0112,\n",
      "         0.0113, 0.0112],\n",
      "        [0.0100, 0.0102, 0.0104, 0.0105, 0.0105, 0.0105, 0.0108, 0.0108, 0.0109,\n",
      "         0.0110, 0.0109],\n",
      "        [0.0100, 0.0102, 0.0103, 0.0103, 0.0103, 0.0106, 0.0106, 0.0106, 0.0107,\n",
      "         0.0106, 0.0106],\n",
      "        [0.0100, 0.0100, 0.0101, 0.0103, 0.0104, 0.0106, 0.0107, 0.0109, 0.0108,\n",
      "         0.0110, 0.0110],\n",
      "        [0.0100, 0.0102, 0.0102, 0.0103, 0.0104, 0.0104, 0.0104, 0.0105, 0.0105,\n",
      "         0.0108, 0.0110],\n",
      "        [0.0100, 0.0101, 0.0101, 0.0103, 0.0103, 0.0106, 0.0108, 0.0110, 0.0111,\n",
      "         0.0113, 0.0114],\n",
      "        [0.0100, 0.0101, 0.0102, 0.0102, 0.0104, 0.0105, 0.0107, 0.0110, 0.0110,\n",
      "         0.0111, 0.0112],\n",
      "        [0.0100, 0.0102, 0.0103, 0.0105, 0.0106, 0.0107, 0.0108, 0.0108, 0.0109,\n",
      "         0.0110, 0.0109]])\n"
     ]
    }
   ],
   "source": [
    "print(kappa)"
   ]
  },
  {
   "cell_type": "code",
   "execution_count": 14,
   "id": "3895e369",
   "metadata": {},
   "outputs": [
    {
     "name": "stdout",
     "output_type": "stream",
     "text": [
      "tensor([[5.0000, 5.0024, 5.0048, 5.0061, 5.0086, 5.0090, 5.0099, 5.0121, 5.0138,\n",
      "         5.0127, 5.0130],\n",
      "        [5.0000, 5.0012, 5.0034, 5.0039, 5.0051, 5.0050, 5.0063, 5.0063, 5.0066,\n",
      "         5.0090, 5.0095],\n",
      "        [5.0000, 5.0026, 5.0049, 5.0064, 5.0072, 5.0065, 5.0068, 5.0076, 5.0071,\n",
      "         5.0085, 5.0097],\n",
      "        [5.0000, 5.0007, 5.0026, 5.0045, 5.0041, 5.0066, 5.0089, 5.0102, 5.0095,\n",
      "         5.0105, 5.0112],\n",
      "        [5.0000, 5.0001, 5.0012, 5.0027, 5.0049, 5.0053, 5.0071, 5.0077, 5.0081,\n",
      "         5.0083, 5.0085],\n",
      "        [5.0000, 5.0006, 5.0032, 5.0047, 5.0051, 5.0063, 5.0070, 5.0071, 5.0079,\n",
      "         5.0077, 5.0077],\n",
      "        [5.0000, 5.0014, 5.0021, 5.0033, 5.0038, 5.0037, 5.0057, 5.0062, 5.0073,\n",
      "         5.0089, 5.0085],\n",
      "        [5.0000, 5.0023, 5.0033, 5.0045, 5.0055, 5.0064, 5.0086, 5.0097, 5.0106,\n",
      "         5.0111, 5.0100],\n",
      "        [5.0000, 5.0004, 5.0007, 5.0033, 5.0040, 5.0036, 5.0061, 5.0083, 5.0076,\n",
      "         5.0090, 5.0108],\n",
      "        [5.0000, 5.0026, 5.0027, 5.0025, 5.0054, 5.0051, 5.0057, 5.0069, 5.0070,\n",
      "         5.0086, 5.0093]])\n"
     ]
    }
   ],
   "source": [
    "print(rho)"
   ]
  },
  {
   "cell_type": "code",
   "execution_count": 16,
   "id": "2d3e6d34",
   "metadata": {},
   "outputs": [],
   "source": [
    "torch.save(model, 'LOB_stoc_N10.pth')"
   ]
  },
  {
   "cell_type": "code",
   "execution_count": null,
   "id": "8f549e8f",
   "metadata": {},
   "outputs": [],
   "source": []
  }
 ],
 "metadata": {
  "kernelspec": {
   "display_name": "Python 3",
   "language": "python",
   "name": "python3"
  },
  "language_info": {
   "codemirror_mode": {
    "name": "ipython",
    "version": 3
   },
   "file_extension": ".py",
   "mimetype": "text/x-python",
   "name": "python",
   "nbconvert_exporter": "python",
   "pygments_lexer": "ipython3",
   "version": "3.8.8"
  }
 },
 "nbformat": 4,
 "nbformat_minor": 5
}
