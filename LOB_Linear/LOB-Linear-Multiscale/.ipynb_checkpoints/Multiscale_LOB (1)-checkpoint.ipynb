{
 "cells": [
  {
   "cell_type": "code",
   "execution_count": 1,
   "id": "86743b5f",
   "metadata": {},
   "outputs": [],
   "source": [
    "import numpy as np\n",
    "import time\n",
    "from scipy import misc\n",
    "import matplotlib.pyplot as plt\n",
    "import torch\n",
    "import torch.nn as nn\n",
    "import torch.nn.functional as F\n",
    "import torch.optim as optim\n",
    "import random\n",
    "import math\n",
    "import pandas as pd\n",
    "import cvxpy as cp\n",
    "from scipy.optimize import fsolve\n",
    "import torch.optim.lr_scheduler as lr_scheduler"
   ]
  },
  {
   "cell_type": "code",
   "execution_count": 2,
   "id": "1ffe4d24",
   "metadata": {},
   "outputs": [
    {
     "name": "stdout",
     "output_type": "stream",
     "text": [
      "tensor(0.1000) tensor(0.0100)\n"
     ]
    }
   ],
   "source": [
    "M=2000\n",
    "ite=10\n",
    "dim_n=3\n",
    "T=1\n",
    "T_C=1\n",
    "T_F=0.1\n",
    "delta_c = torch.tensor(T_C/ite)\n",
    "delta_f=torch.tensor(T_F/ite)\n",
    "print(delta_c,delta_f)\n",
    "sigma=0.2\n",
    "mu=0.3\n",
    "A0=0.0\n",
    "gamma=0.0\n",
    "kappa=1.0\n",
    "rho=5\n",
    "X0=10000\n",
    "neuron_model_psi=20"
   ]
  },
  {
   "cell_type": "code",
   "execution_count": 3,
   "id": "d4d81260",
   "metadata": {},
   "outputs": [],
   "source": [
    "model_f= torch.nn.Sequential(\n",
    "    torch.nn.Linear(dim_n, neuron_model_psi),\n",
    "    torch.nn.ReLU(),\n",
    "    #torch.nn.Linear(neuron_model_psi, neuron_model_psi),\n",
    "    #torch.nn.ReLU(),\n",
    "    # torch.nn.Linear(neuron_model_psi, neuron_model_psi_2),\n",
    "    # torch.nn.ReLU(),\n",
    "    torch.nn.Linear(neuron_model_psi, neuron_model_psi),\n",
    "    torch.nn.ReLU(),\n",
    "    torch.nn.Linear(neuron_model_psi,1)\n",
    ")"
   ]
  },
  {
   "cell_type": "code",
   "execution_count": 3,
   "id": "dda1aab7",
   "metadata": {},
   "outputs": [],
   "source": [
    "#torch.save(model, 'model_N10.pth')\n",
    "model_coarse = torch.load('model_N10_best.pth')\n",
    "#model_coarse.eval()(c)"
   ]
  },
  {
   "cell_type": "code",
   "execution_count": 4,
   "id": "75e87fea",
   "metadata": {},
   "outputs": [],
   "source": [
    "def update(x3,psi,delta):\n",
    "  t=x3[:,0]+delta\n",
    "  #print(psi.squeeze(1).shape,x1[:,1].shape)\n",
    "  D = (x3[:,1]+kappa*psi)*torch.exp(-rho*delta)\n",
    "  R= x3[:,2]-psi\n",
    "  #print(R.shape)\n",
    "  up=torch.cat((t.unsqueeze(1),D.unsqueeze(1),R.unsqueeze(1)),dim=1)\n",
    "  #print('up shape=', up.shape)\n",
    "  return up\n",
    "\n",
    "def loss_func(x2,psi):\n",
    "  loss=(x2[:,1]*psi+(kappa/2.0)*torch.pow(psi,2))\n",
    "  return loss\n",
    "\n",
    "def unit(x1,model,delta):\n",
    "    psi=model(x1).squeeze(1)\n",
    "    los=loss_func(x1,psi)\n",
    "    upd=update(x1,psi,delta)\n",
    "    #print('unit print=',psi.shape,los.shape,upd.shape)\n",
    "    return psi,los,upd\n",
    "\n",
    "def loss_func_total(u,model,delta):\n",
    "  loss=torch.zeros(M,ite+1)\n",
    "  psi=torch.zeros(M,ite+1)\n",
    "  for i in range(ite+1):\n",
    "    if(i!=ite):\n",
    "        psi_run,loss_run,u_run=unit(u,model,delta)\n",
    "        #print('los func=',psi_run.shape,loss_run.shape)\n",
    "        loss[:,i]=loss_run\n",
    "        #print(loss)\n",
    "        psi[:,i]=psi_run\n",
    "        #print(psi)\n",
    "        u=u_run\n",
    "    #print(u)\n",
    "    else:\n",
    "    #print(torch.sum(psi,dim=1),R.squeeze(1))\n",
    "        psi_ter=R.squeeze(1)-torch.sum(psi,dim=1)\n",
    "        loss_ter=loss_func(u,psi_ter)\n",
    "      #print('ter',loss_ter.shape)\n",
    "  #print(torch.sum(loss,dim=1))\n",
    "  #loss1=torch.sum(loss,dim=1)\n",
    "  loss1=torch.sum(loss,dim=1)+loss_ter\n",
    "  #print(loss.shape)\n",
    "  return torch.mean(loss1)"
   ]
  },
  {
   "cell_type": "code",
   "execution_count": 6,
   "id": "f1846f15",
   "metadata": {},
   "outputs": [],
   "source": [
    "def testing_coarse(X0,M1):    \n",
    "    t_test=torch.zeros([M1,1])\n",
    "    D_test=torch.zeros([M1,1])\n",
    "    #D_test=torch.FloatTensor(M,1).uniform_(0.1,0.5)   #Price impact D_t\n",
    "    #R_test=torch.FloatTensor(M1,1).uniform_(50,100)   #remaining balance R_t   #To get a positive solution R_t has to be greater than D_t\n",
    "    R_test=torch.linspace(X0*0.90, X0*1.1, steps=M1).unsqueeze(1)\n",
    "    x_test=torch.cat((t_test,D_test,R_test),dim=1)\n",
    "    #print('Input=',x_test,'\\n')\n",
    "    a=torch.zeros(M1,ite+1)\n",
    "    #print(a.shape)\n",
    "    for i in range(ite+1):\n",
    "      if(i!=ite):\n",
    "        #print(x_test)\n",
    "        soln_pred=model_coarse.eval()(x_test).squeeze(1).detach()\n",
    "        a[:,i]=soln_pred\n",
    "        x_test=update(x_test,soln_pred,delta_c)\n",
    "        #print(x_test,'\\n')\n",
    "      else:\n",
    "        a[:,i]=R_test.squeeze(1)-torch.sum(a,dim=1)\n",
    "\n",
    "    x1=R_test.squeeze().numpy()\n",
    "    t_soln=np.zeros((M1,ite+1))\n",
    "    return x_test,a\n",
    "\n",
    "#     for i in range(M1):\n",
    "#       print('size of total order=',x1[i])\n",
    "\n",
    "    #   num_soln,num_cost=numeric_soln(x1[i],ite+1)\n",
    "    #   n_soln[i,:]=num_soln\n",
    "    #   print('Numeric_soln',num_soln,'sum of all execution=',np.sum(num_soln))\n",
    "    #   print('Numeric_cost=',num_cost,'\\n')\n",
    "    #   c_num[i]=num_cost\n",
    "\n",
    "    #   t_soln[i,:]=closed_form(x1[i])\n",
    "    #   print('closed form soln=',t_soln[i,:],'sum of all execution=',np.sum(t_soln[i,:]))\n",
    "    #   true_cost=closed_cost(t_soln[i,:])\n",
    "    #   c_true[i]=true_cost\n",
    "    #   print('Closed form cost=',true_cost,'\\n')\n",
    "\n",
    "      #print('predicted soln=',a[i,:],'sum of all execution=',torch.sum(a[i,:]).detach())\n",
    "    #   pred_cost=predicted_cost(a[i,:])\n",
    "    #   print('predicted cost=',pred_cost.detach().numpy(),'\\n')\n",
    "    #   c_pred[i]=pred_cost\n",
    "    # print(x_test,a)\n",
    "    # print(torch.min(a),torch.min(x_test[:,1]))"
   ]
  },
  {
   "cell_type": "code",
   "execution_count": 7,
   "id": "10e1cd66",
   "metadata": {},
   "outputs": [
    {
     "name": "stdout",
     "output_type": "stream",
     "text": [
      "coarse soution= tensor([1622.8435,  643.2346,  639.1347,  639.1674,  639.4047,  639.8299,\n",
      "         640.4522,  641.2708,  642.2847,  643.3633, 1609.0137])\n"
     ]
    }
   ],
   "source": [
    "x_c,c_soln=testing_coarse(X0,5)\n",
    "# print(c_soln.shape)\n",
    "# print(x_c,c_soln,torch.sum(a,1))\n",
    "D_max=torch.max(x_c[:,1])\n",
    "R_min=torch.min(c_soln)\n",
    "R_max=torch.max(c_soln)\n",
    "t=torch.zeros([M,1])\n",
    "D=torch.FloatTensor(M,1).uniform_(0.0,D_max)\n",
    "#D=torch.FloatTensor(M,1).uniform_(0.1,0.5)   #Price impact D_t\n",
    "R=torch.FloatTensor(M,1).uniform_(R_min,R_max)   #remaining balance R_t   #To get a positive solution R_t has to be greater than D_t\n",
    "x=torch.cat((t,D,R),dim=1)\n",
    "print('coarse soution=',c_soln[0])"
   ]
  },
  {
   "cell_type": "code",
   "execution_count": 8,
   "id": "e6f477c9",
   "metadata": {},
   "outputs": [
    {
     "name": "stdout",
     "output_type": "stream",
     "text": [
      "At epoch 0 the mean error is 1383923.5.\n",
      "At epoch 100 the mean error is 1353046.375.\n",
      "At epoch 200 the mean error is 1352908.125.\n",
      "At epoch 300 the mean error is 1352662.75.\n",
      "At epoch 400 the mean error is 1352653.0.\n",
      "At epoch 500 the mean error is 1352574.625.\n",
      "At epoch 600 the mean error is 1352401.875.\n",
      "At epoch 700 the mean error is 1352354.875.\n",
      "At epoch 800 the mean error is 1353150.375.\n",
      "At epoch 900 the mean error is 1352574.375.\n",
      "At epoch 1000 the mean error is 1352480.5.\n",
      "At epoch 1100 the mean error is 1352335.625.\n",
      "At epoch 1200 the mean error is 1352405.0.\n",
      "At epoch 1300 the mean error is 1352363.25.\n",
      "At epoch 1400 the mean error is 1352346.875.\n",
      "At epoch 1500 the mean error is 1352323.0.\n",
      "At epoch 1600 the mean error is 1352400.0.\n",
      "At epoch 1700 the mean error is 1352291.25.\n",
      "At epoch 1800 the mean error is 1352395.875.\n",
      "At epoch 1900 the mean error is 1352284.75.\n",
      "At epoch 2000 the mean error is 1352524.125.\n",
      "At epoch 2100 the mean error is 1352328.75.\n",
      "At epoch 2200 the mean error is 1352351.875.\n",
      "At epoch 2300 the mean error is 1352371.375.\n",
      "At epoch 2400 the mean error is 1352448.625.\n",
      "At epoch 2500 the mean error is 1352280.875.\n",
      "At epoch 2600 the mean error is 1352291.875.\n",
      "At epoch 2700 the mean error is 1352330.0.\n",
      "At epoch 2800 the mean error is 1352478.0.\n",
      "At epoch 2900 the mean error is 1352339.5.\n",
      "At epoch 3000 the mean error is 1352303.875.\n",
      "At epoch 3100 the mean error is 1352476.25.\n",
      "At epoch 3200 the mean error is 1352294.875.\n",
      "At epoch 3300 the mean error is 1352398.5.\n",
      "At epoch 3400 the mean error is 1352293.375.\n",
      "At epoch 3500 the mean error is 1352303.5.\n",
      "At epoch 3600 the mean error is 1352884.0.\n",
      "At epoch 3700 the mean error is 1352313.125.\n",
      "At epoch 3800 the mean error is 1352300.875.\n",
      "At epoch 3900 the mean error is 1352357.375.\n",
      "At epoch 4000 the mean error is 1352307.625.\n",
      "At epoch 4100 the mean error is 1352344.75.\n",
      "At epoch 4200 the mean error is 1353805.625.\n",
      "At epoch 4300 the mean error is 1352394.375.\n",
      "At epoch 4400 the mean error is 1352321.125.\n",
      "At epoch 4500 the mean error is 1352367.125.\n",
      "At epoch 4600 the mean error is 1352372.5.\n",
      "At epoch 4700 the mean error is 1352303.375.\n",
      "At epoch 4800 the mean error is 1352298.375.\n",
      "At epoch 4900 the mean error is 1352285.75.\n",
      "At epoch 5000 the mean error is 1352299.25.\n",
      "At epoch 5100 the mean error is 1352292.375.\n",
      "At epoch 5200 the mean error is 1352436.125.\n",
      "At epoch 5300 the mean error is 1352301.5.\n",
      "At epoch 5400 the mean error is 1352312.875.\n",
      "At epoch 5500 the mean error is 1352302.375.\n",
      "At epoch 5600 the mean error is 1352341.75.\n",
      "At epoch 5700 the mean error is 1352276.5.\n",
      "At epoch 5800 the mean error is 1352342.375.\n",
      "At epoch 5900 the mean error is 1352384.25.\n",
      "At epoch 6000 the mean error is 1352374.75.\n",
      "At epoch 6100 the mean error is 1352269.875.\n",
      "At epoch 6200 the mean error is 1352295.75.\n",
      "At epoch 6300 the mean error is 1352278.5.\n",
      "At epoch 6400 the mean error is 1352282.0.\n",
      "At epoch 6500 the mean error is 1352288.0.\n",
      "At epoch 6600 the mean error is 1352309.875.\n",
      "At epoch 6700 the mean error is 1352296.75.\n",
      "At epoch 6800 the mean error is 1352287.0.\n",
      "At epoch 6900 the mean error is 1352266.0.\n",
      "At epoch 7000 the mean error is 1352302.875.\n",
      "At epoch 7100 the mean error is 1352280.375.\n",
      "At epoch 7200 the mean error is 1352391.125.\n",
      "At epoch 7300 the mean error is 1352490.875.\n",
      "At epoch 7400 the mean error is 1352393.0.\n",
      "At epoch 7500 the mean error is 1352383.625.\n",
      "At epoch 7600 the mean error is 1352377.75.\n",
      "At epoch 7700 the mean error is 1352372.875.\n",
      "At epoch 7800 the mean error is 1352368.125.\n",
      "At epoch 7900 the mean error is 1352363.75.\n",
      "time elapsed= 85.76453948020935\n"
     ]
    }
   ],
   "source": [
    "start=time.time()\n",
    "lr1 = 8e-3\n",
    "max_epoch = 8000\n",
    "optimizer = optim.Adam(model_f.parameters(), lr1)\n",
    "\n",
    "#print(psi.shape)\n",
    "for epoch in range(max_epoch):\n",
    "  optimizer.zero_grad()\n",
    "  cost=loss_func_total(x,model_f,delta_f)\n",
    "  cost.backward()\n",
    "  optimizer.step()\n",
    "  #print(loss.item())\n",
    "  if (epoch % 100==0):\n",
    "    print(\"At epoch {} the mean error is {}.\".format(epoch,cost.detach()))\n",
    "end=time.time()\n",
    "print('time elapsed=',end-start)"
   ]
  },
  {
   "cell_type": "code",
   "execution_count": 8,
   "id": "285e4a1f",
   "metadata": {},
   "outputs": [],
   "source": [
    "# torch.save(model_f, 'model_N10_fine.pth')\n",
    "model_fin = torch.load('model_N10_fine.pth')\n",
    "#model_fin=model_f"
   ]
  },
  {
   "cell_type": "code",
   "execution_count": 9,
   "id": "f2df69d7",
   "metadata": {},
   "outputs": [],
   "source": [
    "def closed_form(X,ite):\n",
    "  alpa=np.exp(-rho*T/ite)\n",
    "  p=np.zeros(ite+1)\n",
    "  p[0]=X/((ite-1)*(1-alpa)+2)\n",
    "  p[ite]=X/((ite-1)*(1-alpa)+2)\n",
    "  for j in range(1,ite):\n",
    "    p[j]=p[0]*(1-alpa)\n",
    "  return p\n",
    "\n",
    "def cost(y,ite):\n",
    "  cost1=0.0\n",
    "  D1=0.0\n",
    "  for i in range(ite+1):\n",
    "    cost1+=D1*y[i]+(kappa/2.0)*np.power(y[i],2)\n",
    "    D1=(D1+kappa*y[i])*np.exp(-rho*T/ite)\n",
    "  return cost1"
   ]
  },
  {
   "cell_type": "code",
   "execution_count": 10,
   "id": "50e4b7f5",
   "metadata": {},
   "outputs": [],
   "source": [
    "def testing_fine_forward(c_soln,ite):    \n",
    "    f_soln=[]\n",
    "    c=c_soln[2]\n",
    "    x_test=torch.tensor([[0.0,0.0,c[0]]])\n",
    "    for i in range(ite+1):\n",
    "        if (i!=0):\n",
    "            x_test[0,2]=x_test[0,2]+c[i] #Adding previous remaining balance to the current balance\n",
    "        if (i!=ite):         \n",
    "            for j in range(ite):\n",
    "                #print(i,x_test)\n",
    "                soln_pred=model_fin.eval()(x_test).squeeze(1).detach()\n",
    "                f_soln.append(soln_pred)\n",
    "                x_test=update(x_test,soln_pred,delta_f)\n",
    "            #print(x_test[0,2])\n",
    "    f_soln.append(x_test[0,2].view(1))\n",
    "    f_soln= np.array([tensor.numpy() for tensor in f_soln]).reshape(len(f_soln))\n",
    "    return f_soln\n"
   ]
  },
  {
   "cell_type": "markdown",
   "id": "006892a2",
   "metadata": {},
   "source": [
    "# Results from forward pass"
   ]
  },
  {
   "cell_type": "code",
   "execution_count": 11,
   "id": "2c202172",
   "metadata": {},
   "outputs": [
    {
     "name": "stdout",
     "output_type": "stream",
     "text": [
      "coarse soln [1802.9597   714.56946  709.62524  709.4345   709.4478   709.6463\n",
      "  710.0404   710.6294   711.4126   712.25757 1799.9766 ] Total= 10000.0\n",
      "\n",
      "Fine solution= [ 768.191      36.69008    34.917557   33.277664   31.758307   30.348639\n",
      "   29.038824   27.819914   26.683958   25.62364   207.29712    48.020515\n",
      "   43.864006   41.6979     39.69538    37.84159    36.12304    34.52755\n",
      "   33.04413    31.662794  199.53262    54.19674    49.77195    47.30181\n",
      "   45.01832    42.90452    40.944954   39.1258     37.434456   35.85961\n",
      "  186.96158    59.174538   54.597527   51.8769     49.362022   47.034172\n",
      "   44.87641    42.873314   41.01113    39.27732   176.22026    63.240044\n",
      "   58.568886   55.63952    52.931984   50.426003   48.103355   45.94744\n",
      "   43.943367   42.077644  167.01624    66.577034   61.857597   58.752937\n",
      "   55.88369    53.228294   50.76745    48.483498   46.360695   44.384666\n",
      "  159.06017    69.33291    64.60183    61.34841    58.34208    55.56022\n",
      "   52.982384   50.59025    48.36718    46.298073  152.11551    71.62609\n",
      "   66.912285   63.531425   60.40766    57.517464   54.839684   52.35511\n",
      "   50.046455   47.898003  145.99228    73.55166    68.87815    65.38656\n",
      "   62.160973   59.17698    56.412697   53.848213   51.46566    49.248802\n",
      "  140.48521    75.18285    70.56817    66.97936    63.66445    60.598305\n",
      "   57.758278   55.123924   52.676826   50.40026  3179.037   ] Total= 10000.0\n"
     ]
    }
   ],
   "source": [
    "coarse_soln=c_soln[2].numpy()\n",
    "print('coarse soln',coarse_soln, 'Total=',np.sum(coarse_soln))\n",
    "fine_soln=testing_fine_forward(c_soln,ite)\n",
    "true_soln=closed_form(10000,100)\n",
    "print('\\nFine solution=', fine_soln, 'Total=',np.sum(fine_soln))"
   ]
  },
  {
   "cell_type": "code",
   "execution_count": 12,
   "id": "ab76b4e4",
   "metadata": {},
   "outputs": [
    {
     "data": {
      "image/png": "[encoded data removed]",
      "text/plain": [
       "<Figure size 1008x432 with 1 Axes>"
      ]
     },
     "metadata": {
      "needs_background": "light"
     },
     "output_type": "display_data"
    }
   ],
   "source": [
    "t_step1=np.linspace(0,1,num=11)\n",
    "t_step2=np.linspace(0,1,num=101)\n",
    "plt.figure(figsize=(14,6))\n",
    "plt.bar(t_step1,coarse_soln,color='red',width=0.01,label='coarse')\n",
    "plt.bar(t_step2,fine_soln,color='green',width=0.005,label='fine')\n",
    "plt.bar(t_step2,true_soln,color='blue',width=0.002,label='true')\n",
    "plt.xlabel('Time steps')\n",
    "plt.ylabel('Optimal orders')\n",
    "plt.title('Forward Pass')\n",
    "plt.legend()\n",
    "plt.show()\n"
   ]
  },
  {
   "cell_type": "code",
   "execution_count": 13,
   "id": "bdacda2f",
   "metadata": {},
   "outputs": [
    {
     "name": "stdout",
     "output_type": "stream",
     "text": [
      "True Cost= 14287839.92 Fine grid cost= 16237058.15\n",
      "Cost Error= 1949218.23\n",
      "Percentage error= 13.64 %\n"
     ]
    },
    {
     "ename": "NameError",
     "evalue": "name 'data' is not defined",
     "output_type": "error",
     "traceback": [
      "\u001b[1;31m---------------------------------------------------------------------------\u001b[0m",
      "\u001b[1;31mNameError\u001b[0m                                 Traceback (most recent call last)",
      "\u001b[1;32m<ipython-input-13-edc0b9cc76d7>\u001b[0m in \u001b[0;36m<module>\u001b[1;34m\u001b[0m\n\u001b[0;32m      6\u001b[0m \u001b[0mprint\u001b[0m\u001b[1;33m(\u001b[0m\u001b[1;34m'Cost Error= %0.2f'\u001b[0m\u001b[1;33m%\u001b[0m \u001b[0merror\u001b[0m\u001b[1;33m)\u001b[0m\u001b[1;33m\u001b[0m\u001b[1;33m\u001b[0m\u001b[0m\n\u001b[0;32m      7\u001b[0m \u001b[0mprint\u001b[0m\u001b[1;33m(\u001b[0m\u001b[1;34m'Percentage error= %0.2f'\u001b[0m\u001b[1;33m%\u001b[0m \u001b[0mper_error\u001b[0m\u001b[1;33m,\u001b[0m\u001b[1;34m'%'\u001b[0m \u001b[1;33m)\u001b[0m\u001b[1;33m\u001b[0m\u001b[1;33m\u001b[0m\u001b[0m\n\u001b[1;32m----> 8\u001b[1;33m \u001b[0mD_N\u001b[0m\u001b[1;33m=\u001b[0m\u001b[0mdata\u001b[0m\u001b[1;33m[\u001b[0m\u001b[1;36m0\u001b[0m\u001b[1;33m,\u001b[0m\u001b[1;36m2\u001b[0m\u001b[1;33m]\u001b[0m\u001b[1;33m.\u001b[0m\u001b[0mdetach\u001b[0m\u001b[1;33m(\u001b[0m\u001b[1;33m)\u001b[0m\u001b[1;33m.\u001b[0m\u001b[0mnumpy\u001b[0m\u001b[1;33m(\u001b[0m\u001b[1;33m)\u001b[0m\u001b[1;33m\u001b[0m\u001b[1;33m\u001b[0m\u001b[0m\n\u001b[0m\u001b[0;32m      9\u001b[0m \u001b[0mderivative\u001b[0m\u001b[1;33m=\u001b[0m\u001b[0mkappa\u001b[0m\u001b[1;33m*\u001b[0m\u001b[1;33m(\u001b[0m\u001b[0mfine_soln\u001b[0m\u001b[1;33m[\u001b[0m\u001b[1;36m0\u001b[0m\u001b[1;33m]\u001b[0m\u001b[1;33m)\u001b[0m\u001b[1;33m-\u001b[0m\u001b[1;33m(\u001b[0m\u001b[1;33m(\u001b[0m\u001b[1;36m10000\u001b[0m\u001b[1;33m-\u001b[0m\u001b[0msum\u001b[0m\u001b[1;33m(\u001b[0m\u001b[0mfine_soln\u001b[0m\u001b[1;33m[\u001b[0m\u001b[0mi\u001b[0m\u001b[1;33m]\u001b[0m \u001b[1;32mfor\u001b[0m \u001b[0mi\u001b[0m \u001b[1;32min\u001b[0m \u001b[0mrange\u001b[0m\u001b[1;33m(\u001b[0m\u001b[0mlen\u001b[0m\u001b[1;33m(\u001b[0m\u001b[0mfine_soln\u001b[0m\u001b[1;33m)\u001b[0m\u001b[1;33m-\u001b[0m\u001b[1;36m1\u001b[0m\u001b[1;33m)\u001b[0m\u001b[1;33m)\u001b[0m\u001b[1;33m)\u001b[0m\u001b[1;33m+\u001b[0m\u001b[0mD_N\u001b[0m\u001b[1;33m)\u001b[0m\u001b[1;33m\u001b[0m\u001b[1;33m\u001b[0m\u001b[0m\n\u001b[0;32m     10\u001b[0m \u001b[0mprint\u001b[0m\u001b[1;33m(\u001b[0m\u001b[1;34m'\\nDerivative of loss with respect to x0 ='\u001b[0m\u001b[1;33m,\u001b[0m\u001b[0mderivative\u001b[0m\u001b[1;33m)\u001b[0m\u001b[1;33m\u001b[0m\u001b[1;33m\u001b[0m\u001b[0m\n",
      "\u001b[1;31mNameError\u001b[0m: name 'data' is not defined"
     ]
    }
   ],
   "source": [
    "true_cost=cost(true_soln,100)\n",
    "fine_cost=cost(fine_soln,100)\n",
    "print('True Cost= %0.2f'% true_cost, 'Fine grid cost= %0.2f'% fine_cost)\n",
    "error=np.abs(true_cost-fine_cost)\n",
    "per_error=100*error/true_cost\n",
    "print('Cost Error= %0.2f'% error)\n",
    "print('Percentage error= %0.2f'% per_error,'%' )\n",
    "D_N=data[0,2].detach().numpy()\n",
    "derivative=kappa*(fine_soln[0])-((10000-sum(fine_soln[i] for i in range(len(fine_soln)-1)))+D_N)\n",
    "print('\\nDerivative of loss with respect to x0 =',derivative)"
   ]
  },
  {
   "cell_type": "markdown",
   "id": "a82f44f2",
   "metadata": {},
   "source": [
    "# Strategy 2 (Adding two consecutive terms to predict the block)"
   ]
  },
  {
   "cell_type": "code",
   "execution_count": 14,
   "id": "013a0701",
   "metadata": {},
   "outputs": [],
   "source": [
    "def testing_fine_first_last(c_soln,ite):    \n",
    "    f_soln=[]\n",
    "    c=c_soln[2]\n",
    "    x_test=torch.tensor([[0.0,0.0,c[0]]])\n",
    "    #x_test[0,2]=x_test[0,2]+c[ite]\n",
    "    for i in range(ite):       \n",
    "        x_test[0,2]=x_test[0,2]+c[i+1] #Adding previous remaining balance to the current balance         \n",
    "        for j in range(ite):\n",
    "            #print(i,x_test)\n",
    "            soln_pred=model_fin.eval()(x_test).squeeze(1).detach()\n",
    "            f_soln.append(soln_pred)\n",
    "            x_test=update(x_test,soln_pred,delta_f)\n",
    "            #print(x_test[0,2])\n",
    "    f_soln.append(x_test[0,2].view(1))\n",
    "    f_soln= np.array([tensor.numpy() for tensor in f_soln]).reshape(len(f_soln))\n",
    "    return f_soln"
   ]
  },
  {
   "cell_type": "code",
   "execution_count": 15,
   "id": "cf63f11e",
   "metadata": {},
   "outputs": [
    {
     "name": "stdout",
     "output_type": "stream",
     "text": [
      "\n",
      "Fine solution= [1071.684      50.231865   47.800148   45.549202   43.462624   41.525642\n",
      "   39.72486    38.04818    36.484688   35.024483  180.21819    59.2875\n",
      "   54.438393   51.755653   49.274406   46.976295   44.84475    42.864784\n",
      "   41.022972   39.306984  181.27972    63.271233   58.26908    55.38349\n",
      "   52.71499    50.24386    47.952263   45.823967   43.84452    42.00065\n",
      "  172.41248    66.464775   61.423225   58.368843   55.5447     52.929848\n",
      "   50.505287   48.253914   46.16024    44.210304  164.60965    69.100426\n",
      "   64.0554     60.857765   57.901665   55.164955   52.627876   50.27236\n",
      "   48.082222   46.042778  157.77818    71.29302    66.27218    62.951653\n",
      "   59.882347   57.04133    54.40789    51.963387   49.69085    47.57505\n",
      "  151.73671    73.133766   68.15908    64.73168    61.564186   58.632698\n",
      "   55.915855   53.394295   51.05056    48.868797  146.33928    74.69593\n",
      "   69.78463    66.26322    63.009285   59.998314   57.20826    54.619164\n",
      "   52.21308    49.97367   141.41508    76.035194   71.20135    67.59608\n",
      "   64.265175   61.183556   58.328392   55.679436   53.218056   50.92759\n",
      "  569.8815    102.83015    93.78498    89.01728    84.61204    80.53617\n",
      "   76.75971    73.2555     69.99937    66.969154 1907.0585  ] (101,) Total= 10000.001\n",
      "\n",
      "Difference between true and fine= [-3.92812192e+02 -2.11924552e+01 -2.36241721e+01 -2.58751182e+01\n",
      " -2.79616966e+01 -2.98986778e+01 -3.16994590e+01 -3.33761405e+01\n",
      " -3.49396324e+01 -3.63998374e+01  1.08793865e+02 -1.21368217e+01\n",
      " -1.69859275e+01 -1.96686668e+01 -2.21499137e+01 -2.44480247e+01\n",
      " -2.65795707e+01 -2.85595359e+01 -3.04013481e+01 -3.21173362e+01\n",
      "  1.09855404e+02 -8.15308755e+00 -1.31552390e+01 -1.60408286e+01\n",
      " -1.87093314e+01 -2.11804618e+01 -2.34720573e+01 -2.56003532e+01\n",
      " -2.75797996e+01 -2.94236717e+01  1.00988155e+02 -4.95954507e+00\n",
      " -1.00010948e+01 -1.30554771e+01 -1.58796195e+01 -1.84944724e+01\n",
      " -2.09190330e+01 -2.31704063e+01 -2.52640800e+01 -2.72140159e+01\n",
      "  9.31853295e+01 -2.32389444e+00 -7.36892312e+00 -1.05665550e+01\n",
      " -1.35226554e+01 -1.62593650e+01 -1.87964439e+01 -2.11519584e+01\n",
      " -2.33420982e+01 -2.53815421e+01  8.63538628e+01 -1.31298002e-01\n",
      " -5.15214151e+00 -8.47266763e+00 -1.15419731e+01 -1.43829917e+01\n",
      " -1.70164298e+01 -1.94609336e+01 -2.17334709e+01 -2.38492698e+01\n",
      "  8.03123894e+01  1.70944602e+00 -3.26523965e+00 -6.69263833e+00\n",
      " -9.86013406e+00 -1.27916221e+01 -1.55084648e+01 -1.80300254e+01\n",
      " -2.03737602e+01 -2.25555229e+01  7.49149590e+01  3.27161032e+00\n",
      " -1.63969034e+00 -5.16109842e+00 -8.41503518e+00 -1.14260063e+01\n",
      " -1.42160606e+01 -1.68051566e+01 -1.92112388e+01 -2.14506492e+01\n",
      "  6.99907647e+01  4.61087424e+00 -2.22972807e-01 -3.82824319e+00\n",
      " -7.15914529e+00 -1.02407646e+01 -1.30959281e+01 -1.57448844e+01\n",
      " -1.82062644e+01 -2.04967307e+01  4.98457150e+02  3.14058266e+01\n",
      "  2.23606606e+01  1.75929604e+01  1.31877175e+01  9.11185080e+00\n",
      "  5.33539206e+00  1.83118064e+00 -1.42495340e+00 -4.45516580e+00\n",
      "  4.42562320e+02]\n"
     ]
    },
    {
     "ename": "NameError",
     "evalue": "name 'data' is not defined",
     "output_type": "error",
     "traceback": [
      "\u001b[1;31m---------------------------------------------------------------------------\u001b[0m",
      "\u001b[1;31mNameError\u001b[0m                                 Traceback (most recent call last)",
      "\u001b[1;32m<ipython-input-15-7ce51303f04b>\u001b[0m in \u001b[0;36m<module>\u001b[1;34m\u001b[0m\n\u001b[0;32m      3\u001b[0m \u001b[0mprint\u001b[0m\u001b[1;33m(\u001b[0m\u001b[1;34m'\\nFine solution='\u001b[0m\u001b[1;33m,\u001b[0m \u001b[0mfine_soln\u001b[0m\u001b[1;33m,\u001b[0m \u001b[0mfine_soln\u001b[0m\u001b[1;33m.\u001b[0m\u001b[0mshape\u001b[0m\u001b[1;33m,\u001b[0m\u001b[1;34m'Total='\u001b[0m\u001b[1;33m,\u001b[0m\u001b[0mnp\u001b[0m\u001b[1;33m.\u001b[0m\u001b[0msum\u001b[0m\u001b[1;33m(\u001b[0m\u001b[0mfine_soln\u001b[0m\u001b[1;33m)\u001b[0m\u001b[1;33m)\u001b[0m\u001b[1;33m\u001b[0m\u001b[1;33m\u001b[0m\u001b[0m\n\u001b[0;32m      4\u001b[0m \u001b[0mprint\u001b[0m\u001b[1;33m(\u001b[0m\u001b[1;34m'\\nDifference between true and fine='\u001b[0m\u001b[1;33m,\u001b[0m\u001b[1;33m(\u001b[0m\u001b[0mfine_soln\u001b[0m\u001b[1;33m-\u001b[0m\u001b[0mtrue_soln\u001b[0m\u001b[1;33m)\u001b[0m\u001b[1;33m)\u001b[0m\u001b[1;33m\u001b[0m\u001b[1;33m\u001b[0m\u001b[0m\n\u001b[1;32m----> 5\u001b[1;33m \u001b[0mD_N\u001b[0m\u001b[1;33m=\u001b[0m\u001b[0mdata\u001b[0m\u001b[1;33m[\u001b[0m\u001b[1;36m0\u001b[0m\u001b[1;33m,\u001b[0m\u001b[1;36m2\u001b[0m\u001b[1;33m]\u001b[0m\u001b[1;33m.\u001b[0m\u001b[0mdetach\u001b[0m\u001b[1;33m(\u001b[0m\u001b[1;33m)\u001b[0m\u001b[1;33m.\u001b[0m\u001b[0mnumpy\u001b[0m\u001b[1;33m(\u001b[0m\u001b[1;33m)\u001b[0m\u001b[1;33m\u001b[0m\u001b[1;33m\u001b[0m\u001b[0m\n\u001b[0m\u001b[0;32m      6\u001b[0m \u001b[0mderivative\u001b[0m\u001b[1;33m=\u001b[0m\u001b[0mkappa\u001b[0m\u001b[1;33m*\u001b[0m\u001b[1;33m(\u001b[0m\u001b[0mfine_soln\u001b[0m\u001b[1;33m[\u001b[0m\u001b[1;36m0\u001b[0m\u001b[1;33m]\u001b[0m\u001b[1;33m)\u001b[0m\u001b[1;33m-\u001b[0m\u001b[1;33m(\u001b[0m\u001b[1;33m(\u001b[0m\u001b[1;36m10000\u001b[0m\u001b[1;33m-\u001b[0m\u001b[0msum\u001b[0m\u001b[1;33m(\u001b[0m\u001b[0mfine_soln\u001b[0m\u001b[1;33m[\u001b[0m\u001b[0mi\u001b[0m\u001b[1;33m]\u001b[0m \u001b[1;32mfor\u001b[0m \u001b[0mi\u001b[0m \u001b[1;32min\u001b[0m \u001b[0mrange\u001b[0m\u001b[1;33m(\u001b[0m\u001b[0mlen\u001b[0m\u001b[1;33m(\u001b[0m\u001b[0mfine_soln\u001b[0m\u001b[1;33m)\u001b[0m\u001b[1;33m-\u001b[0m\u001b[1;36m1\u001b[0m\u001b[1;33m)\u001b[0m\u001b[1;33m)\u001b[0m\u001b[1;33m)\u001b[0m\u001b[1;33m+\u001b[0m\u001b[0mD_N\u001b[0m\u001b[1;33m)\u001b[0m\u001b[1;33m\u001b[0m\u001b[1;33m\u001b[0m\u001b[0m\n\u001b[0;32m      7\u001b[0m \u001b[0mprint\u001b[0m\u001b[1;33m(\u001b[0m\u001b[1;34m'\\nDerivative of loss with respect to x0 ='\u001b[0m\u001b[1;33m,\u001b[0m\u001b[0mderivative\u001b[0m\u001b[1;33m)\u001b[0m\u001b[1;33m\u001b[0m\u001b[1;33m\u001b[0m\u001b[0m\n",
      "\u001b[1;31mNameError\u001b[0m: name 'data' is not defined"
     ]
    }
   ],
   "source": [
    "fine_soln=testing_fine_first_last(c_soln,ite)\n",
    "true_soln=closed_form(10000,100)\n",
    "print('\\nFine solution=', fine_soln, fine_soln.shape,'Total=',np.sum(fine_soln))\n",
    "print('\\nDifference between true and fine=',(fine_soln-true_soln))\n",
    "D_N=data[0,2].detach().numpy()\n",
    "derivative=kappa*(fine_soln[0])-((10000-sum(fine_soln[i] for i in range(len(fine_soln)-1)))+D_N)\n",
    "print('\\nDerivative of loss with respect to x0 =',derivative)"
   ]
  },
  {
   "cell_type": "code",
   "execution_count": 16,
   "id": "f9fc7688",
   "metadata": {},
   "outputs": [
    {
     "data": {
      "image/png": "[encoded data removed]",
      "text/plain": [
       "<Figure size 1008x432 with 1 Axes>"
      ]
     },
     "metadata": {
      "needs_background": "light"
     },
     "output_type": "display_data"
    }
   ],
   "source": [
    "t_step1=np.linspace(0,1,num=11)\n",
    "t_step2=np.linspace(0,1,num=101)\n",
    "plt.figure(figsize=(14,6))\n",
    "#plt.bar(t_step1,coarse_soln,color='red',width=0.01,label='coarse')\n",
    "plt.bar(t_step2,fine_soln,color='green',width=0.005,label='fine')\n",
    "plt.bar(t_step2,true_soln,color='yellow',width=0.002,label='true')\n",
    "plt.xlabel('Time steps')\n",
    "plt.ylabel('Optimal orders')\n",
    "plt.title('Forward Pass')\n",
    "plt.legend()\n",
    "plt.show()"
   ]
  },
  {
   "cell_type": "code",
   "execution_count": 17,
   "id": "d1e97e00",
   "metadata": {},
   "outputs": [
    {
     "name": "stdout",
     "output_type": "stream",
     "text": [
      "True Cost= 14287839.92 Fine grid cost= 14883289.83\n",
      "Cost Error= 595449.91\n",
      "Percentage error= 4.17 %\n"
     ]
    },
    {
     "ename": "NameError",
     "evalue": "name 'data' is not defined",
     "output_type": "error",
     "traceback": [
      "\u001b[1;31m---------------------------------------------------------------------------\u001b[0m",
      "\u001b[1;31mNameError\u001b[0m                                 Traceback (most recent call last)",
      "\u001b[1;32m<ipython-input-17-edc0b9cc76d7>\u001b[0m in \u001b[0;36m<module>\u001b[1;34m\u001b[0m\n\u001b[0;32m      6\u001b[0m \u001b[0mprint\u001b[0m\u001b[1;33m(\u001b[0m\u001b[1;34m'Cost Error= %0.2f'\u001b[0m\u001b[1;33m%\u001b[0m \u001b[0merror\u001b[0m\u001b[1;33m)\u001b[0m\u001b[1;33m\u001b[0m\u001b[1;33m\u001b[0m\u001b[0m\n\u001b[0;32m      7\u001b[0m \u001b[0mprint\u001b[0m\u001b[1;33m(\u001b[0m\u001b[1;34m'Percentage error= %0.2f'\u001b[0m\u001b[1;33m%\u001b[0m \u001b[0mper_error\u001b[0m\u001b[1;33m,\u001b[0m\u001b[1;34m'%'\u001b[0m \u001b[1;33m)\u001b[0m\u001b[1;33m\u001b[0m\u001b[1;33m\u001b[0m\u001b[0m\n\u001b[1;32m----> 8\u001b[1;33m \u001b[0mD_N\u001b[0m\u001b[1;33m=\u001b[0m\u001b[0mdata\u001b[0m\u001b[1;33m[\u001b[0m\u001b[1;36m0\u001b[0m\u001b[1;33m,\u001b[0m\u001b[1;36m2\u001b[0m\u001b[1;33m]\u001b[0m\u001b[1;33m.\u001b[0m\u001b[0mdetach\u001b[0m\u001b[1;33m(\u001b[0m\u001b[1;33m)\u001b[0m\u001b[1;33m.\u001b[0m\u001b[0mnumpy\u001b[0m\u001b[1;33m(\u001b[0m\u001b[1;33m)\u001b[0m\u001b[1;33m\u001b[0m\u001b[1;33m\u001b[0m\u001b[0m\n\u001b[0m\u001b[0;32m      9\u001b[0m \u001b[0mderivative\u001b[0m\u001b[1;33m=\u001b[0m\u001b[0mkappa\u001b[0m\u001b[1;33m*\u001b[0m\u001b[1;33m(\u001b[0m\u001b[0mfine_soln\u001b[0m\u001b[1;33m[\u001b[0m\u001b[1;36m0\u001b[0m\u001b[1;33m]\u001b[0m\u001b[1;33m)\u001b[0m\u001b[1;33m-\u001b[0m\u001b[1;33m(\u001b[0m\u001b[1;33m(\u001b[0m\u001b[1;36m10000\u001b[0m\u001b[1;33m-\u001b[0m\u001b[0msum\u001b[0m\u001b[1;33m(\u001b[0m\u001b[0mfine_soln\u001b[0m\u001b[1;33m[\u001b[0m\u001b[0mi\u001b[0m\u001b[1;33m]\u001b[0m \u001b[1;32mfor\u001b[0m \u001b[0mi\u001b[0m \u001b[1;32min\u001b[0m \u001b[0mrange\u001b[0m\u001b[1;33m(\u001b[0m\u001b[0mlen\u001b[0m\u001b[1;33m(\u001b[0m\u001b[0mfine_soln\u001b[0m\u001b[1;33m)\u001b[0m\u001b[1;33m-\u001b[0m\u001b[1;36m1\u001b[0m\u001b[1;33m)\u001b[0m\u001b[1;33m)\u001b[0m\u001b[1;33m)\u001b[0m\u001b[1;33m+\u001b[0m\u001b[0mD_N\u001b[0m\u001b[1;33m)\u001b[0m\u001b[1;33m\u001b[0m\u001b[1;33m\u001b[0m\u001b[0m\n\u001b[0;32m     10\u001b[0m \u001b[0mprint\u001b[0m\u001b[1;33m(\u001b[0m\u001b[1;34m'\\nDerivative of loss with respect to x0 ='\u001b[0m\u001b[1;33m,\u001b[0m\u001b[0mderivative\u001b[0m\u001b[1;33m)\u001b[0m\u001b[1;33m\u001b[0m\u001b[1;33m\u001b[0m\u001b[0m\n",
      "\u001b[1;31mNameError\u001b[0m: name 'data' is not defined"
     ]
    }
   ],
   "source": [
    "true_cost=cost(true_soln,100)\n",
    "fine_cost=cost(fine_soln,100)\n",
    "print('True Cost= %0.2f'% true_cost, 'Fine grid cost= %0.2f'% fine_cost)\n",
    "error=np.abs(true_cost-fine_cost)\n",
    "per_error=100*error/true_cost\n",
    "print('Cost Error= %0.2f'% error)\n",
    "print('Percentage error= %0.2f'% per_error,'%' )\n",
    "D_N=data[0,2].detach().numpy()\n",
    "derivative=kappa*(fine_soln[0])-((10000-sum(fine_soln[i] for i in range(len(fine_soln)-1)))+D_N)\n",
    "print('\\nDerivative of loss with respect to x0 =',derivative)"
   ]
  },
  {
   "cell_type": "markdown",
   "id": "d3a240b8",
   "metadata": {},
   "source": [
    "# Strategy 3: Updated (Adding First and last balance and then doing the forward pass)"
   ]
  },
  {
   "cell_type": "code",
   "execution_count": 18,
   "id": "ce39fa25",
   "metadata": {},
   "outputs": [],
   "source": [
    "def testing_fine_first_last(c_soln,ite):    \n",
    "    f_soln=[]\n",
    "    c=c_soln[2]\n",
    "    x_test=torch.tensor([[0.0,0.0,c[0]]])\n",
    "    x_test[0,2]=x_test[0,2]+c[ite]\n",
    "    for i in range(ite):       \n",
    "        if (i!=0):\n",
    "            x_test[0,2]=x_test[0,2]+c[i] #Adding previous remaining balance to the current balance         \n",
    "        for j in range(ite):\n",
    "            #print(i,x_test)\n",
    "            soln_pred=model_fin.eval()(x_test).squeeze(1).detach()\n",
    "            f_soln.append(soln_pred)\n",
    "            x_test=update(x_test,soln_pred,delta_f)\n",
    "            #print(x_test[0,2])\n",
    "    f_soln.append(x_test[0,2].view(1))\n",
    "    f_soln= np.array([tensor.numpy() for tensor in f_soln]).reshape(len(f_soln))\n",
    "    return x_test,f_soln"
   ]
  },
  {
   "cell_type": "code",
   "execution_count": 33,
   "id": "761849da",
   "metadata": {},
   "outputs": [
    {
     "name": "stdout",
     "output_type": "stream",
     "text": [
      "\n",
      "Derivative of loss func with respect to x0 (True soln) = -1488.3806152343948\n",
      "\n",
      "Derivative of loss func with respect to x0 (Fine soln) = -1444.0825500488281\n",
      "\n",
      "Fine solution= [1532.6793     70.8014     67.36831    64.18928    61.241096   58.503136\n",
      "   55.956596   53.584557   51.371696   49.30404   144.04825    76.69535\n",
      "   70.74503    67.2651     64.04511    61.061363   58.292564   55.719536\n",
      "   53.32476    51.09252   153.40796    77.26736    71.37313    67.84676\n",
      "   64.58456    61.562416   58.75863    56.153694   53.729805   51.470985\n",
      "  149.9657     77.7062     71.948524   68.37949    65.07842    62.02102\n",
      "   59.185143   56.550835   54.100227   51.81704   146.50491    78.12536\n",
      "   72.50579    68.89503    65.55602    62.464012   59.59664    56.93377\n",
      "   54.457024   52.15      143.14738    78.53353    73.052284   69.400246\n",
      "   66.023735   62.897606   59.99929    57.308113   54.805656   52.47518\n",
      "  139.88788    78.936775   73.59379    69.900795   66.48699    63.32699\n",
      "   60.397728   57.67852    55.150475   52.7967    136.7156     79.34025\n",
      "   74.13506    70.40096    66.94988    63.75602    60.79595    58.048683\n",
      "   55.495064   53.117912  133.6227     79.74798    74.67968    70.904396\n",
      "   67.41593    64.18806    61.197014   58.421516   55.8422     53.441628\n",
      "  130.54962    80.159996   75.2282     71.41155    67.885445   64.62339\n",
      "   61.60122    58.797386   56.192207   53.76809  1488.3806  ] Total= 10000.001\n",
      "\n",
      "True solution= [1464.49615218   71.42432016   71.42432016   71.42432016   71.42432016\n",
      "   71.42432016   71.42432016   71.42432016   71.42432016   71.42432016\n",
      "   71.42432016   71.42432016   71.42432016   71.42432016   71.42432016\n",
      "   71.42432016   71.42432016   71.42432016   71.42432016   71.42432016\n",
      "   71.42432016   71.42432016   71.42432016   71.42432016   71.42432016\n",
      "   71.42432016   71.42432016   71.42432016   71.42432016   71.42432016\n",
      "   71.42432016   71.42432016   71.42432016   71.42432016   71.42432016\n",
      "   71.42432016   71.42432016   71.42432016   71.42432016   71.42432016\n",
      "   71.42432016   71.42432016   71.42432016   71.42432016   71.42432016\n",
      "   71.42432016   71.42432016   71.42432016   71.42432016   71.42432016\n",
      "   71.42432016   71.42432016   71.42432016   71.42432016   71.42432016\n",
      "   71.42432016   71.42432016   71.42432016   71.42432016   71.42432016\n",
      "   71.42432016   71.42432016   71.42432016   71.42432016   71.42432016\n",
      "   71.42432016   71.42432016   71.42432016   71.42432016   71.42432016\n",
      "   71.42432016   71.42432016   71.42432016   71.42432016   71.42432016\n",
      "   71.42432016   71.42432016   71.42432016   71.42432016   71.42432016\n",
      "   71.42432016   71.42432016   71.42432016   71.42432016   71.42432016\n",
      "   71.42432016   71.42432016   71.42432016   71.42432016   71.42432016\n",
      "   71.42432016   71.42432016   71.42432016   71.42432016   71.42432016\n",
      "   71.42432016   71.42432016   71.42432016   71.42432016   71.42432016\n",
      " 1464.49615218] Total= 9999.999999999998\n",
      "\n",
      "Difference between true and fine= [ 6.81831691e+01 -6.22920927e-01 -4.05601114e+00 -7.23504251e+00\n",
      " -1.01832237e+01 -1.29211845e+01 -1.54677238e+01 -1.78397636e+01\n",
      " -2.00526237e+01 -2.21202812e+01  7.26239281e+01  5.27103049e+00\n",
      " -6.79286894e-01 -4.15922159e+00 -7.37920755e+00 -1.03629569e+01\n",
      " -1.31317558e+01 -1.57047843e+01 -1.80995597e+01 -2.03317985e+01\n",
      "  8.19836388e+01  5.84303671e+00 -5.11893597e-02 -3.57755655e+00\n",
      " -6.83976358e+00 -9.86190408e+00 -1.26656913e+01 -1.52706260e+01\n",
      " -1.76945152e+01 -1.99533347e+01  7.85413781e+01  6.28187949e+00\n",
      "  5.24204317e-01 -3.04482644e+00 -6.34589761e+00 -9.40330118e+00\n",
      " -1.22391776e+01 -1.48734855e+01 -1.73240928e+01 -1.96072807e+01\n",
      "  7.50805932e+01  6.70103842e+00  1.08147055e+00 -2.52929300e+00\n",
      " -5.86829751e+00 -8.96030801e+00 -1.18276786e+01 -1.44905509e+01\n",
      " -1.69672965e+01 -1.92743186e+01  7.17230645e+01  7.10921103e+00\n",
      "  1.62796408e+00 -2.02407449e+00 -5.40058511e+00 -8.52671426e+00\n",
      " -1.14250297e+01 -1.41162071e+01 -1.66186637e+01 -1.89491386e+01\n",
      "  6.84635583e+01  7.51245505e+00  2.16946799e+00 -1.52352518e+00\n",
      " -4.93732828e+00 -8.09733194e+00 -1.10265922e+01 -1.37458000e+01\n",
      " -1.62738456e+01 -1.86276206e+01  6.52912865e+01  7.91592795e+00\n",
      "  2.71074301e+00 -1.02335733e+00 -4.47443765e+00 -7.66830057e+00\n",
      " -1.06283683e+01 -1.33756370e+01 -1.59292564e+01 -1.83064079e+01\n",
      "  6.21983758e+01  8.32365805e+00  3.25535971e+00 -5.19924101e-01\n",
      " -4.00838846e+00 -7.23626321e+00 -1.02273063e+01 -1.30028037e+01\n",
      " -1.55821189e+01 -1.79826927e+01  5.91253014e+01  8.73567587e+00\n",
      "  3.80388266e+00 -1.27677289e-02 -3.53887552e+00 -6.80092996e+00\n",
      " -9.82310098e+00 -1.26269340e+01 -1.52321128e+01 -1.76562309e+01\n",
      "  2.38844631e+01]\n"
     ]
    }
   ],
   "source": [
    "data,fine_soln=testing_fine_first_last(c_soln,ite)\n",
    "D_N=data[0,2].detach().numpy()\n",
    "derivative_fin=kappa*(fine_soln[0])-((10000-sum(fine_soln[i] for i in range(len(fine_soln)-1)))+D_N)\n",
    "derivative_true=kappa*(true_soln[0])-((10000-sum(true_soln[i] for i in range(len(true_soln)-1)))+D_N)\n",
    "print('\\nDerivative of loss func with respect to x0 (True soln) =',derivative_true)\n",
    "print('\\nDerivative of loss func with respect to x0 (Fine soln) =',derivative_fin)\n",
    "true_soln=closed_form(10000,100)\n",
    "print('\\nFine solution=', fine_soln,'Total=',np.sum(fine_soln))\n",
    "print('\\nTrue solution=', true_soln,'Total=',np.sum(true_soln))\n",
    "print('\\nDifference between true and fine=',(fine_soln-true_soln))\n"
   ]
  },
  {
   "cell_type": "code",
   "execution_count": 34,
   "id": "9c2b6c06",
   "metadata": {},
   "outputs": [
    {
     "name": "stderr",
     "output_type": "stream",
     "text": [
      "The PostScript backend does not support transparency; partially transparent artists will be rendered opaque.\n",
      "The PostScript backend does not support transparency; partially transparent artists will be rendered opaque.\n"
     ]
    },
    {
     "data": {
      "image/png": "[encoded data removed]",
      "text/plain": [
       "<Figure size 1008x432 with 1 Axes>"
      ]
     },
     "metadata": {
      "needs_background": "light"
     },
     "output_type": "display_data"
    }
   ],
   "source": [
    "t_step1=np.linspace(0,1,num=11)\n",
    "t_step2=np.linspace(0,100,num=101)\n",
    "name='E:/Robin research/Plots/N10_T1_K1_rho5_neo20.eps'\n",
    "plt.figure(figsize=(14,6))\n",
    "#plt.bar(t_step1,coarse_soln,color='red',width=0.01,label='coarse')\n",
    "plt.bar(t_step2,fine_soln,color='green',width=0.5,label='fine-grid solution')\n",
    "plt.bar(t_step2,true_soln,color='red',width=0.2,label='closed-form solution')\n",
    "plt.xlabel('Time steps')\n",
    "plt.ylabel('Optimal orders')\n",
    "plt.title('Multiscale Solution for the order of size X= %i' % (X0))\n",
    "plt.legend()\n",
    "plt.savefig(name,format='eps')  \n",
    "plt.show()"
   ]
  },
  {
   "cell_type": "code",
   "execution_count": 35,
   "id": "77cf18e3",
   "metadata": {},
   "outputs": [
    {
     "name": "stdout",
     "output_type": "stream",
     "text": [
      "True Cost= 14287839.92 Fine grid cost= 14291927.32\n",
      "Cost Error = 4087.40\n",
      "Percentage Error = 0.03 %\n"
     ]
    }
   ],
   "source": [
    "true_cost=cost(true_soln,100)\n",
    "fine_cost=cost(fine_soln,100)\n",
    "print('True Cost= %0.2f'% true_cost, 'Fine grid cost= %0.2f'% fine_cost)\n",
    "error=np.abs(true_cost-fine_cost)\n",
    "per_error=100*error/true_cost\n",
    "print('Cost Error = %0.2f'% error)\n",
    "print('Percentage Error = %0.2f'% per_error,'%')"
   ]
  },
  {
   "cell_type": "markdown",
   "id": "dfae8371",
   "metadata": {},
   "source": [
    "# The derivative of the loss function"
   ]
  },
  {
   "cell_type": "code",
   "execution_count": null,
   "id": "8e334358",
   "metadata": {},
   "outputs": [],
   "source": [
    "# The derivative of the loss function with respect to x0 = kappa*x0-[kappa(X-(x0+x1+......+x_{N-1})+DN)]\n",
    "# "
   ]
  },
  {
   "cell_type": "code",
   "execution_count": null,
   "id": "d50cdad8",
   "metadata": {},
   "outputs": [],
   "source": []
  }
 ],
 "metadata": {
  "kernelspec": {
   "display_name": "Python 3",
   "language": "python",
   "name": "python3"
  },
  "language_info": {
   "codemirror_mode": {
    "name": "ipython",
    "version": 3
   },
   "file_extension": ".py",
   "mimetype": "text/x-python",
   "name": "python",
   "nbconvert_exporter": "python",
   "pygments_lexer": "ipython3",
   "version": "3.8.8"
  }
 },
 "nbformat": 4,
 "nbformat_minor": 5
}
