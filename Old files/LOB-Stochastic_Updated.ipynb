{
 "cells": [
  {
   "cell_type": "code",
   "execution_count": 1,
   "id": "e88956d7",
   "metadata": {},
   "outputs": [],
   "source": [
    "import numpy as np\n",
    "import time\n",
    "from scipy import misc\n",
    "import matplotlib.pyplot as plt\n",
    "import torch\n",
    "import torch.nn as nn\n",
    "import torch.nn.functional as F\n",
    "import torch.optim as optim\n",
    "import random\n",
    "import math\n",
    "import pandas as pd\n",
    "from scipy.optimize import fsolve"
   ]
  },
  {
   "cell_type": "code",
   "execution_count": 2,
   "id": "50a8335d",
   "metadata": {},
   "outputs": [
    {
     "name": "stdout",
     "output_type": "stream",
     "text": [
      "tensor(0.1000)\n"
     ]
    }
   ],
   "source": [
    "M=1000\n",
    "ite=10\n",
    "dim_n=5\n",
    "T=1\n",
    "delta = torch.tensor(T/ite)\n",
    "#delta=torch.tensor(0.01)\n",
    "sigma=0.1\n",
    "sigma1=1e-3\n",
    "sigma2=1e-2\n",
    "theta1=1\n",
    "theta2=1\n",
    "mu1=1e-3 #kappa\n",
    "mu2=5 #rho\n",
    "A0=0.0\n",
    "gamma=0.0\n",
    "X0=1000\n",
    "neuron_model_psi=20\n",
    "print(delta)"
   ]
  },
  {
   "cell_type": "code",
   "execution_count": 3,
   "id": "74cdec5b",
   "metadata": {},
   "outputs": [],
   "source": [
    "model= torch.nn.Sequential(\n",
    "    torch.nn.Linear(dim_n, neuron_model_psi),\n",
    "#     torch.nn.Linear(neuron_model_psi, neuron_model_psi),\n",
    "#     torch.nn.ReLU(),\n",
    "#     torch.nn.Linear(neuron_model_psi, neuron_model_psi),\n",
    "#     torch.nn.ReLU(),   torch.nn.ReLU(),\n",
    "#   \n",
    "    torch.nn.Linear(neuron_model_psi, neuron_model_psi),\n",
    "    torch.nn.ReLU(),\n",
    "    torch.nn.Linear(neuron_model_psi,1)\n",
    ")"
   ]
  },
  {
   "cell_type": "code",
   "execution_count": 4,
   "id": "c2135973",
   "metadata": {},
   "outputs": [],
   "source": [
    "def kappa_rho_sim(M,ite,theta1,mu1,sigma1,theta2,mu2,sigma2):\n",
    "    kappa=torch.zeros([M,ite+1])\n",
    "    kappa[:,0]=mu1\n",
    "    rho=torch.zeros([M,ite+1])\n",
    "    rho[:,0]=mu2\n",
    "\n",
    "    for i in range (1,ite+1):\n",
    "        kappa[:,i]=kappa[:,i-1]+theta1*(mu1-kappa[:,i-1])*delta+np.sqrt(delta)*sigma1*np.random.rand(M)  # Xn+1=Xn+θ(μ−Xn)Δt+σΔWn\n",
    "        rho[:,i]=rho[:,i-1]+theta2*(mu2-rho[:,i-1])*delta+np.sqrt(delta)*sigma2*np.random.rand(M)\n",
    "    return kappa,rho"
   ]
  },
  {
   "cell_type": "code",
   "execution_count": 5,
   "id": "b4cff12c",
   "metadata": {},
   "outputs": [],
   "source": [
    "t=torch.zeros([M,1])\n",
    "D=torch.zeros([M,1])\n",
    "kappa,rho=kappa_rho_sim(M,ite,theta1,mu1,sigma1,theta2,mu2,sigma2)\n",
    "R=torch.FloatTensor(M,1).uniform_(X0*0.9,X0*1.1)   #remaining balance R_t   #To get a positive solution R_t has to be greater than D_t\n"
   ]
  },
  {
   "cell_type": "code",
   "execution_count": 6,
   "id": "136ed2c7",
   "metadata": {},
   "outputs": [
    {
     "name": "stdout",
     "output_type": "stream",
     "text": [
      "kappa= tensor([[0.0010, 0.0013, 0.0014,  ..., 0.0023, 0.0022, 0.0022],\n",
      "        [0.0010, 0.0012, 0.0013,  ..., 0.0019, 0.0020, 0.0021],\n",
      "        [0.0010, 0.0011, 0.0012,  ..., 0.0018, 0.0018, 0.0019],\n",
      "        ...,\n",
      "        [0.0010, 0.0013, 0.0014,  ..., 0.0019, 0.0019, 0.0019],\n",
      "        [0.0010, 0.0011, 0.0013,  ..., 0.0019, 0.0019, 0.0021],\n",
      "        [0.0010, 0.0013, 0.0013,  ..., 0.0017, 0.0017, 0.0019]]) \n",
      " rho= tensor([[5.0000, 5.0019, 5.0019,  ..., 5.0068, 5.0090, 5.0097],\n",
      "        [5.0000, 5.0031, 5.0035,  ..., 5.0081, 5.0083, 5.0092],\n",
      "        [5.0000, 5.0020, 5.0019,  ..., 5.0067, 5.0085, 5.0089],\n",
      "        ...,\n",
      "        [5.0000, 5.0029, 5.0036,  ..., 5.0053, 5.0079, 5.0084],\n",
      "        [5.0000, 5.0012, 5.0021,  ..., 5.0078, 5.0084, 5.0084],\n",
      "        [5.0000, 5.0021, 5.0048,  ..., 5.0097, 5.0090, 5.0098]])\n"
     ]
    }
   ],
   "source": [
    "print('kappa=',kappa,'\\n rho=',rho) \n",
    "x=torch.cat((t,D,R,kappa[:,0].unsqueeze(1),rho[:,0].unsqueeze(1)),dim=1)"
   ]
  },
  {
   "cell_type": "code",
   "execution_count": 7,
   "id": "6df336b9",
   "metadata": {},
   "outputs": [
    {
     "name": "stdout",
     "output_type": "stream",
     "text": [
      "true\n"
     ]
    }
   ],
   "source": [
    "if (rho >0).all():\n",
    "    print('true')"
   ]
  },
  {
   "cell_type": "code",
   "execution_count": 8,
   "id": "518c9f39",
   "metadata": {},
   "outputs": [],
   "source": [
    "def update(x3,psi,i):\n",
    "  t=(x3[:,0]+(1/ite))\n",
    "  kap=kappa[:,i+1]\n",
    "  rh=rho[:,i+1]\n",
    "#   kappa=x3[:,3]+theta1*(mu1-x3[:,3])*delta+torch.sqrt(delta)*sigma1*W1[i]\n",
    "#   rho=x3[:,4]+theta2*(mu2-x3[:,4])*delta+torch.sqrt(delta)*sigma1*W2[i]\n",
    "  D = (x3[:,1]+kap*psi)*torch.exp(-rh*delta)\n",
    "  #print('d',D.shape)\n",
    "  R= x3[:,2]-psi\n",
    "  #print(kappa.shape,rho.shape)\n",
    "  up=torch.cat((t.unsqueeze(1),D.unsqueeze(1),R.unsqueeze(1),kap.unsqueeze(1),rh.unsqueeze(1)),dim=1)\n",
    "  return up\n",
    "\n",
    "def loss_func(x2,psi):\n",
    "  loss=(x2[:,1]*psi+(x2[:,3]/2.0)*torch.pow(psi,2))\n",
    "  #print('loss',loss.shape)\n",
    "  return loss\n",
    "\n",
    "def unit(x1,model,i):\n",
    "    psi=model(x1).squeeze(1)\n",
    "    los=loss_func(x1,psi)\n",
    "    upd=update(x1,psi,i)\n",
    "    #print(upd)\n",
    "    return psi,los,upd\n",
    "\n",
    "def loss_func_total(u,model):\n",
    "  loss=torch.zeros(M,ite)\n",
    "  psi=torch.zeros(M,ite)\n",
    "  for i in range(ite+1):\n",
    "    if(i!=ite):\n",
    "      psi_run,loss_run,u_run=unit(u,model,i)\n",
    "      #print('los func=',psi_run.shape,loss_run.shape)\n",
    "      loss[:,i]=loss_run\n",
    "      #print(loss)\n",
    "      psi[:,i]=psi_run\n",
    "      #print(psi)\n",
    "      u=u_run\n",
    "      #print(u)\n",
    "    else:\n",
    "      #print(torch.sum(psi,dim=1),R.squeeze(1))\n",
    "      psi_ter=R.squeeze(1)-torch.sum(psi,dim=1)\n",
    "      loss_ter=loss_func(u,psi_ter)\n",
    "      #print('ter',loss_ter.shape)\n",
    "  #print(torch.sum(loss,dim=1))\n",
    "  loss=torch.sum(loss,dim=1)+loss_ter\n",
    "  #print(loss.shape)\n",
    "  return torch.mean(loss)"
   ]
  },
  {
   "cell_type": "code",
   "execution_count": 9,
   "id": "4ba6edff",
   "metadata": {},
   "outputs": [
    {
     "name": "stdout",
     "output_type": "stream",
     "text": [
      "At epoch 0 the mean cost is 2002.937744140625.\n",
      "At epoch 100 the mean cost is 223.66818237304688.\n",
      "At epoch 200 the mean cost is 223.6580047607422.\n",
      "At epoch 300 the mean cost is 223.65338134765625.\n",
      "At epoch 400 the mean cost is 223.64784240722656.\n",
      "At epoch 500 the mean cost is 223.64149475097656.\n",
      "At epoch 600 the mean cost is 223.63438415527344.\n",
      "At epoch 700 the mean cost is 223.62655639648438.\n",
      "At epoch 800 the mean cost is 223.6179962158203.\n",
      "At epoch 900 the mean cost is 223.6087188720703.\n",
      "At epoch 1000 the mean cost is 223.59864807128906.\n",
      "At epoch 1100 the mean cost is 223.58779907226562.\n",
      "At epoch 1200 the mean cost is 223.57606506347656.\n",
      "At epoch 1300 the mean cost is 223.56333923339844.\n",
      "At epoch 1400 the mean cost is 223.54949951171875.\n",
      "At epoch 1500 the mean cost is 223.53433227539062.\n",
      "At epoch 1600 the mean cost is 223.51756286621094.\n",
      "At epoch 1700 the mean cost is 223.49879455566406.\n",
      "At epoch 1800 the mean cost is 223.47750854492188.\n",
      "At epoch 1900 the mean cost is 223.45297241210938.\n",
      "At epoch 2000 the mean cost is 223.4239959716797.\n",
      "At epoch 2100 the mean cost is 223.38894653320312.\n",
      "At epoch 2200 the mean cost is 223.3452911376953.\n",
      "At epoch 2300 the mean cost is 223.28897094726562.\n",
      "At epoch 2400 the mean cost is 223.21348571777344.\n",
      "At epoch 2500 the mean cost is 223.12574768066406.\n",
      "At epoch 2600 the mean cost is 222.98338317871094.\n",
      "At epoch 2700 the mean cost is 222.77456665039062.\n",
      "At epoch 2800 the mean cost is 222.45445251464844.\n",
      "At epoch 2900 the mean cost is 221.95431518554688.\n",
      "At epoch 3000 the mean cost is 221.1719512939453.\n",
      "At epoch 3100 the mean cost is 219.9922332763672.\n",
      "At epoch 3200 the mean cost is 218.50340270996094.\n",
      "At epoch 3300 the mean cost is 216.88925170898438.\n",
      "At epoch 3400 the mean cost is 215.55943298339844.\n",
      "At epoch 3500 the mean cost is 214.69725036621094.\n",
      "At epoch 3600 the mean cost is 214.256591796875.\n",
      "At epoch 3700 the mean cost is 214.08360290527344.\n",
      "At epoch 3800 the mean cost is 214.0236358642578.\n",
      "At epoch 3900 the mean cost is 214.00616455078125.\n",
      "At epoch 4000 the mean cost is 213.99964904785156.\n",
      "At epoch 4100 the mean cost is 214.5188751220703.\n",
      "At epoch 4200 the mean cost is 213.9941864013672.\n",
      "At epoch 4300 the mean cost is 214.0301513671875.\n",
      "At epoch 4400 the mean cost is 213.99046325683594.\n",
      "At epoch 4500 the mean cost is 213.98854064941406.\n",
      "At epoch 4600 the mean cost is 213.98764038085938.\n",
      "At epoch 4700 the mean cost is 213.98521423339844.\n",
      "At epoch 4800 the mean cost is 214.06077575683594.\n",
      "At epoch 4900 the mean cost is 213.98211669921875.\n",
      "At epoch 5000 the mean cost is 213.98956298828125.\n",
      "At epoch 5100 the mean cost is 214.04405212402344.\n",
      "At epoch 5200 the mean cost is 213.9916534423828.\n",
      "At epoch 5300 the mean cost is 213.9824981689453.\n",
      "At epoch 5400 the mean cost is 213.98068237304688.\n",
      "At epoch 5500 the mean cost is 213.9799041748047.\n",
      "At epoch 5600 the mean cost is 213.97923278808594.\n",
      "At epoch 5700 the mean cost is 213.9785614013672.\n",
      "At epoch 5800 the mean cost is 213.97787475585938.\n",
      "At epoch 5900 the mean cost is 213.97715759277344.\n",
      "At epoch 6000 the mean cost is 213.9764404296875.\n",
      "At epoch 6100 the mean cost is 213.9757080078125.\n",
      "At epoch 6200 the mean cost is 213.97496032714844.\n",
      "At epoch 6300 the mean cost is 213.9741668701172.\n",
      "At epoch 6400 the mean cost is 213.97335815429688.\n",
      "At epoch 6500 the mean cost is 213.9725799560547.\n",
      "At epoch 6600 the mean cost is 213.9717559814453.\n",
      "At epoch 6700 the mean cost is 213.9709014892578.\n",
      "At epoch 6800 the mean cost is 213.97007751464844.\n",
      "At epoch 6900 the mean cost is 213.96923828125.\n",
      "At epoch 7000 the mean cost is 213.96836853027344.\n",
      "At epoch 7100 the mean cost is 213.96751403808594.\n",
      "At epoch 7200 the mean cost is 213.96665954589844.\n",
      "At epoch 7300 the mean cost is 213.96578979492188.\n",
      "At epoch 7400 the mean cost is 213.9649200439453.\n",
      "At epoch 7500 the mean cost is 213.9656524658203.\n",
      "At epoch 7600 the mean cost is 213.96351623535156.\n",
      "At epoch 7700 the mean cost is 213.96311950683594.\n",
      "At epoch 7800 the mean cost is 213.9622344970703.\n",
      "At epoch 7900 the mean cost is 213.9617462158203.\n",
      "At epoch 8000 the mean cost is 213.9708251953125.\n",
      "At epoch 8100 the mean cost is 213.9808807373047.\n",
      "At epoch 8200 the mean cost is 213.9600372314453.\n",
      "At epoch 8300 the mean cost is 213.95960998535156.\n",
      "At epoch 8400 the mean cost is 214.0619354248047.\n",
      "At epoch 8500 the mean cost is 213.95872497558594.\n",
      "At epoch 8600 the mean cost is 213.9798583984375.\n",
      "At epoch 8700 the mean cost is 213.9579315185547.\n",
      "At epoch 8800 the mean cost is 213.95947265625.\n",
      "At epoch 8900 the mean cost is 214.031005859375.\n",
      "At epoch 9000 the mean cost is 213.95697021484375.\n",
      "At epoch 9100 the mean cost is 213.95721435546875.\n",
      "At epoch 9200 the mean cost is 213.95632934570312.\n",
      "At epoch 9300 the mean cost is 213.9674835205078.\n",
      "At epoch 9400 the mean cost is 213.95579528808594.\n",
      "At epoch 9500 the mean cost is 214.05555725097656.\n",
      "At epoch 9600 the mean cost is 213.95530700683594.\n",
      "At epoch 9700 the mean cost is 213.95535278320312.\n",
      "At epoch 9800 the mean cost is 213.95494079589844.\n",
      "At epoch 9900 the mean cost is 213.9547119140625.\n",
      "time elapsed= 29.562685251235962\n"
     ]
    }
   ],
   "source": [
    "start=time.time()\n",
    "lr1 = 8e-3\n",
    "max_epoch = 10000\n",
    "optimizer = optim.Adam(model.parameters(), lr1)\n",
    "\n",
    "#print(psi.shape)\n",
    "for epoch in range(max_epoch):\n",
    "  optimizer.zero_grad()\n",
    "  cost=loss_func_total(x,model)\n",
    "  cost.backward()\n",
    "  optimizer.step()\n",
    "  #print(loss.item())\n",
    "  if (epoch % 100==0):\n",
    "    print(\"At epoch {} the mean cost is {}.\".format(epoch,cost.detach()))\n",
    "end=time.time()\n",
    "print('time elapsed=',end-start)"
   ]
  },
  {
   "cell_type": "code",
   "execution_count": 10,
   "id": "eecaa5a4",
   "metadata": {},
   "outputs": [],
   "source": [
    "def cost(y):\n",
    "  cost1=0.0\n",
    "  D1=0.0\n",
    "  for i in range(ite+1):\n",
    "    cost1+=D1*y[i]+(kappa/2.0)*np.power(y[i],2)\n",
    "    D1=(D1+kappa*y[i])*np.exp(-rho*T/ite)\n",
    "  return cost1"
   ]
  },
  {
   "cell_type": "code",
   "execution_count": 11,
   "id": "6ea2526d",
   "metadata": {},
   "outputs": [
    {
     "name": "stdout",
     "output_type": "stream",
     "text": [
      "Input= tensor([[0.0000e+00, 0.0000e+00, 9.5000e+02, 1.0000e-03, 5.0000e+00],\n",
      "        [0.0000e+00, 0.0000e+00, 9.6111e+02, 1.0000e-03, 5.0000e+00],\n",
      "        [0.0000e+00, 0.0000e+00, 9.7222e+02, 1.0000e-03, 5.0000e+00],\n",
      "        [0.0000e+00, 0.0000e+00, 9.8333e+02, 1.0000e-03, 5.0000e+00],\n",
      "        [0.0000e+00, 0.0000e+00, 9.9444e+02, 1.0000e-03, 5.0000e+00],\n",
      "        [0.0000e+00, 0.0000e+00, 1.0056e+03, 1.0000e-03, 5.0000e+00],\n",
      "        [0.0000e+00, 0.0000e+00, 1.0167e+03, 1.0000e-03, 5.0000e+00],\n",
      "        [0.0000e+00, 0.0000e+00, 1.0278e+03, 1.0000e-03, 5.0000e+00],\n",
      "        [0.0000e+00, 0.0000e+00, 1.0389e+03, 1.0000e-03, 5.0000e+00],\n",
      "        [0.0000e+00, 0.0000e+00, 1.0500e+03, 1.0000e-03, 5.0000e+00]]) \n",
      "\n",
      "size of total order= 950.0\n",
      "predicted soln= tensor([280.9200,  62.5577,  76.4654,  68.5486,  64.2469,  57.2982,  59.8899,\n",
      "         55.9155,  54.8943,  54.2143, 115.0491]) sum of all execution= tensor(950.)\n",
      "size of total order= 961.1111\n",
      "predicted soln= tensor([286.0349,  48.3810,  80.1953,  69.0336,  66.0965,  60.9137,  59.2988,\n",
      "         60.1957,  59.5787,  58.1384, 113.2443]) sum of all execution= tensor(961.1111)\n",
      "size of total order= 972.2222\n",
      "predicted soln= tensor([291.1496,  46.6077,  79.1885,  61.3933,  61.8152,  60.3953,  60.2095,\n",
      "         54.5878,  57.2181,  53.0583, 146.5989]) sum of all execution= tensor(972.2222)\n",
      "size of total order= 983.3333\n",
      "predicted soln= tensor([296.2645,  73.1507,  78.1500,  73.1254,  64.1678,  61.7600,  60.3683,\n",
      "         57.2137,  53.2316,  53.7961, 112.1051]) sum of all execution= tensor(983.3333)\n",
      "size of total order= 994.44446\n",
      "predicted soln= tensor([301.3793,  55.1179,  77.9572,  67.1842,  63.6096,  63.9189,  62.4989,\n",
      "         60.8514,  58.6397,  56.7430, 126.5444]) sum of all execution= tensor(994.4444)\n",
      "size of total order= 1005.55554\n",
      "predicted soln= tensor([306.4941,  51.0794,  83.5573,  71.8046,  67.7936,  67.2290,  65.9067,\n",
      "         57.8075,  59.9048,  59.3629, 114.6156]) sum of all execution= tensor(1005.5555)\n",
      "size of total order= 1016.6667\n",
      "predicted soln= tensor([311.6089,  58.2709,  82.7559,  67.9801,  68.8785,  67.2901,  61.1623,\n",
      "         57.9338,  59.6718,  53.2045, 127.9100]) sum of all execution= tensor(1016.6667)\n",
      "size of total order= 1027.7778\n",
      "predicted soln= tensor([316.7237,  56.2566,  85.7460,  68.2567,  69.1920,  67.6081,  65.3517,\n",
      "         60.2741,  60.2924,  55.8637, 122.2130]) sum of all execution= tensor(1027.7778)\n",
      "size of total order= 1038.8889\n",
      "predicted soln= tensor([321.8385,  47.0435,  85.8011,  73.0438,  70.6197,  64.6163,  63.8769,\n",
      "         60.7390,  59.2451,  55.2568, 136.8082]) sum of all execution= tensor(1038.8889)\n",
      "size of total order= 1050.0\n",
      "predicted soln= tensor([326.9534,  61.2124,  84.0936,  75.3331,  70.1357,  65.4521,  58.9029,\n",
      "         56.8190,  55.7167,  56.0561, 139.3250]) sum of all execution= tensor(1050.)\n"
     ]
    }
   ],
   "source": [
    "from torch.nn.modules.pooling import MaxPool1d\n",
    "M1=10\n",
    "t_test=torch.zeros([M1,1])\n",
    "D_test=torch.zeros([M1,1])\n",
    "#D_test=torch.FloatTensor(M,1).uniform_(0.1,0.5)   #Price impact D_t\n",
    "#R_test=torch.FloatTensor(M1,1).uniform_(50,100)   #remaining balance R_t   #To get a positive solution R_t has to be greater than D_t\n",
    "R_test=torch.linspace(X0*0.95, X0*1.05, steps=M1).unsqueeze(1)\n",
    "kappa,rho=kappa_rho_sim(M1,ite,theta1,mu1,sigma1,theta2,mu2,sigma2)\n",
    "#(M,ite,theta1,mu1,sigma1,theta2,mu2,sigma2)\n",
    "x_test=torch.cat((t_test,D_test,R_test,kappa[:,0].unsqueeze(1),rho[:,0].unsqueeze(1)),dim=1)\n",
    "print('Input=',x_test,'\\n')\n",
    "a=torch.zeros(M1,ite+1)\n",
    "#print(a.shape)\n",
    "for i in range(ite+1):\n",
    "  if(i!=ite):\n",
    "    #print(x_test)\n",
    "    soln_pred=model(x_test).squeeze(1).detach()\n",
    "    a[:,i]=soln_pred\n",
    "    x_test=update(x_test,soln_pred,i)\n",
    "    #print(x_test,'\\n')\n",
    "  else:\n",
    "    a[:,i]=R_test.squeeze(1)-torch.sum(a,dim=1)\n",
    "\n",
    "x1=R_test.squeeze().numpy()\n",
    "c_pred=np.zeros(M1)\n",
    "\n",
    "for i in range(M1):\n",
    "  print('size of total order=',x1[i])\n",
    "\n",
    "\n",
    "  print('predicted soln=',a[i,:],'sum of all execution=',torch.sum(a[i,:]).detach())\n",
    "  #pred_cost=cost(a[i,:].detach().numpy())\n",
    "#   print('predicted cost=',pred_cost,'\\n')"
   ]
  },
  {
   "cell_type": "code",
   "execution_count": 12,
   "id": "392a3b45",
   "metadata": {},
   "outputs": [
    {
     "data": {
      "image/png": "[encoded data removed]",
      "text/plain": [
       "<Figure size 600x300 with 1 Axes>"
      ]
     },
     "metadata": {},
     "output_type": "display_data"
    },
    {
     "data": {
      "image/png": "[encoded data removed]",
      "text/plain": [
       "<Figure size 600x300 with 1 Axes>"
      ]
     },
     "metadata": {},
     "output_type": "display_data"
    },
    {
     "data": {
      "image/png": "[encoded data removed]",
      "text/plain": [
       "<Figure size 600x300 with 1 Axes>"
      ]
     },
     "metadata": {},
     "output_type": "display_data"
    },
    {
     "data": {
      "image/png": "[encoded data removed]",
      "text/plain": [
       "<Figure size 600x300 with 1 Axes>"
      ]
     },
     "metadata": {},
     "output_type": "display_data"
    }
   ],
   "source": [
    "p_soln=a.numpy()\n",
    "t_step=np.linspace(0,ite,num=ite+1)\n",
    "#name='E:/Robin research/7thECMF_PosterPresent/Figures/N.eps'\n",
    "def plotting(t):\n",
    "  #print('Total order size=',x1[t],np.sum(n_soln[t]),np.sum(p_soln[t]))\n",
    "  #print(n_soln[t],p_soln[t])\n",
    "  plt.figure(figsize=(6,3))\n",
    "  #plt.bar(t_step,t_soln[t],color='blue',width=0.3,label='Closed-Form')\n",
    "  plt.bar(t_step,p_soln[t],color='red',width=0.2)\n",
    "  #plt.bar(t_step,n_soln[t],color='green',width=0.1,label='numeric')\n",
    "  plt.title('Total Order size X= %f' % (x1[t]))\n",
    "  plt.xlabel('Time steps')\n",
    "  plt.ylabel('Optimal orders')\n",
    "  #plt.legend()\n",
    "\n",
    "#   #plt.savefig('f.eps', format='eps')\n",
    "#   if(t==0):\n",
    "#     plt.savefig(name,format='eps')      \n",
    "  plt.show()\n",
    "for i in range(0,M1,3):\n",
    "  plotting(i)"
   ]
  },
  {
   "cell_type": "code",
   "execution_count": 13,
   "id": "5912121b",
   "metadata": {},
   "outputs": [
    {
     "name": "stdout",
     "output_type": "stream",
     "text": [
      "tensor([[0.0010, 0.0011, 0.0012, 0.0013, 0.0014, 0.0017, 0.0016, 0.0017, 0.0018,\n",
      "         0.0019, 0.0020],\n",
      "        [0.0010, 0.0013, 0.0013, 0.0014, 0.0015, 0.0016, 0.0017, 0.0016, 0.0016,\n",
      "         0.0016, 0.0017],\n",
      "        [0.0010, 0.0013, 0.0015, 0.0017, 0.0019, 0.0019, 0.0018, 0.0021, 0.0020,\n",
      "         0.0022, 0.0023],\n",
      "        [0.0010, 0.0011, 0.0012, 0.0012, 0.0014, 0.0015, 0.0015, 0.0016, 0.0019,\n",
      "         0.0019, 0.0021],\n",
      "        [0.0010, 0.0012, 0.0015, 0.0015, 0.0017, 0.0017, 0.0016, 0.0017, 0.0017,\n",
      "         0.0018, 0.0018],\n",
      "        [0.0010, 0.0013, 0.0013, 0.0014, 0.0015, 0.0014, 0.0014, 0.0017, 0.0016,\n",
      "         0.0016, 0.0016],\n",
      "        [0.0010, 0.0012, 0.0013, 0.0015, 0.0015, 0.0014, 0.0016, 0.0018, 0.0017,\n",
      "         0.0020, 0.0019],\n",
      "        [0.0010, 0.0012, 0.0012, 0.0015, 0.0015, 0.0015, 0.0015, 0.0016, 0.0016,\n",
      "         0.0018, 0.0019],\n",
      "        [0.0010, 0.0013, 0.0014, 0.0014, 0.0015, 0.0016, 0.0017, 0.0017, 0.0018,\n",
      "         0.0020, 0.0021],\n",
      "        [0.0010, 0.0012, 0.0013, 0.0013, 0.0014, 0.0015, 0.0018, 0.0020, 0.0020,\n",
      "         0.0020, 0.0022]])\n"
     ]
    }
   ],
   "source": [
    "print(kappa)"
   ]
  },
  {
   "cell_type": "code",
   "execution_count": 14,
   "id": "3895e369",
   "metadata": {},
   "outputs": [
    {
     "name": "stdout",
     "output_type": "stream",
     "text": [
      "tensor([[5.0000, 5.0014, 5.0023, 5.0051, 5.0070, 5.0080, 5.0090, 5.0105, 5.0107,\n",
      "         5.0114, 5.0105],\n",
      "        [5.0000, 5.0026, 5.0039, 5.0059, 5.0056, 5.0060, 5.0058, 5.0073, 5.0075,\n",
      "         5.0072, 5.0070],\n",
      "        [5.0000, 5.0031, 5.0033, 5.0050, 5.0048, 5.0062, 5.0066, 5.0069, 5.0073,\n",
      "         5.0095, 5.0104],\n",
      "        [5.0000, 5.0020, 5.0031, 5.0047, 5.0060, 5.0085, 5.0087, 5.0103, 5.0123,\n",
      "         5.0119, 5.0110],\n",
      "        [5.0000, 5.0017, 5.0044, 5.0063, 5.0072, 5.0087, 5.0095, 5.0103, 5.0105,\n",
      "         5.0111, 5.0101],\n",
      "        [5.0000, 5.0008, 5.0032, 5.0046, 5.0048, 5.0043, 5.0049, 5.0048, 5.0074,\n",
      "         5.0074, 5.0080],\n",
      "        [5.0000, 5.0002, 5.0020, 5.0042, 5.0070, 5.0083, 5.0086, 5.0108, 5.0124,\n",
      "         5.0112, 5.0113],\n",
      "        [5.0000, 5.0002, 5.0007, 5.0022, 5.0045, 5.0055, 5.0071, 5.0070, 5.0084,\n",
      "         5.0080, 5.0102],\n",
      "        [5.0000, 5.0018, 5.0026, 5.0027, 5.0050, 5.0053, 5.0062, 5.0080, 5.0089,\n",
      "         5.0101, 5.0102],\n",
      "        [5.0000, 5.0007, 5.0022, 5.0039, 5.0041, 5.0048, 5.0045, 5.0072, 5.0079,\n",
      "         5.0096, 5.0099]])\n"
     ]
    }
   ],
   "source": [
    "print(rho)"
   ]
  },
  {
   "cell_type": "code",
   "execution_count": null,
   "id": "3cf30ba1",
   "metadata": {},
   "outputs": [],
   "source": []
  },
  {
   "cell_type": "code",
   "execution_count": null,
   "id": "9b99deef",
   "metadata": {},
   "outputs": [],
   "source": []
  }
 ],
 "metadata": {
  "kernelspec": {
   "display_name": "Python 3 (ipykernel)",
   "language": "python",
   "name": "python3"
  },
  "language_info": {
   "codemirror_mode": {
    "name": "ipython",
    "version": 3
   },
   "file_extension": ".py",
   "mimetype": "text/x-python",
   "name": "python",
   "nbconvert_exporter": "python",
   "pygments_lexer": "ipython3",
   "version": "3.11.5"
  }
 },
 "nbformat": 4,
 "nbformat_minor": 5
}
