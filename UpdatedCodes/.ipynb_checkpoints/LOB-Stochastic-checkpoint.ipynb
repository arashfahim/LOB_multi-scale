{
 "cells": [
  {
   "cell_type": "code",
   "execution_count": 1,
   "id": "e88956d7",
   "metadata": {},
   "outputs": [],
   "source": [
    "import numpy as np\n",
    "import time\n",
    "from scipy import misc\n",
    "import matplotlib.pyplot as plt\n",
    "import torch\n",
    "import torch.nn as nn\n",
    "import torch.nn.functional as F\n",
    "import torch.optim as optim\n",
    "import random\n",
    "import math\n",
    "import pandas as pd\n",
    "import cvxpy as cp\n",
    "from scipy.optimize import fsolve"
   ]
  },
  {
   "cell_type": "code",
   "execution_count": 2,
   "id": "50a8335d",
   "metadata": {},
   "outputs": [
    {
     "name": "stdout",
     "output_type": "stream",
     "text": [
      "tensor(0.1000)\n"
     ]
    }
   ],
   "source": [
    "M=100\n",
    "ite=10\n",
    "dim_n=5\n",
    "T=1\n",
    "delta = torch.tensor(T/ite)\n",
    "#delta=torch.tensor(0.01)\n",
    "sigma=0.2\n",
    "sigma1=0.05\n",
    "sigma2=0.05\n",
    "theta1=0.2\n",
    "theta2=0.3\n",
    "mu1=1\n",
    "mu2=5\n",
    "A0=0.0\n",
    "gamma=0.0\n",
    "X0=1000\n",
    "neuron_model_psi=20\n",
    "print(delta)"
   ]
  },
  {
   "cell_type": "code",
   "execution_count": 3,
   "id": "74cdec5b",
   "metadata": {},
   "outputs": [],
   "source": [
    "model= torch.nn.Sequential(\n",
    "    torch.nn.Linear(dim_n, neuron_model_psi),\n",
    "    torch.nn.ReLU(),\n",
    "#     torch.nn.Linear(neuron_model_psi, neuron_model_psi),\n",
    "#     torch.nn.ReLU(),\n",
    "#     torch.nn.Linear(neuron_model_psi, neuron_model_psi),\n",
    "#     torch.nn.ReLU(),\n",
    "    torch.nn.Linear(neuron_model_psi, neuron_model_psi),\n",
    "    torch.nn.ReLU(),\n",
    "    torch.nn.Linear(neuron_model_psi,1)\n",
    ")"
   ]
  },
  {
   "cell_type": "code",
   "execution_count": 4,
   "id": "b4cff12c",
   "metadata": {},
   "outputs": [],
   "source": [
    "t=torch.zeros([M,1])\n",
    "D=torch.zeros([M,1])\n",
    "kappa=torch.zeros([M,1])+0.5\n",
    "rho=torch.zeros([M,1])+1\n",
    "#D=torch.FloatTensor(M,1).uniform_(0.1,0.5)   #Price impact D_t\n",
    "R=torch.FloatTensor(M,1).uniform_(X0*0.9,X0*1.1)   #remaining balance R_t   #To get a positive solution R_t has to be greater than D_t\n"
   ]
  },
  {
   "cell_type": "code",
   "execution_count": 5,
   "id": "136ed2c7",
   "metadata": {},
   "outputs": [
    {
     "name": "stdout",
     "output_type": "stream",
     "text": [
      "kappa= tensor([[0.1000, 0.1209, 0.1524,  ..., 0.2854, 0.3080, 0.3223],\n",
      "        [0.1000, 0.1209, 0.1524,  ..., 0.2854, 0.3080, 0.3223],\n",
      "        [0.1000, 0.1209, 0.1524,  ..., 0.2854, 0.3080, 0.3223],\n",
      "        ...,\n",
      "        [0.1000, 0.1209, 0.1524,  ..., 0.2854, 0.3080, 0.3223],\n",
      "        [0.1000, 0.1209, 0.1524,  ..., 0.2854, 0.3080, 0.3223],\n",
      "        [0.1000, 0.1209, 0.1524,  ..., 0.2854, 0.3080, 0.3223]]) \n",
      " rho= tensor([[1.0000, 1.1318, 1.2806,  ..., 2.0309, 2.1635, 2.2662],\n",
      "        [1.0000, 1.1318, 1.2806,  ..., 2.0309, 2.1635, 2.2662],\n",
      "        [1.0000, 1.1318, 1.2806,  ..., 2.0309, 2.1635, 2.2662],\n",
      "        ...,\n",
      "        [1.0000, 1.1318, 1.2806,  ..., 2.0309, 2.1635, 2.2662],\n",
      "        [1.0000, 1.1318, 1.2806,  ..., 2.0309, 2.1635, 2.2662],\n",
      "        [1.0000, 1.1318, 1.2806,  ..., 2.0309, 2.1635, 2.2662]])\n"
     ]
    }
   ],
   "source": [
    "\n",
    "kappa=torch.zeros([M,ite+1])\n",
    "kappa[:,0]=0.1\n",
    "rho=torch.zeros([M,ite+1])\n",
    "rho[:,0]=1.0\n",
    "\n",
    "for i in range (1,ite+1):\n",
    "    kappa[:,i]=kappa[:,i-1]+theta1*(mu1-kappa[:,i-1])*delta+np.sqrt(delta)*sigma1*np.random.rand(1)  # Xn+1=Xn+θ(μ−Xn)Δt+σΔWn\n",
    "    rho[:,i]=rho[:,i-1]+theta2*(mu2-rho[:,i-1])*delta+sigma2*np.random.rand(1) \n",
    "print('kappa=',kappa,'\\n rho=',rho) \n",
    "x=torch.cat((t,D,R,kappa[:,0].unsqueeze(1),rho[:,0].unsqueeze(1)),dim=1)"
   ]
  },
  {
   "cell_type": "code",
   "execution_count": 6,
   "id": "518c9f39",
   "metadata": {},
   "outputs": [],
   "source": [
    "def update(x3,psi,i):\n",
    "  t=(x3[:,0]+(1/ite))\n",
    "  kap=kappa[:,i+1]\n",
    "  rh=rho[:,i+1]\n",
    "#   kappa=x3[:,3]+theta1*(mu1-x3[:,3])*delta+torch.sqrt(delta)*sigma1*W1[i]\n",
    "#   rho=x3[:,4]+theta2*(mu2-x3[:,4])*delta+torch.sqrt(delta)*sigma1*W2[i]\n",
    "  D = (x3[:,1]+kap*psi)*torch.exp(-rh*delta)\n",
    "  #print('d',D.shape)\n",
    "  R= x3[:,2]-psi\n",
    "  #print(kappa.shape,rho.shape)\n",
    "  up=torch.cat((t.unsqueeze(1),D.unsqueeze(1),R.unsqueeze(1),kap.unsqueeze(1),rh.unsqueeze(1)),dim=1)\n",
    "  return up\n",
    "\n",
    "def loss_func(x2,psi):\n",
    "  loss=(x2[:,1]*psi+(x2[:,3]/2.0)*torch.pow(psi,2))\n",
    "  #print('loss',loss.shape)\n",
    "  return loss\n",
    "\n",
    "def unit(x1,model,i):\n",
    "    psi=model(x1).squeeze(1)\n",
    "    los=loss_func(x1,psi)\n",
    "    upd=update(x1,psi,i)\n",
    "    #print(upd)\n",
    "    return psi,los,upd\n",
    "\n",
    "def loss_func_total(u,model):\n",
    "  loss=torch.zeros(M,ite)\n",
    "  psi=torch.zeros(M,ite)\n",
    "  for i in range(ite+1):\n",
    "    if(i!=ite):\n",
    "      psi_run,loss_run,u_run=unit(u,model,i)\n",
    "      #print('los func=',psi_run.shape,loss_run.shape)\n",
    "      loss[:,i]=loss_run\n",
    "      #print(loss)\n",
    "      psi[:,i]=psi_run\n",
    "      #print(psi)\n",
    "      u=u_run\n",
    "      #print(u)\n",
    "    else:\n",
    "      #print(torch.sum(psi,dim=1),R.squeeze(1))\n",
    "      psi_ter=R.squeeze(1)-torch.sum(psi,dim=1)\n",
    "      loss_ter=loss_func(u,psi_ter)\n",
    "      #print('ter',loss_ter.shape)\n",
    "  #print(torch.sum(loss,dim=1))\n",
    "  loss=torch.sum(loss,dim=1)+loss_ter\n",
    "  #print(loss.shape)\n",
    "  return torch.mean(loss)"
   ]
  },
  {
   "cell_type": "code",
   "execution_count": 7,
   "id": "4ba6edff",
   "metadata": {},
   "outputs": [
    {
     "name": "stdout",
     "output_type": "stream",
     "text": [
      "At epoch 0 the mean cost is 168413.578125.\n",
      "At epoch 100 the mean cost is 38501.984375.\n",
      "At epoch 200 the mean cost is 32104.80078125.\n",
      "At epoch 300 the mean cost is 33812.98046875.\n",
      "At epoch 400 the mean cost is 22307.16796875.\n",
      "At epoch 500 the mean cost is 49008.94921875.\n",
      "At epoch 600 the mean cost is 40151.015625.\n",
      "At epoch 700 the mean cost is 38212.08984375.\n",
      "At epoch 800 the mean cost is 31758.126953125.\n",
      "At epoch 900 the mean cost is 64893.71484375.\n",
      "At epoch 1000 the mean cost is -2826730.25.\n",
      "At epoch 1100 the mean cost is 366118.28125.\n",
      "At epoch 1200 the mean cost is 163004.3125.\n",
      "At epoch 1300 the mean cost is 95904.546875.\n",
      "At epoch 1400 the mean cost is 69394.796875.\n",
      "At epoch 1500 the mean cost is -103514.8984375.\n",
      "At epoch 1600 the mean cost is -1277062.375.\n",
      "At epoch 1700 the mean cost is -162721.0625.\n",
      "At epoch 1800 the mean cost is -3780578.25.\n",
      "At epoch 1900 the mean cost is 563133.625.\n",
      "At epoch 2000 the mean cost is 69065.2734375.\n",
      "At epoch 2100 the mean cost is 42968.42578125.\n",
      "At epoch 2200 the mean cost is 38464.36328125.\n",
      "At epoch 2300 the mean cost is 31532.9453125.\n",
      "At epoch 2400 the mean cost is 12941.15625.\n",
      "At epoch 2500 the mean cost is -44374.0234375.\n",
      "At epoch 2600 the mean cost is -685127.75.\n",
      "At epoch 2700 the mean cost is -54246796.0.\n",
      "At epoch 2800 the mean cost is 76800144.0.\n",
      "At epoch 2900 the mean cost is 7505814.5.\n",
      "At epoch 3000 the mean cost is 5135670.0.\n",
      "At epoch 3100 the mean cost is 4070691.75.\n",
      "At epoch 3200 the mean cost is 3516749.0.\n",
      "At epoch 3300 the mean cost is 3107841.25.\n",
      "At epoch 3400 the mean cost is 2789257.25.\n",
      "At epoch 3500 the mean cost is 2532443.5.\n",
      "At epoch 3600 the mean cost is 2319987.0.\n",
      "At epoch 3700 the mean cost is 2140603.75.\n",
      "At epoch 3800 the mean cost is 1986629.5.\n",
      "At epoch 3900 the mean cost is 1852635.5.\n",
      "At epoch 4000 the mean cost is 1734685.125.\n",
      "At epoch 4100 the mean cost is 1629825.75.\n",
      "At epoch 4200 the mean cost is 1535796.5.\n",
      "At epoch 4300 the mean cost is 1450828.5.\n",
      "At epoch 4400 the mean cost is 1373516.5.\n",
      "At epoch 4500 the mean cost is 1302719.875.\n",
      "At epoch 4600 the mean cost is 1237508.125.\n",
      "At epoch 4700 the mean cost is 1178244.125.\n",
      "At epoch 4800 the mean cost is 1113088.25.\n",
      "At epoch 4900 the mean cost is 1085488.375.\n",
      "At epoch 5000 the mean cost is 1058553.75.\n",
      "At epoch 5100 the mean cost is 1032321.5.\n",
      "At epoch 5200 the mean cost is 1006838.875.\n",
      "At epoch 5300 the mean cost is 982032.625.\n",
      "At epoch 5400 the mean cost is 957919.4375.\n",
      "At epoch 5500 the mean cost is 934467.375.\n",
      "At epoch 5600 the mean cost is 911620.625.\n",
      "At epoch 5700 the mean cost is 889381.125.\n",
      "At epoch 5800 the mean cost is 867662.1875.\n",
      "At epoch 5900 the mean cost is 846444.3125.\n",
      "At epoch 6000 the mean cost is 825580.9375.\n",
      "At epoch 6100 the mean cost is 804781.25.\n",
      "At epoch 6200 the mean cost is 784165.8125.\n",
      "At epoch 6300 the mean cost is 763901.625.\n",
      "At epoch 6400 the mean cost is 744115.5.\n",
      "At epoch 6500 the mean cost is 726250.875.\n",
      "At epoch 6600 the mean cost is 709624.5625.\n",
      "At epoch 6700 the mean cost is 693224.1875.\n",
      "At epoch 6800 the mean cost is 677041.25.\n",
      "At epoch 6900 the mean cost is 660987.1875.\n",
      "At epoch 7000 the mean cost is 645090.875.\n",
      "At epoch 7100 the mean cost is 629424.25.\n",
      "At epoch 7200 the mean cost is 614602.4375.\n",
      "At epoch 7300 the mean cost is 600920.4375.\n",
      "At epoch 7400 the mean cost is 587271.8125.\n",
      "At epoch 7500 the mean cost is 573647.625.\n",
      "At epoch 7600 the mean cost is 561994.0.\n",
      "At epoch 7700 the mean cost is 552424.625.\n",
      "At epoch 7800 the mean cost is 542693.6875.\n",
      "At epoch 7900 the mean cost is 532809.625.\n",
      "At epoch 8000 the mean cost is 522903.03125.\n",
      "At epoch 8100 the mean cost is 512985.25.\n",
      "At epoch 8200 the mean cost is 502930.90625.\n",
      "At epoch 8300 the mean cost is 492748.5625.\n",
      "At epoch 8400 the mean cost is 482448.0.\n",
      "At epoch 8500 the mean cost is 472040.09375.\n",
      "At epoch 8600 the mean cost is 461536.25.\n",
      "At epoch 8700 the mean cost is 450995.6875.\n",
      "At epoch 8800 the mean cost is 440437.125.\n",
      "At epoch 8900 the mean cost is 429818.09375.\n",
      "At epoch 9000 the mean cost is 419145.75.\n",
      "At epoch 9100 the mean cost is 408430.03125.\n",
      "At epoch 9200 the mean cost is 397683.03125.\n",
      "At epoch 9300 the mean cost is 386916.625.\n",
      "At epoch 9400 the mean cost is 376142.09375.\n",
      "At epoch 9500 the mean cost is 365370.71875.\n",
      "At epoch 9600 the mean cost is 354620.46875.\n",
      "At epoch 9700 the mean cost is 343979.75.\n",
      "At epoch 9800 the mean cost is 333369.375.\n",
      "At epoch 9900 the mean cost is 322795.53125.\n",
      "time elapsed= 50.81344437599182\n"
     ]
    }
   ],
   "source": [
    "start=time.time()\n",
    "lr1 = 8e-3\n",
    "max_epoch = 10000\n",
    "optimizer = optim.Adam(model.parameters(), lr1)\n",
    "\n",
    "#print(psi.shape)\n",
    "for epoch in range(max_epoch):\n",
    "  optimizer.zero_grad()\n",
    "  cost=loss_func_total(x,model)\n",
    "  cost.backward()\n",
    "  optimizer.step()\n",
    "  #print(loss.item())\n",
    "  if (epoch % 100==0):\n",
    "    print(\"At epoch {} the mean cost is {}.\".format(epoch,cost.detach()))\n",
    "end=time.time()\n",
    "print('time elapsed=',end-start)"
   ]
  },
  {
   "cell_type": "code",
   "execution_count": 8,
   "id": "eecaa5a4",
   "metadata": {},
   "outputs": [],
   "source": [
    "def cost(y):\n",
    "  cost1=0.0\n",
    "  D1=0.0\n",
    "  for i in range(ite+1):\n",
    "    cost1+=D1*y[i]+(kappa/2.0)*np.power(y[i],2)\n",
    "    D1=(D1+kappa*y[i])*np.exp(-rho*T/ite)\n",
    "  return cost1"
   ]
  },
  {
   "cell_type": "code",
   "execution_count": 9,
   "id": "6ea2526d",
   "metadata": {},
   "outputs": [
    {
     "name": "stdout",
     "output_type": "stream",
     "text": [
      "size of total order= 950.0\n",
      "predicted soln= tensor([ -429.1936,   481.9640, -1044.5427,   553.6959,   176.5307,  -266.9401,\n",
      "          265.4381,  -436.8879,   495.8228,  -871.5636,  2025.6765]) sum of all execution= tensor(950.0001)\n",
      "size of total order= 961.1111\n",
      "predicted soln= tensor([ -433.1924,   486.4754, -1052.2139,   559.9592,   172.9919,  -259.9313,\n",
      "          255.1195,  -417.1812,   468.5203,  -820.0671,  2000.6306]) sum of all execution= tensor(961.1112)\n",
      "size of total order= 972.2222\n",
      "predicted soln= tensor([ -437.1915,   490.9874, -1059.8875,   566.2227,   169.4558,  -252.9266,\n",
      "          244.8058,  -397.4832,   441.2299,  -768.5941,  1975.6035]) sum of all execution= tensor(972.2223)\n",
      "size of total order= 983.3333\n",
      "predicted soln= tensor([ -441.1903,   495.4988, -1067.5599,   572.4860,   165.9187,  -245.9210,\n",
      "          234.4913,  -377.7841,   413.9377,  -717.1170,  1950.5730]) sum of all execution= tensor(983.3331)\n",
      "size of total order= 994.44446\n",
      "predicted soln= tensor([ -445.1893,   500.0105, -1075.2316,   578.7495,   162.3796,  -238.9108,\n",
      "          224.1704,  -358.0729,   386.6291,  -665.6092,  1925.5190]) sum of all execution= tensor(994.4443)\n",
      "size of total order= 1005.55554\n",
      "predicted soln= tensor([ -449.1880,   504.5219, -1082.9036,   585.0128,   158.8419,  -231.9034,\n",
      "          213.8534,  -338.3687,   359.3303,  -614.1196,  1900.4786]) sum of all execution= tensor(1005.5556)\n",
      "size of total order= 1016.6667\n",
      "predicted soln= tensor([ -453.1868,   509.0330, -1090.5719,   591.2761,   155.2994,  -224.8879,\n",
      "          203.5256,  -318.6448,   332.0049,  -562.5811,  1875.4000]) sum of all execution= tensor(1016.6665)\n",
      "size of total order= 1027.7778\n",
      "predicted soln= tensor([ -457.1859,   513.5454, -1098.2500,   597.5395,   151.7697,  -217.8957,\n",
      "          193.2291,  -298.9796,   304.7582,  -511.1892,  1850.4365]) sum of all execution= tensor(1027.7780)\n",
      "size of total order= 1038.8889\n",
      "predicted soln= tensor([ -461.1845,   518.0565, -1105.9197,   603.8029,   148.2282,  -210.8807,\n",
      "          182.9017,  -279.2554,   277.4326,  -459.6501,  1825.3575]) sum of all execution= tensor(1038.8892)\n",
      "size of total order= 1050.0\n",
      "predicted soln= tensor([ -465.1835,   522.5681, -1113.5908,   610.0662,   144.6890,  -203.8704,\n",
      "          172.5810,  -259.5453,   250.1260,  -408.1467,  1800.3066]) sum of all execution= tensor(1050.0001)\n"
     ]
    }
   ],
   "source": [
    "from torch.nn.modules.pooling import MaxPool1d\n",
    "M1=10\n",
    "t_test=torch.zeros([M1,1])\n",
    "D_test=torch.zeros([M1,1])\n",
    "#D_test=torch.FloatTensor(M,1).uniform_(0.1,0.5)   #Price impact D_t\n",
    "#R_test=torch.FloatTensor(M1,1).uniform_(50,100)   #remaining balance R_t   #To get a positive solution R_t has to be greater than D_t\n",
    "R_test=torch.linspace(X0*0.95, X0*1.05, steps=M1).unsqueeze(1)\n",
    "kappa=torch.zeros([M1,ite+1])+0.2\n",
    "rho=torch.zeros([M1,ite+1])+1.5\n",
    "x_test=torch.cat((t_test,D_test,R_test,kappa[:,0].unsqueeze(1),rho[:,0].unsqueeze(1)),dim=1)\n",
    "#print('Input=',x_test,'\\n')\n",
    "a=torch.zeros(M1,ite+1)\n",
    "#print(a.shape)\n",
    "for i in range(ite+1):\n",
    "  if(i!=ite):\n",
    "    #print(x_test)\n",
    "    soln_pred=model(x_test).squeeze(1).detach()\n",
    "    a[:,i]=soln_pred\n",
    "    x_test=update(x_test,soln_pred,i)\n",
    "    #print(x_test,'\\n')\n",
    "  else:\n",
    "    a[:,i]=R_test.squeeze(1)-torch.sum(a,dim=1)\n",
    "\n",
    "x1=R_test.squeeze().numpy()\n",
    "c_pred=np.zeros(M1)\n",
    "\n",
    "for i in range(M1):\n",
    "  print('size of total order=',x1[i])\n",
    "\n",
    "\n",
    "  print('predicted soln=',a[i,:],'sum of all execution=',torch.sum(a[i,:]).detach())\n",
    "  pred_cost=cost(a[i,:].detach().numpy())\n",
    "  #print('predicted cost=',pred_cost,'\\n')"
   ]
  },
  {
   "cell_type": "code",
   "execution_count": 10,
   "id": "392a3b45",
   "metadata": {},
   "outputs": [
    {
     "name": "stderr",
     "output_type": "stream",
     "text": [
      "No handles with labels found to put in legend.\n"
     ]
    },
    {
     "data": {
      "image/png": "[encoded data removed]",
      "text/plain": [
       "<Figure size 432x216 with 1 Axes>"
      ]
     },
     "metadata": {
      "needs_background": "light"
     },
     "output_type": "display_data"
    },
    {
     "name": "stderr",
     "output_type": "stream",
     "text": [
      "No handles with labels found to put in legend.\n"
     ]
    },
    {
     "data": {
      "image/png": "[encoded data removed]",
      "text/plain": [
       "<Figure size 432x216 with 1 Axes>"
      ]
     },
     "metadata": {
      "needs_background": "light"
     },
     "output_type": "display_data"
    },
    {
     "name": "stderr",
     "output_type": "stream",
     "text": [
      "No handles with labels found to put in legend.\n"
     ]
    },
    {
     "data": {
      "image/png": "[encoded data removed]",
      "text/plain": [
       "<Figure size 432x216 with 1 Axes>"
      ]
     },
     "metadata": {
      "needs_background": "light"
     },
     "output_type": "display_data"
    },
    {
     "name": "stderr",
     "output_type": "stream",
     "text": [
      "No handles with labels found to put in legend.\n"
     ]
    },
    {
     "data": {
      "image/png": "[encoded data removed]",
      "text/plain": [
       "<Figure size 432x216 with 1 Axes>"
      ]
     },
     "metadata": {
      "needs_background": "light"
     },
     "output_type": "display_data"
    }
   ],
   "source": [
    "p_soln=a.numpy()\n",
    "t_step=np.linspace(0,ite,num=ite+1)\n",
    "#name='E:/Robin research/7thECMF_PosterPresent/Figures/N.eps'\n",
    "def plotting(t):\n",
    "  #print('Total order size=',x1[t],np.sum(n_soln[t]),np.sum(p_soln[t]))\n",
    "  #print(n_soln[t],p_soln[t])\n",
    "  plt.figure(figsize=(6,3))\n",
    "  #plt.bar(t_step,t_soln[t],color='blue',width=0.3,label='Closed-Form')\n",
    "  plt.bar(t_step,p_soln[t],color='red',width=0.2)\n",
    "  #plt.bar(t_step,n_soln[t],color='green',width=0.1,label='numeric')\n",
    "  plt.title('Total Order size X= %f' % (x1[t]))\n",
    "  plt.xlabel('Time steps')\n",
    "  plt.ylabel('Optimal orders')\n",
    "  plt.legend()\n",
    "\n",
    "#   #plt.savefig('f.eps', format='eps')\n",
    "#   if(t==0):\n",
    "#     plt.savefig(name,format='eps')      \n",
    "  plt.show()\n",
    "for i in range(0,M1,3):\n",
    "  plotting(i)"
   ]
  },
  {
   "cell_type": "code",
   "execution_count": null,
   "id": "5912121b",
   "metadata": {},
   "outputs": [],
   "source": []
  }
 ],
 "metadata": {
  "kernelspec": {
   "display_name": "Python 3",
   "language": "python",
   "name": "python3"
  },
  "language_info": {
   "codemirror_mode": {
    "name": "ipython",
    "version": 3
   },
   "file_extension": ".py",
   "mimetype": "text/x-python",
   "name": "python",
   "nbconvert_exporter": "python",
   "pygments_lexer": "ipython3",
   "version": "3.8.8"
  }
 },
 "nbformat": 4,
 "nbformat_minor": 5
}
