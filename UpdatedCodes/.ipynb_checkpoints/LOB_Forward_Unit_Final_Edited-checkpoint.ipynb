{
 "cells": [
  {
   "cell_type": "code",
   "execution_count": 1,
   "metadata": {
    "id": "PqNL-4FAgMis"
   },
   "outputs": [],
   "source": [
    "import numpy as np\n",
    "import time\n",
    "from scipy import misc\n",
    "import matplotlib.pyplot as plt\n",
    "import torch\n",
    "import torch.nn as nn\n",
    "import torch.nn.functional as F\n",
    "import torch.optim as optim\n",
    "import random\n",
    "import math\n",
    "import pandas as pd\n",
    "import cvxpy as cp\n",
    "from scipy.optimize import fsolve"
   ]
  },
  {
   "cell_type": "code",
   "execution_count": 2,
   "metadata": {
    "id": "MeYOz7uYgScR"
   },
   "outputs": [
    {
     "name": "stdout",
     "output_type": "stream",
     "text": [
      "tensor(0.1000)\n"
     ]
    }
   ],
   "source": [
    "M=1000\n",
    "ite=10\n",
    "dim_n=3\n",
    "T=1\n",
    "delta = torch.tensor(T/ite)\n",
    "#delta=torch.tensor(0.01)\n",
    "sigma=0.2\n",
    "mu=0.3\n",
    "A0=0.0\n",
    "gamma=0.0\n",
    "kappa=1e-1\n",
    "rho=5\n",
    "X0=10000\n",
    "neuron_model_psi=20\n",
    "print(delta)"
   ]
  },
  {
   "cell_type": "code",
   "execution_count": 3,
   "metadata": {
    "id": "93xjaCyOgTS0"
   },
   "outputs": [],
   "source": [
    "model= torch.nn.Sequential(\n",
    "    torch.nn.Linear(dim_n, neuron_model_psi),\n",
    "    torch.nn.ReLU(),\n",
    "    torch.nn.Linear(neuron_model_psi, neuron_model_psi),\n",
    "    torch.nn.ReLU(),\n",
    "#     torch.nn.Linear(neuron_model_psi, neuron_model_psi),\n",
    "#     torch.nn.ReLU(),\n",
    "    torch.nn.Linear(neuron_model_psi, neuron_model_psi),\n",
    "    torch.nn.ReLU(),\n",
    "    torch.nn.Linear(neuron_model_psi,1)\n",
    ")"
   ]
  },
  {
   "cell_type": "code",
   "execution_count": 4,
   "metadata": {
    "id": "ZU58vmPqgVX8"
   },
   "outputs": [],
   "source": [
    "t=torch.zeros([M,1])\n",
    "D=torch.zeros([M,1])\n",
    "#D=torch.FloatTensor(M,1).uniform_(0.1,0.5)   #Price impact D_t\n",
    "R=torch.FloatTensor(M,1).uniform_(X0*0.9,X0*1.1)   #remaining balance R_t   #To get a positive solution R_t has to be greater than D_t\n",
    "x=torch.cat((t,D,R),dim=1)\n",
    "# print(x)\n",
    "# print(x.shape)"
   ]
  },
  {
   "cell_type": "code",
   "execution_count": 5,
   "metadata": {
    "id": "XGmOeYfAgnFK"
   },
   "outputs": [],
   "source": [
    "def update(x3,psi):\n",
    "  t=(x3[:,0]+(1/ite))\n",
    "  #print(psi.squeeze(1).shape,x1[:,1].shape)\n",
    "  D = (x3[:,1]+kappa*psi)*torch.exp(-rho*delta)\n",
    "  R= x3[:,2]-psi\n",
    "  #print(R.shape)\n",
    "  up=torch.cat((t.unsqueeze(1),D.unsqueeze(1),R.unsqueeze(1)),dim=1)\n",
    "  #print('up shape=', up.shape)\n",
    "  return up\n",
    "\n",
    "def loss_func(x2,psi):\n",
    "  loss=(x2[:,1]*psi+(kappa/2.0)*torch.pow(psi,2))\n",
    "  return loss\n",
    "\n",
    "def unit(x1,model):\n",
    "    psi=model(x1).squeeze(1)\n",
    "    los=loss_func(x1,psi)\n",
    "    upd=update(x1,psi)\n",
    "    #print('unit print=',psi.shape,los.shape,upd.shape)\n",
    "    return psi,los,upd\n",
    "\n",
    "def loss_func_total(u,model):\n",
    "  loss=torch.zeros(M,ite)\n",
    "  psi=torch.zeros(M,ite)\n",
    "  for i in range(ite+1):\n",
    "    if(i!=ite):\n",
    "      psi_run,loss_run,u_run=unit(u,model)\n",
    "      #print('los func=',psi_run.shape,loss_run.shape)\n",
    "      loss[:,i]=loss_run\n",
    "      #print(loss)\n",
    "      psi[:,i]=psi_run\n",
    "      #print(psi)\n",
    "      u=u_run\n",
    "      #print(u)\n",
    "    else:\n",
    "      #print(torch.sum(psi,dim=1),R.squeeze(1))\n",
    "      psi_ter=R.squeeze(1)-torch.sum(psi,dim=1)\n",
    "      loss_ter=loss_func(u,psi_ter)\n",
    "      #print('ter',loss_ter.shape)\n",
    "  #print(torch.sum(loss,dim=1))\n",
    "  loss=torch.sum(loss,dim=1)+loss_ter\n",
    "  #print(loss.shape)\n",
    "  return torch.mean(loss)"
   ]
  },
  {
   "cell_type": "markdown",
   "metadata": {
    "id": "aC2vdJPG00zc"
   },
   "source": [
    "Training"
   ]
  },
  {
   "cell_type": "code",
   "execution_count": 6,
   "metadata": {
    "colab": {
     "base_uri": "https://localhost:8080/"
    },
    "id": "g8C7LgFjgrSj",
    "outputId": "9697a2e1-ed0e-462a-d770-8465d959522b"
   },
   "outputs": [],
   "source": [
    "# start=time.time()\n",
    "# lr1 = 8e-3\n",
    "# epoch=0\n",
    "# num_epochs=10000\n",
    "# loss_epoch=[]\n",
    "# L_=torch.tensor([-1000])\n",
    "# optimizer = optim.Adam(model.parameters(), lr1)\n",
    "# cost=torch.tensor([100000])\n",
    "# err=1e-20\n",
    "# #print(psi.shape)\n",
    "# while (torch.abs(L_-cost)/torch.abs(L_)>err) &  (epoch <= num_epochs):\n",
    "#   optimizer.zero_grad()\n",
    "#   cost=loss_func_total(x,model)\n",
    "#   cost.backward()\n",
    "#   optimizer.step()\n",
    "#   loss_epoch.append(cost)\n",
    "#   if epoch>0:\n",
    "#     L_ = loss_epoch[epoch-1]\n",
    "#   #print(cost,L_.item())\n",
    "#   if (epoch % 100==0):\n",
    "#     print(\"At epoch {} the mean cost is {}.\".format(epoch,cost.detach()))\n",
    "#   if (torch.abs(L_-cost)/torch.abs(L_)<=err):\n",
    "#     print(\"Delta Loss = {} , epoch = {}\".format(torch.abs(L_-cost)/torch.abs(L_),epoch))\n",
    "#   epoch=epoch+1\n",
    "\n",
    "# end=time.time()\n",
    "# print('time elapsed=',end-start)"
   ]
  },
  {
   "cell_type": "code",
   "execution_count": 7,
   "metadata": {},
   "outputs": [
    {
     "name": "stdout",
     "output_type": "stream",
     "text": [
      "At epoch 0 the mean cost is 9781433.0.\n",
      "At epoch 100 the mean cost is 1503202.875.\n",
      "At epoch 200 the mean cost is 1502813.5.\n",
      "At epoch 300 the mean cost is 1502371.25.\n",
      "At epoch 400 the mean cost is 1501860.75.\n",
      "At epoch 500 the mean cost is 1501268.25.\n",
      "At epoch 600 the mean cost is 1500568.875.\n",
      "At epoch 700 the mean cost is 1499753.625.\n",
      "At epoch 800 the mean cost is 1498896.625.\n",
      "At epoch 900 the mean cost is 1498227.5.\n",
      "At epoch 1000 the mean cost is 1497912.875.\n",
      "At epoch 1100 the mean cost is 1497785.625.\n",
      "At epoch 1200 the mean cost is 1497684.25.\n",
      "At epoch 1300 the mean cost is 1497575.875.\n",
      "At epoch 1400 the mean cost is 1497455.875.\n",
      "At epoch 1500 the mean cost is 1497320.125.\n",
      "At epoch 1600 the mean cost is 1497162.375.\n",
      "At epoch 1700 the mean cost is 1496975.0.\n",
      "At epoch 1800 the mean cost is 1496742.5.\n",
      "At epoch 1900 the mean cost is 1496440.875.\n",
      "At epoch 2000 the mean cost is 1496024.25.\n",
      "At epoch 2100 the mean cost is 1493269.5.\n",
      "At epoch 2200 the mean cost is 1488240.875.\n",
      "At epoch 2300 the mean cost is 1482087.375.\n",
      "At epoch 2400 the mean cost is 1485971.0.\n",
      "At epoch 2500 the mean cost is 1500433.5.\n",
      "At epoch 2600 the mean cost is 1497758.875.\n",
      "At epoch 2700 the mean cost is 1495113.25.\n",
      "At epoch 2800 the mean cost is 1493062.625.\n",
      "At epoch 2900 the mean cost is 1491036.625.\n",
      "At epoch 3000 the mean cost is 1488153.0.\n",
      "At epoch 3100 the mean cost is 1499339.375.\n",
      "At epoch 3200 the mean cost is 1498394.5.\n",
      "At epoch 3300 the mean cost is 1497497.875.\n",
      "At epoch 3400 the mean cost is 1496403.75.\n",
      "At epoch 3500 the mean cost is 1495077.25.\n",
      "At epoch 3600 the mean cost is 1493597.5.\n",
      "At epoch 3700 the mean cost is 1492274.0.\n",
      "At epoch 3800 the mean cost is 1491106.375.\n",
      "At epoch 3900 the mean cost is 1489237.75.\n",
      "At epoch 4000 the mean cost is 1485814.5.\n",
      "At epoch 4100 the mean cost is 1481717.75.\n",
      "At epoch 4200 the mean cost is 1474084.0.\n",
      "At epoch 4300 the mean cost is 1470043.625.\n",
      "At epoch 4400 the mean cost is 1472605.625.\n",
      "At epoch 4500 the mean cost is 1470365.125.\n",
      "At epoch 4600 the mean cost is 1463061.375.\n",
      "At epoch 4700 the mean cost is 1463357.5.\n",
      "At epoch 4800 the mean cost is 1461787.625.\n",
      "At epoch 4900 the mean cost is 1478673.875.\n",
      "At epoch 5000 the mean cost is 1462559.875.\n",
      "At epoch 5100 the mean cost is 1462183.0.\n",
      "At epoch 5200 the mean cost is 1462505.0.\n",
      "At epoch 5300 the mean cost is 1461739.25.\n",
      "At epoch 5400 the mean cost is 1462877.75.\n",
      "At epoch 5500 the mean cost is 1464213.25.\n",
      "At epoch 5600 the mean cost is 1461626.625.\n",
      "At epoch 5700 the mean cost is 1462256.125.\n",
      "At epoch 5800 the mean cost is 1461615.625.\n",
      "At epoch 5900 the mean cost is 1461621.125.\n",
      "At epoch 6000 the mean cost is 1461624.625.\n",
      "At epoch 6100 the mean cost is 1461688.75.\n",
      "At epoch 6200 the mean cost is 1461643.625.\n",
      "At epoch 6300 the mean cost is 1461770.625.\n",
      "At epoch 6400 the mean cost is 1461741.875.\n",
      "At epoch 6500 the mean cost is 1462887.875.\n",
      "At epoch 6600 the mean cost is 1466918.125.\n",
      "At epoch 6700 the mean cost is 1461988.125.\n",
      "At epoch 6800 the mean cost is 1471126.25.\n",
      "At epoch 6900 the mean cost is 1463730.5.\n",
      "At epoch 7000 the mean cost is 1462589.875.\n",
      "At epoch 7100 the mean cost is 1461604.125.\n",
      "At epoch 7200 the mean cost is 1461510.125.\n",
      "At epoch 7300 the mean cost is 1461508.625.\n",
      "At epoch 7400 the mean cost is 1461509.875.\n",
      "At epoch 7500 the mean cost is 1462431.75.\n",
      "At epoch 7600 the mean cost is 1461727.0.\n",
      "At epoch 7700 the mean cost is 1461658.875.\n",
      "At epoch 7800 the mean cost is 1461764.5.\n",
      "At epoch 7900 the mean cost is 1462396.5.\n",
      "At epoch 8000 the mean cost is 1463364.375.\n",
      "At epoch 8100 the mean cost is 1461570.0.\n",
      "At epoch 8200 the mean cost is 1461410.375.\n",
      "At epoch 8300 the mean cost is 1461684.375.\n",
      "At epoch 8400 the mean cost is 1461572.625.\n",
      "At epoch 8500 the mean cost is 1461953.125.\n",
      "At epoch 8600 the mean cost is 1465973.125.\n",
      "At epoch 8700 the mean cost is 1461662.625.\n",
      "At epoch 8800 the mean cost is 1461328.375.\n",
      "At epoch 8900 the mean cost is 1461327.375.\n",
      "At epoch 9000 the mean cost is 1461310.25.\n",
      "At epoch 9100 the mean cost is 1461291.0.\n",
      "At epoch 9200 the mean cost is 1461284.375.\n",
      "At epoch 9300 the mean cost is 1461281.25.\n",
      "At epoch 9400 the mean cost is 1461981.625.\n",
      "At epoch 9500 the mean cost is 1461572.75.\n",
      "At epoch 9600 the mean cost is 1461752.125.\n",
      "At epoch 9700 the mean cost is 1463114.375.\n",
      "At epoch 9800 the mean cost is 1470249.375.\n",
      "At epoch 9900 the mean cost is 1461355.375.\n",
      "At epoch 10000 the mean cost is 1473359.125.\n",
      "At epoch 10100 the mean cost is 1461524.625.\n",
      "At epoch 10200 the mean cost is 1461780.5.\n",
      "At epoch 10300 the mean cost is 1461347.375.\n",
      "At epoch 10400 the mean cost is 1461396.25.\n",
      "At epoch 10500 the mean cost is 1461103.875.\n",
      "At epoch 10600 the mean cost is 1461077.25.\n",
      "At epoch 10700 the mean cost is 1461034.0.\n",
      "At epoch 10800 the mean cost is 1461031.25.\n",
      "At epoch 10900 the mean cost is 1461022.75.\n",
      "At epoch 11000 the mean cost is 1461015.5.\n",
      "At epoch 11100 the mean cost is 1461012.75.\n",
      "At epoch 11200 the mean cost is 1461176.25.\n",
      "At epoch 11300 the mean cost is 1461053.75.\n",
      "At epoch 11400 the mean cost is 1462642.125.\n",
      "At epoch 11500 the mean cost is 1462093.875.\n",
      "At epoch 11600 the mean cost is 1461582.75.\n",
      "At epoch 11700 the mean cost is 1461253.125.\n",
      "At epoch 11800 the mean cost is 1461041.625.\n",
      "At epoch 11900 the mean cost is 1460994.25.\n",
      "At epoch 12000 the mean cost is 1460983.5.\n",
      "At epoch 12100 the mean cost is 1461123.125.\n",
      "At epoch 12200 the mean cost is 1467017.75.\n",
      "At epoch 12300 the mean cost is 1461898.0.\n",
      "At epoch 12400 the mean cost is 1484722.0.\n",
      "At epoch 12500 the mean cost is 1460966.0.\n",
      "At epoch 12600 the mean cost is 1460943.125.\n",
      "At epoch 12700 the mean cost is 1461049.875.\n",
      "At epoch 12800 the mean cost is 1460964.0.\n",
      "At epoch 12900 the mean cost is 1467452.875.\n",
      "At epoch 13000 the mean cost is 1461555.75.\n",
      "At epoch 13100 the mean cost is 1461482.125.\n",
      "At epoch 13200 the mean cost is 1460997.0.\n",
      "At epoch 13300 the mean cost is 1460942.625.\n",
      "At epoch 13400 the mean cost is 1461260.25.\n",
      "At epoch 13500 the mean cost is 1463196.25.\n",
      "At epoch 13600 the mean cost is 1461058.125.\n",
      "At epoch 13700 the mean cost is 1460990.5.\n",
      "At epoch 13800 the mean cost is 1460963.625.\n",
      "At epoch 13900 the mean cost is 1460918.875.\n",
      "At epoch 14000 the mean cost is 1460903.625.\n",
      "At epoch 14100 the mean cost is 1463638.5.\n",
      "At epoch 14200 the mean cost is 1460935.875.\n",
      "At epoch 14300 the mean cost is 1460896.375.\n",
      "At epoch 14400 the mean cost is 1461226.125.\n",
      "At epoch 14500 the mean cost is 1460908.625.\n",
      "At epoch 14600 the mean cost is 1460862.0.\n",
      "At epoch 14700 the mean cost is 1463470.5.\n",
      "At epoch 14800 the mean cost is 1461283.75.\n",
      "At epoch 14900 the mean cost is 1461006.375.\n",
      "time elapsed= 144.53459429740906\n"
     ]
    }
   ],
   "source": [
    "start=time.time()\n",
    "lr1 = 8e-3\n",
    "max_epoch = 15000\n",
    "optimizer = optim.Adam(model.parameters(), lr1)\n",
    "\n",
    "#print(psi.shape)\n",
    "for epoch in range(max_epoch):\n",
    "  optimizer.zero_grad()\n",
    "  cost=loss_func_total(x,model)\n",
    "  cost.backward()\n",
    "  optimizer.step()\n",
    "  #print(loss.item())\n",
    "  if (epoch % 100==0):\n",
    "    print(\"At epoch {} the mean cost is {}.\".format(epoch,cost.detach()))\n",
    "end=time.time()\n",
    "print('time elapsed=',end-start)"
   ]
  },
  {
   "cell_type": "code",
   "execution_count": 8,
   "metadata": {},
   "outputs": [],
   "source": [
    "# #time step vs training time plot\n",
    "# x=np.array([10,30,50,100]) #time steps\n",
    "# y=np.array([119,440,677,1356])#training times\n",
    "# plt.plot(x,y)\n",
    "# plt.show()"
   ]
  },
  {
   "cell_type": "markdown",
   "metadata": {
    "id": "wT4ALers1F8f"
   },
   "source": [
    "Solution by using cvxpy package"
   ]
  },
  {
   "cell_type": "code",
   "execution_count": 9,
   "metadata": {
    "id": "nmIbc2Wd1E2B"
   },
   "outputs": [],
   "source": [
    "def numeric_soln(X,n):\n",
    "    delt=T/n\n",
    "    alpa=math.exp(-delt*rho)\n",
    "    c=np.ones(n)\n",
    "    x=cp.Variable(n)\n",
    "    #objective=cp.Minimize(determinstic_main(x))\n",
    "    A=[[0 for i in range(n)] for j in range(n)]\n",
    "    for i in range(n):\n",
    "        for j in range(n):\n",
    "            A[i][j]=1-kappa+kappa*pow(alpa,abs(i-j))\n",
    "    constraints=[0<=x,sum(x)==X]\n",
    "\n",
    "    objective=cp.Minimize(1/2*cp.quad_form(x,A))\n",
    "    prob=cp.Problem(objective,constraints)\n",
    "    #print(\"prob is DCP:\", prob.is_dcp())\n",
    "    #print(\"curvature of objective:\",cp.sum(pow(x,2)).curvature)\n",
    "    #assert prob.is_dqcp()\n",
    "    cost=prob.solve()\n",
    "    #print(\"Optimal value\", prob.solve())\n",
    "    #print(\"Optimal value\", prob.solve(qcp=True))\n",
    "    #print(\"Optimal soln\")\n",
    "    soln=x.value\n",
    "    #print(soln) # A numpy ndarray\n",
    "    return soln,cost"
   ]
  },
  {
   "cell_type": "markdown",
   "metadata": {
    "id": "LSJLhYZ-yDGS"
   },
   "source": [
    "Colsed form soln\n"
   ]
  },
  {
   "cell_type": "code",
   "execution_count": 10,
   "metadata": {
    "id": "6rs3tK1-yI_w"
   },
   "outputs": [],
   "source": [
    "def closed_form(X):\n",
    "  alpa=np.exp(-rho*T/ite)\n",
    "  p=np.zeros(ite+1)\n",
    "  p[0]=X/((ite-1)*(1-alpa)+2)\n",
    "  p[ite]=X/((ite-1)*(1-alpa)+2)\n",
    "  for j in range(1,ite):\n",
    "    p[j]=p[0]*(1-alpa)\n",
    "  return p\n"
   ]
  },
  {
   "cell_type": "markdown",
   "metadata": {
    "id": "-6SwQUFvkmPl"
   },
   "source": [
    "**Calculating cost** predicted and closed cost both have the same function. I wrote it twice because of two different data type"
   ]
  },
  {
   "cell_type": "code",
   "execution_count": 11,
   "metadata": {
    "id": "LdgOnrDvkowO"
   },
   "outputs": [],
   "source": [
    "def cost(y):\n",
    "  cost1=0.0\n",
    "  D1=0.0\n",
    "  for i in range(ite+1):\n",
    "    cost1+=D1*y[i]+(kappa/2.0)*np.power(y[i],2)\n",
    "    D1=(D1+kappa*y[i])*np.exp(-rho*T/ite)\n",
    "  return cost1"
   ]
  },
  {
   "cell_type": "markdown",
   "metadata": {
    "id": "83IFXBNYwiIc"
   },
   "source": [
    "**Testing ** We have compared the closed form solution from Obhizaeva and Wang, our predicted solution and the solution from python convex optimization package cvxpy"
   ]
  },
  {
   "cell_type": "code",
   "execution_count": 12,
   "metadata": {
    "colab": {
     "base_uri": "https://localhost:8080/"
    },
    "id": "SVvNy5hi4vc2",
    "outputId": "e3a7a6a0-5193-4a6f-9f12-8c917599c3fd"
   },
   "outputs": [
    {
     "name": "stdout",
     "output_type": "stream",
     "text": [
      "size of total order= 9500.0\n",
      "closed form soln= [1714.42264249  674.57274611  674.57274611  674.57274611  674.57274611\n",
      "  674.57274611  674.57274611  674.57274611  674.57274611  674.57274611\n",
      " 1714.42264249] sum of all execution= 9500.0\n",
      "Closed form cost= 1308279.4559600707 \n",
      "\n",
      "predicted soln= tensor([1692.9172,  719.8891,  699.2015,  693.2336,  687.4793,  692.6591,\n",
      "         698.0355,  703.4387,  708.7598,  563.5066, 1640.8794]) sum of all execution= tensor(9500.)\n",
      "predicted cost= 1309716.5315972473 \n",
      "\n",
      "Percent Error in cost= 0.10984469951200496 %\n",
      "\n",
      "size of total order= 9552.632\n",
      "closed form soln= [1723.92087525  678.31000949  678.31000949  678.31000949  678.31000949\n",
      "  678.31000949  678.31000949  678.31000949  678.31000949  678.31000949\n",
      " 1723.92087525] sum of all execution= 9552.6318359375\n",
      "Closed form cost= 1322815.8539905287 \n",
      "\n",
      "predicted soln= tensor([1701.7646,  723.5499,  701.9283,  695.7631,  689.5665,  694.5959,\n",
      "         699.8404,  705.1262,  710.3411,  574.1588, 1655.9976]) sum of all execution= tensor(9552.6318)\n",
      "predicted cost= 1324072.7442872091 \n",
      "\n",
      "Percent Error in cost= 0.09501627100164664 %\n",
      "\n",
      "size of total order= 9605.263\n",
      "closed form soln= [1733.41893178  682.04720353  682.04720353  682.04720353  682.04720353\n",
      "  682.04720353  682.04720353  682.04720353  682.04720353  682.04720353\n",
      " 1733.41893178] sum of all execution= 9605.262695312498\n",
      "Closed form cost= 1337432.2920511505 \n",
      "\n",
      "predicted soln= tensor([1710.6121,  727.2108,  704.6550,  698.2928,  691.7073,  696.5332,\n",
      "         701.6445,  706.8121,  711.9205,  584.7806, 1671.0938]) sum of all execution= tensor(9605.2637)\n",
      "predicted cost= 1338522.3948475318 \n",
      "\n",
      "Percent Error in cost= 0.08150713893033833 %\n",
      "\n",
      "size of total order= 9657.895\n",
      "closed form soln= [1742.91716454  685.78446691  685.78446691  685.78446691  685.78446691\n",
      "  685.78446691  685.78446691  685.78446691  685.78446691  685.78446691\n",
      " 1742.91716454] sum of all execution= 9657.89453125\n",
      "Closed form cost= 1352129.3125562354 \n",
      "\n",
      "predicted soln= tensor([1719.4597,  730.8715,  707.3817,  700.8225,  694.0582,  698.4737,\n",
      "         703.4470,  708.4932,  713.4931,  595.2849, 1686.1094]) sum of all execution= tensor(9657.8955)\n",
      "predicted cost= 1353068.5204376199 \n",
      "\n",
      "Percent Error in cost= 0.06946139490230653 %\n",
      "\n",
      "size of total order= 9710.526\n",
      "closed form soln= [1752.4153973   689.52173029  689.52173029  689.52173029  689.52173029\n",
      "  689.52173029  689.52173029  689.52173029  689.52173029  689.52173029\n",
      " 1752.4153973 ] sum of all execution= 9710.5263671875\n",
      "Closed form cost= 1366906.6450437107 \n",
      "\n",
      "predicted soln= tensor([1728.3073,  734.5326,  710.1085,  703.3524,  696.4088,  700.4142,\n",
      "         705.2495,  710.1740,  715.0656,  605.7900, 1701.1240]) sum of all execution= tensor(9710.5264)\n",
      "predicted cost= 1367707.2137824888 \n",
      "\n",
      "Percent Error in cost= 0.05856791622755783 %\n",
      "\n",
      "size of total order= 9763.158\n",
      "closed form soln= [1761.91363007  693.25899367  693.25899367  693.25899367  693.25899367\n",
      "  693.25899367  693.25899367  693.25899367  693.25899367  693.25899367\n",
      " 1761.91363007] sum of all execution= 9763.158203124998\n",
      "Closed form cost= 1381764.2895135786 \n",
      "\n",
      "predicted soln= tensor([1737.1548,  738.1937,  712.8352,  705.8820,  698.7596,  702.3548,\n",
      "         707.0519,  711.8552,  716.6381,  616.2943, 1716.1387]) sum of all execution= tensor(9763.1582)\n",
      "predicted cost= 1382438.4417185292 \n",
      "\n",
      "Percent Error in cost= 0.048789233450800364 %\n",
      "\n",
      "size of total order= 9815.789\n",
      "closed form soln= [1771.41168659  696.9961877   696.9961877   696.9961877   696.9961877\n",
      "  696.9961877   696.9961877   696.9961877   696.9961877   696.9961877\n",
      " 1771.41168659] sum of all execution= 9815.7890625\n",
      "Closed form cost= 1396701.9680530122 \n",
      "\n",
      "predicted soln= tensor([1746.0022,  741.8545,  715.5618,  708.4118,  701.1102,  704.2953,\n",
      "         708.8542,  713.5362,  718.2106,  626.7988, 1731.1533]) sum of all execution= tensor(9815.7891)\n",
      "predicted cost= 1397262.1384417154 \n",
      "\n",
      "Percent Error in cost= 0.04010665134839798 %\n",
      "\n",
      "size of total order= 9868.421\n",
      "closed form soln= [1780.90991936  700.73345108  700.73345108  700.73345108  700.73345108\n",
      "  700.73345108  700.73345108  700.73345108  700.73345108  700.73345108\n",
      " 1780.90991936] sum of all execution= 9868.420898437498\n",
      "Closed form cost= 1411720.2349975067 \n",
      "\n",
      "predicted soln= tensor([1754.8497,  745.5152,  718.2886,  710.9415,  703.4610,  706.2358,\n",
      "         710.6567,  715.2171,  719.7830,  637.3040, 1746.1680]) sum of all execution= tensor(9868.4189)\n",
      "predicted cost= 1412178.7730814535 \n",
      "\n",
      "Percent Error in cost= 0.03248080409838482 %\n",
      "\n",
      "size of total order= 9921.053\n",
      "closed form soln= [1790.40815212  704.47071446  704.47071446  704.47071446  704.47071446\n",
      "  704.47071446  704.47071446  704.47071446  704.47071446  704.47071446\n",
      " 1790.40815212] sum of all execution= 9921.052734375\n",
      "Closed form cost= 1426818.8139243927 \n",
      "\n",
      "predicted soln= tensor([1763.6975,  749.1760,  721.0156,  713.4713,  705.8115,  708.1765,\n",
      "         712.4590,  716.8981,  721.3555,  647.8085, 1761.1836]) sum of all execution= tensor(9921.0527)\n",
      "predicted cost= 1427188.2844295274 \n",
      "\n",
      "Percent Error in cost= 0.025894703765396695 %\n",
      "\n",
      "size of total order= 9973.685\n",
      "closed form soln= [1799.90638488  708.20797784  708.20797784  708.20797784  708.20797784\n",
      "  708.20797784  708.20797784  708.20797784  708.20797784  708.20797784\n",
      " 1799.90638488] sum of all execution= 9973.6845703125\n",
      "Closed form cost= 1441997.7048336705 \n",
      "\n",
      "predicted soln= tensor([1772.5449,  752.8369,  723.7421,  716.0009,  708.1623,  710.1168,\n",
      "         714.2615,  718.5791,  722.9281,  658.3133, 1776.1982]) sum of all execution= tensor(9973.6846)\n",
      "predicted cost= 1442290.0782268944 \n",
      "\n",
      "Percent Error in cost= 0.020275579652020186 %\n",
      "\n",
      "size of total order= 10026.315\n",
      "closed form soln= [1809.40444141  711.94517187  711.94517187  711.94517187  711.94517187\n",
      "  711.94517187  711.94517187  711.94517187  711.94517187  711.94517187\n",
      " 1809.40444141] sum of all execution= 10026.315429687498\n",
      "Closed form cost= 1457256.6238519168 \n",
      "\n",
      "predicted soln= tensor([1781.3923,  756.4977,  726.4688,  718.5306,  710.5129,  712.0573,\n",
      "         716.0640,  720.2600,  724.5005,  668.8182, 1791.2129]) sum of all execution= tensor(10026.3154)\n",
      "predicted cost= 1457484.5360257481 \n",
      "\n",
      "Percent Error in cost= 0.015639810456235036 %\n",
      "\n",
      "size of total order= 10078.947\n",
      "closed form soln= [1818.90267417  715.68243525  715.68243525  715.68243525  715.68243525\n",
      "  715.68243525  715.68243525  715.68243525  715.68243525  715.68243525\n",
      " 1818.90267417] sum of all execution= 10078.947265625\n",
      "Closed form cost= 1472596.1372358212 \n",
      "\n",
      "predicted soln= tensor([1790.2399,  760.1588,  729.1958,  721.0602,  712.8636,  713.9978,\n",
      "         717.8661,  721.9410,  726.0729,  679.3224, 1806.2285]) sum of all execution= tensor(10078.9473)\n",
      "predicted cost= 1472771.8724788302 \n",
      "\n",
      "Percent Error in cost= 0.01193370256551172 %\n",
      "\n",
      "size of total order= 10131.579\n",
      "closed form soln= [1828.40090693  719.41969863  719.41969863  719.41969863  719.41969863\n",
      "  719.41969863  719.41969863  719.41969863  719.41969863  719.41969863\n",
      " 1828.40090693] sum of all execution= 10131.579101562498\n",
      "Closed form cost= 1488015.962602117 \n",
      "\n",
      "predicted soln= tensor([1799.0873,  763.8199,  731.9226,  723.5900,  715.2143,  715.9385,\n",
      "         719.6688,  723.6221,  727.6454,  689.8274, 1821.2432]) sum of all execution= tensor(10131.5801)\n",
      "predicted cost= 1488152.0194477611 \n",
      "\n",
      "Percent Error in cost= 0.009143507130534977 %\n",
      "\n",
      "size of total order= 10184.211\n",
      "closed form soln= [1837.8991397   723.15696201  723.15696201  723.15696201  723.15696201\n",
      "  723.15696201  723.15696201  723.15696201  723.15696201  723.15696201\n",
      " 1837.8991397 ] sum of all execution= 10184.2109375\n",
      "Closed form cost= 1503516.0999508048 \n",
      "\n",
      "predicted soln= tensor([1807.9348,  767.4807,  734.6494,  726.1198,  717.5650,  717.8790,\n",
      "         721.4711,  725.3030,  729.2180,  700.3321, 1836.2588]) sum of all execution= tensor(10184.2109)\n",
      "predicted cost= 1503624.7776025003 \n",
      "\n",
      "Percent Error in cost= 0.007228233319150849 %\n",
      "\n",
      "size of total order= 10236.842\n",
      "closed form soln= [1847.39719622  726.89415605  726.89415605  726.89415605  726.89415605\n",
      "  726.89415605  726.89415605  726.89415605  726.89415605  726.89415605\n",
      " 1847.39719622] sum of all execution= 10236.841796875\n",
      "Closed form cost= 1519096.2594478633 \n",
      "\n",
      "predicted soln= tensor([1816.7822,  771.1414,  737.3759,  728.6495,  719.9157,  719.8193,\n",
      "         723.2734,  726.9840,  730.7904,  710.8366, 1851.2734]) sum of all execution= tensor(10236.8418)\n",
      "predicted cost= 1519189.6794732055 \n",
      "\n",
      "Percent Error in cost= 0.006149710708661667 %\n",
      "\n",
      "size of total order= 10289.474\n",
      "closed form soln= [1856.89542899  730.63141943  730.63141943  730.63141943  730.63141943\n",
      "  730.63141943  730.63141943  730.63141943  730.63141943  730.63141943\n",
      " 1856.89542899] sum of all execution= 10289.4736328125\n",
      "Closed form cost= 1534757.0192711782 \n",
      "\n",
      "predicted soln= tensor([1825.6299,  774.8024,  740.1028,  731.1793,  722.2664,  721.7598,\n",
      "         725.0759,  728.6650,  732.3627,  721.3411, 1866.2881]) sum of all execution= tensor(10289.4746)\n",
      "predicted cost= 1534847.5714808311 \n",
      "\n",
      "Percent Error in cost= 0.005900100701019209 %\n",
      "\n",
      "size of total order= 10342.105\n",
      "closed form soln= [1866.39366175  734.36868281  734.36868281  734.36868281  734.36868281\n",
      "  734.36868281  734.36868281  734.36868281  734.36868281  734.36868281\n",
      " 1866.39366175] sum of all execution= 10342.10546875\n",
      "Closed form cost= 1550498.091076884 \n",
      "\n",
      "predicted soln= tensor([1834.4774,  778.4633,  742.8294,  733.7088,  724.6169,  723.7003,\n",
      "         726.8782,  730.3461,  733.9354,  731.8459, 1881.3037]) sum of all execution= tensor(10342.1055)\n",
      "predicted cost= 1550598.329576895 \n",
      "\n",
      "Percent Error in cost= 0.006464922503808683 %\n",
      "\n",
      "size of total order= 10394.737\n",
      "closed form soln= [1875.89189451  738.10594618  738.10594618  738.10594618  738.10594618\n",
      "  738.10594618  738.10594618  738.10594618  738.10594618  738.10594618\n",
      " 1875.89189451] sum of all execution= 10394.7373046875\n",
      "Closed form cost= 1566319.4748649825 \n",
      "\n",
      "predicted soln= tensor([1843.3251,  782.1241,  745.5563,  736.2385,  726.9677,  725.6408,\n",
      "         728.6808,  732.0270,  735.5078,  739.0108, 1899.6582]) sum of all execution= tensor(10394.7373)\n",
      "predicted cost= 1566445.142329493 \n",
      "\n",
      "Percent Error in cost= 0.008023105536714998 %\n",
      "\n",
      "size of total order= 10447.368\n",
      "closed form soln= [1885.38995104  741.84314022  741.84314022  741.84314022  741.84314022\n",
      "  741.84314022  741.84314022  741.84314022  741.84314022  741.84314022\n",
      " 1885.38995104] sum of all execution= 10447.368164062498\n",
      "Closed form cost= 1582220.8748408523 \n",
      "\n",
      "predicted soln= tensor([1852.1725,  785.7849,  748.2830,  738.7684,  729.3185,  727.5812,\n",
      "         730.4832,  733.7079,  737.0804,  740.4849, 1923.7031]) sum of all execution= tensor(10447.3682)\n",
      "predicted cost= 1582395.882947681 \n",
      "\n",
      "Percent Error in cost= 0.011060915047418421 %\n",
      "\n",
      "size of total order= 10500.0\n",
      "closed form soln= [1894.8881838  745.5804036  745.5804036  745.5804036  745.5804036\n",
      "  745.5804036  745.5804036  745.5804036  745.5804036  745.5804036\n",
      " 1894.8881838] sum of all execution= 10500.0\n",
      "Closed form cost= 1598202.881103577 \n",
      "\n",
      "predicted soln= tensor([1861.0200,  789.4460,  751.0098,  741.2980,  731.6691,  729.5219,\n",
      "         732.2856,  735.3891,  738.6528,  741.9590, 1947.7490]) sum of all execution= tensor(10499.9990)\n",
      "predicted cost= 1598447.3298464008 \n",
      "\n",
      "Percent Error in cost= 0.01529522601378873 %\n",
      "\n"
     ]
    }
   ],
   "source": [
    "from torch.nn.modules.pooling import MaxPool1d\n",
    "M1=20\n",
    "t_test=torch.zeros([M1,1])\n",
    "D_test=torch.zeros([M1,1])\n",
    "#D_test=torch.FloatTensor(M,1).uniform_(0.1,0.5)   #Price impact D_t\n",
    "#R_test=torch.FloatTensor(M1,1).uniform_(50,100)   #remaining balance R_t   #To get a positive solution R_t has to be greater than D_t\n",
    "R_test=torch.linspace(X0*0.95, X0*1.05, steps=M1).unsqueeze(1)\n",
    "x_test=torch.cat((t_test,D_test,R_test),dim=1)\n",
    "#print('Input=',x_test,'\\n')\n",
    "a=torch.zeros(M1,ite+1)\n",
    "#print(a.shape)\n",
    "for i in range(ite+1):\n",
    "  if(i!=ite):\n",
    "    #print(x_test)\n",
    "    soln_pred=model(x_test).squeeze(1).detach()\n",
    "    a[:,i]=soln_pred\n",
    "    x_test=update(x_test,soln_pred)\n",
    "    #print(x_test,'\\n')\n",
    "  else:\n",
    "    a[:,i]=R_test.squeeze(1)-torch.sum(a,dim=1)\n",
    "\n",
    "x1=R_test.squeeze().numpy()\n",
    "c_true=np.zeros(M1)\n",
    "c_pred=np.zeros(M1)\n",
    "c_num=np.zeros(M1)\n",
    "n_soln=np.zeros((M1,ite+1))\n",
    "t_soln=np.zeros((M1,ite+1))\n",
    "\n",
    "for i in range(M1):\n",
    "  print('size of total order=',x1[i])\n",
    "\n",
    "  t_soln[i,:]=closed_form(x1[i])\n",
    "  print('closed form soln=',t_soln[i,:],'sum of all execution=',np.sum(t_soln[i,:]))\n",
    "  true_cost=cost(t_soln[i,:])\n",
    "  c_true[i]=true_cost\n",
    "  print('Closed form cost=',true_cost,'\\n')\n",
    "\n",
    "  print('predicted soln=',a[i,:],'sum of all execution=',torch.sum(a[i,:]).detach())\n",
    "  pred_cost=cost(a[i,:].detach().numpy())\n",
    "  print('predicted cost=',pred_cost,'\\n')\n",
    "  c_pred[i]=pred_cost\n",
    "  print('Percent Error in cost=',np.abs(100*(true_cost-pred_cost)/true_cost),'%\\n')"
   ]
  },
  {
   "cell_type": "markdown",
   "metadata": {
    "id": "bIUWsQuCMJoI"
   },
   "source": [
    "Comparing the cost"
   ]
  },
  {
   "cell_type": "code",
   "execution_count": 13,
   "metadata": {
    "colab": {
     "base_uri": "https://localhost:8080/",
     "height": 447
    },
    "id": "v2AdyYZLMHES",
    "outputId": "b299a6b2-a7cf-42e9-a2cf-5f39556e79d7"
   },
   "outputs": [],
   "source": [
    "# print(x1.shape)\n",
    "# name='E:/Robin research/ECMF_poster/N50.eps'\n",
    "# plt.figure()\n",
    "# plt.plot(x1,c_true,color='blue',label='cost_true',marker='1')\n",
    "# plt.plot(x1,c_pred,color='red',label='cost_predicted')\n",
    "# plt.plot(x1,c_num,color='green',label='cost_numeric')\n",
    "# plt.legend()\n",
    "# plt.savefig(name,format='eps')\n",
    "# plt.show()"
   ]
  },
  {
   "cell_type": "markdown",
   "metadata": {
    "id": "sDVg2A6yAt57"
   },
   "source": [
    "Comparing solution for diffeternt testing samples"
   ]
  },
  {
   "cell_type": "code",
   "execution_count": 14,
   "metadata": {
    "colab": {
     "base_uri": "https://localhost:8080/",
     "height": 1000
    },
    "id": "vOZyCiOfA2ej",
    "outputId": "43fe60aa-e0af-41d1-ca70-b0e9e8652ed9"
   },
   "outputs": [
    {
     "name": "stderr",
     "output_type": "stream",
     "text": [
      "The PostScript backend does not support transparency; partially transparent artists will be rendered opaque.\n",
      "The PostScript backend does not support transparency; partially transparent artists will be rendered opaque.\n"
     ]
    },
    {
     "data": {
      "image/png": "[encoded data removed]",
      "text/plain": [
       "<Figure size 432x216 with 1 Axes>"
      ]
     },
     "metadata": {
      "needs_background": "light"
     },
     "output_type": "display_data"
    },
    {
     "data": {
      "image/png": "[encoded data removed]",
      "text/plain": [
       "<Figure size 432x216 with 1 Axes>"
      ]
     },
     "metadata": {
      "needs_background": "light"
     },
     "output_type": "display_data"
    },
    {
     "data": {
      "image/png": "[encoded data removed]",
      "text/plain": [
       "<Figure size 432x216 with 1 Axes>"
      ]
     },
     "metadata": {
      "needs_background": "light"
     },
     "output_type": "display_data"
    },
    {
     "data": {
      "image/png": "[encoded data removed]",
      "text/plain": [
       "<Figure size 432x216 with 1 Axes>"
      ]
     },
     "metadata": {
      "needs_background": "light"
     },
     "output_type": "display_data"
    },
    {
     "data": {
      "image/png": "[encoded data removed]",
      "text/plain": [
       "<Figure size 432x216 with 1 Axes>"
      ]
     },
     "metadata": {
      "needs_background": "light"
     },
     "output_type": "display_data"
    },
    {
     "data": {
      "image/png": "[encoded data removed]",
      "text/plain": [
       "<Figure size 432x216 with 1 Axes>"
      ]
     },
     "metadata": {
      "needs_background": "light"
     },
     "output_type": "display_data"
    },
    {
     "data": {
      "image/png": "[encoded data removed]",
      "text/plain": [
       "<Figure size 432x216 with 1 Axes>"
      ]
     },
     "metadata": {
      "needs_background": "light"
     },
     "output_type": "display_data"
    }
   ],
   "source": [
    "p_soln=a.numpy()\n",
    "t_step=np.linspace(0,ite,num=ite+1)\n",
    "name='E:/Robin research/7thECMF_PosterPresent/Figures/N.eps'\n",
    "def plotting(t):\n",
    "  #print('Total order size=',x1[t],np.sum(n_soln[t]),np.sum(p_soln[t]))\n",
    "  #print(n_soln[t],p_soln[t])\n",
    "  plt.figure(figsize=(6,3))\n",
    "  plt.bar(t_step,t_soln[t],color='blue',width=0.3,label='Closed-Form')\n",
    "  plt.bar(t_step,p_soln[t],color='red',width=0.2,label='DNN')\n",
    "  #plt.bar(t_step,n_soln[t],color='green',width=0.1,label='numeric')\n",
    "  plt.title('Total Order size X= %f' % (x1[t]))\n",
    "  plt.xlabel('Time steps')\n",
    "  plt.ylabel('Optimal orders')\n",
    "  plt.legend()\n",
    "\n",
    "  #plt.savefig('f.eps', format='eps')\n",
    "  if(t==0):\n",
    "    plt.savefig(name,format='eps')      \n",
    "  plt.show()\n",
    "for i in range(0,M1,3):\n",
    "  plotting(i)\n"
   ]
  },
  {
   "cell_type": "code",
   "execution_count": 15,
   "metadata": {},
   "outputs": [],
   "source": [
    "#torch.save(model, 'model_N10_K_0.01.pth') \n",
    "#model_coarse = torch.load('model_N10.pth')"
   ]
  },
  {
   "cell_type": "code",
   "execution_count": null,
   "metadata": {},
   "outputs": [],
   "source": []
  },
  {
   "cell_type": "markdown",
   "metadata": {
    "id": "WDxwTUz0cM7i"
   },
   "source": [
    "Comparing solution at different time steps"
   ]
  },
  {
   "cell_type": "code",
   "execution_count": 16,
   "metadata": {
    "colab": {
     "base_uri": "https://localhost:8080/",
     "height": 495
    },
    "id": "fhTjyEOhcTDi",
    "outputId": "f7434824-b622-4684-cba5-de03d91e7a07"
   },
   "outputs": [
    {
     "data": {
      "image/png": "[encoded data removed]",
      "text/plain": [
       "<Figure size 288x144 with 1 Axes>"
      ]
     },
     "metadata": {
      "needs_background": "light"
     },
     "output_type": "display_data"
    },
    {
     "data": {
      "image/png": "[encoded data removed]",
      "text/plain": [
       "<Figure size 288x144 with 1 Axes>"
      ]
     },
     "metadata": {
      "needs_background": "light"
     },
     "output_type": "display_data"
    },
    {
     "data": {
      "image/png": "[encoded data removed]",
      "text/plain": [
       "<Figure size 288x144 with 1 Axes>"
      ]
     },
     "metadata": {
      "needs_background": "light"
     },
     "output_type": "display_data"
    }
   ],
   "source": [
    "#p_soln=a.numpy()\n",
    "t_step=np.linspace(0,ite,num=ite+1)\n",
    "X=R_test.squeeze(1).numpy()\n",
    "def plotting_time(t):\n",
    "  #print(t_soln[t],p_soln[t])\n",
    "  plt.figure(figsize=(4,2))\n",
    "  plt.plot(X,t_soln[:,0],color='blue',label='true')\n",
    "  plt.plot(X,p_soln[:,0],color='red',label='pred')\n",
    "  plt.plot(X,n_soln[:,0],color='green',label='numeric')\n",
    "  plt.title('At time= %d' % (t_step[t]))\n",
    "  plt.xlabel('Total Order size')\n",
    "  plt.ylabel('Optimal orders')\n",
    "  plt.legend()\n",
    "  plt.show\n",
    "for i in range(0,t_step.shape[0],5):\n",
    "  plotting_time(i)\n"
   ]
  },
  {
   "cell_type": "markdown",
   "metadata": {
    "id": "freyX0vxj9Gi"
   },
   "source": [
    "Absolute sum of the difference between true solution, predicted solution and true soln, numeric soln at each time step"
   ]
  },
  {
   "cell_type": "code",
   "execution_count": 17,
   "metadata": {
    "colab": {
     "base_uri": "https://localhost:8080/",
     "height": 273
    },
    "id": "qKbuJp7tkOCY",
    "outputId": "7ae3d0aa-ccd8-442d-a735-0ac3915f0093"
   },
   "outputs": [
    {
     "name": "stdout",
     "output_type": "stream",
     "text": [
      "9500.0      412.22943376332364\n",
      "9552.6318359375      388.46196725646246\n",
      "9605.262695312498      364.7972337794066\n",
      "9657.89453125      341.5300114131712\n",
      "9710.5263671875      318.2629111172479\n",
      "9763.158203124998      294.99703152445\n",
      "9815.7890625      271.73036933645665\n",
      "9868.420898437498      248.46284179444\n",
      "9921.052734375      225.19507011179792\n",
      "9973.6845703125      202.01952363771875\n",
      "10026.315429687498      181.52558936482603\n",
      "10078.947265625      164.40068174408577\n",
      "10131.579101562498      147.50090889030764\n",
      "10184.2109375      133.9712734386444\n",
      "10236.841796875      128.6932462964703\n",
      "10289.4736328125      130.6286118091831\n",
      "10342.10546875      134.9307553359007\n",
      "10394.7373046875      152.27963054584473\n",
      "10447.368164062498      177.38971233160737\n",
      "10500.0      204.31144182471814\n"
     ]
    },
    {
     "data": {
      "text/plain": [
       "<matplotlib.legend.Legend at 0x1f28882da30>"
      ]
     },
     "execution_count": 17,
     "metadata": {},
     "output_type": "execute_result"
    },
    {
     "data": {
      "image/png": "[encoded data removed]",
      "text/plain": [
       "<Figure size 288x144 with 1 Axes>"
      ]
     },
     "metadata": {
      "needs_background": "light"
     },
     "output_type": "display_data"
    }
   ],
   "source": [
    "sq_error=np.zeros(M1)\n",
    "sq_error_num=np.zeros(M1)\n",
    "\n",
    "for i in range(M1):\n",
    "  sq_error[i]=np.sum(np.abs(t_soln[i]-p_soln[i]))\n",
    "  sq_error_num[i]=np.sum(np.abs(t_soln[i]-n_soln[i]))\n",
    "  print(np.sum(t_soln[i]),'    ',sq_error[i])\n",
    "\n",
    "plt.figure(figsize=(4,2))\n",
    "plt.plot(X,sq_error,color='blue',label='pred')\n",
    "#plt.plot(X,sq_error_num,color='green',label='numeric')\n",
    "plt.title('Error with sample size= %d' % (M1))\n",
    "plt.xlabel('Total Order size')\n",
    "plt.ylabel('Sum of execution error')\n",
    "plt.legend()"
   ]
  },
  {
   "cell_type": "markdown",
   "metadata": {
    "id": "wQzIyZHqqm5t"
   },
   "source": [
    "Additional rough test"
   ]
  },
  {
   "cell_type": "code",
   "execution_count": 18,
   "metadata": {
    "id": "D-HLzw6CgLjT"
   },
   "outputs": [],
   "source": [
    "# from torch.nn.modules.pooling import MaxPool1d\n",
    "# M1=100\n",
    "# t_test=torch.zeros([M1,1])\n",
    "# D_test=torch.zeros([M1,1])\n",
    "# #D_test=torch.FloatTensor(M,1).uniform_(0.1,0.5)   #Price impact D_t\n",
    "# R_test=torch.linspace(50,100,100).unsqueeze(1)   #remaining balance R_t   #To get a positive solution R_t has to be greater than D_t\n",
    "# x_test=torch.cat((t_test,D_test,R_test),dim=1)\n",
    "# #print('Input=',x_test,'\\n')\n",
    "# soln=[]\n",
    "# x_update = x_test\n",
    "# #print(x_update)\n",
    "# for i in range(ite+1):\n",
    "#     #print(x_update)\n",
    "#     soln_pred=model(x_update)\n",
    "#     #print(soln_pred)\n",
    "#     x_udpate=update(x_update,soln_pred.squeeze(1))\n",
    "#     #print(x_update)\n",
    "#     soln.append(soln_pred)\n",
    "# strategy = torch.cat(soln,dim=1)\n",
    "# print(strategy)\n",
    "# # print('predicted soln=',strategy,'sum of all execution=',torch.sum(strategy,dim=1),'\\n')\n",
    "# a=[]\n",
    "# b=[]\n",
    "# c=[]\n",
    "# for x in R_test:\n",
    "#     a.append(x.numpy()[0])\n",
    "#     y=closed_form(x.numpy()[0],ite+1)\n",
    "#     #print(y)\n",
    "#     b.append(y[0][0])\n",
    "#     c.append(y[1])"
   ]
  },
  {
   "cell_type": "code",
   "execution_count": 19,
   "metadata": {},
   "outputs": [],
   "source": [
    "#model= torch.load('model_N10.pth')"
   ]
  },
  {
   "cell_type": "code",
   "execution_count": 20,
   "metadata": {},
   "outputs": [],
   "source": [
    "# from torch.nn.modules.pooling import MaxPool1d\n",
    "# M1=20\n",
    "# t_test=torch.zeros([M1,1])\n",
    "# D_test=torch.zeros([M1,1])\n",
    "# #D_test=torch.FloatTensor(M,1).uniform_(0.1,0.5)   #Price impact D_t\n",
    "# #R_test=torch.FloatTensor(M1,1).uniform_(50,100)   #remaining balance R_t   #To get a positive solution R_t has to be greater than D_t\n",
    "# R_test=torch.linspace(X0*0.95, X0*1.05, steps=M1).unsqueeze(1)\n",
    "# x_test=torch.cat((t_test,D_test,R_test),dim=1)\n",
    "# #print('Input=',x_test,'\\n')\n",
    "# a=torch.zeros(M1,ite+1)\n",
    "# #print(a.shape)\n",
    "# for i in range(ite+1):\n",
    "#   if(i!=ite):\n",
    "#     #print(x_test)\n",
    "#     soln_pred=model(x_test).squeeze(1).detach()\n",
    "#     a[:,i]=soln_pred\n",
    "#     x_test=update(x_test,soln_pred)\n",
    "#     #print(x_test,'\\n')\n",
    "#   else:\n",
    "#     a[:,i]=R_test.squeeze(1)-torch.sum(a,dim=1)\n",
    "\n",
    "# x1=R_test.squeeze().numpy()\n",
    "# c_true=np.zeros(M1)\n",
    "# c_pred=np.zeros(M1)\n",
    "# c_num=np.zeros(M1)\n",
    "# n_soln=np.zeros((M1,ite+1))\n",
    "# t_soln=np.zeros((M1,ite+1))\n",
    "\n",
    "# for i in range(M1):\n",
    "#   print('size of total order=',x1[i])\n",
    "\n",
    "#   t_soln[i,:]=closed_form(x1[i])\n",
    "#   print('closed form soln=',t_soln[i,:],'sum of all execution=',np.sum(t_soln[i,:]))\n",
    "#   true_cost=cost(t_soln[i,:])\n",
    "#   c_true[i]=true_cost\n",
    "#   print('Closed form cost=',true_cost,'\\n')\n",
    "\n",
    "#   print('predicted soln=',a[i,:],'sum of all execution=',torch.sum(a[i,:]).detach())\n",
    "#   pred_cost=cost(a[i,:].detach().numpy())\n",
    "#   print('predicted cost=',pred_cost,'\\n')\n",
    "#   c_pred[i]=pred_cost\n",
    "#   print('Percent Error in cost=',np.abs(100*(true_cost-pred_cost)/true_cost),'%\\n')\n",
    "    \n"
   ]
  },
  {
   "cell_type": "code",
   "execution_count": null,
   "metadata": {},
   "outputs": [],
   "source": []
  }
 ],
 "metadata": {
  "accelerator": "GPU",
  "colab": {
   "gpuType": "T4",
   "machine_shape": "hm",
   "provenance": []
  },
  "kernelspec": {
   "display_name": "Python 3",
   "language": "python",
   "name": "python3"
  },
  "language_info": {
   "codemirror_mode": {
    "name": "ipython",
    "version": 3
   },
   "file_extension": ".py",
   "mimetype": "text/x-python",
   "name": "python",
   "nbconvert_exporter": "python",
   "pygments_lexer": "ipython3",
   "version": "3.8.8"
  }
 },
 "nbformat": 4,
 "nbformat_minor": 1
}
