{
 "cells": [
  {
   "cell_type": "code",
   "execution_count": 8,
   "metadata": {
    "id": "PqNL-4FAgMis"
   },
   "outputs": [],
   "source": [
    "import numpy as np\n",
    "from scipy import misc\n",
    "import matplotlib.pyplot as plt\n",
    "import torch\n",
    "import torch.nn as nn\n",
    "import torch.nn.functional as F\n",
    "import torch.optim as optim\n",
    "import random\n",
    "import math\n",
    "import pandas as pd\n",
    "import cvxpy as cp\n",
    "from scipy.optimize import fsolve\n",
    "import time"
   ]
  },
  {
   "cell_type": "code",
   "execution_count": 9,
   "metadata": {
    "id": "MeYOz7uYgScR"
   },
   "outputs": [],
   "source": [
    "M=1000\n",
    "ite=10\n",
    "dim_n=3\n",
    "T=1\n",
    "delta = torch.tensor(T/(ite))\n",
    "sigma=0.2\n",
    "mu=0.3\n",
    "A0=0.0\n",
    "gamma=0.0\n",
    "kappa=0.5\n",
    "rho=5\n",
    "alpa=0.5\n",
    "X0=10000\n",
    "neuron_model_psi=20"
   ]
  },
  {
   "cell_type": "code",
   "execution_count": 11,
   "metadata": {},
   "outputs": [
    {
     "name": "stdout",
     "output_type": "stream",
     "text": [
      "tensor(0.1000)\n"
     ]
    }
   ],
   "source": [
    "print(delta)"
   ]
  },
  {
   "cell_type": "code",
   "execution_count": 12,
   "metadata": {
    "id": "93xjaCyOgTS0"
   },
   "outputs": [],
   "source": [
    "model= torch.nn.Sequential(\n",
    "    torch.nn.Linear(dim_n, neuron_model_psi),\n",
    "    torch.nn.ReLU(),\n",
    "    torch.nn.Linear(neuron_model_psi, neuron_model_psi),\n",
    "    torch.nn.ReLU(),\n",
    "#     torch.nn.Linear(neuron_model_psi, neuron_model_psi),\n",
    "#     torch.nn.ReLU(),\n",
    "#     torch.nn.Linear(neuron_model_psi, neuron_model_psi),\n",
    "#     torch.nn.ReLU(),\n",
    "    torch.nn.Linear(neuron_model_psi,1)\n",
    ")"
   ]
  },
  {
   "cell_type": "code",
   "execution_count": 13,
   "metadata": {
    "id": "ZU58vmPqgVX8"
   },
   "outputs": [],
   "source": [
    "t=torch.zeros([M,1])\n",
    "D=torch.zeros([M,1])\n",
    "#D=torch.FloatTensor(M,1).uniform_(0.1,0.5)   #Price impact D_t\n",
    "R=torch.FloatTensor(M,1).uniform_(X0*0.9,X0*1.1)   #remaining balance R_t   #To get a positive solution R_t has to be greater than D_t\n",
    "x=torch.cat((t,D,R),dim=1)\n",
    "# print(x)\n",
    "# print(x.shape)"
   ]
  },
  {
   "cell_type": "code",
   "execution_count": 10,
   "metadata": {
    "id": "XGmOeYfAgnFK"
   },
   "outputs": [],
   "source": [
    "def update(x3,psi):\n",
    "  t=(x3[:,0]+delta)\n",
    "  #print(psi.squeeze(1).shape,x1[:,1].shape)\n",
    "  #D = (x3[:,1]+kappa*psi)*torch.exp(-rho*delta)\n",
    "  D = (x3[:,1]+delta*kappa*torch.pow(torch.abs(psi),alpa))*torch.exp(-rho*delta)\n",
    "  R= x3[:,2]-psi\n",
    "  #print(D)\n",
    "  up=torch.cat((t.unsqueeze(1),D.unsqueeze(1),R.unsqueeze(1)),dim=1)\n",
    "  #print('up shape=', up.shape)\n",
    "  return up\n",
    "\n",
    "def loss_func(x2,psi):\n",
    "  loss=(x2[:,1]*psi+(kappa/2.0)*torch.pow(torch.abs(psi),alpa+1))\n",
    "  return loss\n",
    "\n",
    "def unit(x1,model):\n",
    "    psi=model(x1).squeeze(1)\n",
    "    los=loss_func(x1,psi)\n",
    "    upd=update(x1,psi)\n",
    "    #print('unit print=',psi.shape,los.shape,upd.shape)\n",
    "    return psi,los,upd\n",
    "\n",
    "def loss_func_total(u,model):\n",
    "  loss=torch.zeros(M,ite)\n",
    "  psi=torch.zeros(M,ite)\n",
    "  for i in range(ite+1):\n",
    "    if(i!=ite):\n",
    "      psi_run,loss_run,u_run=unit(u,model)\n",
    "      #print('los func=',psi_run.shape,loss_run.shape)\n",
    "      loss[:,i]=loss_run\n",
    "      #print(loss)\n",
    "      psi[:,i]=psi_run\n",
    "      #print(psi)\n",
    "      u=u_run\n",
    "      #print(u)\n",
    "    else:\n",
    "      #print(torch.sum(psi,dim=1),R.squeeze(1))\n",
    "      psi_ter=R.squeeze(1)-torch.sum(psi,dim=1)\n",
    "      loss_ter=loss_func(u,psi_ter)\n",
    "      #print('ter',loss_ter.shape)\n",
    "  #print(torch.sum(loss,dim=1))\n",
    "  loss=torch.sum(loss,dim=1)+loss_ter\n",
    "  #print(loss.shape)\n",
    "  return torch.mean(loss)"
   ]
  },
  {
   "cell_type": "markdown",
   "metadata": {
    "id": "aC2vdJPG00zc"
   },
   "source": [
    "Training"
   ]
  },
  {
   "cell_type": "code",
   "execution_count": 16,
   "metadata": {},
   "outputs": [
    {
     "name": "stdout",
     "output_type": "stream",
     "text": [
      "At epoch 0 the mean cost is 1895758.875.\n",
      "At epoch 100 the mean cost is 97984.3125.\n",
      "Delta Loss = 0.0 , epoch = 109\n",
      "time elapsed= 0.9095680713653564\n"
     ]
    }
   ],
   "source": [
    "start=time.time()\n",
    "lr1 = 8e-3\n",
    "epoch=0\n",
    "num_epochs=8000\n",
    "loss_epoch=[]\n",
    "L_=torch.tensor([-1000])\n",
    "optimizer = optim.Adam(model.parameters(), lr1)\n",
    "cost=torch.tensor([100000])\n",
    "err=1e-10\n",
    "#print(psi.shape)\n",
    "while (torch.abs(L_-cost)/torch.abs(L_)>err) &  (epoch <= num_epochs):\n",
    "  optimizer.zero_grad()\n",
    "  cost=loss_func_total(x,model)\n",
    "  cost.backward()\n",
    "  optimizer.step()\n",
    "  loss_epoch.append(cost)\n",
    "  if epoch>0:\n",
    "    L_ = loss_epoch[epoch-1]\n",
    "  #print(cost,L_.item())\n",
    "  if (epoch % 100==0):\n",
    "    print(\"At epoch {} the mean cost is {}.\".format(epoch,cost.detach()))\n",
    "  if (torch.abs(L_-cost)/torch.abs(L_)<=err):\n",
    "    print(\"Delta Loss = {} , epoch = {}\".format(torch.abs(L_-cost)/torch.abs(L_),epoch))\n",
    "  epoch=epoch+1\n",
    "\n",
    "end=time.time()\n",
    "print('time elapsed=',end-start)"
   ]
  },
  {
   "cell_type": "code",
   "execution_count": 11,
   "metadata": {},
   "outputs": [],
   "source": [
    "model= torch.load('model_N10_alpa0.5.pth')"
   ]
  },
  {
   "cell_type": "markdown",
   "metadata": {
    "id": "-6SwQUFvkmPl"
   },
   "source": [
    "# Cost"
   ]
  },
  {
   "cell_type": "code",
   "execution_count": 5,
   "metadata": {
    "id": "LdgOnrDvkowO"
   },
   "outputs": [],
   "source": [
    "def closed_cost(y):\n",
    "    cost1=0.0\n",
    "    D1=0.0\n",
    "    for i in range(ite+1):\n",
    "        cost1+=D1*y[i]+(kappa/2.0)*np.power(y[i],alpa)\n",
    "        D1=(D1+kappa*np.power(y[i],alpa))*np.exp(-rho*T/ite)\n",
    "    return cost1"
   ]
  },
  {
   "cell_type": "markdown",
   "metadata": {
    "id": "83IFXBNYwiIc"
   },
   "source": [
    "**Testing ** We have compared the closed form solution from Obhizaeva and Wang, our predicted solution and the solution from python convex optimization package cvxpy"
   ]
  },
  {
   "cell_type": "code",
   "execution_count": 12,
   "metadata": {
    "colab": {
     "base_uri": "https://localhost:8080/"
    },
    "id": "SVvNy5hi4vc2",
    "outputId": "e3a7a6a0-5193-4a6f-9f12-8c917599c3fd"
   },
   "outputs": [
    {
     "name": "stdout",
     "output_type": "stream",
     "text": [
      "size of total order= 9500.0\n",
      "predicted soln= tensor([1552.0505, 1298.5416, 1086.4417,  908.9874,  760.5197,  636.3041,\n",
      "         532.3791,  445.4302,  372.6846,  311.8220, 1594.8398]) sum of all execution= tensor(9500.)\n",
      "size of total order= 9552.632\n",
      "predicted soln= tensor([1560.6481, 1305.7347, 1092.4598,  914.0225,  764.7322,  639.8286,\n",
      "         535.3278,  447.8972,  374.7486,  313.5489, 1603.6836]) sum of all execution= tensor(9552.6328)\n",
      "size of total order= 9605.263\n",
      "predicted soln= tensor([1569.2454, 1312.9277, 1098.4778,  919.0574,  768.9448,  643.3530,\n",
      "         538.2764,  450.3643,  376.8127,  315.2757, 1612.5273]) sum of all execution= tensor(9605.2627)\n",
      "size of total order= 9657.895\n",
      "predicted soln= tensor([1577.8430, 1320.1208, 1104.4958,  924.0923,  773.1573,  646.8773,\n",
      "         541.2251,  452.8312,  378.8766,  317.0026, 1621.3726]) sum of all execution= tensor(9657.8955)\n",
      "size of total order= 9710.526\n",
      "predicted soln= tensor([1586.4404, 1327.3138, 1110.5139,  929.1274,  777.3698,  650.4017,\n",
      "         544.1738,  455.2982,  380.9406,  318.7294, 1630.2168]) sum of all execution= tensor(9710.5254)\n",
      "size of total order= 9763.158\n",
      "predicted soln= tensor([1595.0380, 1334.5068, 1116.5321,  934.1625,  781.5824,  653.9261,\n",
      "         547.1224,  457.7654,  383.0047,  320.4563, 1639.0610]) sum of all execution= tensor(9763.1582)\n",
      "size of total order= 9815.789\n",
      "predicted soln= tensor([1603.6351, 1341.7000, 1122.5500,  939.1975,  785.7950,  657.4507,\n",
      "         550.0713,  460.2324,  385.0687,  322.1832, 1647.9048]) sum of all execution= tensor(9815.7881)\n",
      "size of total order= 9868.421\n",
      "predicted soln= tensor([1612.2328, 1348.8932, 1128.5681,  944.2325,  790.0076,  660.9750,\n",
      "         553.0200,  462.6993,  387.1327,  323.9100, 1656.7500]) sum of all execution= tensor(9868.4199)\n",
      "size of total order= 9921.053\n",
      "predicted soln= tensor([1620.8303, 1356.0862, 1134.5864,  949.2675,  794.2200,  664.4994,\n",
      "         555.9686,  465.1664,  389.1967,  325.6369, 1665.5938]) sum of all execution= tensor(9921.0518)\n",
      "size of total order= 9973.685\n",
      "predicted soln= tensor([1629.4279, 1363.2793, 1140.6042,  954.3025,  798.4325,  668.0237,\n",
      "         558.9172,  467.6334,  391.2607,  327.3638, 1674.4395]) sum of all execution= tensor(9973.6846)\n",
      "size of total order= 10026.315\n",
      "predicted soln= tensor([1638.0250, 1370.4720, 1146.6222,  959.3374,  802.6451,  671.5481,\n",
      "         561.8660,  470.1004,  393.3248,  329.0906, 1683.2832]) sum of all execution= tensor(10026.3154)\n",
      "size of total order= 10078.947\n",
      "predicted soln= tensor([1646.6226, 1377.6652, 1152.6404,  964.3724,  806.8575,  675.0725,\n",
      "         564.8146,  472.5674,  395.3888,  330.8175, 1692.1279]) sum of all execution= tensor(10078.9473)\n",
      "size of total order= 10131.579\n",
      "predicted soln= tensor([1655.2200, 1384.8584, 1158.6586,  969.4076,  811.0701,  678.5969,\n",
      "         567.7634,  475.0344,  397.4528,  332.5443, 1700.9727]) sum of all execution= tensor(10131.5791)\n",
      "size of total order= 10184.211\n",
      "predicted soln= tensor([1663.8176, 1392.0515, 1164.6766,  974.4425,  815.2827,  682.1214,\n",
      "         570.7121,  477.5014,  399.5168,  334.2712, 1709.8174]) sum of all execution= tensor(10184.2100)\n",
      "size of total order= 10236.842\n",
      "predicted soln= tensor([1672.4149, 1399.2444, 1170.6946,  979.4775,  819.4952,  685.6458,\n",
      "         573.6608,  479.9685,  401.5809,  335.9981, 1718.6611]) sum of all execution= tensor(10236.8418)\n",
      "size of total order= 10289.474\n",
      "predicted soln= tensor([1681.0125, 1406.4375, 1176.7126,  984.5123,  823.7077,  689.1702,\n",
      "         576.6094,  482.4355,  403.6450,  337.7249, 1727.5068]) sum of all execution= tensor(10289.4736)\n",
      "size of total order= 10342.105\n",
      "predicted soln= tensor([1689.6099, 1413.6306, 1182.7307,  989.5476,  827.9203,  692.6946,\n",
      "         579.5582,  484.9025,  405.7090,  339.4518, 1736.3496]) sum of all execution= tensor(10342.1045)\n",
      "size of total order= 10394.737\n",
      "predicted soln= tensor([1698.2074, 1420.8237, 1188.7489,  994.5826,  832.1328,  696.2191,\n",
      "         582.5068,  487.3695,  407.7730,  341.1786, 1745.1943]) sum of all execution= tensor(10394.7363)\n",
      "size of total order= 10447.368\n",
      "predicted soln= tensor([1706.8047, 1428.0167, 1194.7668,  999.6176,  836.3453,  699.7435,\n",
      "         585.4555,  489.8365,  409.8370,  342.9055, 1754.0381]) sum of all execution= tensor(10447.3672)\n",
      "size of total order= 10500.0\n",
      "predicted soln= tensor([1715.4022, 1435.2097, 1200.7848, 1004.6526,  840.5578,  703.2678,\n",
      "         588.4041,  492.3035,  411.9010,  344.6324, 1762.8838]) sum of all execution= tensor(10500.)\n"
     ]
    }
   ],
   "source": [
    "from torch.nn.modules.pooling import MaxPool1d\n",
    "M1=20\n",
    "t_test=torch.zeros([M1,1])\n",
    "D_test=torch.zeros([M1,1])\n",
    "#D_test=torch.FloatTensor(M,1).uniform_(0.1,0.5)   #Price impact D_t\n",
    "#R_test=torch.FloatTensor(M1,1).uniform_(50,100)   #remaining balance R_t   #To get a positive solution R_t has to be greater than D_t\n",
    "R_test=torch.linspace(X0*0.95, X0*1.05, steps=M1).unsqueeze(1)\n",
    "x_test=torch.cat((t_test,D_test,R_test),dim=1)\n",
    "#print('Input=',x_test,'\\n')\n",
    "a=torch.zeros(M1,ite+1)\n",
    "#print(a.shape)\n",
    "for i in range(ite+1):\n",
    "  if(i!=ite):\n",
    "    #print(x_test)\n",
    "    soln_pred=model(x_test).squeeze(1).detach()\n",
    "    a[:,i]=soln_pred\n",
    "    x_test=update(x_test,soln_pred)\n",
    "    #print(x_test,'\\n')\n",
    "  else:\n",
    "    a[:,i]=R_test.squeeze(1)-torch.sum(a,dim=1)\n",
    "\n",
    "x1=R_test.squeeze().numpy()\n",
    "# c_true=np.zeros(M1)\n",
    "# c_pred=np.zeros(M1)\n",
    "# c_num=np.zeros(M1)\n",
    "# n_soln=np.zeros((M1,ite+1))\n",
    "# t_soln=np.zeros((M1,ite+1))\n",
    "\n",
    "for i in range(M1):\n",
    "  print('size of total order=',x1[i])\n",
    "\n",
    "  print('predicted soln=',a[i,:],'sum of all execution=',torch.sum(a[i,:]).detach())\n",
    "#   pred_cost=cost(a[i,:])\n",
    "#   print('predicted cost=',pred_cost.detach().numpy(),'\\n')\n",
    "#   c_pred[i]=pred_cost"
   ]
  },
  {
   "cell_type": "markdown",
   "metadata": {
    "id": "bIUWsQuCMJoI"
   },
   "source": [
    "Comparing the cost"
   ]
  },
  {
   "cell_type": "markdown",
   "metadata": {
    "id": "sDVg2A6yAt57"
   },
   "source": [
    "Comparing solution for diffeternt testing samples"
   ]
  },
  {
   "cell_type": "code",
   "execution_count": 13,
   "metadata": {
    "colab": {
     "base_uri": "https://localhost:8080/",
     "height": 1000
    },
    "id": "vOZyCiOfA2ej",
    "outputId": "43fe60aa-e0af-41d1-ca70-b0e9e8652ed9"
   },
   "outputs": [
    {
     "name": "stderr",
     "output_type": "stream",
     "text": [
      "The PostScript backend does not support transparency; partially transparent artists will be rendered opaque.\n",
      "The PostScript backend does not support transparency; partially transparent artists will be rendered opaque.\n"
     ]
    },
    {
     "data": {
      "image/png": "[encoded data removed]",
      "text/plain": [
       "<Figure size 432x216 with 1 Axes>"
      ]
     },
     "metadata": {
      "needs_background": "light"
     },
     "output_type": "display_data"
    },
    {
     "data": {
      "image/png": "[encoded data removed]",
      "text/plain": [
       "<Figure size 432x216 with 1 Axes>"
      ]
     },
     "metadata": {
      "needs_background": "light"
     },
     "output_type": "display_data"
    },
    {
     "data": {
      "image/png": "[encoded data removed]",
      "text/plain": [
       "<Figure size 432x216 with 1 Axes>"
      ]
     },
     "metadata": {
      "needs_background": "light"
     },
     "output_type": "display_data"
    },
    {
     "data": {
      "image/png": "[encoded data removed]",
      "text/plain": [
       "<Figure size 432x216 with 1 Axes>"
      ]
     },
     "metadata": {
      "needs_background": "light"
     },
     "output_type": "display_data"
    },
    {
     "data": {
      "image/png": "[encoded data removed]",
      "text/plain": [
       "<Figure size 432x216 with 1 Axes>"
      ]
     },
     "metadata": {
      "needs_background": "light"
     },
     "output_type": "display_data"
    },
    {
     "data": {
      "image/png": "[encoded data removed]",
      "text/plain": [
       "<Figure size 432x216 with 1 Axes>"
      ]
     },
     "metadata": {
      "needs_background": "light"
     },
     "output_type": "display_data"
    },
    {
     "data": {
      "image/png": "[encoded data removed]",
      "text/plain": [
       "<Figure size 432x216 with 1 Axes>"
      ]
     },
     "metadata": {
      "needs_background": "light"
     },
     "output_type": "display_data"
    }
   ],
   "source": [
    "p_soln=a.numpy()\n",
    "t_step=np.linspace(0,ite,num=ite+1)\n",
    "name='E:/Robin research/7thECMF_PosterPresent/Figures/alpa0.5.eps'\n",
    "def plotting(t):\n",
    "  #print('Total order size=',x1[t],np.sum(n_soln[t]),np.sum(p_soln[t]))\n",
    "  #print(n_soln[t],p_soln[t])\n",
    "  plt.figure(figsize=(6,3))\n",
    "  #plt.bar(t_step,t_soln[t],color='blue',width=0.3,label='Closed-Form')\n",
    "  plt.bar(t_step,p_soln[t],color='red',width=0.2,label='DNN')\n",
    "  #plt.bar(t_step,n_soln[t],color='green',width=0.1,label='numeric')\n",
    "  plt.title('Total Order size X= %f' % (x1[t]))\n",
    "  plt.xlabel('Time steps')\n",
    "  plt.ylabel('Optimal orders')\n",
    "  plt.legend()\n",
    "  #plt.savefig('f.eps', format='eps')\n",
    "  if(t==0):\n",
    "    plt.savefig(name,format='eps')      \n",
    "  plt.show()\n",
    "for i in range(0,M1,3):\n",
    "  plotting(i)\n",
    "\n"
   ]
  },
  {
   "cell_type": "markdown",
   "metadata": {
    "id": "WDxwTUz0cM7i"
   },
   "source": [
    "Comparing solution at different time steps"
   ]
  },
  {
   "cell_type": "code",
   "execution_count": null,
   "metadata": {
    "colab": {
     "base_uri": "https://localhost:8080/",
     "height": 495
    },
    "id": "fhTjyEOhcTDi",
    "outputId": "f7434824-b622-4684-cba5-de03d91e7a07"
   },
   "outputs": [],
   "source": [
    "#p_soln=a.numpy()\n",
    "t_step=np.linspace(0,ite,num=ite+1)\n",
    "X=R_test.squeeze(1).numpy()\n",
    "def plotting_time(t):\n",
    "  #print(t_soln[t],p_soln[t])\n",
    "  plt.figure(figsize=(4,2))\n",
    "  plt.plot(X,p_soln[:,0],color='red',label='pred')\n",
    "  plt.title('At time= %d' % (t_step[t]))\n",
    "  plt.xlabel('Total Order size')\n",
    "  plt.ylabel('Optimal orders')\n",
    "  plt.legend()\n",
    "  plt.show\n",
    "for i in range(0,t_step.shape[0],5):\n",
    "  plotting_time(i)\n"
   ]
  },
  {
   "cell_type": "markdown",
   "metadata": {
    "id": "freyX0vxj9Gi"
   },
   "source": [
    "Absolute sum of the difference between true solution, predicted solution and true soln, numeric soln at each time step"
   ]
  },
  {
   "cell_type": "markdown",
   "metadata": {},
   "source": [
    "# Saving Model"
   ]
  },
  {
   "cell_type": "code",
   "execution_count": 21,
   "metadata": {},
   "outputs": [],
   "source": [
    "#torch.save(model, 'model_N10_alpa0.5.pth')"
   ]
  },
  {
   "cell_type": "code",
   "execution_count": null,
   "metadata": {},
   "outputs": [],
   "source": []
  }
 ],
 "metadata": {
  "accelerator": "GPU",
  "colab": {
   "gpuType": "T4",
   "machine_shape": "hm",
   "provenance": []
  },
  "kernelspec": {
   "display_name": "Python 3",
   "language": "python",
   "name": "python3"
  },
  "language_info": {
   "codemirror_mode": {
    "name": "ipython",
    "version": 3
   },
   "file_extension": ".py",
   "mimetype": "text/x-python",
   "name": "python",
   "nbconvert_exporter": "python",
   "pygments_lexer": "ipython3",
   "version": "3.8.8"
  }
 },
 "nbformat": 4,
 "nbformat_minor": 1
}
