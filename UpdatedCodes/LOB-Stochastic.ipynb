{
 "cells": [
  {
   "cell_type": "code",
   "execution_count": 1,
   "id": "e88956d7",
   "metadata": {},
   "outputs": [],
   "source": [
    "import numpy as np\n",
    "import time\n",
    "from scipy import misc\n",
    "import matplotlib.pyplot as plt\n",
    "import torch\n",
    "import torch.nn as nn\n",
    "import torch.nn.functional as F\n",
    "import torch.optim as optim\n",
    "import random\n",
    "import math\n",
    "import pandas as pd\n",
    "from scipy.optimize import fsolve"
   ]
  },
  {
   "cell_type": "code",
   "execution_count": 2,
   "id": "50a8335d",
   "metadata": {},
   "outputs": [
    {
     "name": "stdout",
     "output_type": "stream",
     "text": [
      "tensor(0.0100)\n"
     ]
    }
   ],
   "source": [
    "M=1000\n",
    "ite=10\n",
    "dim_n=5\n",
    "T=0.1\n",
    "delta = torch.tensor(T/ite)\n",
    "#delta=torch.tensor(0.01)\n",
    "sigma=0.1\n",
    "sigma1=1e-3\n",
    "sigma2=1e-2#1e-2\n",
    "theta1=1\n",
    "theta2=1\n",
    "mu1=1e-1#kappa1e-3\n",
    "mu2=5 #rho\n",
    "A0=0.0\n",
    "gamma=0.0\n",
    "X0=1000\n",
    "neuron_model_psi=20\n",
    "print(delta)"
   ]
  },
  {
   "cell_type": "code",
   "execution_count": 3,
   "id": "74cdec5b",
   "metadata": {},
   "outputs": [],
   "source": [
    "model= torch.nn.Sequential(\n",
    "    torch.nn.Linear(dim_n, neuron_model_psi),\n",
    "#     torch.nn.Linear(neuron_model_psi, neuron_model_psi),\n",
    "#     torch.nn.ReLU(),\n",
    "#     torch.nn.Linear(neuron_model_psi, neuron_model_psi),\n",
    "#     torch.nn.ReLU(),   torch.nn.ReLU(),\n",
    "\n",
    "    torch.nn.Linear(neuron_model_psi, neuron_model_psi),\n",
    "    torch.nn.ReLU(),\n",
    "    torch.nn.Linear(neuron_model_psi,1)\n",
    ")"
   ]
  },
  {
   "cell_type": "code",
   "execution_count": 4,
   "id": "c2135973",
   "metadata": {},
   "outputs": [],
   "source": [
    "def kappa_rho_sim(M,ite,theta1,mu1,sigma1,theta2,mu2,sigma2):\n",
    "    kappa=torch.zeros([M,ite+1])\n",
    "    kappa[:,0]=mu1\n",
    "    rho=torch.zeros([M,ite+1])\n",
    "    rho[:,0]=mu2\n",
    "\n",
    "    for i in range (1,ite+1):\n",
    "        kappa[:,i]=kappa[:,i-1]+theta1*(mu1-kappa[:,i-1])*delta+np.sqrt(delta)*sigma1*np.random.rand(M)  # Xn+1=Xn+θ(μ−Xn)Δt+σΔWn\n",
    "        rho[:,i]=rho[:,i-1]+theta2*(mu2-rho[:,i-1])*delta+np.sqrt(delta)*sigma2*np.random.rand(M)\n",
    "    return kappa,rho"
   ]
  },
  {
   "cell_type": "code",
   "execution_count": 5,
   "id": "b4cff12c",
   "metadata": {},
   "outputs": [],
   "source": [
    "t=torch.zeros([M,1])\n",
    "D=torch.zeros([M,1])\n",
    "kappa,rho=kappa_rho_sim(M,ite,theta1,mu1,sigma1,theta2,mu2,sigma2)\n",
    "R=torch.FloatTensor(M,1).uniform_(X0*0.9,X0*1.1)   #remaining balance R_t   #To get a positive solution R_t has to be greater than D_t\n"
   ]
  },
  {
   "cell_type": "code",
   "execution_count": 6,
   "id": "136ed2c7",
   "metadata": {},
   "outputs": [
    {
     "name": "stdout",
     "output_type": "stream",
     "text": [
      "kappa= tensor([[0.1000, 0.1001, 0.1002,  ..., 0.1004, 0.1004, 0.1005],\n",
      "        [0.1000, 0.1000, 0.1000,  ..., 0.1003, 0.1003, 0.1003],\n",
      "        [0.1000, 0.1000, 0.1001,  ..., 0.1005, 0.1005, 0.1006],\n",
      "        ...,\n",
      "        [0.1000, 0.1001, 0.1002,  ..., 0.1004, 0.1004, 0.1005],\n",
      "        [0.1000, 0.1001, 0.1001,  ..., 0.1006, 0.1006, 0.1007],\n",
      "        [0.1000, 0.1001, 0.1001,  ..., 0.1004, 0.1005, 0.1005]]) \n",
      " rho= tensor([[5.0000, 5.0001, 5.0008,  ..., 5.0043, 5.0052, 5.0056],\n",
      "        [5.0000, 5.0006, 5.0010,  ..., 5.0036, 5.0043, 5.0049],\n",
      "        [5.0000, 5.0007, 5.0016,  ..., 5.0048, 5.0056, 5.0061],\n",
      "        ...,\n",
      "        [5.0000, 5.0000, 5.0008,  ..., 5.0042, 5.0042, 5.0049],\n",
      "        [5.0000, 5.0004, 5.0013,  ..., 5.0028, 5.0029, 5.0037],\n",
      "        [5.0000, 5.0010, 5.0015,  ..., 5.0050, 5.0056, 5.0061]])\n"
     ]
    }
   ],
   "source": [
    "print('kappa=',kappa,'\\n rho=',rho) \n",
    "x=torch.cat((t,D,R,kappa[:,0].unsqueeze(1),rho[:,0].unsqueeze(1)),dim=1)"
   ]
  },
  {
   "cell_type": "code",
   "execution_count": 7,
   "id": "6df336b9",
   "metadata": {},
   "outputs": [
    {
     "name": "stdout",
     "output_type": "stream",
     "text": [
      "true\n"
     ]
    }
   ],
   "source": [
    "if (rho >0).all():\n",
    "    print('true')"
   ]
  },
  {
   "cell_type": "code",
   "execution_count": 8,
   "id": "518c9f39",
   "metadata": {},
   "outputs": [],
   "source": [
    "def update(x3,psi,i):\n",
    "  t=(x3[:,0]+(1/ite))\n",
    "  kap=kappa[:,i+1]\n",
    "  rh=rho[:,i+1]\n",
    "#   kappa=x3[:,3]+theta1*(mu1-x3[:,3])*delta+torch.sqrt(delta)*sigma1*W1[i]\n",
    "#   rho=x3[:,4]+theta2*(mu2-x3[:,4])*delta+torch.sqrt(delta)*sigma1*W2[i]\n",
    "  D = (x3[:,1]+kap*psi)*torch.exp(-rh*delta)\n",
    "  #print('d',D.shape)\n",
    "  R= x3[:,2]-psi\n",
    "  #print(kappa.shape,rho.shape)\n",
    "  up=torch.cat((t.unsqueeze(1),D.unsqueeze(1),R.unsqueeze(1),kap.unsqueeze(1),rh.unsqueeze(1)),dim=1)\n",
    "  return up\n",
    "\n",
    "def loss_func(x2,psi):\n",
    "  loss=(x2[:,1]*psi+(x2[:,3]/2.0)*torch.pow(psi,2))\n",
    "  #print('loss',loss.shape)\n",
    "  return loss\n",
    "\n",
    "def unit(x1,model,i):\n",
    "    psi=model(x1).squeeze(1)\n",
    "    los=loss_func(x1,psi)\n",
    "    upd=update(x1,psi,i)\n",
    "    #print(upd)\n",
    "    return psi,los,upd\n",
    "\n",
    "def loss_func_total(u,model):\n",
    "  loss=torch.zeros(M,ite)\n",
    "  psi=torch.zeros(M,ite)\n",
    "  for i in range(ite+1):\n",
    "    if(i!=ite):\n",
    "      psi_run,loss_run,u_run=unit(u,model,i)\n",
    "      #print('los func=',psi_run.shape,loss_run.shape)\n",
    "      loss[:,i]=loss_run\n",
    "      #print(loss)\n",
    "      psi[:,i]=psi_run\n",
    "      #print(psi)\n",
    "      u=u_run\n",
    "      #print(u)\n",
    "    else:\n",
    "      #print(torch.sum(psi,dim=1),R.squeeze(1))\n",
    "      psi_ter=R.squeeze(1)-torch.sum(psi,dim=1)\n",
    "      loss_ter=loss_func(u,psi_ter)\n",
    "      #print('ter',loss_ter.shape)\n",
    "  #print(torch.sum(loss,dim=1))\n",
    "  loss=torch.sum(loss,dim=1)+loss_ter\n",
    "  #print(loss.shape)\n",
    "  return torch.mean(loss)"
   ]
  },
  {
   "cell_type": "code",
   "execution_count": 9,
   "id": "4ba6edff",
   "metadata": {},
   "outputs": [
    {
     "name": "stdout",
     "output_type": "stream",
     "text": [
      "At epoch 0 the mean cost is 50569.46484375.\n",
      "At epoch 100 the mean cost is 40878.43359375.\n",
      "At epoch 200 the mean cost is 40259.078125.\n",
      "At epoch 300 the mean cost is 40222.30859375.\n",
      "At epoch 400 the mean cost is 40221.375.\n",
      "At epoch 500 the mean cost is 40220.37109375.\n",
      "At epoch 600 the mean cost is 40219.3125.\n",
      "At epoch 700 the mean cost is 40218.19140625.\n",
      "At epoch 800 the mean cost is 40217.01953125.\n",
      "At epoch 900 the mean cost is 40215.80078125.\n",
      "At epoch 1000 the mean cost is 40214.52734375.\n",
      "At epoch 1100 the mean cost is 40213.1875.\n",
      "At epoch 1200 the mean cost is 40211.78125.\n",
      "At epoch 1300 the mean cost is 40210.29296875.\n",
      "At epoch 1400 the mean cost is 40208.71875.\n",
      "At epoch 1500 the mean cost is 40207.0703125.\n",
      "At epoch 1600 the mean cost is 40205.375.\n",
      "At epoch 1700 the mean cost is 40203.6875.\n",
      "At epoch 1800 the mean cost is 40202.11328125.\n",
      "At epoch 1900 the mean cost is 40200.76171875.\n",
      "At epoch 2000 the mean cost is 40199.73046875.\n",
      "At epoch 2100 the mean cost is 40199.046875.\n",
      "At epoch 2200 the mean cost is 40198.640625.\n",
      "At epoch 2300 the mean cost is 40198.41015625.\n",
      "At epoch 2400 the mean cost is 40198.28515625.\n",
      "At epoch 2500 the mean cost is 40198.1953125.\n",
      "At epoch 2600 the mean cost is 40198.1328125.\n",
      "At epoch 2700 the mean cost is 40198.06640625.\n",
      "At epoch 2800 the mean cost is 40198.00390625.\n",
      "At epoch 2900 the mean cost is 40197.9453125.\n",
      "At epoch 3000 the mean cost is 40197.88671875.\n",
      "At epoch 3100 the mean cost is 40197.8359375.\n",
      "At epoch 3200 the mean cost is 40197.78515625.\n",
      "At epoch 3300 the mean cost is 40197.73828125.\n",
      "At epoch 3400 the mean cost is 40197.69140625.\n",
      "At epoch 3500 the mean cost is 40197.6484375.\n",
      "At epoch 3600 the mean cost is 40197.6171875.\n",
      "At epoch 3700 the mean cost is 40197.5859375.\n",
      "At epoch 3800 the mean cost is 40197.5625.\n",
      "At epoch 3900 the mean cost is 40197.54296875.\n",
      "At epoch 4000 the mean cost is 40197.59765625.\n",
      "At epoch 4100 the mean cost is 40197.50390625.\n",
      "At epoch 4200 the mean cost is 40197.4921875.\n",
      "At epoch 4300 the mean cost is 40198.96875.\n",
      "At epoch 4400 the mean cost is 40197.47265625.\n",
      "At epoch 4500 the mean cost is 40197.46484375.\n",
      "At epoch 4600 the mean cost is 40198.578125.\n",
      "At epoch 4700 the mean cost is 40197.45703125.\n",
      "At epoch 4800 the mean cost is 40197.44140625.\n",
      "At epoch 4900 the mean cost is 40197.44140625.\n",
      "At epoch 5000 the mean cost is 40197.4375.\n",
      "At epoch 5100 the mean cost is 40197.43359375.\n",
      "At epoch 5200 the mean cost is 40197.43359375.\n",
      "At epoch 5300 the mean cost is 40197.42578125.\n",
      "At epoch 5400 the mean cost is 40197.484375.\n",
      "At epoch 5500 the mean cost is 40197.421875.\n",
      "At epoch 5600 the mean cost is 40197.421875.\n",
      "At epoch 5700 the mean cost is 40197.43359375.\n",
      "At epoch 5800 the mean cost is 40197.421875.\n",
      "At epoch 5900 the mean cost is 40197.4140625.\n",
      "At epoch 6000 the mean cost is 40197.421875.\n",
      "At epoch 6100 the mean cost is 40197.4140625.\n",
      "At epoch 6200 the mean cost is 40197.53125.\n",
      "At epoch 6300 the mean cost is 40197.4140625.\n",
      "At epoch 6400 the mean cost is 40197.41015625.\n",
      "At epoch 6500 the mean cost is 40197.41015625.\n",
      "At epoch 6600 the mean cost is 40197.4296875.\n",
      "At epoch 6700 the mean cost is 40197.41015625.\n",
      "At epoch 6800 the mean cost is 40197.41015625.\n",
      "At epoch 6900 the mean cost is 40198.11328125.\n",
      "At epoch 7000 the mean cost is 40197.40625.\n",
      "At epoch 7100 the mean cost is 40197.40625.\n",
      "At epoch 7200 the mean cost is 40199.9140625.\n",
      "At epoch 7300 the mean cost is 40197.40625.\n",
      "At epoch 7400 the mean cost is 40197.40625.\n",
      "At epoch 7500 the mean cost is 40197.40625.\n",
      "At epoch 7600 the mean cost is 40197.3984375.\n",
      "At epoch 7700 the mean cost is 40197.390625.\n",
      "At epoch 7800 the mean cost is 40197.39453125.\n",
      "At epoch 7900 the mean cost is 40197.390625.\n",
      "At epoch 8000 the mean cost is 40197.38671875.\n",
      "At epoch 8100 the mean cost is 40197.38671875.\n",
      "At epoch 8200 the mean cost is 40197.390625.\n",
      "At epoch 8300 the mean cost is 40197.40625.\n",
      "At epoch 8400 the mean cost is 40197.390625.\n",
      "At epoch 8500 the mean cost is 40197.390625.\n",
      "At epoch 8600 the mean cost is 40197.390625.\n",
      "At epoch 8700 the mean cost is 40197.38671875.\n",
      "At epoch 8800 the mean cost is 40197.390625.\n",
      "At epoch 8900 the mean cost is 40197.38671875.\n",
      "At epoch 9000 the mean cost is 40197.38671875.\n",
      "At epoch 9100 the mean cost is 40197.44921875.\n",
      "At epoch 9200 the mean cost is 40197.38671875.\n",
      "At epoch 9300 the mean cost is 40197.38671875.\n",
      "At epoch 9400 the mean cost is 40197.82421875.\n",
      "At epoch 9500 the mean cost is 40197.38671875.\n",
      "At epoch 9600 the mean cost is 40197.38671875.\n",
      "At epoch 9700 the mean cost is 40197.59375.\n",
      "At epoch 9800 the mean cost is 40197.38671875.\n",
      "At epoch 9900 the mean cost is 40197.38671875.\n",
      "At epoch 10000 the mean cost is 40197.5.\n",
      "At epoch 10100 the mean cost is 40197.38671875.\n",
      "At epoch 10200 the mean cost is 40197.38671875.\n",
      "At epoch 10300 the mean cost is 40197.7734375.\n",
      "At epoch 10400 the mean cost is 40197.38671875.\n",
      "At epoch 10500 the mean cost is 40197.38671875.\n",
      "At epoch 10600 the mean cost is 40198.015625.\n",
      "At epoch 10700 the mean cost is 40197.38671875.\n",
      "At epoch 10800 the mean cost is 40197.38671875.\n",
      "At epoch 10900 the mean cost is 40197.38671875.\n",
      "At epoch 11000 the mean cost is 40197.38671875.\n",
      "At epoch 11100 the mean cost is 40197.38671875.\n",
      "At epoch 11200 the mean cost is 40197.38671875.\n",
      "At epoch 11300 the mean cost is 40197.39453125.\n",
      "At epoch 11400 the mean cost is 40197.38671875.\n",
      "At epoch 11500 the mean cost is 40197.38671875.\n",
      "At epoch 11600 the mean cost is 40197.38671875.\n",
      "At epoch 11700 the mean cost is 40197.38671875.\n",
      "At epoch 11800 the mean cost is 40197.390625.\n",
      "At epoch 11900 the mean cost is 40197.38671875.\n",
      "At epoch 12000 the mean cost is 40197.38671875.\n",
      "At epoch 12100 the mean cost is 40197.38671875.\n",
      "At epoch 12200 the mean cost is 40197.390625.\n",
      "At epoch 12300 the mean cost is 40197.38671875.\n",
      "At epoch 12400 the mean cost is 40197.38671875.\n",
      "At epoch 12500 the mean cost is 40197.4140625.\n",
      "At epoch 12600 the mean cost is 40197.38671875.\n",
      "At epoch 12700 the mean cost is 40197.38671875.\n",
      "At epoch 12800 the mean cost is 40197.4609375.\n",
      "At epoch 12900 the mean cost is 40197.38671875.\n",
      "At epoch 13000 the mean cost is 40197.38671875.\n",
      "At epoch 13100 the mean cost is 40197.38671875.\n",
      "At epoch 13200 the mean cost is 40197.38671875.\n",
      "At epoch 13300 the mean cost is 40197.38671875.\n",
      "At epoch 13400 the mean cost is 40197.38671875.\n",
      "At epoch 13500 the mean cost is 40197.38671875.\n",
      "At epoch 13600 the mean cost is 40197.38671875.\n",
      "At epoch 13700 the mean cost is 40197.390625.\n",
      "At epoch 13800 the mean cost is 40197.38671875.\n",
      "At epoch 13900 the mean cost is 40197.38671875.\n",
      "At epoch 14000 the mean cost is 40197.38671875.\n",
      "At epoch 14100 the mean cost is 40197.38671875.\n",
      "At epoch 14200 the mean cost is 40197.38671875.\n",
      "At epoch 14300 the mean cost is 40197.390625.\n",
      "At epoch 14400 the mean cost is 40197.390625.\n",
      "At epoch 14500 the mean cost is 40197.40625.\n",
      "At epoch 14600 the mean cost is 40197.38671875.\n",
      "At epoch 14700 the mean cost is 40197.38671875.\n",
      "At epoch 14800 the mean cost is 40197.484375.\n",
      "At epoch 14900 the mean cost is 40197.38671875.\n",
      "time elapsed= 54.80290198326111\n"
     ]
    }
   ],
   "source": [
    "start=time.time()\n",
    "lr1 = 8e-3\n",
    "max_epoch = 15000\n",
    "optimizer = optim.Adam(model.parameters(), lr1)\n",
    "\n",
    "#print(psi.shape)\n",
    "for epoch in range(max_epoch):\n",
    "  optimizer.zero_grad()\n",
    "  cost=loss_func_total(x,model)\n",
    "  cost.backward()\n",
    "  optimizer.step()\n",
    "  #print(loss.item())\n",
    "  if (epoch % 100==0):\n",
    "    print(\"At epoch {} the mean cost is {}.\".format(epoch,cost.detach()))\n",
    "end=time.time()\n",
    "print('time elapsed=',end-start)"
   ]
  },
  {
   "cell_type": "code",
   "execution_count": 10,
   "id": "eecaa5a4",
   "metadata": {},
   "outputs": [],
   "source": [
    "def cost(y):\n",
    "  cost1=0.0\n",
    "  D1=0.0\n",
    "  for i in range(ite+1):\n",
    "    cost1+=D1*y[i]+(kappa/2.0)*np.power(y[i],2)\n",
    "    D1=(D1+kappa*y[i])*np.exp(-rho*T/ite)\n",
    "  return cost1"
   ]
  },
  {
   "cell_type": "code",
   "execution_count": 11,
   "id": "6ea2526d",
   "metadata": {},
   "outputs": [
    {
     "name": "stdout",
     "output_type": "stream",
     "text": [
      "Input= tensor([[0.0000e+00, 0.0000e+00, 9.5000e+02, 1.0000e-01, 5.0000e+00],\n",
      "        [0.0000e+00, 0.0000e+00, 9.6111e+02, 1.0000e-01, 5.0000e+00],\n",
      "        [0.0000e+00, 0.0000e+00, 9.7222e+02, 1.0000e-01, 5.0000e+00],\n",
      "        [0.0000e+00, 0.0000e+00, 9.8333e+02, 1.0000e-01, 5.0000e+00],\n",
      "        [0.0000e+00, 0.0000e+00, 9.9444e+02, 1.0000e-01, 5.0000e+00],\n",
      "        [0.0000e+00, 0.0000e+00, 1.0056e+03, 1.0000e-01, 5.0000e+00],\n",
      "        [0.0000e+00, 0.0000e+00, 1.0167e+03, 1.0000e-01, 5.0000e+00],\n",
      "        [0.0000e+00, 0.0000e+00, 1.0278e+03, 1.0000e-01, 5.0000e+00],\n",
      "        [0.0000e+00, 0.0000e+00, 1.0389e+03, 1.0000e-01, 5.0000e+00],\n",
      "        [0.0000e+00, 0.0000e+00, 1.0500e+03, 1.0000e-01, 5.0000e+00]]) \n",
      "\n",
      "size of total order= 950.0\n",
      "predicted soln= tensor([392.5819,  16.4958,  20.3660,  18.9842,  19.4874,  19.3042,  19.3833,\n",
      "         19.3674,  19.3797,  19.3798, 385.2704]) sum of all execution= tensor(950.)\n",
      "size of total order= 961.1111\n",
      "predicted soln= tensor([397.4226,  17.0462,  20.3504,  19.1746,  19.6052,  19.4569,  19.5075,\n",
      "         19.4938,  19.4889,  19.4944, 390.0706]) sum of all execution= tensor(961.1110)\n",
      "size of total order= 972.2222\n",
      "predicted soln= tensor([402.2633,  17.3776,  20.4142,  19.3310,  19.7077,  19.5715,  19.6230,\n",
      "         19.6020,  19.6075,  19.6094, 395.1149]) sum of all execution= tensor(972.2222)\n",
      "size of total order= 983.3333\n",
      "predicted soln= tensor([407.1040,  17.7834,  20.4520,  19.4996,  19.8323,  19.7029,  19.7366,\n",
      "         19.7195,  19.7221,  19.7144, 400.0664]) sum of all execution= tensor(983.3333)\n",
      "size of total order= 994.44446\n",
      "predicted soln= tensor([411.9447,  17.9486,  20.5631,  19.6074,  19.9491,  19.8174,  19.8535,\n",
      "         19.8256,  19.8319,  19.8233, 405.2800]) sum of all execution= tensor(994.4444)\n",
      "size of total order= 1005.55554\n",
      "predicted soln= tensor([416.7853,  18.3618,  20.5884,  19.7732,  20.0486,  19.9329,  19.9669,\n",
      "         19.9472,  19.9494,  19.9430, 410.2587]) sum of all execution= tensor(1005.5555)\n",
      "size of total order= 1016.6667\n",
      "predicted soln= tensor([421.6260,  18.9238,  20.5796,  19.9705,  20.1581,  20.0705,  20.0830,\n",
      "         20.0662,  20.0604,  20.0486, 415.0800]) sum of all execution= tensor(1016.6667)\n",
      "size of total order= 1027.7778\n",
      "predicted soln= tensor([426.4667,  19.1631,  20.6616,  20.0964,  20.2803,  20.1850,  20.2002,\n",
      "         20.1736,  20.1672,  20.1563, 420.2275]) sum of all execution= tensor(1027.7778)\n",
      "size of total order= 1038.8889\n",
      "predicted soln= tensor([431.3073,  19.6314,  20.6793,  20.2670,  20.3870,  20.3188,  20.3166,\n",
      "         20.2942,  20.2837,  20.2551, 425.1485]) sum of all execution= tensor(1038.8889)\n",
      "size of total order= 1050.0\n",
      "predicted soln= tensor([436.1480,  20.0138,  20.7265,  20.4389,  20.5166,  20.4586,  20.4538,\n",
      "         20.4318,  20.4043,  20.3856, 430.0221]) sum of all execution= tensor(1050.0001)\n"
     ]
    }
   ],
   "source": [
    "from torch.nn.modules.pooling import MaxPool1d\n",
    "M1=10\n",
    "t_test=torch.zeros([M1,1])\n",
    "D_test=torch.zeros([M1,1])\n",
    "#D_test=torch.FloatTensor(M,1).uniform_(0.1,0.5)   #Price impact D_t\n",
    "#R_test=torch.FloatTensor(M1,1).uniform_(50,100)   #remaining balance R_t   #To get a positive solution R_t has to be greater than D_t\n",
    "R_test=torch.linspace(X0*0.95, X0*1.05, steps=M1).unsqueeze(1)\n",
    "kappa,rho=kappa_rho_sim(M1,ite,theta1,mu1,sigma1,theta2,mu2,sigma2)\n",
    "#(M,ite,theta1,mu1,sigma1,theta2,mu2,sigma2)\n",
    "x_test=torch.cat((t_test,D_test,R_test,kappa[:,0].unsqueeze(1),rho[:,0].unsqueeze(1)),dim=1)\n",
    "print('Input=',x_test,'\\n')\n",
    "a=torch.zeros(M1,ite+1)\n",
    "#print(a.shape)\n",
    "for i in range(ite+1):\n",
    "  if(i!=ite):\n",
    "    #print(x_test)\n",
    "    soln_pred=model(x_test).squeeze(1).detach()\n",
    "    a[:,i]=soln_pred\n",
    "    x_test=update(x_test,soln_pred,i)\n",
    "    #print(x_test,'\\n')\n",
    "  else:\n",
    "    a[:,i]=R_test.squeeze(1)-torch.sum(a,dim=1)\n",
    "\n",
    "x1=R_test.squeeze().numpy()\n",
    "c_pred=np.zeros(M1)\n",
    "\n",
    "for i in range(M1):\n",
    "  print('size of total order=',x1[i])\n",
    "\n",
    "\n",
    "  print('predicted soln=',a[i,:],'sum of all execution=',torch.sum(a[i,:]).detach())\n",
    "  #pred_cost=cost(a[i,:].detach().numpy())\n",
    "#   print('predicted cost=',pred_cost,'\\n')"
   ]
  },
  {
   "cell_type": "code",
   "execution_count": 12,
   "id": "392a3b45",
   "metadata": {},
   "outputs": [
    {
     "data": {
      "image/png": "[encoded data removed]",
      "text/plain": [
       "<Figure size 600x300 with 1 Axes>"
      ]
     },
     "metadata": {},
     "output_type": "display_data"
    },
    {
     "data": {
      "image/png": "[encoded data removed]",
      "text/plain": [
       "<Figure size 600x300 with 1 Axes>"
      ]
     },
     "metadata": {},
     "output_type": "display_data"
    },
    {
     "data": {
      "image/png": "[encoded data removed]",
      "text/plain": [
       "<Figure size 600x300 with 1 Axes>"
      ]
     },
     "metadata": {},
     "output_type": "display_data"
    },
    {
     "data": {
      "image/png": "[encoded data removed]",
      "text/plain": [
       "<Figure size 600x300 with 1 Axes>"
      ]
     },
     "metadata": {},
     "output_type": "display_data"
    }
   ],
   "source": [
    "p_soln=a.numpy()\n",
    "t_step=np.linspace(0,0.1,num=ite+1)\n",
    "#name='E:/Robin research/7thECMF_PosterPresent/Figures/N.eps'\n",
    "def plotting(t):\n",
    "  #print('Total order size=',x1[t],np.sum(n_soln[t]),np.sum(p_soln[t]))\n",
    "  #print(n_soln[t],p_soln[t])\n",
    "  plt.figure(figsize=(6,3))\n",
    "  #plt.bar(t_step,t_soln[t],color='blue',width=0.3,label='Closed-Form')\n",
    "  plt.bar(t_step,p_soln[t],color='red',width=0.002)\n",
    "  #plt.bar(t_step,n_soln[t],color='green',width=0.1,label='numeric')\n",
    "  plt.title('Total Order size X= %f' % (x1[t]))\n",
    "  plt.xlabel('Time steps')\n",
    "  plt.ylabel('Optimal orders')\n",
    "  #plt.legend()\n",
    "\n",
    "#   #plt.savefig('f.eps', format='eps')\n",
    "#   if(t==0):\n",
    "#     plt.savefig(name,format='eps')      \n",
    "  plt.show()\n",
    "for i in range(0,M1,3):\n",
    "  plotting(i)"
   ]
  },
  {
   "cell_type": "code",
   "execution_count": 13,
   "id": "5912121b",
   "metadata": {},
   "outputs": [
    {
     "name": "stdout",
     "output_type": "stream",
     "text": [
      "tensor([[0.1000, 0.1001, 0.1001, 0.1002, 0.1002, 0.1003, 0.1003, 0.1003, 0.1004,\n",
      "         0.1004, 0.1004],\n",
      "        [0.1000, 0.1000, 0.1001, 0.1001, 0.1001, 0.1001, 0.1002, 0.1002, 0.1003,\n",
      "         0.1004, 0.1004],\n",
      "        [0.1000, 0.1000, 0.1001, 0.1001, 0.1002, 0.1002, 0.1003, 0.1003, 0.1004,\n",
      "         0.1004, 0.1004],\n",
      "        [0.1000, 0.1000, 0.1000, 0.1001, 0.1001, 0.1002, 0.1003, 0.1003, 0.1004,\n",
      "         0.1004, 0.1005],\n",
      "        [0.1000, 0.1001, 0.1001, 0.1002, 0.1003, 0.1003, 0.1003, 0.1004, 0.1005,\n",
      "         0.1005, 0.1006],\n",
      "        [0.1000, 0.1001, 0.1002, 0.1003, 0.1003, 0.1004, 0.1004, 0.1004, 0.1004,\n",
      "         0.1005, 0.1005],\n",
      "        [0.1000, 0.1000, 0.1001, 0.1001, 0.1002, 0.1003, 0.1004, 0.1004, 0.1004,\n",
      "         0.1005, 0.1005],\n",
      "        [0.1000, 0.1001, 0.1002, 0.1003, 0.1003, 0.1004, 0.1005, 0.1005, 0.1005,\n",
      "         0.1006, 0.1006],\n",
      "        [0.1000, 0.1001, 0.1001, 0.1002, 0.1003, 0.1004, 0.1004, 0.1005, 0.1005,\n",
      "         0.1006, 0.1006],\n",
      "        [0.1000, 0.1001, 0.1001, 0.1002, 0.1002, 0.1002, 0.1003, 0.1003, 0.1004,\n",
      "         0.1004, 0.1005]])\n"
     ]
    }
   ],
   "source": [
    "print(kappa)"
   ]
  },
  {
   "cell_type": "code",
   "execution_count": 14,
   "id": "3895e369",
   "metadata": {},
   "outputs": [
    {
     "name": "stdout",
     "output_type": "stream",
     "text": [
      "tensor([[5.0000, 5.0006, 5.0009, 5.0014, 5.0017, 5.0025, 5.0035, 5.0039, 5.0045,\n",
      "         5.0053, 5.0060],\n",
      "        [5.0000, 5.0005, 5.0012, 5.0020, 5.0024, 5.0030, 5.0035, 5.0035, 5.0045,\n",
      "         5.0052, 5.0056],\n",
      "        [5.0000, 5.0003, 5.0007, 5.0009, 5.0016, 5.0024, 5.0029, 5.0037, 5.0039,\n",
      "         5.0039, 5.0043],\n",
      "        [5.0000, 5.0010, 5.0016, 5.0021, 5.0024, 5.0026, 5.0034, 5.0040, 5.0044,\n",
      "         5.0044, 5.0049],\n",
      "        [5.0000, 5.0003, 5.0006, 5.0015, 5.0015, 5.0021, 5.0027, 5.0033, 5.0037,\n",
      "         5.0044, 5.0046],\n",
      "        [5.0000, 5.0001, 5.0009, 5.0016, 5.0021, 5.0026, 5.0032, 5.0042, 5.0048,\n",
      "         5.0050, 5.0052],\n",
      "        [5.0000, 5.0007, 5.0008, 5.0011, 5.0020, 5.0027, 5.0032, 5.0040, 5.0041,\n",
      "         5.0041, 5.0042],\n",
      "        [5.0000, 5.0009, 5.0014, 5.0022, 5.0024, 5.0034, 5.0037, 5.0042, 5.0046,\n",
      "         5.0046, 5.0049],\n",
      "        [5.0000, 5.0006, 5.0007, 5.0015, 5.0018, 5.0018, 5.0021, 5.0024, 5.0024,\n",
      "         5.0031, 5.0039],\n",
      "        [5.0000, 5.0001, 5.0009, 5.0013, 5.0015, 5.0017, 5.0018, 5.0021, 5.0023,\n",
      "         5.0023, 5.0025]])\n"
     ]
    }
   ],
   "source": [
    "print(rho)"
   ]
  }
 ],
 "metadata": {
  "kernelspec": {
   "display_name": "Python 3 (ipykernel)",
   "language": "python",
   "name": "python3"
  },
  "language_info": {
   "codemirror_mode": {
    "name": "ipython",
    "version": 3
   },
   "file_extension": ".py",
   "mimetype": "text/x-python",
   "name": "python",
   "nbconvert_exporter": "python",
   "pygments_lexer": "ipython3",
   "version": "3.11.5"
  }
 },
 "nbformat": 4,
 "nbformat_minor": 5
}
