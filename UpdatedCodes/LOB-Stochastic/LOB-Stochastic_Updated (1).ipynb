{
 "cells": [
  {
   "cell_type": "code",
   "execution_count": 1,
   "id": "e88956d7",
   "metadata": {},
   "outputs": [],
   "source": [
    "import numpy as np\n",
    "import time\n",
    "from scipy import misc\n",
    "import matplotlib.pyplot as plt\n",
    "import torch\n",
    "import torch.nn as nn\n",
    "import torch.nn.functional as F\n",
    "import torch.optim as optim\n",
    "import random\n",
    "import math\n",
    "import pandas as pd\n",
    "from scipy.optimize import fsolve"
   ]
  },
  {
   "cell_type": "code",
   "execution_count": 2,
   "id": "50a8335d",
   "metadata": {},
   "outputs": [
    {
     "name": "stdout",
     "output_type": "stream",
     "text": [
      "tensor(0.1000)\n"
     ]
    }
   ],
   "source": [
    "M=2000\n",
    "ite=10\n",
    "dim_n=5\n",
    "T=1\n",
    "delta = torch.tensor(T/ite)\n",
    "#delta=torch.tensor(0.01)\n",
    "sigma=0.1\n",
    "sigma1=1e-3\n",
    "sigma2=1e-2\n",
    "theta1=1\n",
    "theta2=1\n",
    "mu1=1e-2 #kappa\n",
    "mu2=5 #rho\n",
    "A0=0.0\n",
    "gamma=0.0\n",
    "X0=10000\n",
    "neuron_model_psi=20\n",
    "print(delta)"
   ]
  },
  {
   "cell_type": "code",
   "execution_count": 3,
   "id": "74cdec5b",
   "metadata": {},
   "outputs": [],
   "source": [
    "model= torch.nn.Sequential(\n",
    "    torch.nn.Linear(dim_n, neuron_model_psi),\n",
    "    torch.nn.ReLU(),\n",
    "#     torch.nn.Linear(neuron_model_psi, neuron_model_psi),\n",
    "#     torch.nn.ReLU(),\n",
    "#     torch.nn.Linear(neuron_model_psi, neuron_model_psi),\n",
    "#     torch.nn.ReLU(),   torch.nn.ReLU(),\n",
    "#   \n",
    "    torch.nn.Linear(neuron_model_psi, neuron_model_psi),\n",
    "    torch.nn.ReLU(),\n",
    "    torch.nn.Linear(neuron_model_psi,1)\n",
    ")"
   ]
  },
  {
   "cell_type": "code",
   "execution_count": 4,
   "id": "c2135973",
   "metadata": {},
   "outputs": [],
   "source": [
    "def kappa_rho_sim(M,ite,theta1,mu1,sigma1,theta2,mu2,sigma2):\n",
    "    kappa=torch.zeros([M,ite+1])\n",
    "    kappa[:,0]=mu1\n",
    "    rho=torch.zeros([M,ite+1])\n",
    "    rho[:,0]=mu2\n",
    "\n",
    "    for i in range (1,ite+1):\n",
    "        kappa[:,i]=kappa[:,i-1]+theta1*(mu1-kappa[:,i-1])*delta+np.sqrt(delta)*sigma1*np.random.rand(M)  # Xn+1=Xn+θ(μ−Xn)Δt+σΔWn\n",
    "        rho[:,i]=rho[:,i-1]+theta2*(mu2-rho[:,i-1])*delta+np.sqrt(delta)*sigma2*np.random.rand(M)\n",
    "    return kappa,rho"
   ]
  },
  {
   "cell_type": "code",
   "execution_count": 5,
   "id": "b4cff12c",
   "metadata": {},
   "outputs": [],
   "source": [
    "t=torch.zeros([M,1])\n",
    "D=torch.zeros([M,1])\n",
    "kappa,rho=kappa_rho_sim(M,ite,theta1,mu1,sigma1,theta2,mu2,sigma2)\n",
    "R=torch.FloatTensor(M,1).uniform_(X0*0.9,X0*1.1)   #remaining balance R_t   #To get a positive solution R_t has to be greater than D_t\n"
   ]
  },
  {
   "cell_type": "code",
   "execution_count": 6,
   "id": "136ed2c7",
   "metadata": {},
   "outputs": [
    {
     "name": "stdout",
     "output_type": "stream",
     "text": [
      "kappa= tensor([[0.0100, 0.0102, 0.0104,  ..., 0.0111, 0.0113, 0.0112],\n",
      "        [0.0100, 0.0102, 0.0103,  ..., 0.0107, 0.0107, 0.0108],\n",
      "        [0.0100, 0.0102, 0.0102,  ..., 0.0110, 0.0111, 0.0111],\n",
      "        ...,\n",
      "        [0.0100, 0.0102, 0.0103,  ..., 0.0111, 0.0113, 0.0113],\n",
      "        [0.0100, 0.0101, 0.0102,  ..., 0.0109, 0.0110, 0.0112],\n",
      "        [0.0100, 0.0103, 0.0106,  ..., 0.0110, 0.0110, 0.0112]]) \n",
      " rho= tensor([[5.0000, 5.0023, 5.0029,  ..., 5.0076, 5.0082, 5.0081],\n",
      "        [5.0000, 5.0004, 5.0025,  ..., 5.0098, 5.0094, 5.0093],\n",
      "        [5.0000, 5.0018, 5.0017,  ..., 5.0053, 5.0064, 5.0080],\n",
      "        ...,\n",
      "        [5.0000, 5.0024, 5.0053,  ..., 5.0110, 5.0114, 5.0113],\n",
      "        [5.0000, 5.0022, 5.0023,  ..., 5.0085, 5.0105, 5.0105],\n",
      "        [5.0000, 5.0008, 5.0009,  ..., 5.0094, 5.0088, 5.0095]])\n"
     ]
    }
   ],
   "source": [
    "print('kappa=',kappa,'\\n rho=',rho) \n",
    "x=torch.cat((t,D,R,kappa[:,0].unsqueeze(1),rho[:,0].unsqueeze(1)),dim=1)"
   ]
  },
  {
   "cell_type": "code",
   "execution_count": 7,
   "id": "6df336b9",
   "metadata": {},
   "outputs": [
    {
     "name": "stdout",
     "output_type": "stream",
     "text": [
      "true\n"
     ]
    }
   ],
   "source": [
    "if (rho >0).all():\n",
    "    print('true')"
   ]
  },
  {
   "cell_type": "code",
   "execution_count": 8,
   "id": "518c9f39",
   "metadata": {},
   "outputs": [],
   "source": [
    "def update(x3,psi,i):\n",
    "  t=(x3[:,0]+(1/ite))\n",
    "  kap=kappa[:,i+1]\n",
    "  rh=rho[:,i+1]\n",
    "#   kappa=x3[:,3]+theta1*(mu1-x3[:,3])*delta+torch.sqrt(delta)*sigma1*W1[i]\n",
    "#   rho=x3[:,4]+theta2*(mu2-x3[:,4])*delta+torch.sqrt(delta)*sigma1*W2[i]\n",
    "  D = (x3[:,1]+kap*psi)*torch.exp(-rh*delta)\n",
    "  #print('d',D.shape)\n",
    "  R= x3[:,2]-psi\n",
    "  #print(kappa.shape,rho.shape)\n",
    "  up=torch.cat((t.unsqueeze(1),D.unsqueeze(1),R.unsqueeze(1),kap.unsqueeze(1),rh.unsqueeze(1)),dim=1)\n",
    "  return up\n",
    "\n",
    "def loss_func(x2,psi):\n",
    "  loss=(x2[:,1]*psi+(x2[:,3]/2.0)*torch.pow(psi,2))\n",
    "  #print('loss',loss.shape)\n",
    "  return loss\n",
    "\n",
    "def unit(x1,model,i):\n",
    "    psi=model(x1).squeeze(1)\n",
    "    los=loss_func(x1,psi)\n",
    "    upd=update(x1,psi,i)\n",
    "    #print(upd)\n",
    "    return psi,los,upd\n",
    "\n",
    "def loss_func_total(u,model):\n",
    "  loss=torch.zeros(M,ite)\n",
    "  psi=torch.zeros(M,ite)\n",
    "  for i in range(ite+1):\n",
    "    if(i!=ite):\n",
    "      psi_run,loss_run,u_run=unit(u,model,i)\n",
    "      #print('los func=',psi_run.shape,loss_run.shape)\n",
    "      loss[:,i]=loss_run\n",
    "      #print(loss)\n",
    "      psi[:,i]=psi_run\n",
    "      #print(psi)\n",
    "      u=u_run\n",
    "      #print(u)\n",
    "    else:\n",
    "      #print(torch.sum(psi,dim=1),R.squeeze(1))\n",
    "      psi_ter=R.squeeze(1)-torch.sum(psi,dim=1)\n",
    "      loss_ter=loss_func(u,psi_ter)\n",
    "      #print('ter',loss_ter.shape)\n",
    "  #print(torch.sum(loss,dim=1))\n",
    "  loss=torch.sum(loss,dim=1)+loss_ter\n",
    "  #print(loss.shape)\n",
    "  return torch.mean(loss)"
   ]
  },
  {
   "cell_type": "code",
   "execution_count": 9,
   "id": "4ba6edff",
   "metadata": {},
   "outputs": [
    {
     "name": "stdout",
     "output_type": "stream",
     "text": [
      "At epoch 0 the mean cost is 932526.625.\n",
      "At epoch 100 the mean cost is 157761.203125.\n",
      "At epoch 200 the mean cost is 157755.296875.\n",
      "At epoch 300 the mean cost is 157747.734375.\n",
      "At epoch 400 the mean cost is 157738.703125.\n",
      "At epoch 500 the mean cost is 157728.421875.\n",
      "At epoch 600 the mean cost is 157716.9375.\n",
      "At epoch 700 the mean cost is 157704.28125.\n",
      "At epoch 800 the mean cost is 157690.46875.\n",
      "At epoch 900 the mean cost is 157675.390625.\n",
      "At epoch 1000 the mean cost is 157658.90625.\n",
      "At epoch 1100 the mean cost is 157640.828125.\n",
      "At epoch 1200 the mean cost is 157620.828125.\n",
      "At epoch 1300 the mean cost is 157598.46875.\n",
      "At epoch 1400 the mean cost is 157573.015625.\n",
      "At epoch 1500 the mean cost is 157541.515625.\n",
      "At epoch 1600 the mean cost is 157504.03125.\n",
      "At epoch 1700 the mean cost is 157456.609375.\n",
      "At epoch 1800 the mean cost is 157393.65625.\n",
      "At epoch 1900 the mean cost is 157306.265625.\n",
      "At epoch 2000 the mean cost is 157182.640625.\n",
      "At epoch 2100 the mean cost is 157015.59375.\n",
      "At epoch 2200 the mean cost is 156808.921875.\n",
      "At epoch 2300 the mean cost is 156568.265625.\n",
      "At epoch 2400 the mean cost is 156291.421875.\n",
      "At epoch 2500 the mean cost is 155971.03125.\n",
      "At epoch 2600 the mean cost is 155786.9375.\n",
      "At epoch 2700 the mean cost is 155412.0.\n",
      "At epoch 2800 the mean cost is 155202.8125.\n",
      "At epoch 2900 the mean cost is 155001.703125.\n",
      "At epoch 3000 the mean cost is 154804.6875.\n",
      "At epoch 3100 the mean cost is 154504.4375.\n",
      "At epoch 3200 the mean cost is 154247.796875.\n",
      "At epoch 3300 the mean cost is 154083.78125.\n",
      "At epoch 3400 the mean cost is 155130.140625.\n",
      "At epoch 3500 the mean cost is 153976.546875.\n",
      "At epoch 3600 the mean cost is 153681.09375.\n",
      "At epoch 3700 the mean cost is 153647.015625.\n",
      "At epoch 3800 the mean cost is 153555.28125.\n",
      "At epoch 3900 the mean cost is 153488.859375.\n",
      "At epoch 4000 the mean cost is 153464.453125.\n",
      "At epoch 4100 the mean cost is 153437.03125.\n",
      "At epoch 4200 the mean cost is 153450.53125.\n",
      "At epoch 4300 the mean cost is 153395.8125.\n",
      "At epoch 4400 the mean cost is 153385.90625.\n",
      "At epoch 4500 the mean cost is 153384.5.\n",
      "At epoch 4600 the mean cost is 153383.71875.\n",
      "At epoch 4700 the mean cost is 153383.015625.\n",
      "At epoch 4800 the mean cost is 153382.296875.\n",
      "At epoch 4900 the mean cost is 154259.515625.\n",
      "At epoch 5000 the mean cost is 153381.65625.\n",
      "At epoch 5100 the mean cost is 153380.84375.\n",
      "At epoch 5200 the mean cost is 153380.171875.\n",
      "At epoch 5300 the mean cost is 153379.515625.\n",
      "At epoch 5400 the mean cost is 153387.421875.\n",
      "At epoch 5500 the mean cost is 153378.109375.\n",
      "At epoch 5600 the mean cost is 153377.453125.\n",
      "At epoch 5700 the mean cost is 153376.796875.\n",
      "At epoch 5800 the mean cost is 153382.9375.\n",
      "At epoch 5900 the mean cost is 153375.40625.\n",
      "At epoch 6000 the mean cost is 153374.78125.\n",
      "At epoch 6100 the mean cost is 153374.140625.\n",
      "At epoch 6200 the mean cost is 153380.640625.\n",
      "At epoch 6300 the mean cost is 153372.796875.\n",
      "At epoch 6400 the mean cost is 153372.15625.\n",
      "At epoch 6500 the mean cost is 153371.53125.\n",
      "At epoch 6600 the mean cost is 153394.65625.\n",
      "At epoch 6700 the mean cost is 153370.21875.\n",
      "At epoch 6800 the mean cost is 153369.59375.\n",
      "At epoch 6900 the mean cost is 153368.96875.\n",
      "At epoch 7000 the mean cost is 153368.34375.\n",
      "At epoch 7100 the mean cost is 153371.96875.\n",
      "At epoch 7200 the mean cost is 153367.171875.\n",
      "At epoch 7300 the mean cost is 153366.5625.\n",
      "At epoch 7400 the mean cost is 153365.96875.\n",
      "At epoch 7500 the mean cost is 153365.3125.\n",
      "At epoch 7600 the mean cost is 153430.96875.\n",
      "At epoch 7700 the mean cost is 153371.21875.\n",
      "At epoch 7800 the mean cost is 153366.8125.\n",
      "At epoch 7900 the mean cost is 153358.75.\n",
      "At epoch 8000 the mean cost is 153357.984375.\n",
      "At epoch 8100 the mean cost is 153354.0625.\n",
      "At epoch 8200 the mean cost is 153353.28125.\n",
      "At epoch 8300 the mean cost is 153391.25.\n",
      "At epoch 8400 the mean cost is 153472.359375.\n",
      "At epoch 8500 the mean cost is 153493.65625.\n",
      "At epoch 8600 the mean cost is 153351.765625.\n",
      "At epoch 8700 the mean cost is 153351.109375.\n",
      "At epoch 8800 the mean cost is 153350.640625.\n",
      "At epoch 8900 the mean cost is 153350.15625.\n",
      "At epoch 9000 the mean cost is 153352.203125.\n",
      "At epoch 9100 the mean cost is 153349.8125.\n",
      "At epoch 9200 the mean cost is 153349.3125.\n",
      "At epoch 9300 the mean cost is 153348.875.\n",
      "At epoch 9400 the mean cost is 153348.46875.\n",
      "At epoch 9500 the mean cost is 153348.03125.\n",
      "At epoch 9600 the mean cost is 153349.65625.\n",
      "At epoch 9700 the mean cost is 153347.90625.\n",
      "At epoch 9800 the mean cost is 153347.421875.\n",
      "At epoch 9900 the mean cost is 153346.984375.\n",
      "At epoch 10000 the mean cost is 153346.5625.\n",
      "At epoch 10100 the mean cost is 153671.8125.\n",
      "At epoch 10200 the mean cost is 153347.3125.\n",
      "At epoch 10300 the mean cost is 153346.546875.\n",
      "At epoch 10400 the mean cost is 153346.09375.\n",
      "At epoch 10500 the mean cost is 153345.6875.\n",
      "At epoch 10600 the mean cost is 153345.25.\n",
      "At epoch 10700 the mean cost is 153344.828125.\n",
      "At epoch 10800 the mean cost is 153358.65625.\n",
      "At epoch 10900 the mean cost is 153344.75.\n",
      "At epoch 11000 the mean cost is 153344.296875.\n",
      "At epoch 11100 the mean cost is 153343.875.\n",
      "At epoch 11200 the mean cost is 153842.53125.\n",
      "At epoch 11300 the mean cost is 153344.203125.\n",
      "At epoch 11400 the mean cost is 153343.625.\n",
      "At epoch 11500 the mean cost is 153343.171875.\n",
      "At epoch 11600 the mean cost is 153342.703125.\n",
      "At epoch 11700 the mean cost is 153342.34375.\n",
      "At epoch 11800 the mean cost is 153343.390625.\n",
      "At epoch 11900 the mean cost is 153342.5625.\n",
      "At epoch 12000 the mean cost is 153342.0625.\n",
      "At epoch 12100 the mean cost is 153341.546875.\n",
      "At epoch 12200 the mean cost is 153608.828125.\n",
      "At epoch 12300 the mean cost is 153341.953125.\n"
     ]
    },
    {
     "ename": "KeyboardInterrupt",
     "evalue": "",
     "output_type": "error",
     "traceback": [
      "\u001b[0;31m---------------------------------------------------------------------------\u001b[0m",
      "\u001b[0;31mKeyboardInterrupt\u001b[0m                         Traceback (most recent call last)",
      "Cell \u001b[0;32mIn[9], line 9\u001b[0m\n\u001b[1;32m      7\u001b[0m \u001b[38;5;28;01mfor\u001b[39;00m epoch \u001b[38;5;129;01min\u001b[39;00m \u001b[38;5;28mrange\u001b[39m(max_epoch):\n\u001b[1;32m      8\u001b[0m   optimizer\u001b[38;5;241m.\u001b[39mzero_grad()\n\u001b[0;32m----> 9\u001b[0m   cost\u001b[38;5;241m=\u001b[39mloss_func_total(x,model)\n\u001b[1;32m     10\u001b[0m   cost\u001b[38;5;241m.\u001b[39mbackward()\n\u001b[1;32m     11\u001b[0m   optimizer\u001b[38;5;241m.\u001b[39mstep()\n",
      "Cell \u001b[0;32mIn[8], line 31\u001b[0m, in \u001b[0;36mloss_func_total\u001b[0;34m(u, model)\u001b[0m\n\u001b[1;32m     29\u001b[0m \u001b[38;5;28;01mfor\u001b[39;00m i \u001b[38;5;129;01min\u001b[39;00m \u001b[38;5;28mrange\u001b[39m(ite\u001b[38;5;241m+\u001b[39m\u001b[38;5;241m1\u001b[39m):\n\u001b[1;32m     30\u001b[0m   \u001b[38;5;28;01mif\u001b[39;00m(i\u001b[38;5;241m!=\u001b[39mite):\n\u001b[0;32m---> 31\u001b[0m     psi_run,loss_run,u_run\u001b[38;5;241m=\u001b[39munit(u,model,i)\n\u001b[1;32m     32\u001b[0m     \u001b[38;5;66;03m#print('los func=',psi_run.shape,loss_run.shape)\u001b[39;00m\n\u001b[1;32m     33\u001b[0m     loss[:,i]\u001b[38;5;241m=\u001b[39mloss_run\n",
      "Cell \u001b[0;32mIn[8], line 21\u001b[0m, in \u001b[0;36munit\u001b[0;34m(x1, model, i)\u001b[0m\n\u001b[1;32m     19\u001b[0m \u001b[38;5;28;01mdef\u001b[39;00m \u001b[38;5;21munit\u001b[39m(x1,model,i):\n\u001b[1;32m     20\u001b[0m     psi\u001b[38;5;241m=\u001b[39mmodel(x1)\u001b[38;5;241m.\u001b[39msqueeze(\u001b[38;5;241m1\u001b[39m)\n\u001b[0;32m---> 21\u001b[0m     los\u001b[38;5;241m=\u001b[39mloss_func(x1,psi)\n\u001b[1;32m     22\u001b[0m     upd\u001b[38;5;241m=\u001b[39mupdate(x1,psi,i)\n\u001b[1;32m     23\u001b[0m     \u001b[38;5;66;03m#print(upd)\u001b[39;00m\n",
      "Cell \u001b[0;32mIn[8], line 15\u001b[0m, in \u001b[0;36mloss_func\u001b[0;34m(x2, psi)\u001b[0m\n\u001b[1;32m     14\u001b[0m \u001b[38;5;28;01mdef\u001b[39;00m \u001b[38;5;21mloss_func\u001b[39m(x2,psi):\n\u001b[0;32m---> 15\u001b[0m   loss\u001b[38;5;241m=\u001b[39m(x2[:,\u001b[38;5;241m1\u001b[39m]\u001b[38;5;241m*\u001b[39mpsi\u001b[38;5;241m+\u001b[39m(x2[:,\u001b[38;5;241m3\u001b[39m]\u001b[38;5;241m/\u001b[39m\u001b[38;5;241m2.0\u001b[39m)\u001b[38;5;241m*\u001b[39mtorch\u001b[38;5;241m.\u001b[39mpow(psi,\u001b[38;5;241m2\u001b[39m))\n\u001b[1;32m     16\u001b[0m   \u001b[38;5;66;03m#print('loss',loss.shape)\u001b[39;00m\n\u001b[1;32m     17\u001b[0m   \u001b[38;5;28;01mreturn\u001b[39;00m loss\n",
      "\u001b[0;31mKeyboardInterrupt\u001b[0m: "
     ]
    }
   ],
   "source": [
    "start=time.time()\n",
    "lr1 = 8e-3\n",
    "max_epoch = 15000\n",
    "optimizer = optim.Adam(model.parameters(), lr1)\n",
    "\n",
    "#print(psi.shape)\n",
    "for epoch in range(max_epoch):\n",
    "  optimizer.zero_grad()\n",
    "  cost=loss_func_total(x,model)\n",
    "  cost.backward()\n",
    "  optimizer.step()\n",
    "  #print(loss.item())\n",
    "  if (epoch % 100==0):\n",
    "    print(\"At epoch {} the mean cost is {}.\".format(epoch,cost.detach()))\n",
    "end=time.time()\n",
    "print('time elapsed=',end-start)"
   ]
  },
  {
   "cell_type": "code",
   "execution_count": 10,
   "id": "eecaa5a4",
   "metadata": {},
   "outputs": [],
   "source": [
    "def cost(y):\n",
    "  cost1=0.0\n",
    "  D1=0.0\n",
    "  for i in range(ite+1):\n",
    "    cost1+=D1*y[i]+(kappa/2.0)*np.power(y[i],2)\n",
    "    D1=(D1+kappa*y[i])*np.exp(-rho*T/ite)\n",
    "  return cost1"
   ]
  },
  {
   "cell_type": "code",
   "execution_count": 15,
   "id": "6b8e1de5",
   "metadata": {},
   "outputs": [],
   "source": [
    "# model=torch.load('LOB_stoc_N10.pth')"
   ]
  },
  {
   "cell_type": "code",
   "execution_count": 16,
   "id": "6ea2526d",
   "metadata": {},
   "outputs": [
    {
     "name": "stdout",
     "output_type": "stream",
     "text": [
      "Input= tensor([[0.0000e+00, 0.0000e+00, 9.5000e+03, 1.0000e-02, 5.0000e+00],\n",
      "        [0.0000e+00, 0.0000e+00, 9.6111e+03, 1.0000e-02, 5.0000e+00],\n",
      "        [0.0000e+00, 0.0000e+00, 9.7222e+03, 1.0000e-02, 5.0000e+00],\n",
      "        [0.0000e+00, 0.0000e+00, 9.8333e+03, 1.0000e-02, 5.0000e+00],\n",
      "        [0.0000e+00, 0.0000e+00, 9.9444e+03, 1.0000e-02, 5.0000e+00],\n",
      "        [0.0000e+00, 0.0000e+00, 1.0056e+04, 1.0000e-02, 5.0000e+00],\n",
      "        [0.0000e+00, 0.0000e+00, 1.0167e+04, 1.0000e-02, 5.0000e+00],\n",
      "        [0.0000e+00, 0.0000e+00, 1.0278e+04, 1.0000e-02, 5.0000e+00],\n",
      "        [0.0000e+00, 0.0000e+00, 1.0389e+04, 1.0000e-02, 5.0000e+00],\n",
      "        [0.0000e+00, 0.0000e+00, 1.0500e+04, 1.0000e-02, 5.0000e+00]]) \n",
      "\n",
      "size of total order= 9500.0\n",
      "predicted soln= tensor([1874.8254,  731.7244,  688.9071,  700.0402,  696.7019,  696.2642,\n",
      "         694.4500,  671.1310,  639.7443,  618.2791, 1487.9321]) sum of all execution= tensor(9500.)\n",
      "size of total order= 9611.111\n",
      "predicted soln= tensor([1891.0630,  746.3208,  698.9092,  707.2590,  694.2449,  686.5684,\n",
      "         677.8779,  665.4539,  630.5766,  618.4705, 1594.3667]) sum of all execution= tensor(9611.1113)\n",
      "size of total order= 9722.223\n",
      "predicted soln= tensor([1907.3003,  745.4700,  693.3590,  708.6729,  699.2856,  690.4374,\n",
      "         688.8507,  675.9316,  639.2355,  621.1642, 1652.5151]) sum of all execution= tensor(9722.2227)\n",
      "size of total order= 9833.333\n",
      "predicted soln= tensor([1923.5378,  760.0570,  714.5237,  730.6386,  720.0217,  710.8925,\n",
      "         698.4256,  681.6801,  647.6938,  627.9771, 1617.8857]) sum of all execution= tensor(9833.3340)\n",
      "size of total order= 9944.444\n",
      "predicted soln= tensor([1939.7759,  756.2403,  698.5801,  712.7841,  711.7816,  707.0692,\n",
      "         696.5793,  687.5413,  646.5689,  626.2336, 1761.2900]) sum of all execution= tensor(9944.4434)\n",
      "size of total order= 10055.556\n",
      "predicted soln= tensor([1956.0132,  767.2233,  709.8746,  728.7539,  727.9153,  722.9891,\n",
      "         710.3375,  697.7614,  656.1876,  636.2803, 1742.2197]) sum of all execution= tensor(10055.5566)\n",
      "size of total order= 10166.667\n",
      "predicted soln= tensor([1972.2510,  770.5385,  711.5704,  720.4510,  719.9251,  709.3691,\n",
      "         700.3820,  700.5874,  664.9490,  641.9765, 1854.6670]) sum of all execution= tensor(10166.6680)\n",
      "size of total order= 10277.777\n",
      "predicted soln= tensor([1988.4883,  783.6552,  722.8115,  729.4035,  724.3032,  710.9459,\n",
      "         707.4400,  701.8538,  663.2447,  640.8951, 1904.7363]) sum of all execution= tensor(10277.7773)\n",
      "size of total order= 10388.889\n",
      "predicted soln= tensor([2004.7256,  788.3190,  728.4835,  731.1630,  736.8655,  730.8162,\n",
      "         726.9809,  722.5855,  679.5161,  658.5368, 1880.8965]) sum of all execution= tensor(10388.8887)\n",
      "size of total order= 10500.0\n",
      "predicted soln= tensor([2020.9631,  799.4065,  735.2094,  736.2452,  738.0799,  728.9374,\n",
      "         722.3165,  714.8868,  680.8796,  653.5601, 1969.5146]) sum of all execution= tensor(10499.9990)\n"
     ]
    }
   ],
   "source": [
    "from torch.nn.modules.pooling import MaxPool1d\n",
    "M1=10\n",
    "t_test=torch.zeros([M1,1])\n",
    "D_test=torch.zeros([M1,1])\n",
    "#D_test=torch.FloatTensor(M,1).uniform_(0.1,0.5)   #Price impact D_t\n",
    "#R_test=torch.FloatTensor(M1,1).uniform_(50,100)   #remaining balance R_t   #To get a positive solution R_t has to be greater than D_t\n",
    "R_test=torch.linspace(X0*0.95, X0*1.05, steps=M1).unsqueeze(1)\n",
    "kappa,rho=kappa_rho_sim(M1,ite,theta1,mu1,sigma1,theta2,mu2,sigma2)\n",
    "#(M,ite,theta1,mu1,sigma1,theta2,mu2,sigma2)\n",
    "x_test=torch.cat((t_test,D_test,R_test,kappa[:,0].unsqueeze(1),rho[:,0].unsqueeze(1)),dim=1)\n",
    "print('Input=',x_test,'\\n')\n",
    "a=torch.zeros(M1,ite+1)\n",
    "#print(a.shape)\n",
    "for i in range(ite+1):\n",
    "  if(i!=ite):\n",
    "    #print(x_test)\n",
    "    soln_pred=model(x_test).squeeze(1).detach()\n",
    "    a[:,i]=soln_pred\n",
    "    x_test=update(x_test,soln_pred,i)\n",
    "    #print(x_test,'\\n')\n",
    "  else:\n",
    "    a[:,i]=R_test.squeeze(1)-torch.sum(a,dim=1)\n",
    "\n",
    "x1=R_test.squeeze().numpy()\n",
    "c_pred=np.zeros(M1)\n",
    "\n",
    "for i in range(M1):\n",
    "  print('size of total order=',x1[i])\n",
    "\n",
    "\n",
    "  print('predicted soln=',a[i,:],'sum of all execution=',torch.sum(a[i,:]).detach())\n",
    "  #pred_cost=cost(a[i,:].detach().numpy())\n",
    "#   print('predicted cost=',pred_cost,'\\n')"
   ]
  },
  {
   "cell_type": "code",
   "execution_count": 17,
   "id": "392a3b45",
   "metadata": {},
   "outputs": [
    {
     "data": {
      "image/png": "[encoded data removed]",
      "text/plain": [
       "<Figure size 600x300 with 1 Axes>"
      ]
     },
     "metadata": {},
     "output_type": "display_data"
    },
    {
     "data": {
      "image/png": "[encoded data removed]",
      "text/plain": [
       "<Figure size 600x300 with 1 Axes>"
      ]
     },
     "metadata": {},
     "output_type": "display_data"
    },
    {
     "data": {
      "image/png": "[encoded data removed]",
      "text/plain": [
       "<Figure size 600x300 with 1 Axes>"
      ]
     },
     "metadata": {},
     "output_type": "display_data"
    },
    {
     "data": {
      "image/png": "[encoded data removed]",
      "text/plain": [
       "<Figure size 600x300 with 1 Axes>"
      ]
     },
     "metadata": {},
     "output_type": "display_data"
    }
   ],
   "source": [
    "p_soln=a.numpy()\n",
    "t_step=np.linspace(0,ite,num=ite+1)\n",
    "name='/Users/shirinprovat/Desktop/Robin_Research//LOB_Linear/LOB_Linear_Stochastic/N_10_Linear_Stochastic.eps'\n",
    "def plotting(t):\n",
    "  #print('Total order size=',x1[t],np.sum(n_soln[t]),np.sum(p_soln[t]))\n",
    "  #print(n_soln[t],p_soln[t])\n",
    "  plt.figure(figsize=(6,3))\n",
    "  #plt.bar(t_step,t_soln[t],color='blue',width=0.3,label='Closed-Form')\n",
    "  plt.bar(t_step,p_soln[t],color='red',width=0.2)\n",
    "  #plt.bar(t_step,n_soln[t],color='green',width=0.1,label='numeric')\n",
    "  plt.title('Total order of size X= %i' % (x1[t]))\n",
    "  plt.xlabel('Time steps')\n",
    "  plt.ylabel('Optimal orders')\n",
    "  #plt.legend()\n",
    "\n",
    "#   #plt.savefig('f.eps', format='eps')\n",
    "  if(t==0):\n",
    "    plt.savefig(name,format='eps')      \n",
    "  plt.show()\n",
    "for i in range(0,M1,3):\n",
    "  plotting(i)"
   ]
  },
  {
   "cell_type": "code",
   "execution_count": 13,
   "id": "5912121b",
   "metadata": {},
   "outputs": [
    {
     "name": "stdout",
     "output_type": "stream",
     "text": [
      "tensor([[0.0100, 0.0103, 0.0103, 0.0103, 0.0104, 0.0105, 0.0106, 0.0107, 0.0107,\n",
      "         0.0107, 0.0108],\n",
      "        [0.0100, 0.0101, 0.0103, 0.0104, 0.0106, 0.0107, 0.0107, 0.0108, 0.0110,\n",
      "         0.0111, 0.0111],\n",
      "        [0.0100, 0.0102, 0.0103, 0.0106, 0.0107, 0.0108, 0.0109, 0.0109, 0.0111,\n",
      "         0.0111, 0.0110],\n",
      "        [0.0100, 0.0101, 0.0101, 0.0103, 0.0105, 0.0105, 0.0107, 0.0109, 0.0109,\n",
      "         0.0108, 0.0108],\n",
      "        [0.0100, 0.0103, 0.0104, 0.0105, 0.0106, 0.0107, 0.0107, 0.0108, 0.0109,\n",
      "         0.0111, 0.0110],\n",
      "        [0.0100, 0.0102, 0.0102, 0.0103, 0.0104, 0.0105, 0.0105, 0.0107, 0.0109,\n",
      "         0.0110, 0.0112],\n",
      "        [0.0100, 0.0102, 0.0102, 0.0105, 0.0105, 0.0105, 0.0105, 0.0106, 0.0106,\n",
      "         0.0106, 0.0108],\n",
      "        [0.0100, 0.0103, 0.0105, 0.0106, 0.0107, 0.0108, 0.0108, 0.0109, 0.0110,\n",
      "         0.0111, 0.0111],\n",
      "        [0.0100, 0.0103, 0.0104, 0.0104, 0.0106, 0.0106, 0.0108, 0.0110, 0.0112,\n",
      "         0.0114, 0.0115],\n",
      "        [0.0100, 0.0103, 0.0105, 0.0105, 0.0105, 0.0108, 0.0109, 0.0111, 0.0113,\n",
      "         0.0112, 0.0112]])\n"
     ]
    }
   ],
   "source": [
    "print(kappa)"
   ]
  },
  {
   "cell_type": "code",
   "execution_count": null,
   "id": "3895e369",
   "metadata": {},
   "outputs": [],
   "source": [
    "print(rho)"
   ]
  },
  {
   "cell_type": "code",
   "execution_count": 18,
   "id": "2d3e6d34",
   "metadata": {},
   "outputs": [],
   "source": [
    "# torch.save(model, 'LOB_stoc_N10.pth')"
   ]
  },
  {
   "cell_type": "code",
   "execution_count": null,
   "id": "8f549e8f",
   "metadata": {},
   "outputs": [],
   "source": [
    "# import json\n",
    "# cost_numpy_list = [tensor.detach().item() for tensor in cost_ar]\n",
    "# my_dic = {'Num_sample':M,'Time_step':ite,'T':T,'kappa':kappa,'Rho':rho,'Total_balance':X0,\n",
    "#         'Num_neoron':neuron_model_psi,'Training_time':total_time,'epoch':max_epoch,\n",
    "#           'accuracy':0.005*1/100,'Training_cost':cost_numpy_list}\n",
    "\n",
    "# file_path=  'N10_T1_rho5_linear_dic.json'\n",
    "# with open(file_path,'w') as file:\n",
    "#     json.dump(my_dic,file)"
   ]
  }
 ],
 "metadata": {
  "kernelspec": {
   "display_name": "Python 3 (ipykernel)",
   "language": "python",
   "name": "python3"
  },
  "language_info": {
   "codemirror_mode": {
    "name": "ipython",
    "version": 3
   },
   "file_extension": ".py",
   "mimetype": "text/x-python",
   "name": "python",
   "nbconvert_exporter": "python",
   "pygments_lexer": "ipython3",
   "version": "3.11.5"
  }
 },
 "nbformat": 4,
 "nbformat_minor": 5
}
