{
 "cells": [
  {
   "cell_type": "code",
   "execution_count": 89,
   "id": "86743b5f",
   "metadata": {},
   "outputs": [],
   "source": [
    "import numpy as np\n",
    "import time\n",
    "import pandas as pd\n",
    "from scipy import misc\n",
    "import matplotlib.pyplot as plt\n",
    "# import tikzplotlib\n",
    "import torch\n",
    "import torch.nn as nn\n",
    "import torch.nn.functional as F\n",
    "import torch.optim as optim\n",
    "import random\n",
    "import math\n",
    "import pandas as pd\n",
    "# import cvxpy as cp\n",
    "from scipy.optimize import fsolve\n",
    "import torch.optim.lr_scheduler as lr_scheduler\n",
    "import seaborn as sns\n",
    "torch.set_default_dtype(torch.float64)\n"
   ]
  },
  {
   "cell_type": "code",
   "execution_count": 90,
   "id": "1ffe4d24",
   "metadata": {},
   "outputs": [
    {
     "name": "stdout",
     "output_type": "stream",
     "text": [
      "tensor(0.1000) tensor(0.0100)\n"
     ]
    }
   ],
   "source": [
    "M=2000\n",
    "ite=10\n",
    "dim_n=3\n",
    "T=1\n",
    "T_C=1\n",
    "T_F=0.1\n",
    "delta_c = torch.tensor(T_C/ite)\n",
    "delta_f=torch.tensor(T_F/ite)\n",
    "print(delta_c,delta_f)\n",
    "sigma=0.2\n",
    "mu=0.3\n",
    "A0=0.0\n",
    "gamma=0.0\n",
    "kappa=1.0\n",
    "rho=5\n",
    "X0=10000\n",
    "neuron_model_psi=20"
   ]
  },
  {
   "cell_type": "code",
   "execution_count": 91,
   "id": "d4d81260",
   "metadata": {},
   "outputs": [],
   "source": [
    "model_f= torch.nn.Sequential(\n",
    "    torch.nn.Linear(dim_n, neuron_model_psi),\n",
    "    torch.nn.ReLU(),\n",
    "    #torch.nn.Linear(neuron_model_psi, neuron_model_psi),\n",
    "    #torch.nn.ReLU(),\n",
    "    # torch.nn.Linear(neuron_model_psi, neuron_model_psi_2),\n",
    "    # torch.nn.ReLU(),\n",
    "    torch.nn.Linear(neuron_model_psi, neuron_model_psi),\n",
    "    torch.nn.ReLU(),\n",
    "    torch.nn.Linear(neuron_model_psi,1)\n",
    ")"
   ]
  },
  {
   "cell_type": "code",
   "execution_count": 123,
   "id": "dda1aab7",
   "metadata": {},
   "outputs": [
    {
     "data": {
      "text/plain": [
       "Sequential(\n",
       "  (0): Linear(in_features=3, out_features=50, bias=True)\n",
       "  (1): ReLU()\n",
       "  (2): Linear(in_features=50, out_features=50, bias=True)\n",
       "  (3): ReLU()\n",
       "  (4): Linear(in_features=50, out_features=1, bias=True)\n",
       ")"
      ]
     },
     "execution_count": 123,
     "metadata": {},
     "output_type": "execute_result"
    }
   ],
   "source": [
    "#torch.save(model, 'model_N10.pth')\n",
    "# model_coarse = torch.load('model_N10_best.pth')\n",
    "model_coarse = torch.nn.Sequential(\n",
    "    torch.nn.Linear(dim_n, 50),\n",
    "    torch.nn.ReLU(),\n",
    "    torch.nn.Linear(50, 50),\n",
    "    torch.nn.ReLU(),\n",
    "    torch.nn.Linear(50,1)\n",
    ")\n",
    "model_coarse.load_state_dict(torch.load('model_N10_Arash.pth'))\n",
    "model_coarse.eval()"
   ]
  },
  {
   "cell_type": "markdown",
   "id": "9f513dd4",
   "metadata": {},
   "source": [
    "## Value function"
   ]
  },
  {
   "cell_type": "code",
   "execution_count": 124,
   "id": "75e87fea",
   "metadata": {},
   "outputs": [],
   "source": [
    "def update(x3,psi,delta):\n",
    "  t=x3[:,0]+delta\n",
    "  #print(psi.squeeze(1).shape,x1[:,1].shape)\n",
    "  D = (x3[:,1]+kappa*psi)*torch.exp(-rho*delta)\n",
    "  R= x3[:,2]-psi\n",
    "  #print(R.shape)\n",
    "  up=torch.cat((t.unsqueeze(1),D.unsqueeze(1),R.unsqueeze(1)),dim=1)\n",
    "  #print('up shape=', up.shape)\n",
    "  return up\n",
    "\n",
    "def loss_func(x2,psi):\n",
    "  loss=(x2[:,1]*psi+(kappa/2.0)*torch.pow(psi,2))\n",
    "  return loss\n",
    "\n",
    "def unit(x1,model,delta):\n",
    "    psi=model(x1).squeeze(1)\n",
    "    los=loss_func(x1,psi)\n",
    "    upd=update(x1,psi,delta)\n",
    "    #print('unit print=',psi.shape,los.shape,upd.shape)\n",
    "    return psi,los,upd\n",
    "\n",
    "def loss_func_total(u,model,delta):\n",
    "  loss=torch.zeros(M,ite+1)\n",
    "  psi=torch.zeros(M,ite+1)\n",
    "  for i in range(ite+1):\n",
    "    if(i!=ite):\n",
    "        psi_run,loss_run,u_run=unit(u,model,delta)\n",
    "        #print('los func=',psi_run.shape,loss_run.shape)\n",
    "        loss[:,i]=loss_run\n",
    "        #print(loss)\n",
    "        psi[:,i]=psi_run\n",
    "        #print(psi)\n",
    "        u=u_run\n",
    "    #print(u)\n",
    "    else:\n",
    "    #print(torch.sum(psi,dim=1),R.squeeze(1))\n",
    "        psi_ter=R.squeeze(1)-torch.sum(psi,dim=1)\n",
    "        loss_ter=loss_func(u,psi_ter)\n",
    "      #print('ter',loss_ter.shape)\n",
    "  #print(torch.sum(loss,dim=1))\n",
    "  #loss1=torch.sum(loss,dim=1)\n",
    "  loss1=torch.sum(loss,dim=1)+loss_ter\n",
    "  #print(loss.shape)\n",
    "  return torch.mean(loss1)"
   ]
  },
  {
   "cell_type": "code",
   "execution_count": 125,
   "id": "f1846f15",
   "metadata": {},
   "outputs": [],
   "source": [
    "def testing_coarse(X0,M1):    \n",
    "    t_test=torch.zeros([M1,1])\n",
    "    D_test=torch.zeros([M1,1])\n",
    "    #D_test=torch.FloatTensor(M,1).uniform_(0.1,0.5)   #Price impact D_t\n",
    "    #R_test=torch.FloatTensor(M1,1).uniform_(50,100)   #remaining balance R_t   #To get a positive solution R_t has to be greater than D_t\n",
    "    R_test=torch.linspace(X0*0.90, X0*1.1, steps=M1).unsqueeze(1)\n",
    "    x_test=torch.cat((t_test,D_test,R_test),dim=1)\n",
    "    #print('Input=',x_test,'\\n')\n",
    "    a=torch.zeros(M1,ite+1)\n",
    "    #print(a.shape)\n",
    "    for i in range(ite+1):\n",
    "      if(i!=ite):\n",
    "        #print(x_test)\n",
    "        soln_pred=model_coarse.eval()(x_test).squeeze(1).detach()\n",
    "        a[:,i]=soln_pred\n",
    "        x_test=update(x_test,soln_pred,delta_c)\n",
    "        #print(x_test,'\\n')\n",
    "      else:\n",
    "        a[:,i]=R_test.squeeze(1)-torch.sum(a,dim=1)\n",
    "\n",
    "    x1=R_test.squeeze().numpy()\n",
    "    t_soln=np.zeros((M1,ite+1))\n",
    "    return x_test,a"
   ]
  },
  {
   "cell_type": "code",
   "execution_count": 126,
   "id": "5af9f5d2",
   "metadata": {},
   "outputs": [],
   "source": [
    "def coarse_value(X0,M1):    \n",
    "    t_test=torch.zeros([M1,1])\n",
    "    D_test=torch.zeros([M1,1])\n",
    "    #D_test=torch.FloatTensor(M,1).uniform_(0.1,0.5)   #Price impact D_t\n",
    "    #R_test=torch.FloatTensor(M1,1).uniform_(50,100)   #remaining balance R_t   #To get a positive solution R_t has to be greater than D_t\n",
    "    R_test=torch.linspace(X0*0.90, X0*1.1, steps=M1).unsqueeze(1)\n",
    "    x_test = torch.cat((t_test,D_test,R_test),dim=1)\n",
    "    x_data = x_test\n",
    "    #print('Input=',x_test,'\\n')\n",
    "    a=torch.zeros(M1,ite+1)\n",
    "    #print(a.shape)\n",
    "    for i in range(ite+1):\n",
    "      if(i!=ite):\n",
    "        #print(x_test)\n",
    "        soln_pred=model_coarse.eval()(x_test).squeeze(1).detach()\n",
    "        a[:,i]=soln_pred\n",
    "        x_test=update(x_test,soln_pred,delta_c)\n",
    "        x_data = torch.cat((x_data,x_test),axis=0)\n",
    "        #print(x_test,'\\n')\n",
    "      else:\n",
    "        a[:,i]=R_test.squeeze(1)-torch.sum(a,dim=1)\n",
    "\n",
    "    # x1=R_test.squeeze().numpy()\n",
    "    # t_soln=np.zeros((M1,ite+1))\n",
    "    return x_test,a,x_data"
   ]
  },
  {
   "cell_type": "code",
   "execution_count": 127,
   "id": "7c680e40",
   "metadata": {},
   "outputs": [
    {
     "name": "stdout",
     "output_type": "stream",
     "text": [
      "1.0000000000\n",
      "1.0000000000\n",
      "1.0000000000\n",
      "1.0000000000\n",
      "1.0000000000\n"
     ]
    }
   ],
   "source": [
    "x_c,c_soln,x_data=coarse_value(X0,5)\n",
    "for x in x_data[-5:][:,0]:\n",
    "    print(\"{:.10f}\".format(x))"
   ]
  },
  {
   "cell_type": "code",
   "execution_count": 128,
   "id": "58208028",
   "metadata": {},
   "outputs": [
    {
     "name": "stdout",
     "output_type": "stream",
     "text": [
      "0.1000000000, 0.1000000000, 0.1000000000\n"
     ]
    }
   ],
   "source": [
    "a = torch.tensor(1.0/10.0)\n",
    "print(\"{:.10f}, {:.10f}, {:.10f}\".format(1.0/10.0, torch.tensor(1.0/10.0), a))"
   ]
  },
  {
   "cell_type": "code",
   "execution_count": 129,
   "id": "10e1cd66",
   "metadata": {},
   "outputs": [
    {
     "name": "stdout",
     "output_type": "stream",
     "text": [
      "coarse soution= tensor([1623.8970,  639.9296,  639.8604,  640.0034,  640.1218,  640.2160,\n",
      "         640.2860,  641.0455,  642.7218,  631.9081, 1620.0103])\n"
     ]
    }
   ],
   "source": [
    "x_c,c_soln=testing_coarse(X0,5)\n",
    "# print(c_soln.shape)\n",
    "# print(x_c,c_soln,torch.sum(a,1))\n",
    "D_max=torch.max(x_c[:,1])\n",
    "R_min=torch.min(c_soln)\n",
    "R_max=torch.max(c_soln)\n",
    "t=torch.zeros([M,1])\n",
    "D=torch.FloatTensor(M,1).uniform_(0.0,D_max)\n",
    "#D=torch.FloatTensor(M,1).uniform_(0.1,0.5)   #Price impact D_t\n",
    "R=torch.FloatTensor(M,1).uniform_(R_min,R_max)   #remaining balance R_t   #To get a positive solution R_t has to be greater than D_t\n",
    "x=torch.cat((t,D,R),dim=1)\n",
    "print('coarse soution=',c_soln[0])"
   ]
  },
  {
   "cell_type": "markdown",
   "id": "e30c3097",
   "metadata": {},
   "source": [
    "# Training fine model?"
   ]
  },
  {
   "cell_type": "code",
   "execution_count": 130,
   "id": "e6f477c9",
   "metadata": {},
   "outputs": [
    {
     "name": "stdout",
     "output_type": "stream",
     "text": [
      "At epoch 0 the mean error is 1,348,357.7497369533.\n"
     ]
    }
   ],
   "source": [
    "start=time.time()\n",
    "lr1 = 8e-3\n",
    "max_epoch = 8000\n",
    "optimizer = optim.Adam(model_f.parameters(), lr1)\n",
    "t0 = time.time()\n",
    "#print(psi.shape)\n",
    "for epoch in range(max_epoch):\n",
    "  optimizer.zero_grad()\n",
    "  cost=loss_func_total(x,model_f,delta_f)\n",
    "  cost.backward()\n",
    "  optimizer.step()\n",
    "  #print(loss.item())\n",
    "  if (epoch % int(num_epochs/5)== int(num_epochs/5)-1) | (epoch == 0):\n",
    "    print(\"At epoch {} the mean cost is {}.  Eproch training time = {:.2E} ms\".format(epoch,cost.detach(),1000*(time.time()-t0)))\n",
    "end=time.time()\n",
    "print('time elapsed=',end-start)"
   ]
  },
  {
   "cell_type": "code",
   "execution_count": null,
   "id": "285e4a1f",
   "metadata": {},
   "outputs": [],
   "source": [
    "# torch.save(model_f, 'model_N10_fine.pth')\n",
    "# model_fin = torch.load('model_N10_fine.pth')\n",
    "model_fin=model_f"
   ]
  },
  {
   "cell_type": "code",
   "execution_count": null,
   "id": "f2df69d7",
   "metadata": {},
   "outputs": [],
   "source": [
    "def closed_form(X,ite):\n",
    "  alpa=np.exp(-rho*T/ite)\n",
    "  p=np.zeros(ite+1)\n",
    "  p[0]=X/((ite-1)*(1-alpa)+2)\n",
    "  p[ite]=X/((ite-1)*(1-alpa)+2)\n",
    "  for j in range(1,ite):\n",
    "    p[j]=p[0]*(1-alpa)\n",
    "  return p\n",
    "\n",
    "def cost(y,ite):\n",
    "  cost1=0.0\n",
    "  D1=0.0\n",
    "  for i in range(ite+1):\n",
    "    cost1+=D1*y[i]+(kappa/2.0)*np.power(y[i],2)\n",
    "    D1=(D1+kappa*y[i])*np.exp(-rho*T/ite)\n",
    "  return cost1"
   ]
  },
  {
   "cell_type": "code",
   "execution_count": null,
   "id": "50e4b7f5",
   "metadata": {},
   "outputs": [],
   "source": [
    "def testing_fine_forward(c_soln,ite):    \n",
    "    f_soln=[]\n",
    "    c=c_soln[2]\n",
    "    x_test=torch.tensor([[0.0,0.0,c[0]]])\n",
    "    for i in range(ite+1):\n",
    "        if (i!=0):\n",
    "            x_test[0,2]=x_test[0,2]+c[i] #Adding previous remaining balance to the current balance\n",
    "        if (i!=ite):         \n",
    "            for j in range(ite):\n",
    "                #print(i,x_test)\n",
    "                soln_pred=model_fin.eval()(x_test).squeeze(1).detach()\n",
    "                f_soln.append(soln_pred)\n",
    "                x_test=update(x_test,soln_pred,delta_f)\n",
    "            #print(x_test[0,2])\n",
    "    f_soln.append(x_test[0,2].view(1))\n",
    "    f_soln= np.array([tensor.numpy() for tensor in f_soln]).reshape(len(f_soln))\n",
    "    return f_soln\n"
   ]
  },
  {
   "cell_type": "markdown",
   "id": "006892a2",
   "metadata": {},
   "source": [
    "# Results from forward pass"
   ]
  },
  {
   "cell_type": "code",
   "execution_count": null,
   "id": "2c202172",
   "metadata": {},
   "outputs": [],
   "source": [
    "coarse_soln=c_soln[2].numpy()\n",
    "print('coarse soln',coarse_soln, 'Total=',np.sum(coarse_soln))\n",
    "fine_soln=testing_fine_forward(c_soln,ite)\n",
    "true_soln=closed_form(10000,100)\n",
    "print('\\nFine solution=', fine_soln, 'Total=',np.sum(fine_soln))"
   ]
  },
  {
   "cell_type": "code",
   "execution_count": null,
   "id": "ab76b4e4",
   "metadata": {},
   "outputs": [],
   "source": [
    "t_step1=np.linspace(0,1,num=11)\n",
    "t_step2=np.linspace(0,1,num=101)\n",
    "plt.figure(figsize=(14,6))\n",
    "plt.bar(t_step1,coarse_soln,color='red',width=0.01,label='coarse')\n",
    "plt.bar(t_step2,fine_soln,color='green',width=0.005,label='fine')\n",
    "plt.bar(t_step2,true_soln,color='blue',width=0.002,label='true')\n",
    "plt.xlabel('Time steps')\n",
    "plt.ylabel('Optimal orders')\n",
    "plt.title('Forward Pass')\n",
    "plt.legend()\n",
    "plt.show()\n"
   ]
  },
  {
   "cell_type": "code",
   "execution_count": null,
   "id": "bdacda2f",
   "metadata": {},
   "outputs": [],
   "source": [
    "# true_cost=cost(true_soln,100)\n",
    "# fine_cost=cost(fine_soln,100)\n",
    "# print('True Cost= %0.2f'% true_cost, 'Fine grid cost= %0.2f'% fine_cost)\n",
    "# error=np.abs(true_cost-fine_cost)\n",
    "# per_error=100*error/true_cost\n",
    "# print('Cost Error= %0.2f'% error)\n",
    "# print('Percentage error= %0.2f'% per_error,'%' )\n",
    "# D_N=data[0,2].detach().numpy()\n",
    "# derivative=kappa*(fine_soln[0])-((10000-sum(fine_soln[i] for i in range(len(fine_soln)-1)))+D_N)\n",
    "# print('\\nDerivative of loss with respect to x0 =',derivative)"
   ]
  },
  {
   "cell_type": "markdown",
   "id": "a82f44f2",
   "metadata": {},
   "source": [
    "# Strategy 2 (Adding two consecutive terms to predict the block)"
   ]
  },
  {
   "cell_type": "code",
   "execution_count": null,
   "id": "013a0701",
   "metadata": {},
   "outputs": [],
   "source": [
    "def testing_fine_first_last(c_soln,ite):    \n",
    "    f_soln=[]\n",
    "    c=c_soln[2]\n",
    "    x_test=torch.tensor([[0.0,0.0,c[0]]])\n",
    "    #x_test[0,2]=x_test[0,2]+c[ite]\n",
    "    for i in range(ite):       \n",
    "        x_test[0,2]=x_test[0,2]+c[i+1] #Adding previous remaining balance to the current balance         \n",
    "        for j in range(ite):\n",
    "            #print(i,x_test)\n",
    "            soln_pred=model_fin.eval()(x_test).squeeze(1).detach()\n",
    "            f_soln.append(soln_pred)\n",
    "            x_test=update(x_test,soln_pred,delta_f)\n",
    "            #print(x_test[0,2])\n",
    "    f_soln.append(x_test[0,2].view(1))\n",
    "    f_soln= np.array([tensor.numpy() for tensor in f_soln]).reshape(len(f_soln))\n",
    "    return f_soln"
   ]
  },
  {
   "cell_type": "code",
   "execution_count": null,
   "id": "cf63f11e",
   "metadata": {},
   "outputs": [],
   "source": [
    "# fine_soln=testing_fine_first_last(c_soln,ite)\n",
    "# true_soln=closed_form(10000,100)\n",
    "# print('\\nFine solution=', fine_soln, fine_soln.shape,'Total=',np.sum(fine_soln))\n",
    "# print('\\nDifference between true and fine=',(fine_soln-true_soln))\n",
    "# D_N=data[0,2].detach().numpy()\n",
    "# derivative=kappa*(fine_soln[0])-((10000-sum(fine_soln[i] for i in range(len(fine_soln)-1)))+D_N)\n",
    "# print('\\nDerivative of loss with respect to x0 =',derivative)"
   ]
  },
  {
   "cell_type": "code",
   "execution_count": null,
   "id": "f9fc7688",
   "metadata": {},
   "outputs": [],
   "source": [
    "t_step1=np.linspace(0,1,num=11)\n",
    "t_step2=np.linspace(0,1,num=101)\n",
    "plt.figure(figsize=(14,6))\n",
    "#plt.bar(t_step1,coarse_soln,color='red',width=0.01,label='coarse')\n",
    "plt.bar(t_step2,fine_soln,color='green',width=0.005,label='fine')\n",
    "plt.bar(t_step2,true_soln,color='yellow',width=0.002,label='true')\n",
    "plt.xlabel('Time steps')\n",
    "plt.ylabel('Optimal orders')\n",
    "plt.title('Forward Pass')\n",
    "plt.legend()\n",
    "plt.show()"
   ]
  },
  {
   "cell_type": "code",
   "execution_count": null,
   "id": "d1e97e00",
   "metadata": {},
   "outputs": [],
   "source": [
    "# true_cost=cost(true_soln,100)\n",
    "# fine_cost=cost(fine_soln,100)\n",
    "# print('True Cost= %0.2f'% true_cost, 'Fine grid cost= %0.2f'% fine_cost)\n",
    "# error=np.abs(true_cost-fine_cost)\n",
    "# per_error=100*error/true_cost\n",
    "# print('Cost Error= %0.2f'% error)\n",
    "# print('Percentage error= %0.2f'% per_error,'%' )\n",
    "# D_N=data[0,2].detach().numpy()\n",
    "# derivative=kappa*(fine_soln[0])-((10000-sum(fine_soln[i] for i in range(len(fine_soln)-1)))+D_N)\n",
    "# print('\\nDerivative of loss with respect to x0 =',derivative)"
   ]
  },
  {
   "cell_type": "markdown",
   "id": "d3a240b8",
   "metadata": {},
   "source": [
    "# Strategy 3: Updated (Adding First and last balance and then doing the forward pass)"
   ]
  },
  {
   "cell_type": "code",
   "execution_count": null,
   "id": "ce39fa25",
   "metadata": {},
   "outputs": [],
   "source": [
    "def testing_fine_first_last(c_soln,ite):    \n",
    "    f_soln=[]\n",
    "    c=c_soln[2]\n",
    "    x_test=torch.tensor([[0.0,0.0,c[0]]])\n",
    "    x_test[0,2]=x_test[0,2]+c[ite]\n",
    "    for i in range(ite):       \n",
    "        if (i!=0):\n",
    "            x_test[0,2]=x_test[0,2]+c[i] #Adding previous remaining balance to the current balance         \n",
    "        for j in range(ite):\n",
    "            #print(i,x_test)\n",
    "            soln_pred=model_fin.eval()(x_test).squeeze(1).detach()\n",
    "            f_soln.append(soln_pred)\n",
    "            x_test=update(x_test,soln_pred,delta_f)\n",
    "            #print(x_test[0,2])\n",
    "    f_soln.append(x_test[0,2].view(1))\n",
    "    f_soln= np.array([tensor.numpy() for tensor in f_soln]).reshape(len(f_soln))\n",
    "    return x_test,f_soln"
   ]
  },
  {
   "cell_type": "code",
   "execution_count": null,
   "id": "761849da",
   "metadata": {},
   "outputs": [],
   "source": [
    "data,fine_soln=testing_fine_first_last(c_soln,ite)\n",
    "D_N=data[0,2].detach().numpy()\n",
    "derivative_fin=kappa*(fine_soln[0])-((10000-sum(fine_soln[i] for i in range(len(fine_soln)-1)))+D_N)\n",
    "derivative_true=kappa*(true_soln[0])-((10000-sum(true_soln[i] for i in range(len(true_soln)-1)))+D_N)\n",
    "print('\\nDerivative of loss func with respect to x0 (True soln) =',derivative_true)\n",
    "print('\\nDerivative of loss func with respect to x0 (Fine soln) =',derivative_fin)\n",
    "true_soln=closed_form(10000,100)\n",
    "print('\\nFine solution=', fine_soln,'Total=',np.sum(fine_soln))\n",
    "print('\\nTrue solution=', true_soln,'Total=',np.sum(true_soln))\n",
    "print('\\nDifference between true and fine=',(fine_soln-true_soln))\n"
   ]
  },
  {
   "cell_type": "code",
   "execution_count": null,
   "id": "9c2b6c06",
   "metadata": {},
   "outputs": [],
   "source": [
    "t_step1=np.linspace(0,1,num=11)\n",
    "t_step2=np.linspace(0,100,num=101)\n",
    "name='N10_T1_K1_rho5_neo20.eps'\n",
    "f, ax = plt.subplots(figsize=(7,3),dpi=600)\n",
    "#plt.bar(t_step1,coarse_soln,color='red',width=0.01,label='coarse')\n",
    "ax.bar(t_step2,fine_soln,color='green',width=0.8,label='fine-grid solution',alpha=0.5)\n",
    "ax.bar(t_step2,true_soln,color='red',width=0.4,label='closed-form solution',alpha=0.5)\n",
    "ax.set_xlabel('Time steps')\n",
    "ax.set_ylabel('Optimal orders (log-scale)')\n",
    "f.suptitle('Multiscale Solution for the order of size X={:,}'.format(X0))\n",
    "ax.legend()\n",
    "# plt.savefig(name,format='eps')  \n",
    "ax.set_yscale('log')\n",
    "# plt.show()\n",
    "tikzplotlib.save(\"LOB_Linear.tex\")"
   ]
  },
  {
   "cell_type": "code",
   "execution_count": null,
   "id": "ee84357d",
   "metadata": {},
   "outputs": [],
   "source": []
  },
  {
   "cell_type": "code",
   "execution_count": null,
   "id": "77cf18e3",
   "metadata": {},
   "outputs": [],
   "source": [
    "true_cost=cost(true_soln,100)\n",
    "fine_cost=cost(fine_soln,100)\n",
    "print('True Cost= %0.2f'% true_cost, 'Fine grid cost= %0.2f'% fine_cost)\n",
    "error=np.abs(true_cost-fine_cost)\n",
    "per_error=100*error/true_cost\n",
    "print('Cost Error = %0.2f'% error)\n",
    "print('Percentage Error = %0.2f'% per_error,'%')"
   ]
  },
  {
   "cell_type": "markdown",
   "id": "dfae8371",
   "metadata": {},
   "source": [
    "# The derivative of the loss function"
   ]
  },
  {
   "cell_type": "code",
   "execution_count": null,
   "id": "8e334358",
   "metadata": {},
   "outputs": [],
   "source": [
    "# The derivative of the loss function with respect to x0 = kappa*x0-[kappa(X-(x0+x1+......+x_{N-1})+DN)]\n",
    "# "
   ]
  },
  {
   "cell_type": "code",
   "execution_count": null,
   "id": "d50cdad8",
   "metadata": {},
   "outputs": [],
   "source": []
  }
 ],
 "metadata": {
  "kernelspec": {
   "display_name": "Python 3 (ipykernel)",
   "language": "python",
   "name": "python3"
  },
  "language_info": {
   "codemirror_mode": {
    "name": "ipython",
    "version": 3
   },
   "file_extension": ".py",
   "mimetype": "text/x-python",
   "name": "python",
   "nbconvert_exporter": "python",
   "pygments_lexer": "ipython3",
   "version": "3.12.4"
  }
 },
 "nbformat": 4,
 "nbformat_minor": 5
}
