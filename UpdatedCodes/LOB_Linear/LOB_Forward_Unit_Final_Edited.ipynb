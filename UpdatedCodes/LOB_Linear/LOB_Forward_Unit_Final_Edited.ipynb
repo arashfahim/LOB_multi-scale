{
 "cells": [
  {
   "cell_type": "code",
   "execution_count": 1,
   "metadata": {
    "id": "PqNL-4FAgMis"
   },
   "outputs": [],
   "source": [
    "import numpy as np\n",
    "import time\n",
    "from scipy import misc\n",
    "import matplotlib\n",
    "import matplotlib.pyplot as plt\n",
    "%matplotlib inline\n",
    "# matplotlib.use('Qt5Agg')\n",
    "import torch\n",
    "import torch.nn as nn\n",
    "import torch.nn.functional as F\n",
    "import torch.optim as optim\n",
    "import random\n",
    "import math\n",
    "import pandas as pd\n",
    "#import cvxpy as cp\n",
    "from scipy.optimize import fsolve\n",
    "torch.set_default_dtype(torch.float64)"
   ]
  },
  {
   "cell_type": "markdown",
   "metadata": {},
   "source": [
    "# Parameters of the model"
   ]
  },
  {
   "cell_type": "code",
   "execution_count": 2,
   "metadata": {
    "id": "MeYOz7uYgScR"
   },
   "outputs": [
    {
     "name": "stdout",
     "output_type": "stream",
     "text": [
      "tensor(0.1000)\n"
     ]
    }
   ],
   "source": [
    "M=1000\n",
    "ite=10\n",
    "dim_n=3\n",
    "T=1\n",
    "delta = torch.tensor(T/ite)\n",
    "#delta=torch.tensor(0.01)\n",
    "sigma=0.2\n",
    "mu=0.3\n",
    "A0=0.0\n",
    "gamma=0.0\n",
    "kappa=1\n",
    "rho=5\n",
    "X0=10000\n",
    "neuron_model_psi=16\n",
    "print(delta)"
   ]
  },
  {
   "cell_type": "code",
   "execution_count": 3,
   "metadata": {},
   "outputs": [],
   "source": [
    "params = {'M':1000,\n",
    "        'num_time_steps':10,\n",
    "        'dim':3, #dimension\n",
    "        'T':1,# terminal time\n",
    "        'sigma':0.2,\n",
    "        'mu':0.3,\n",
    "        'A0':0.0, #initial fundamental price\n",
    "        'gamma':0.0, # permanent price impact\n",
    "        'kappa':1,#price impact coeff\n",
    "        'rho':5,#resillience\n",
    "        'init_balance':10000,\n",
    "        'num_neurons':16}\n",
    "delta = torch.tensor(T/ite)"
   ]
  },
  {
   "cell_type": "markdown",
   "metadata": {},
   "source": [
    "# Colsed-form solution\n"
   ]
  },
  {
   "cell_type": "code",
   "execution_count": 4,
   "metadata": {},
   "outputs": [],
   "source": [
    "def closed_form(X):\n",
    "  alpa=np.exp(-rho*T/ite)\n",
    "  p=np.zeros(ite+1)\n",
    "  p[0]=X/((ite-1)*(1-alpa)+2)\n",
    "  p[ite]=X/((ite-1)*(1-alpa)+2)\n",
    "  for j in range(1,ite):\n",
    "    p[j]=p[0]*(1-alpa)\n",
    "  return p\n"
   ]
  },
  {
   "cell_type": "code",
   "execution_count": 5,
   "metadata": {},
   "outputs": [],
   "source": [
    "class solution(object):\n",
    "    def __init__(self,params):\n",
    "        self.ite = params['num_time_steps']\n",
    "        self.T = params['T']\n",
    "        self.rho = params['rho']\n",
    "        self.kappa = params['kappa']\n",
    "        self.delta = self.T/self.ite\n",
    "        self.alpha=np.exp(-self.rho*self.delta)\n",
    "    def optimal(self,x_init):\n",
    "        x = torch.tensor([[i*self.delta,x_init] for i in range(ite+1)])\n",
    "        return ((1-(torch.where(x[:,0]==0.0*self.delta,0,1)*torch.where(x[:,0]==self.ite*self.delta,0,1))*self.alpha)*x[:,1]/((self.ite-1)*(1-self.alpha)+2)).unsqueeze(0) \n",
    "    def __call__(self, x):\n",
    "        exec =  self.optimal(x)   \n",
    "        c_tmp = torch.tensor([0.0])\n",
    "        D_tmp = torch.tensor([0.0])\n",
    "        for i in range(ite+1):\n",
    "            c_tmp = c_tmp + D_tmp*exec[:,i]+(self.kappa/2.0)*np.power(exec[:,i],2)\n",
    "            D_tmp = (D_tmp + self.kappa * exec[:,i])*self.alpha\n",
    "        return c_tmp,exec # "
   ]
  },
  {
   "cell_type": "code",
   "execution_count": 6,
   "metadata": {},
   "outputs": [],
   "source": [
    "cf = solution(params)\n"
   ]
  },
  {
   "cell_type": "code",
   "execution_count": 7,
   "metadata": {},
   "outputs": [],
   "source": [
    "x0 = 10000.0"
   ]
  },
  {
   "cell_type": "code",
   "execution_count": 8,
   "metadata": {},
   "outputs": [
    {
     "name": "stdout",
     "output_type": "stream",
     "text": [
      "1.4496171257E+07\n",
      "tensor([[1804.6554,  710.0766,  710.0766,  710.0766,  710.0766,  710.0766,\n",
      "          710.0766,  710.0766,  710.0766,  710.0766, 1804.6554]])\n"
     ]
    }
   ],
   "source": [
    "closed_form_loss , exec = cf(x0)\n",
    "print(\"{:.10E}\".format(closed_form_loss[0]))\n",
    "print(exec)"
   ]
  },
  {
   "cell_type": "markdown",
   "metadata": {},
   "source": [
    "# Deep approximation"
   ]
  },
  {
   "cell_type": "code",
   "execution_count": 9,
   "metadata": {
    "id": "93xjaCyOgTS0"
   },
   "outputs": [],
   "source": [
    "model= torch.nn.Sequential(\n",
    "    torch.nn.Linear(dim_n, neuron_model_psi),\n",
    "#     torch.nn.ReLU(),\n",
    "#     torch.nn.Linear(neuron_model_psi, neuron_model_psi),\n",
    "#     torch.nn.ReLU(),\n",
    "#     torch.nn.Linear(neuron_model_psi, neuron_model_psi),\n",
    "    torch.nn.ReLU(),\n",
    "    torch.nn.Linear(neuron_model_psi, neuron_model_psi),\n",
    "    torch.nn.ReLU(),\n",
    "    torch.nn.Linear(neuron_model_psi,1)\n",
    ")"
   ]
  },
  {
   "cell_type": "code",
   "execution_count": 10,
   "metadata": {},
   "outputs": [],
   "source": [
    "# model=torch.load('model_N100_T1_K1_rho5_neo50.pth')"
   ]
  },
  {
   "cell_type": "code",
   "execution_count": 11,
   "metadata": {
    "id": "ZU58vmPqgVX8"
   },
   "outputs": [],
   "source": [
    "t=torch.zeros([M,1])\n",
    "D=torch.zeros([M,1])\n",
    "#D=torch.FloatTensor(M,1).uniform_(0.1,0.5)   #Price impact D_t\n",
    "R=torch.FloatTensor(M,1).uniform_(X0*0.9,X0*1.1)   #remaining balance R_t   #To get a positive solution R_t has to be greater than D_t\n",
    "x=torch.cat((t,D,R),dim=1)\n",
    "# print(x)\n",
    "# print(x.shape)"
   ]
  },
  {
   "cell_type": "code",
   "execution_count": 12,
   "metadata": {
    "id": "XGmOeYfAgnFK"
   },
   "outputs": [],
   "source": [
    "def update(x3,psi):\n",
    "  t=(x3[:,0]+delta)\n",
    "  #print(psi.squeeze(1).shape,x1[:,1].shape)\n",
    "  D = (x3[:,1]+kappa*psi)*torch.exp(-rho*delta)\n",
    "  R= x3[:,2]-psi\n",
    "  #print(R.shape)\n",
    "  up=torch.cat((t.unsqueeze(1),D.unsqueeze(1),R.unsqueeze(1)),dim=1)\n",
    "  #print('up shape=', up.shape)\n",
    "  return up\n",
    "\n",
    "def loss_func(x2,psi):\n",
    "  loss=(x2[:,1]*psi+(kappa/2.0)*torch.pow(psi,2))\n",
    "  return loss\n",
    "\n",
    "def unit(x1,model):\n",
    "    psi=model(x1).squeeze(1)\n",
    "    los=loss_func(x1,psi)\n",
    "    upd=update(x1,psi)\n",
    "    #print('unit print=',psi.shape,los.shape,upd.shape)\n",
    "    return psi,los,upd\n",
    "\n",
    "def loss_func_total(u,model):\n",
    "  loss=torch.zeros(M,ite)\n",
    "  psi=torch.zeros(M,ite)\n",
    "  for i in range(ite+1):\n",
    "    if(i!=ite):\n",
    "      psi_run,loss_run,u_run=unit(u,model)\n",
    "      #print('los func=',psi_run.shape,loss_run.shape)\n",
    "      loss[:,i]=loss_run\n",
    "      #print(loss)\n",
    "      psi[:,i]=psi_run\n",
    "      #print(psi)\n",
    "      u=u_run\n",
    "      #print(u)\n",
    "    else:\n",
    "      #print(torch.sum(psi,dim=1),R.squeeze(1))\n",
    "      psi_ter=R.squeeze(1)-torch.sum(psi,dim=1)\n",
    "      loss_ter=loss_func(u,psi_ter)\n",
    "      #print('ter',loss_ter.shape)\n",
    "  #print(torch.sum(loss,dim=1))\n",
    "  loss=torch.sum(loss,dim=1)+loss_ter\n",
    "  #print(loss.shape)\n",
    "  return torch.mean(loss)"
   ]
  },
  {
   "cell_type": "markdown",
   "metadata": {
    "id": "aC2vdJPG00zc"
   },
   "source": [
    "Training"
   ]
  },
  {
   "cell_type": "code",
   "execution_count": 13,
   "metadata": {
    "colab": {
     "base_uri": "https://localhost:8080/"
    },
    "id": "g8C7LgFjgrSj",
    "outputId": "9697a2e1-ed0e-462a-d770-8465d959522b"
   },
   "outputs": [
    {
     "name": "stdout",
     "output_type": "stream",
     "text": [
      "At epoch 0 the mean cost is 1.0766858614E+08.  Eproch training time = 2.37E+01 ms\n",
      "At epoch 99 the mean cost is 1.4998791580E+07.  Eproch training time = 4.39E+00 ms\n"
     ]
    }
   ],
   "source": [
    "start=time.time()\n",
    "lr1 = 8e-3\n",
    "epoch=0\n",
    "num_epochs=500\n",
    "loss_epoch=[]\n",
    "L_=torch.tensor([-1000])\n",
    "optimizer = optim.Adam(model.parameters(), lr1)\n",
    "cost=torch.tensor([100000])\n",
    "err=1e-10\n",
    "#print(psi.shape)\n",
    "while (torch.abs(L_-cost)/torch.abs(L_)>err) &  (epoch <= num_epochs):\n",
    "  t0 = time.time()\n",
    "  optimizer.zero_grad()\n",
    "  cost=loss_func_total(x,model)\n",
    "  cost.backward()\n",
    "  optimizer.step()\n",
    "  loss_epoch.append(cost)\n",
    "  if epoch>0:\n",
    "    L_ = loss_epoch[epoch-1]\n",
    "  #print(cost,L_.item())\n",
    "  if (epoch % int(num_epochs/5)== int(num_epochs/5)-1) | (epoch == 0):\n",
    "    print(\"At epoch {} the mean cost is {:.10E}.  Eproch training time = {:.2E} ms\".format(epoch,cost.detach(),1000*(time.time()-t0)))\n",
    "  if (torch.abs(L_-cost)/torch.abs(L_)<=err):\n",
    "    print(\"Delta Loss = {} , epoch = {}.\".format(torch.abs(L_-cost)/torch.abs(L_),epoch))\n",
    "  \n",
    "  epoch=epoch+1\n",
    "\n",
    "end=time.time()\n",
    "print('time elapsed=',end-start)"
   ]
  },
  {
   "cell_type": "code",
   "execution_count": null,
   "metadata": {},
   "outputs": [
    {
     "data": {
      "text/plain": [
       "tensor(1.1660)"
      ]
     },
     "execution_count": 623,
     "metadata": {},
     "output_type": "execute_result"
    }
   ],
   "source": [
    "(cost.detach()-closed_form_loss[0])/closed_form_loss[0]*100"
   ]
  },
  {
   "cell_type": "code",
   "execution_count": null,
   "metadata": {},
   "outputs": [],
   "source": [
    "torch.save(model.state_dict(), 'model_N100_Arash.pth')"
   ]
  },
  {
   "cell_type": "code",
   "execution_count": null,
   "metadata": {},
   "outputs": [],
   "source": [
    "# start=time.time()\n",
    "# lr1 = 8e-3\n",
    "# max_epoch = 12000\n",
    "# optimizer = optim.Adam(model.parameters(), lr1)\n",
    "# cost_ar=[]\n",
    "# #print(psi.shape)\n",
    "# for epoch in range(max_epoch):\n",
    "#   optimizer.zero_grad()\n",
    "#   cost=loss_func_total(x,model)\n",
    "#   cost.backward()\n",
    "#   optimizer.step()\n",
    "#   cost_ar.append(cost)\n",
    "#   #print(loss.item())\n",
    "#   if (epoch % 100==0):\n",
    "#     print(\"At epoch {} the mean cost is {}.\".format(epoch,cost.detach()))\n",
    "# end=time.time()\n",
    "# total_time=end-start\n",
    "# print('time elapsed=',total_time)"
   ]
  },
  {
   "cell_type": "code",
   "execution_count": null,
   "metadata": {},
   "outputs": [],
   "source": [
    "# #time step vs training time plot\n",
    "# x=np.array([10,30,50,100]) #time steps\n",
    "# y=np.array([119,440,677,1356])#training times\n",
    "# plt.plot(x,y)\n",
    "# plt.show()"
   ]
  },
  {
   "cell_type": "markdown",
   "metadata": {
    "id": "wT4ALers1F8f"
   },
   "source": [
    "Solution by using cvxpy package"
   ]
  },
  {
   "cell_type": "code",
   "execution_count": null,
   "metadata": {
    "id": "nmIbc2Wd1E2B"
   },
   "outputs": [],
   "source": [
    "# def numeric_soln(X,n):\n",
    "#     delt=T/n\n",
    "#     alpa=math.exp(-delt*rho)\n",
    "#     c=np.ones(n)\n",
    "#     x=cp.Variable(n)\n",
    "#     #objective=cp.Minimize(determinstic_main(x))\n",
    "#     A=[[0 for i in range(n)] for j in range(n)]\n",
    "#     for i in range(n):\n",
    "#         for j in range(n):\n",
    "#             A[i][j]=1-kappa+kappa*pow(alpa,abs(i-j))\n",
    "#     constraints=[0<=x,sum(x)==X]\n",
    "\n",
    "#     objective=cp.Minimize(1/2*cp.quad_form(x,A))\n",
    "#     prob=cp.Problem(objective,constraints)\n",
    "#     #print(\"prob is DCP:\", prob.is_dcp())\n",
    "#     #print(\"curvature of objective:\",cp.sum(pow(x,2)).curvature)\n",
    "#     #assert prob.is_dqcp()\n",
    "#     cost=prob.solve()\n",
    "#     #print(\"Optimal value\", prob.solve())\n",
    "#     #print(\"Optimal value\", prob.solve(qcp=True))\n",
    "#     #print(\"Optimal soln\")\n",
    "#     soln=x.value\n",
    "#     #print(soln) # A numpy ndarray\n",
    "#     return soln,cost"
   ]
  },
  {
   "cell_type": "markdown",
   "metadata": {
    "id": "-6SwQUFvkmPl"
   },
   "source": [
    "# Cost function!"
   ]
  },
  {
   "cell_type": "code",
   "execution_count": null,
   "metadata": {
    "id": "LdgOnrDvkowO"
   },
   "outputs": [],
   "source": [
    "def cost(y):\n",
    "  cost1=0.0\n",
    "  D1=0.0\n",
    "  for i in range(ite+1):\n",
    "    cost1+=D1*y[i]+(kappa/2.0)*np.power(y[i],2)\n",
    "    D1=(D1+kappa*y[i])*np.exp(-rho*T/ite)\n",
    "  return cost1"
   ]
  },
  {
   "cell_type": "code",
   "execution_count": null,
   "metadata": {},
   "outputs": [],
   "source": [
    "# model=torch.load('model_N100_T1_K1_rho5_neo50.pth')"
   ]
  },
  {
   "cell_type": "markdown",
   "metadata": {
    "id": "83IFXBNYwiIc"
   },
   "source": [
    "**Testing ** We have compared the closed form solution from Obhizaeva and Wang, our predicted solution and the solution from python convex optimization package cvxpy"
   ]
  },
  {
   "cell_type": "code",
   "execution_count": null,
   "metadata": {
    "colab": {
     "base_uri": "https://localhost:8080/"
    },
    "id": "SVvNy5hi4vc2",
    "outputId": "e3a7a6a0-5193-4a6f-9f12-8c917599c3fd"
   },
   "outputs": [
    {
     "name": "stdout",
     "output_type": "stream",
     "text": [
      "size of total order= 9500.0\n",
      "closed form soln= [1714.42264249  674.57274611  674.57274611  674.57274611  674.57274611\n",
      "  674.57274611  674.57274611  674.57274611  674.57274611  674.57274611\n",
      " 1714.42264249] sum of all execution= 9500.0\n",
      "Closed form cost= 13082794.559600705 \n",
      "\n",
      "predicted soln= tensor([1505.6139,  800.1402,  795.5877,  773.1838,  737.3872,  691.9939,\n",
      "         640.1925,  584.6223,  527.4315,  455.7655, 1988.0815]) sum of all execution= tensor(9500.)\n",
      "predicted cost= 13174320.040418655 \n",
      "\n",
      "Percent Error in cost= 0.6995866242566972 %\n",
      "\n",
      "size of total order= 9611.111111111111\n",
      "closed form soln= [1734.4743693   682.46248583  682.46248583  682.46248583  682.46248583\n",
      "  682.46248583  682.46248583  682.46248583  682.46248583  682.46248583\n",
      " 1734.4743693 ] sum of all execution= 9611.11111111111\n",
      "Closed form cost= 13390614.492469123 \n",
      "\n",
      "predicted soln= tensor([1523.2019,  809.4767,  804.8686,  782.2009,  745.9846,  700.0598,\n",
      "         647.6525,  591.4325,  533.5732,  461.0901, 2011.5703]) sum of all execution= tensor(9611.1111)\n",
      "predicted cost= 13484310.493273363 \n",
      "\n",
      "Percent Error in cost= 0.6997139739698613 %\n",
      "\n",
      "size of total order= 9722.222222222223\n",
      "closed form soln= [1754.52609611  690.35222555  690.35222555  690.35222555  690.35222555\n",
      "  690.35222555  690.35222555  690.35222555  690.35222555  690.35222555\n",
      " 1754.52609611] sum of all execution= 9722.222222222224\n",
      "Closed form cost= 13702013.726882521 \n",
      "\n",
      "predicted soln= tensor([1540.7899,  818.8132,  814.1495,  791.2181,  754.5820,  708.1258,\n",
      "         655.1124,  598.2427,  539.7150,  466.4147, 2035.0591]) sum of all execution= tensor(9722.2222)\n",
      "predicted cost= 13797905.74365712 \n",
      "\n",
      "Percent Error in cost= 0.699838860812584 %\n",
      "\n",
      "size of total order= 9833.333333333334\n",
      "closed form soln= [1774.57782293  698.24196528  698.24196528  698.24196528  698.24196528\n",
      "  698.24196528  698.24196528  698.24196528  698.24196528  698.24196528\n",
      " 1774.57782293] sum of all execution= 9833.333333333334\n",
      "Closed form cost= 14016992.262840899 \n",
      "\n",
      "predicted soln= tensor([1558.3778,  828.1497,  823.4303,  800.2352,  763.1794,  716.1917,\n",
      "         662.5724,  605.0529,  545.8567,  471.7393, 2058.5478]) sum of all execution= tensor(9833.3333)\n",
      "predicted cost= 14115105.791569939 \n",
      "\n",
      "Percent Error in cost= 0.6999613532579277 %\n",
      "\n",
      "size of total order= 9944.444444444445\n",
      "closed form soln= [1794.62954974  706.131705    706.131705    706.131705    706.131705\n",
      "  706.131705    706.131705    706.131705    706.131705    706.131705\n",
      " 1794.62954974] sum of all execution= 9944.444444444443\n",
      "Closed form cost= 14335550.10034426 \n",
      "\n",
      "predicted soln= tensor([1575.9658,  837.4863,  832.7112,  809.2524,  771.7769,  724.2577,\n",
      "         670.0323,  611.8631,  551.9984,  477.0639, 2082.0366]) sum of all execution= tensor(9944.4444)\n",
      "predicted cost= 14435910.637011813 \n",
      "\n",
      "Percent Error in cost= 0.7000815173820474 %\n",
      "\n",
      "size of total order= 10055.555555555555\n",
      "closed form soln= [1814.68127655  714.02144472  714.02144472  714.02144472  714.02144472\n",
      "  714.02144472  714.02144472  714.02144472  714.02144472  714.02144472\n",
      " 1814.68127655] sum of all execution= 10055.555555555553\n",
      "Closed form cost= 14657687.23939259 \n",
      "\n",
      "predicted soln= tensor([1593.5538,  846.8228,  841.9920,  818.2695,  780.3743,  732.3236,\n",
      "         677.4923,  618.6733,  558.1401,  482.3885, 2105.5253]) sum of all execution= tensor(10055.5556)\n",
      "predicted cost= 14760320.279982738 \n",
      "\n",
      "Percent Error in cost= 0.7001994169606903 %\n",
      "\n",
      "size of total order= 10166.666666666666\n",
      "closed form soln= [1834.73300336  721.91118444  721.91118444  721.91118444  721.91118444\n",
      "  721.91118444  721.91118444  721.91118444  721.91118444  721.91118444\n",
      " 1834.73300336] sum of all execution= 10166.666666666668\n",
      "Closed form cost= 14983403.679985914 \n",
      "\n",
      "predicted soln= tensor([1611.1418,  856.1593,  851.2729,  827.2867,  788.9717,  740.3896,\n",
      "         684.9522,  625.4835,  564.2818,  487.7130, 2129.0141]) sum of all execution= tensor(10166.6667)\n",
      "predicted cost= 15088334.720482718 \n",
      "\n",
      "Percent Error in cost= 0.7003151135610495 %\n",
      "\n",
      "size of total order= 10277.777777777777\n",
      "closed form soln= [1854.78473018  729.80092416  729.80092416  729.80092416  729.80092416\n",
      "  729.80092416  729.80092416  729.80092416  729.80092416  729.80092416\n",
      " 1854.78473018] sum of all execution= 10277.777777777776\n",
      "Closed form cost= 15312699.422124216 \n",
      "\n",
      "predicted soln= tensor([1628.7298,  865.4958,  860.5538,  836.3038,  797.5691,  748.4556,\n",
      "         692.4122,  632.2937,  570.4236,  493.0376, 2152.5029]) sum of all execution= tensor(10277.7778)\n",
      "predicted cost= 15419953.958511762 \n",
      "\n",
      "Percent Error in cost= 0.7004286666306636 %\n",
      "\n",
      "size of total order= 10388.888888888889\n",
      "closed form soln= [1874.83645699  737.69066388  737.69066388  737.69066388  737.69066388\n",
      "  737.69066388  737.69066388  737.69066388  737.69066388  737.69066388\n",
      " 1874.83645699] sum of all execution= 10388.888888888889\n",
      "Closed form cost= 15645574.465807501 \n",
      "\n",
      "predicted soln= tensor([1646.3177,  874.8323,  869.8346,  845.3210,  806.1665,  756.5215,\n",
      "         699.8721,  639.1039,  576.5653,  498.3622, 2175.9916]) sum of all execution= tensor(10388.8889)\n",
      "predicted cost= 15755177.994069863 \n",
      "\n",
      "Percent Error in cost= 0.7005401335815061 %\n",
      "\n",
      "size of total order= 10500.0\n",
      "closed form soln= [1894.8881838  745.5804036  745.5804036  745.5804036  745.5804036\n",
      "  745.5804036  745.5804036  745.5804036  745.5804036  745.5804036\n",
      " 1894.8881838] sum of all execution= 10500.0\n",
      "Closed form cost= 15982028.81103577 \n",
      "\n",
      "predicted soln= tensor([1663.9057,  884.1689,  879.1155,  854.3381,  814.7640,  764.5875,\n",
      "         707.3321,  645.9141,  582.7070,  503.6868, 2199.4804]) sum of all execution= tensor(10500.)\n",
      "predicted cost= 16094006.82715702 \n",
      "\n",
      "Percent Error in cost= 0.7006495698714269 %\n",
      "\n"
     ]
    }
   ],
   "source": [
    "from torch.nn.modules.pooling import MaxPool1d\n",
    "M1=10\n",
    "t_test=torch.zeros([M1,1])\n",
    "D_test=torch.zeros([M1,1])\n",
    "#D_test=torch.FloatTensor(M,1).uniform_(0.1,0.5)   #Price impact D_t\n",
    "#R_test=torch.FloatTensor(M1,1).uniform_(50,100)   #remaining balance R_t   #To get a positive solution R_t has to be greater than D_t\n",
    "R_test=torch.linspace(X0*0.95, X0*1.05, steps=M1).unsqueeze(1)\n",
    "x_test=torch.cat((t_test,D_test,R_test),dim=1)\n",
    "#print('Input=',x_test,'\\n')\n",
    "a=torch.zeros(M1,ite+1)\n",
    "#print(a.shape)\n",
    "for i in range(ite+1):\n",
    "  if(i!=ite):\n",
    "    soln_pred=model(x_test).squeeze(1).detach()\n",
    "    a[:,i]=soln_pred\n",
    "    x_test=update(x_test,soln_pred)\n",
    "    #print(x_test,'\\n')\n",
    "  else:\n",
    "    a[:,i]=R_test.squeeze(1)-torch.sum(a,dim=1)\n",
    "\n",
    "x1=R_test.squeeze().numpy()\n",
    "c_true=np.zeros(M1)\n",
    "c_pred=np.zeros(M1)\n",
    "c_num=np.zeros(M1)\n",
    "n_soln=np.zeros((M1,ite+1))\n",
    "t_soln=np.zeros((M1,ite+1))\n",
    "\n",
    "for i in range(M1):\n",
    "  print('size of total order=',x1[i])\n",
    "\n",
    "  t_soln[i,:]=closed_form(x1[i])\n",
    "  print('closed form soln=',t_soln[i,:],'sum of all execution=',np.sum(t_soln[i,:]))\n",
    "  true_cost=cost(t_soln[i,:])\n",
    "  c_true[i]=true_cost\n",
    "  print('Closed form cost=',true_cost,'\\n')\n",
    "\n",
    "  print('predicted soln=',a[i,:],'sum of all execution=',torch.sum(a[i,:]).detach())\n",
    "  pred_cost=cost(a[i,:].detach().numpy())\n",
    "  print('predicted cost=',pred_cost,'\\n')\n",
    "  c_pred[i]=pred_cost\n",
    "  print('Percent Error in cost=',np.abs(100*(true_cost-pred_cost)/true_cost),'%\\n')"
   ]
  },
  {
   "cell_type": "markdown",
   "metadata": {
    "id": "bIUWsQuCMJoI"
   },
   "source": [
    "Comparing the cost"
   ]
  },
  {
   "cell_type": "code",
   "execution_count": null,
   "metadata": {
    "colab": {
     "base_uri": "https://localhost:8080/",
     "height": 447
    },
    "id": "v2AdyYZLMHES",
    "outputId": "b299a6b2-a7cf-42e9-a2cf-5f39556e79d7"
   },
   "outputs": [],
   "source": [
    "# print(x1.shape)\n",
    "# name='E:/Robin research/ECMF_poster/N50.eps'\n",
    "# plt.figure()\n",
    "# plt.plot(x1,c_true,color='blue',label='cost_true',marker='1')\n",
    "# plt.plot(x1,c_pred,color='red',label='cost_predicted')\n",
    "# plt.plot(x1,c_num,color='green',label='cost_numeric')\n",
    "# plt.legend()\n",
    "# plt.savefig(name,format='eps')\n",
    "# plt.show()"
   ]
  },
  {
   "cell_type": "markdown",
   "metadata": {
    "id": "sDVg2A6yAt57"
   },
   "source": [
    "Comparing solution for diffeternt testing samples"
   ]
  },
  {
   "cell_type": "code",
   "execution_count": null,
   "metadata": {
    "colab": {
     "base_uri": "https://localhost:8080/",
     "height": 1000
    },
    "id": "vOZyCiOfA2ej",
    "outputId": "43fe60aa-e0af-41d1-ca70-b0e9e8652ed9",
    "scrolled": false
   },
   "outputs": [
    {
     "data": {
      "image/png": "[encoded data removed]",
      "text/plain": [
       "<Figure size 640x480 with 1 Axes>"
      ]
     },
     "metadata": {},
     "output_type": "display_data"
    },
    {
     "data": {
      "image/png": "[encoded data removed]",
      "text/plain": [
       "<Figure size 640x480 with 1 Axes>"
      ]
     },
     "metadata": {},
     "output_type": "display_data"
    },
    {
     "data": {
      "image/png": "[encoded data removed]",
      "text/plain": [
       "<Figure size 640x480 with 1 Axes>"
      ]
     },
     "metadata": {},
     "output_type": "display_data"
    },
    {
     "data": {
      "image/png": "[encoded data removed]",
      "text/plain": [
       "<Figure size 640x480 with 1 Axes>"
      ]
     },
     "metadata": {},
     "output_type": "display_data"
    }
   ],
   "source": [
    "p_soln=a.numpy()\n",
    "t_step=np.linspace(0,ite,num=ite+1)\n",
    "# name='/Users/shirinprovat/Desktop/Robin_Research/LOB_Linear/N_10_Linear.eps'\n",
    "def plotting(t):\n",
    "  #print('Total order size=',x1[t],np.sum(n_soln[t]),np.sum(p_soln[t]))\n",
    "  #print(n_soln[t],p_soln[t])\n",
    "  #plt.figure(figsize=(4,3))\n",
    "  plt.bar(t_step,t_soln[t],color='blue',width=0.3,label='Closed-Form',alpha=0.5)\n",
    "  plt.bar(t_step,p_soln[t],color='red',width=0.2,label='Predicted')\n",
    "  #plt.bar(t_step,n_soln[t],color='green',width=0.1,label='numeric')\n",
    "  plt.title('Total Order size X= %i' % (x1[t]))\n",
    "  plt.xlabel('Time steps')\n",
    "  plt.ylabel('Optimal orders')\n",
    "  plt.legend()\n",
    "\n",
    "  #plt.savefig('f.eps', format='eps')\n",
    "#   if(t==0):\n",
    "#     plt.savefig(name,format='eps')      \n",
    "  plt.show()\n",
    "for i in range(0,M1,3):\n",
    "  plotting(i)\n"
   ]
  },
  {
   "cell_type": "code",
   "execution_count": null,
   "metadata": {},
   "outputs": [],
   "source": [
    "#torch.save(model, 'model_N10_T1_K1_rho5_neo20.pth') \n",
    "#model_coarse = torch.load('model_N10.pth')"
   ]
  },
  {
   "cell_type": "code",
   "execution_count": null,
   "metadata": {},
   "outputs": [],
   "source": [
    "# import json\n",
    "# cost_numpy_list = [tensor.detach().item() for tensor in cost_ar]\n",
    "# my_dic = {'Num_sample':M,'Time_step':ite,'T':T,'kappa':kappa,'Rho':rho,'Total_balance':X0,\n",
    "#         'Num_neoron':neuron_model_psi,'Training_time':total_time,'epoch':max_epoch,\n",
    "#           'accuracy':0.005*1/100,'Training_cost':cost_numpy_list}\n",
    "\n",
    "# file_path=  'N10_T1_rho5_linear_dic.json'\n",
    "# with open(file_path,'w') as file:\n",
    "#     json.dump(my_dic,file)"
   ]
  },
  {
   "cell_type": "markdown",
   "metadata": {
    "id": "WDxwTUz0cM7i"
   },
   "source": [
    "Comparing solution at different time steps"
   ]
  },
  {
   "cell_type": "code",
   "execution_count": null,
   "metadata": {
    "colab": {
     "base_uri": "https://localhost:8080/",
     "height": 495
    },
    "id": "fhTjyEOhcTDi",
    "outputId": "f7434824-b622-4684-cba5-de03d91e7a07"
   },
   "outputs": [],
   "source": [
    "# #p_soln=a.numpy()\n",
    "# t_step=np.linspace(0,ite,num=ite+1)\n",
    "# X=R_test.squeeze(1).numpy()\n",
    "# def plotting_time(t):\n",
    "#   #print(t_soln[t],p_soln[t])\n",
    "#   plt.figure(figsize=(4,3))\n",
    "#   plt.plot(X,t_soln[:,0],color='blue',label='true')\n",
    "#   plt.plot(X,p_soln[:,0],color='red',label='pred')\n",
    "#   # plt.plot(X,n_soln[:,0],color='green',label='numeric')\n",
    "#   plt.title('At time= %d' % (t_step[t]))\n",
    "#   plt.xlabel('Total Order size')\n",
    "#   plt.ylabel('Optimal orders')\n",
    "#   plt.legend()\n",
    "#   plt.show\n",
    "# for i in range(0,t_step.shape[0],5):\n",
    "#   plotting_time(i)\n"
   ]
  },
  {
   "cell_type": "markdown",
   "metadata": {
    "id": "freyX0vxj9Gi"
   },
   "source": [
    "Absolute sum of the difference between true solution, predicted solution and true soln, numeric soln at each time step"
   ]
  },
  {
   "cell_type": "code",
   "execution_count": null,
   "metadata": {
    "colab": {
     "base_uri": "https://localhost:8080/",
     "height": 273
    },
    "id": "qKbuJp7tkOCY",
    "outputId": "7ae3d0aa-ccd8-442d-a735-0ac3915f0093"
   },
   "outputs": [],
   "source": [
    "# sq_error=np.zeros(M1)\n",
    "# sq_error_num=np.zeros(M1)\n",
    "\n",
    "# for i in range(M1):\n",
    "#   sq_error[i]=np.sum(np.abs(t_soln[i]-p_soln[i]))\n",
    "#   sq_error_num[i]=np.sum(np.abs(t_soln[i]-n_soln[i]))\n",
    "#   print(np.sum(t_soln[i]),'    ',sq_error[i])\n",
    "\n",
    "# plt.figure(figsize=(4,2))\n",
    "# plt.plot(X,sq_error,color='blue',label='pred')\n",
    "# #plt.plot(X,sq_error_num,color='green',label='numeric')\n",
    "# plt.title('Error with sample size= %d' % (M1))\n",
    "# plt.xlabel('Total Order size')\n",
    "# plt.ylabel('Sum of execution error')\n",
    "# plt.legend()"
   ]
  },
  {
   "cell_type": "markdown",
   "metadata": {
    "id": "wQzIyZHqqm5t"
   },
   "source": [
    "Additional rough test"
   ]
  },
  {
   "cell_type": "code",
   "execution_count": null,
   "metadata": {
    "id": "D-HLzw6CgLjT"
   },
   "outputs": [],
   "source": [
    "# from torch.nn.modules.pooling import MaxPool1d\n",
    "# M1=100\n",
    "# t_test=torch.zeros([M1,1])\n",
    "# D_test=torch.zeros([M1,1])\n",
    "# #D_test=torch.FloatTensor(M,1).uniform_(0.1,0.5)   #Price impact D_t\n",
    "# R_test=torch.linspace(50,100,100).unsqueeze(1)   #remaining balance R_t   #To get a positive solution R_t has to be greater than D_t\n",
    "# x_test=torch.cat((t_test,D_test,R_test),dim=1)\n",
    "# #print('Input=',x_test,'\\n')\n",
    "# soln=[]\n",
    "# x_update = x_test\n",
    "# #print(x_update)\n",
    "# for i in range(ite+1):\n",
    "#     #print(x_update)\n",
    "#     soln_pred=model(x_update)\n",
    "#     #print(soln_pred)\n",
    "#     x_udpate=update(x_update,soln_pred.squeeze(1))\n",
    "#     #print(x_update)\n",
    "#     soln.append(soln_pred)\n",
    "# strategy = torch.cat(soln,dim=1)\n",
    "# print(strategy)\n",
    "# # print('predicted soln=',strategy,'sum of all execution=',torch.sum(strategy,dim=1),'\\n')\n",
    "# a=[]\n",
    "# b=[]\n",
    "# c=[]\n",
    "# for x in R_test:\n",
    "#     a.append(x.numpy()[0])\n",
    "#     y=closed_form(x.numpy()[0],ite+1)\n",
    "#     #print(y)\n",
    "#     b.append(y[0][0])\n",
    "#     c.append(y[1])"
   ]
  },
  {
   "cell_type": "code",
   "execution_count": null,
   "metadata": {},
   "outputs": [],
   "source": [
    "#model= torch.load('model_N10.pth')\n",
    "\n"
   ]
  },
  {
   "cell_type": "code",
   "execution_count": null,
   "metadata": {},
   "outputs": [],
   "source": [
    "# from torch.nn.modules.pooling #model= torch.load('model_N10.pth')import MaxPool1d\n",
    "# M1=20\n",
    "# t_test=torch.zeros([M1,1])\n",
    "# D_test=torch.zeros([M1,1])\n",
    "# #D_test=torch.FloatTensor(M,1).uniform_(0.1,0.5)   #Price impact D_t\n",
    "# #R_test=torch.FloatTensor(M1,1).uniform_(50,100)   #remaining balance R_t   #To get a positive solution R_t has to be greater than D_t\n",
    "# R_test=torch.linspace(X0*0.95, X0*1.05, steps=M1).unsqueeze(1)\n",
    "# x_test=torch.cat((t_test,D_test,R_test),dim=1)\n",
    "# #print('Input=',x_test,'\\n')\n",
    "# a=torch.zeros(M1,ite+1)\n",
    "# #print(a.shape)\n",
    "# for i in range(ite+1):\n",
    "#   if(i!=ite):\n",
    "#     #print(x_test)\n",
    "#     soln_pred=model(x_test).squeeze(1).detach()\n",
    "#     a[:,i]=soln_pred\n",
    "#     x_test=update(x_test,soln_pred)\n",
    "#     #print(x_test,'\\n')\n",
    "#   else:\n",
    "#     a[:,i]=R_test.squeeze(1)-torch.sum(a,dim=1)\n",
    "\n",
    "# x1=R_test.squeeze().numpy()\n",
    "# c_true=np.zeros(M1)\n",
    "# c_pred=np.zeros(M1)\n",
    "# c_num=np.zeros(M1)\n",
    "# n_soln=np.zeros((M1,ite+1))\n",
    "# t_soln=np.zeros((M1,ite+1))\n",
    "\n",
    "# for i in range(M1):\n",
    "#   print('size of total order=',x1[i])\n",
    "\n",
    "#   t_soln[i,:]=closed_form(x1[i])\n",
    "#   print('closed form soln=',t_soln[i,:],'sum of all execution=',np.sum(t_soln[i,:]))\n",
    "#   true_cost=cost(t_soln[i,:])\n",
    "#   c_true[i]=true_cost\n",
    "#   print('Closed form cost=',true_cost,'\\n')\n",
    "\n",
    "#   print('predicted soln=',a[i,:],'sum of all execution=',torch.sum(a[i,:]).detach())\n",
    "#   pred_cost=cost(a[i,:].detach().numpy())\n",
    "#   print('predicted cost=',pred_cost,'\\n')\n",
    "#   c_pred[i]=pred_cost\n",
    "#   print('Percent Error in cost=',np.abs(100*(true_cost-pred_cost)/true_cost),'%\\n')\n",
    "    \n"
   ]
  },
  {
   "cell_type": "code",
   "execution_count": null,
   "metadata": {},
   "outputs": [],
   "source": []
  }
 ],
 "metadata": {
  "accelerator": "GPU",
  "colab": {
   "gpuType": "T4",
   "machine_shape": "hm",
   "provenance": []
  },
  "kernelspec": {
   "display_name": "Python 3 (ipykernel)",
   "language": "python",
   "name": "python3"
  },
  "language_info": {
   "codemirror_mode": {
    "name": "ipython",
    "version": 3
   },
   "file_extension": ".py",
   "mimetype": "text/x-python",
   "name": "python",
   "nbconvert_exporter": "python",
   "pygments_lexer": "ipython3",
   "version": "3.12.4"
  }
 },
 "nbformat": 4,
 "nbformat_minor": 1
}
