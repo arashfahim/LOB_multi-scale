{
 "cells": [
  {
   "cell_type": "code",
   "execution_count": 798,
   "metadata": {
    "id": "PqNL-4FAgMis"
   },
   "outputs": [],
   "source": [
    "import numpy as np\n",
    "import time\n",
    "import pickle\n",
    "from scipy import misc\n",
    "import matplotlib\n",
    "import matplotlib.pyplot as plt\n",
    "%matplotlib inline\n",
    "# matplotlib.use('Qt5Agg')\n",
    "import torch\n",
    "import torch.nn as nn\n",
    "import torch.nn.functional as F\n",
    "import torch.optim as optim\n",
    "import random\n",
    "import math\n",
    "import pandas as pd\n",
    "#import cvxpy as cp\n",
    "from scipy.optimize import fsolve\n",
    "from IPython.display import Markdown\n",
    "torch.set_default_dtype(torch.float64)"
   ]
  },
  {
   "cell_type": "markdown",
   "metadata": {},
   "source": [
    "# Parameters of the model"
   ]
  },
  {
   "cell_type": "code",
   "execution_count": 799,
   "metadata": {
    "id": "MeYOz7uYgScR"
   },
   "outputs": [
    {
     "name": "stdout",
     "output_type": "stream",
     "text": [
      "tensor(0.1000)\n"
     ]
    }
   ],
   "source": [
    "M=1000\n",
    "ite=10\n",
    "dim_n=3\n",
    "T=1\n",
    "delta = torch.tensor(T/ite)\n",
    "#delta=torch.tensor(0.01)\n",
    "sigma=0.2\n",
    "mu=0.3\n",
    "A0=0.0\n",
    "gamma=0.0\n",
    "kappa=1\n",
    "rho=5\n",
    "X0=10000\n",
    "neuron_model_psi=16\n",
    "print(delta)"
   ]
  },
  {
   "cell_type": "code",
   "execution_count": 800,
   "metadata": {},
   "outputs": [],
   "source": [
    "params = {'M':1000,\n",
    "        'num_time_steps':30,\n",
    "        'dim':3, #dimension\n",
    "        'T':1,# terminal time\n",
    "        'sigma':0.2,\n",
    "        'mu':0.3,\n",
    "        'A0':0.0, #initial fundamental price\n",
    "        'gamma':0.0, # permanent price impact\n",
    "        'kappa':1,#price impact coeff\n",
    "        'rho':5,#resillience\n",
    "        'init_balance':10000,\n",
    "        'num_neurons':16}\n",
    "delta = torch.tensor(T/ite)"
   ]
  },
  {
   "cell_type": "markdown",
   "metadata": {},
   "source": [
    "# Closed-form solution\n"
   ]
  },
  {
   "cell_type": "code",
   "execution_count": 801,
   "metadata": {},
   "outputs": [],
   "source": [
    "def closed_form(X):\n",
    "  alpa=np.exp(-rho*T/ite)\n",
    "  p=np.zeros(ite+1)\n",
    "  p[0]=X/((ite-1)*(1-alpa)+2)\n",
    "  p[ite]=X/((ite-1)*(1-alpa)+2)\n",
    "  for j in range(1,ite):\n",
    "    p[j]=p[0]*(1-alpa)\n",
    "  return p\n"
   ]
  },
  {
   "cell_type": "code",
   "execution_count": 802,
   "metadata": {},
   "outputs": [],
   "source": [
    "class solution(object):\n",
    "    def __init__(self,params):\n",
    "        self.ite = params['num_time_steps']\n",
    "        self.T = params['T']\n",
    "        self.rho = params['rho']\n",
    "        self.kappa = params['kappa']\n",
    "        self.delta = self.T/self.ite\n",
    "        self.alpha=np.exp(-self.rho*self.delta)\n",
    "    def optimal(self,x_init):\n",
    "        t = torch.tensor([i*self.delta for i in range(self.ite+1)])\n",
    "        for i in range(x_init.shape[0]):\n",
    "            if i==0:\n",
    "                trade = ((1-(torch.where(t==0.0*self.delta,0,1)*torch.where(t==self.ite*self.delta,0,1))*self.alpha)*x_init[i]/((self.ite-1)*(1-self.alpha)+2)).unsqueeze(0)\n",
    "            else:\n",
    "                trade = torch.cat((trade,((1-(torch.where(t==0.0*self.delta,0,1)*torch.where(t==self.ite*self.delta,0,1))*self.alpha)*x_init[i]/((self.ite-1)*(1-self.alpha)+2)).unsqueeze(0)),axis=0)\n",
    "        return trade\n",
    "    def __call__(self, x):\n",
    "        exec =  self.optimal(x)   \n",
    "        c_tmp = torch.tensor([0.0])\n",
    "        D_tmp = torch.tensor([0.0])\n",
    "        for i in range(self.ite+1):\n",
    "            c_tmp = c_tmp + D_tmp*exec[:,i]+(self.kappa/2.0)*np.power(exec[:,i],2)\n",
    "            D_tmp = (D_tmp + self.kappa * exec[:,i])*self.alpha\n",
    "        return c_tmp"
   ]
  },
  {
   "cell_type": "code",
   "execution_count": 803,
   "metadata": {},
   "outputs": [
    {
     "data": {
      "text/plain": [
       "(torch.Size([1000, 31]), torch.Size([1000]), torch.Size([1000, 1]))"
      ]
     },
     "execution_count": 803,
     "metadata": {},
     "output_type": "execute_result"
    }
   ],
   "source": [
    "cf = solution(params)\n",
    "test_input = X0*0.9+(X0*1.1-X0*0.9)*torch.rand(M,1)\n",
    "cf.optimal(test_input).shape,cf(test_input).shape,test_input.shape"
   ]
  },
  {
   "cell_type": "markdown",
   "metadata": {},
   "source": [
    "# Deep approximation"
   ]
  },
  {
   "cell_type": "code",
   "execution_count": 804,
   "metadata": {
    "id": "93xjaCyOgTS0"
   },
   "outputs": [],
   "source": [
    "model= torch.nn.Sequential(\n",
    "    torch.nn.Linear(dim_n, neuron_model_psi),\n",
    "    torch.nn.ReLU(),\n",
    "    torch.nn.Linear(neuron_model_psi, neuron_model_psi),\n",
    "    torch.nn.ReLU(),\n",
    "    torch.nn.Linear(neuron_model_psi,1)\n",
    ")"
   ]
  },
  {
   "cell_type": "code",
   "execution_count": 805,
   "metadata": {},
   "outputs": [],
   "source": [
    "# model=torch.load('model_N100_T1_K1_rho5_neo50.pth')"
   ]
  },
  {
   "cell_type": "markdown",
   "metadata": {},
   "source": [
    "# Definition of update, unit, and loss"
   ]
  },
  {
   "cell_type": "code",
   "execution_count": 806,
   "metadata": {},
   "outputs": [],
   "source": [
    "class trade_net(nn.Module): #NN for trading strategy\n",
    "    def __init__(self,params):\n",
    "        self.dim = params['dim']\n",
    "        self.num_neurons = params['num_neurons']\n",
    "        super(trade_net, self).__init__()\n",
    "        self.linear_stack = nn.Sequential(\n",
    "            nn.Linear(self.dim, self.num_neurons),\n",
    "            torch.nn.ReLU(),\n",
    "            nn.Linear(self.num_neurons, self.num_neurons),\n",
    "            torch.nn.ReLU(),\n",
    "            nn.Linear(self.num_neurons,1),\n",
    "        )\n",
    "    def forward(self, x):\n",
    "        logits = self.linear_stack(x)\n",
    "        return logits#.reshape([dim,dim])       "
   ]
  },
  {
   "cell_type": "code",
   "execution_count": 807,
   "metadata": {},
   "outputs": [],
   "source": [
    "class value_fnc(nn.Module): #NN for trading strategy\n",
    "    def __init__(self,params):\n",
    "        self.dim = params['dim']\n",
    "        self.num_neurons = params['num_neurons']\n",
    "        super(value_fnc, self).__init__()\n",
    "        self.linear_stack = nn.Sequential(\n",
    "            nn.Linear(self.dim, self.num_neurons),\n",
    "            torch.nn.ReLU(),\n",
    "            nn.Linear(self.num_neurons, self.num_neurons),\n",
    "            torch.nn.ReLU(),\n",
    "            nn.Linear(self.num_neurons,1),\n",
    "        )\n",
    "    def forward(self, x):\n",
    "        logits = self.linear_stack(x)\n",
    "        return logits#.reshape([dim,dim])       "
   ]
  },
  {
   "cell_type": "code",
   "execution_count": 808,
   "metadata": {},
   "outputs": [],
   "source": [
    "class optimal_execution(object):\n",
    "    def __init__(self,params):\n",
    "        self.epoch = 0\n",
    "        self.loss_epoch=[]\n",
    "        self.M = params['M']\n",
    "        self.ite = params['num_time_steps']\n",
    "        self.dim = params['dim']\n",
    "        self.T = params['T']\n",
    "        self.sigma = params['sigma']\n",
    "        self.mu = params['mu']\n",
    "        self.A0 = params['A0'] #initial fundamental price\n",
    "        self.gamma = params['gamma'] # permanent price impact\n",
    "        self.kappa = params['kappa'] #price impact coeff\n",
    "        self.rho = params['rho'] #resillience\n",
    "        self.X0 = params['init_balance']\n",
    "        # self.neuron_model_psi = params['num_neurons']\n",
    "        self.delta = self.T/self.ite\n",
    "        self.alpha=np.exp(-self.rho*self.delta)\n",
    "        self.trade_size = trade_net(params)\n",
    "        self.V = value_fnc(params)\n",
    "        t=torch.zeros([self.M,1])\n",
    "        D=torch.zeros([self.M,1])\n",
    "        R=self.X0*0.9+(self.X0*1.1-self.X0*0.9)*torch.rand(self.M,1)  #remaining balance R_t   #To get a positive solution R_t has to be greater than D_t\n",
    "        self.x=torch.cat((t,D,R),dim=1)\n",
    "        self.trained = False\n",
    "        self.exit_dict = params # Write the result in this dict\n",
    "\n",
    "        \n",
    "    def update(self,x,psi):\n",
    "        t=(x[:,0]+self.delta)\n",
    "        D = (x[:,1]+self.kappa*psi)*self.alpha\n",
    "        R= x[:,2]-psi\n",
    "        up=torch.cat((t.unsqueeze(1),D.unsqueeze(1),R.unsqueeze(1)),dim=1)\n",
    "        return up\n",
    "    \n",
    "    def step_cost(self,x,psi):\n",
    "        loss=(x[:,1]*psi+(self.kappa/2.0)*torch.pow(psi,2))\n",
    "        return loss\n",
    "    \n",
    "    def unit(self,x):\n",
    "        psi=self.trade_size(x).squeeze(1)\n",
    "        loss=self.step_cost(x,psi)\n",
    "        upd=self.update(x,psi)\n",
    "        return psi, loss, upd\n",
    "    \n",
    "    def cost(self,x):\n",
    "        cost=torch.zeros(self.M,self.ite+1)\n",
    "        psi=torch.zeros(self.M,self.ite)\n",
    "        u=x\n",
    "        for i in range(self.ite+1):\n",
    "            if(i!=self.ite):\n",
    "                psi_run,loss_run,u_run=self.unit(u)\n",
    "                #print('los func=',psi_run.shape,loss_run.shape)\n",
    "                cost[:,i]=loss_run\n",
    "                #print(loss)\n",
    "                psi[:,i]=psi_run\n",
    "                #print(psi)\n",
    "                u=u_run\n",
    "                #print(u)\n",
    "            else:\n",
    "                # print(torch.sum(psi,dim=1).shape,x[:,2].shape)\n",
    "                # psi_ter=x[:,2]-torch.sum(psi,dim=1)\n",
    "                # psi_ter = u[:,2]\n",
    "                cost[:,i]=self.step_cost(u,u[:,2])\n",
    "                #print('ter',loss_ter.shape)\n",
    "        cost=torch.sum(cost,dim=1)\n",
    "        #print(loss.shape)\n",
    "        return cost\n",
    "    \n",
    "    def train(self, lr,err,num_epochs):\n",
    "        start=time.time()\n",
    "        # lr = 8e-3\n",
    "        epoch=self.epoch\n",
    "        # num_epochs=500\n",
    "        L_=-1000\n",
    "        optimizer = optim.Adam(self.trade_size.parameters(), lr)\n",
    "        L=100000\n",
    "        while (np.abs(L_-L)/np.abs(L_)>err) &  (epoch <= num_epochs):\n",
    "            t0 = time.time()\n",
    "            optimizer.zero_grad()\n",
    "            cost=self.cost(self.x)\n",
    "            loss = torch.mean(cost)\n",
    "            loss.backward()\n",
    "            optimizer.step()\n",
    "            L = loss.clone().detach().numpy()\n",
    "            self.loss_epoch.append(L)\n",
    "            if epoch>0:\n",
    "                L_ = self.loss_epoch[epoch-1]\n",
    "            if (epoch % int(num_epochs/5)== int(num_epochs/5)-1) | (epoch == 0):\n",
    "                print(\"At epoch {} the mean cost is {:.10E}.  Epoch training time = {:.2E} ms\".format(epoch+1,loss.detach(),1000*(time.time()-t0)))\n",
    "\n",
    "            \n",
    "            epoch=epoch+1\n",
    "\n",
    "        end=time.time()\n",
    "        print('time elapsed = {:.2e} ms'.format((end-start)*1000))\n",
    "        # print(100*torch.abs(L_-loss)/torch.abs(L_),epoch+1)\n",
    "        print(\"Relative change in loss = %{:.7E} , last epoch = {}.\".format((100*np.abs(L_-L)/np.abs(L_)),epoch+1))\n",
    "        self.epoch = epoch\n",
    "        self.trained = True\n",
    "        self.exit_dict['loss_log'] = self.loss_epoch\n",
    "        self.exit_dict['last_epoch'] = epoch\n",
    "        self.exit_dict['relative change in loss'] = (np.abs(L_-L)/np.abs(L_))\n",
    "        self.exit_dict['execution_time'] = (end-start)*1000\n",
    "\n",
    "        \n",
    "        \n",
    "        \n",
    "    def gen_data(self):\n",
    "        if self.trained:\n",
    "            cost=torch.zeros(self.M,self.ite+1)\n",
    "            psi=torch.zeros(self.M,self.ite)\n",
    "            u=self.x\n",
    "            self.x_data = u\n",
    "            for i in range(self.ite+1):\n",
    "                if(i!=self.ite):\n",
    "                    if i >0:\n",
    "                        self.x_data = torch.cat((self.x_data,u),axis=0)\n",
    "                    psi_run,loss_run,u_run=self.unit(u) \n",
    "                    #print('los func=',psi_run.shape,loss_run.shape)\n",
    "                    cost[:,i]=loss_run\n",
    "                    #print(loss)\n",
    "                    psi[:,i]=psi_run\n",
    "                    #print(psi)\n",
    "                    u=u_run\n",
    "                    #print(u)\n",
    "                else:\n",
    "                    # print(torch.sum(psi,dim=1).shape,x[:,2].shape)\n",
    "                    # psi_ter=self.x[:,2]-torch.sum(psi,dim=1)\n",
    "                    cost[:,i]=self.step_cost(u,u[:,2])\n",
    "                    self.x_data = torch.cat((self.x_data,u),axis=0)\n",
    "                    #print('ter',loss_ter.shape)\n",
    "            self.y_data=torch.sum(cost,dim=1).unsqueeze(-1)\n",
    "            for i in range(self.ite):\n",
    "                self.y_data = torch.cat((self.y_data,torch.sum(cost[:,i+1:],dim=1).unsqueeze(-1)),axis=0)\n",
    "            self.x_data = self.x_data.clone().detach()\n",
    "            self.y_data = self.y_data.clone().detach()       \n",
    "        else:\n",
    "            self.train(8e-3,1e-7,1000)\n",
    "            self.gen_data()\n",
    "        \n",
    "    def value(self):\n",
    "        self.gen_data()\n",
    "        start=time.time()\n",
    "        lr = 8e-3\n",
    "        epoch=0\n",
    "        loss_epoch = []\n",
    "        num_epochs=2000\n",
    "        L_=torch.tensor([-1000])\n",
    "        loss = torch.tensor([1000])\n",
    "        optimizer = optim.Adam(self.V.parameters(), lr)\n",
    "        err = 1e-6\n",
    "        mse = nn.MSELoss()\n",
    "        while (torch.abs(L_-loss)/torch.abs(L_)>err) &  (epoch <= num_epochs):\n",
    "            t0 = time.time()\n",
    "            optimizer.zero_grad()\n",
    "            loss = mse(self.V(self.x_data),self.y_data)\n",
    "            loss.backward()\n",
    "            optimizer.step()\n",
    "            loss_epoch.append(loss)\n",
    "            if epoch>0:\n",
    "                L_ = loss_epoch[epoch-1]\n",
    "            if (epoch % int(num_epochs/5)== int(num_epochs/5)-1) | (epoch == 0):\n",
    "                print(\"At epoch {} mse in approximating the value function is {:.10E}.  Epoch training time = {:.2E} ms\".format(epoch+1,loss.detach(),1000*(time.time()-t0)))\n",
    "\n",
    "            \n",
    "            epoch=epoch+1\n",
    "\n",
    "        end=time.time()\n",
    "        print('time elapsed = {:.2e} ms'.format((end-start)*1000))\n",
    "        # print(100*torch.abs(L_-loss)/torch.abs(L_),epoch+1)\n",
    "        print(\"Relative change in mse of the value function is %{:.7E}.\".format((100*torch.abs(L_-loss)/torch.abs(L_))))\n",
    "                "
   ]
  },
  {
   "cell_type": "code",
   "execution_count": 809,
   "metadata": {},
   "outputs": [
    {
     "data": {
      "text/plain": [
       "30"
      ]
     },
     "execution_count": 809,
     "metadata": {},
     "output_type": "execute_result"
    }
   ],
   "source": [
    "oe = optimal_execution(params)\n",
    "oe.ite"
   ]
  },
  {
   "cell_type": "code",
   "execution_count": 810,
   "metadata": {},
   "outputs": [
    {
     "name": "stdout",
     "output_type": "stream",
     "text": [
      "At epoch 1 the mean cost is 3.1703460830E+07.  Epoch training time = 1.91E+01 ms\n",
      "At epoch 200 the mean cost is 1.4602760710E+07.  Epoch training time = 1.75E+01 ms\n",
      "At epoch 400 the mean cost is 1.4355559773E+07.  Epoch training time = 1.58E+01 ms\n",
      "At epoch 600 the mean cost is 1.5162802569E+07.  Epoch training time = 2.19E+01 ms\n",
      "At epoch 800 the mean cost is 1.4725104521E+07.  Epoch training time = 1.56E+01 ms\n",
      "time elapsed = 1.56e+04 ms\n",
      "Relative change in loss = %1.6442733E-06 , last epoch = 956.\n"
     ]
    }
   ],
   "source": [
    "oe.train(8e-3,1e-7,1000)"
   ]
  },
  {
   "cell_type": "code",
   "execution_count": 811,
   "metadata": {},
   "outputs": [],
   "source": [
    "# oe.gen_data()\n",
    "# oe.y_data.shape,oe.x_data.shape"
   ]
  },
  {
   "cell_type": "code",
   "execution_count": 812,
   "metadata": {},
   "outputs": [
    {
     "name": "stdout",
     "output_type": "stream",
     "text": [
      "At epoch 1 mse in approximating the value function is 8.3168069085E+13.  Epoch training time = 5.74E+01 ms\n",
      "At epoch 400 mse in approximating the value function is 3.6019600602E+11.  Epoch training time = 4.98E+01 ms\n"
     ]
    }
   ],
   "source": [
    "oe.value()"
   ]
  },
  {
   "cell_type": "markdown",
   "metadata": {},
   "source": [
    "## Comparison to closed-form solution"
   ]
  },
  {
   "cell_type": "code",
   "execution_count": null,
   "metadata": {},
   "outputs": [],
   "source": [
    "t=torch.zeros([oe.M,1])\n",
    "D=torch.zeros([oe.M,1])\n",
    "test_init = oe.X0*0.9+(oe.X0*1.1-oe.X0*0.9)*torch.rand(oe.M,1)\n",
    "x_test=torch.cat((t,D,test_init),dim=1)\n",
    "rel_err = torch.mean(torch.abs(cf(test_init)-oe.cost(x_test).squeeze(-1)))/torch.mean(torch.abs(cf(test_init)))*100\n",
    "err = torch.max(torch.abs(cf(test_init)-oe.cost(x_test).squeeze(-1)))#/torch.mean(torch.abs(cf(test_init)))*100"
   ]
  },
  {
   "cell_type": "code",
   "execution_count": null,
   "metadata": {},
   "outputs": [
    {
     "data": {
      "text/markdown": [
       "The $L^1$-norm of relative error  of the deep learning algorithm compared to closed-form solution is %4.13E+00."
      ],
      "text/plain": [
       "<IPython.core.display.Markdown object>"
      ]
     },
     "execution_count": 771,
     "metadata": {},
     "output_type": "execute_result"
    }
   ],
   "source": [
    "Markdown(r\"The $L^1$-norm of relative error  of the deep learning algorithm compared to closed-form solution is %{:.2E}.\".format(rel_err.item()))"
   ]
  },
  {
   "cell_type": "code",
   "execution_count": null,
   "metadata": {},
   "outputs": [
    {
     "data": {
      "text/markdown": [
       "The $L^\\infty$-norm error of the deep learning algorithm compared to closed-form solution is \\$716,082.68480."
      ],
      "text/plain": [
       "<IPython.core.display.Markdown object>"
      ]
     },
     "execution_count": 772,
     "metadata": {},
     "output_type": "execute_result"
    }
   ],
   "source": [
    "Markdown(r\"The $L^\\infty$-norm error of the deep learning algorithm compared to closed-form solution is \\${:,.5f}.\".format(err.item()))"
   ]
  },
  {
   "cell_type": "code",
   "execution_count": null,
   "metadata": {},
   "outputs": [
    {
     "data": {
      "text/markdown": [
       "The average closed-form tading cost is \\$14,323,706."
      ],
      "text/plain": [
       "<IPython.core.display.Markdown object>"
      ]
     },
     "execution_count": 773,
     "metadata": {},
     "output_type": "execute_result"
    }
   ],
   "source": [
    "Markdown(r\"The average closed-form tading cost is \\${:,.0f}.\".format(torch.mean(cf(test_init)).item()))"
   ]
  },
  {
   "cell_type": "code",
   "execution_count": null,
   "metadata": {},
   "outputs": [],
   "source": [
    "oe.exit_dict['sup_error'] = err\n",
    "oe.exit_dict['rel_L1_error'] = rel_err"
   ]
  },
  {
   "cell_type": "code",
   "execution_count": null,
   "metadata": {},
   "outputs": [],
   "source": [
    "ts = time.strftime(\"%Y-%m-%d-%H-%M-%S\")\n",
    "with open('exit_dict_'+ts+'.pkl', 'wb') as f:\n",
    "    pickle.dump(oe.exit_dict, f)"
   ]
  },
  {
   "cell_type": "code",
   "execution_count": null,
   "metadata": {},
   "outputs": [],
   "source": [
    "with open('exit_dict_'+ts+'.pkl', 'rb') as f:\n",
    "    loaded_dict = pickle.load(f)"
   ]
  },
  {
   "cell_type": "code",
   "execution_count": null,
   "metadata": {},
   "outputs": [
    {
     "data": {
      "image/png": "[encoded data removed]",
      "text/plain": [
       "<Figure size 640x480 with 1 Axes>"
      ]
     },
     "metadata": {},
     "output_type": "display_data"
    }
   ],
   "source": [
    "fig = plt.figure()\n",
    "ax = fig.add_subplot(2, 1, 1)    \n",
    "ax.plot(loaded_dict['loss_log'])\n",
    "ax.set_yscale('log')"
   ]
  },
  {
   "cell_type": "code",
   "execution_count": null,
   "metadata": {},
   "outputs": [],
   "source": [
    "PATH = 'model_N10_Arash.pth'\n",
    "PATHV = 'model_N10_Arash_value.pth'\n",
    "torch.save(oe.trade_size.state_dict(), PATH)\n",
    "torch.save(oe.V.state_dict(), PATHV)"
   ]
  },
  {
   "cell_type": "code",
   "execution_count": null,
   "metadata": {},
   "outputs": [
    {
     "data": {
      "text/plain": [
       "torch.Size([1000, 1])"
      ]
     },
     "execution_count": 779,
     "metadata": {},
     "output_type": "execute_result"
    }
   ],
   "source": [
    "model_scripted = torch.jit.script(oe.trade_size) # Export to TorchScript\n",
    "model_scripted.save('model_N10_Arash.pt') # Save\n",
    "model = torch.jit.load('model_N10_Arash.pt')\n",
    "model.eval()(x_test).shape\n",
    "model_scripted = torch.jit.script(oe.V) # Export to TorchScript\n",
    "model_scripted.save('model_N10_Arash_value.pt') # Save\n",
    "model = torch.jit.load('model_N10_Arash_value.pt')\n",
    "model.eval()(x_test).shape"
   ]
  },
  {
   "cell_type": "code",
   "execution_count": null,
   "metadata": {},
   "outputs": [
    {
     "data": {
      "text/plain": [
       "torch.Size([1000, 1])"
      ]
     },
     "execution_count": 780,
     "metadata": {},
     "output_type": "execute_result"
    }
   ],
   "source": [
    "model = trade_net(params)\n",
    "torch.load(PATH)\n",
    "model.eval()(x_test).shape"
   ]
  },
  {
   "cell_type": "code",
   "execution_count": null,
   "metadata": {},
   "outputs": [],
   "source": [
    "Stop here"
   ]
  },
  {
   "cell_type": "code",
   "execution_count": null,
   "metadata": {
    "id": "XGmOeYfAgnFK"
   },
   "outputs": [],
   "source": [
    "def update(x3,psi):\n",
    "  t=(x3[:,0]+delta)\n",
    "  #print(psi.squeeze(1).shape,x1[:,1].shape)\n",
    "  D = (x3[:,1]+kappa*psi)*torch.exp(-rho*delta)\n",
    "  R= x3[:,2]-psi\n",
    "  #print(R.shape)\n",
    "  up=torch.cat((t.unsqueeze(1),D.unsqueeze(1),R.unsqueeze(1)),dim=1)\n",
    "  #print('up shape=', up.shape)\n",
    "  return up\n",
    "\n",
    "def loss_func(x2,psi):\n",
    "  loss=(x2[:,1]*psi+(kappa/2.0)*torch.pow(psi,2))\n",
    "  return loss\n",
    "\n",
    "def unit(x1,model):\n",
    "    psi=model(x1).squeeze(1)\n",
    "    los=loss_func(x1,psi)\n",
    "    upd=update(x1,psi)\n",
    "    #print('unit print=',psi.shape,los.shape,upd.shape)\n",
    "    return psi,los,upd\n",
    "\n",
    "def loss_func_total(u,model):\n",
    "  loss=torch.zeros(M,ite)\n",
    "  psi=torch.zeros(M,ite)\n",
    "  for i in range(ite+1):\n",
    "    if(i!=ite):\n",
    "      psi_run,loss_run,u_run=unit(u,model)\n",
    "      #print('los func=',psi_run.shape,loss_run.shape)\n",
    "      loss[:,i]=loss_run\n",
    "      #print(loss)\n",
    "      psi[:,i]=psi_run\n",
    "      #print(psi)\n",
    "      u=u_run\n",
    "      #print(u)\n",
    "    else:\n",
    "      #print(torch.sum(psi,dim=1),R.squeeze(1))\n",
    "      psi_ter=R.squeeze(1)-torch.sum(psi,dim=1)\n",
    "      loss_ter=loss_func(u,psi_ter)\n",
    "      #print('ter',loss_ter.shape)\n",
    "  #print(torch.sum(loss,dim=1))\n",
    "  loss=torch.sum(loss,dim=1)+loss_ter\n",
    "  #print(loss.shape)\n",
    "  return torch.mean(loss)"
   ]
  },
  {
   "cell_type": "markdown",
   "metadata": {
    "id": "aC2vdJPG00zc"
   },
   "source": [
    "Training"
   ]
  },
  {
   "cell_type": "code",
   "execution_count": null,
   "metadata": {
    "colab": {
     "base_uri": "https://localhost:8080/"
    },
    "id": "g8C7LgFjgrSj",
    "outputId": "9697a2e1-ed0e-462a-d770-8465d959522b"
   },
   "outputs": [
    {
     "name": "stdout",
     "output_type": "stream",
     "text": [
      "At epoch 0 the mean cost is 1.8365294150E+08.  Eproch training time = 8.80E+00 ms\n",
      "At epoch 99 the mean cost is 1.5047374066E+07.  Eproch training time = 6.58E+00 ms\n",
      "At epoch 199 the mean cost is 1.5006421235E+07.  Eproch training time = 5.57E+00 ms\n",
      "At epoch 299 the mean cost is 1.4962913509E+07.  Eproch training time = 5.21E+00 ms\n",
      "At epoch 399 the mean cost is 1.4908183564E+07.  Eproch training time = 6.14E+00 ms\n",
      "At epoch 499 the mean cost is 1.4838963947E+07.  Eproch training time = 5.40E+00 ms\n",
      "time elapsed= 3.008842945098877\n"
     ]
    }
   ],
   "source": [
    "start=time.time()\n",
    "lr1 = 8e-3\n",
    "epoch=0\n",
    "num_epochs=500\n",
    "loss_epoch=[]\n",
    "L_=torch.tensor([-1000])\n",
    "optimizer = optim.Adam(model.parameters(), lr1)\n",
    "cost=torch.tensor([100000])\n",
    "err=1e-10\n",
    "#print(psi.shape)\n",
    "while (torch.abs(L_-cost)/torch.abs(L_)>err) &  (epoch <= num_epochs):\n",
    "  t0 = time.time()\n",
    "  optimizer.zero_grad()\n",
    "  cost=loss_func_total(x,model)\n",
    "  cost.backward()\n",
    "  optimizer.step()\n",
    "  loss_epoch.append(cost)\n",
    "  if epoch>0:\n",
    "    L_ = loss_epoch[epoch-1]\n",
    "  #print(cost,L_.item())\n",
    "  if (epoch % int(num_epochs/5)== int(num_epochs/5)-1) | (epoch == 0):\n",
    "    print(\"At epoch {} the mean cost is {:.10E}.  Epoch training time = {:.2E} ms\".format(epoch,cost.detach(),1000*(time.time()-t0)))\n",
    "  if (torch.abs(L_-cost)/torch.abs(L_)<=err):\n",
    "    print(\"Delta Loss = {} , epoch = {}.\".format(torch.abs(L_-cost)/torch.abs(L_),epoch))\n",
    "  \n",
    "  epoch=epoch+1\n",
    "\n",
    "end=time.time()\n",
    "print('time elapsed=',end-start)"
   ]
  },
  {
   "cell_type": "code",
   "execution_count": null,
   "metadata": {},
   "outputs": [],
   "source": [
    "# start=time.time()\n",
    "# lr1 = 8e-3\n",
    "# max_epoch = 12000\n",
    "# optimizer = optim.Adam(model.parameters(), lr1)\n",
    "# cost_ar=[]\n",
    "# #print(psi.shape)\n",
    "# for epoch in range(max_epoch):\n",
    "#   optimizer.zero_grad()\n",
    "#   cost=loss_func_total(x,model)\n",
    "#   cost.backward()\n",
    "#   optimizer.step()\n",
    "#   cost_ar.append(cost)\n",
    "#   #print(loss.item())\n",
    "#   if (epoch % 100==0):\n",
    "#     print(\"At epoch {} the mean cost is {}.\".format(epoch,cost.detach()))\n",
    "# end=time.time()\n",
    "# total_time=end-start\n",
    "# print('time elapsed=',total_time)"
   ]
  },
  {
   "cell_type": "code",
   "execution_count": null,
   "metadata": {},
   "outputs": [],
   "source": [
    "# #time step vs training time plot\n",
    "# x=np.array([10,30,50,100]) #time steps\n",
    "# y=np.array([119,440,677,1356])#training times\n",
    "# plt.plot(x,y)\n",
    "# plt.show()"
   ]
  },
  {
   "cell_type": "markdown",
   "metadata": {
    "id": "wT4ALers1F8f"
   },
   "source": [
    "Solution by using cvxpy package"
   ]
  },
  {
   "cell_type": "code",
   "execution_count": null,
   "metadata": {
    "id": "nmIbc2Wd1E2B"
   },
   "outputs": [],
   "source": [
    "# def numeric_soln(X,n):\n",
    "#     delt=T/n\n",
    "#     alpa=math.exp(-delt*rho)\n",
    "#     c=np.ones(n)\n",
    "#     x=cp.Variable(n)\n",
    "#     #objective=cp.Minimize(determinstic_main(x))\n",
    "#     A=[[0 for i in range(n)] for j in range(n)]\n",
    "#     for i in range(n):\n",
    "#         for j in range(n):\n",
    "#             A[i][j]=1-kappa+kappa*pow(alpa,abs(i-j))\n",
    "#     constraints=[0<=x,sum(x)==X]\n",
    "\n",
    "#     objective=cp.Minimize(1/2*cp.quad_form(x,A))\n",
    "#     prob=cp.Problem(objective,constraints)\n",
    "#     #print(\"prob is DCP:\", prob.is_dcp())\n",
    "#     #print(\"curvature of objective:\",cp.sum(pow(x,2)).curvature)\n",
    "#     #assert prob.is_dqcp()\n",
    "#     cost=prob.solve()\n",
    "#     #print(\"Optimal value\", prob.solve())\n",
    "#     #print(\"Optimal value\", prob.solve(qcp=True))\n",
    "#     #print(\"Optimal soln\")\n",
    "#     soln=x.value\n",
    "#     #print(soln) # A numpy ndarray\n",
    "#     return soln,cost"
   ]
  },
  {
   "cell_type": "markdown",
   "metadata": {
    "id": "-6SwQUFvkmPl"
   },
   "source": [
    "# Cost function!"
   ]
  },
  {
   "cell_type": "code",
   "execution_count": null,
   "metadata": {
    "id": "LdgOnrDvkowO"
   },
   "outputs": [],
   "source": [
    "def cost(y):#y initial balance\n",
    "  cost1=0.0\n",
    "  D1=0.0\n",
    "  for i in range(ite+1):\n",
    "    cost1+=D1*y[i]+(kappa/2.0)*np.power(y[i],2)\n",
    "    D1=(D1+kappa*y[i])*np.exp(-rho*T/ite)\n",
    "  return cost1"
   ]
  },
  {
   "cell_type": "code",
   "execution_count": null,
   "metadata": {},
   "outputs": [],
   "source": [
    "# model=torch.load('model_N100_T1_K1_rho5_neo50.pth')"
   ]
  },
  {
   "cell_type": "markdown",
   "metadata": {
    "id": "83IFXBNYwiIc"
   },
   "source": [
    "**Testing ** We have compared the closed form solution from Obhizaeva and Wang, our predicted solution and the solution from python convex optimization package cvxpy"
   ]
  },
  {
   "cell_type": "code",
   "execution_count": null,
   "metadata": {
    "colab": {
     "base_uri": "https://localhost:8080/"
    },
    "id": "SVvNy5hi4vc2",
    "outputId": "e3a7a6a0-5193-4a6f-9f12-8c917599c3fd"
   },
   "outputs": [
    {
     "name": "stdout",
     "output_type": "stream",
     "text": [
      "size of total order= 9500.0\n",
      "closed form soln= [1714.42264249  674.57274611  674.57274611  674.57274611  674.57274611\n",
      "  674.57274611  674.57274611  674.57274611  674.57274611  674.57274611\n",
      " 1714.42264249] sum of all execution= 9500.0\n",
      "Closed form cost= 13082794.559600705 \n",
      "\n",
      "predicted soln= tensor([1135.3105,  996.1053,  922.8487,  855.6105,  777.8556,  696.4074,\n",
      "         615.8299,  539.0422,  467.7817,  402.9516, 2090.2567]) sum of all execution= tensor(9500.)\n",
      "predicted cost= 13371420.192903893 \n",
      "\n",
      "Percent Error in cost= 2.206146645415158 %\n",
      "\n",
      "size of total order= 9611.111111111111\n",
      "closed form soln= [1734.4743693   682.46248583  682.46248583  682.46248583  682.46248583\n",
      "  682.46248583  682.46248583  682.46248583  682.46248583  682.46248583\n",
      " 1734.4743693 ] sum of all execution= 9611.11111111111\n",
      "Closed form cost= 13390614.492469123 \n",
      "\n",
      "predicted soln= tensor([1148.5853, 1007.7519,  933.6362,  865.6112,  786.9467,  704.5458,\n",
      "         623.0259,  545.3401,  473.2462,  407.6579, 2114.7640]) sum of all execution= tensor(9611.1111)\n",
      "predicted cost= 13686037.421882737 \n",
      "\n",
      "Percent Error in cost= 2.2061939695132033 %\n",
      "\n",
      "size of total order= 9722.222222222223\n",
      "closed form soln= [1754.52609611  690.35222555  690.35222555  690.35222555  690.35222555\n",
      "  690.35222555  690.35222555  690.35222555  690.35222555  690.35222555\n",
      " 1754.52609611] sum of all execution= 9722.222222222224\n",
      "Closed form cost= 13702013.726882521 \n",
      "\n",
      "predicted soln= tensor([1161.8601, 1019.3984,  944.4237,  875.6119,  796.0378,  712.6842,\n",
      "         630.2218,  551.6380,  478.7107,  412.3643, 2139.2714]) sum of all execution= tensor(9722.2222)\n",
      "predicted cost= 14004313.067149222 \n",
      "\n",
      "Percent Error in cost= 2.2062402380579127 %\n",
      "\n",
      "size of total order= 9833.333333333334\n",
      "closed form soln= [1774.57782293  698.24196528  698.24196528  698.24196528  698.24196528\n",
      "  698.24196528  698.24196528  698.24196528  698.24196528  698.24196528\n",
      " 1774.57782293] sum of all execution= 9833.333333333334\n",
      "Closed form cost= 14016992.262840899 \n",
      "\n",
      "predicted soln= tensor([1175.1349, 1031.0450,  955.2111,  885.6127,  805.1289,  720.8226,\n",
      "         637.4178,  557.9359,  484.1752,  417.0706, 2163.7787]) sum of all execution= tensor(9833.3333)\n",
      "predicted cost= 14326247.128703354 \n",
      "\n",
      "Percent Error in cost= 2.206285485954723 %\n",
      "\n",
      "size of total order= 9944.444444444445\n",
      "closed form soln= [1794.62954974  706.131705    706.131705    706.131705    706.131705\n",
      "  706.131705    706.131705    706.131705    706.131705    706.131705\n",
      " 1794.62954974] sum of all execution= 9944.444444444443\n",
      "Closed form cost= 14335550.10034426 \n",
      "\n",
      "predicted soln= tensor([1188.4097, 1042.6916,  965.9986,  895.6134,  814.2200,  728.9610,\n",
      "         644.6138,  564.2338,  489.6397,  421.7769, 2188.2861]) sum of all execution= tensor(9944.4444)\n",
      "predicted cost= 14651839.606545132 \n",
      "\n",
      "Percent Error in cost= 2.206329746587659 %\n",
      "\n",
      "size of total order= 10055.555555555555\n",
      "closed form soln= [1814.68127655  714.02144472  714.02144472  714.02144472  714.02144472\n",
      "  714.02144472  714.02144472  714.02144472  714.02144472  714.02144472\n",
      " 1814.68127655] sum of all execution= 10055.555555555553\n",
      "Closed form cost= 14657687.23939259 \n",
      "\n",
      "predicted soln= tensor([1201.6845, 1054.3382,  976.7860,  905.6141,  823.3111,  737.0994,\n",
      "         651.8097,  570.5317,  495.1042,  426.4833, 2212.7934]) sum of all execution= tensor(10055.5556)\n",
      "predicted cost= 14981090.500674546 \n",
      "\n",
      "Percent Error in cost= 2.206373051901452 %\n",
      "\n",
      "size of total order= 10166.666666666666\n",
      "closed form soln= [1834.73300336  721.91118444  721.91118444  721.91118444  721.91118444\n",
      "  721.91118444  721.91118444  721.91118444  721.91118444  721.91118444\n",
      " 1834.73300336] sum of all execution= 10166.666666666668\n",
      "Closed form cost= 14983403.679985914 \n",
      "\n",
      "predicted soln= tensor([1214.9593, 1065.9848,  987.5735,  915.6148,  832.4022,  745.2378,\n",
      "         659.0057,  576.8295,  500.5687,  431.1896, 2237.3008]) sum of all execution= tensor(10166.6667)\n",
      "predicted cost= 15313999.811091604 \n",
      "\n",
      "Percent Error in cost= 2.206415432478024 %\n",
      "\n",
      "size of total order= 10277.777777777777\n",
      "closed form soln= [1854.78473018  729.80092416  729.80092416  729.80092416  729.80092416\n",
      "  729.80092416  729.80092416  729.80092416  729.80092416  729.80092416\n",
      " 1854.78473018] sum of all execution= 10277.777777777776\n",
      "Closed form cost= 15312699.422124216 \n",
      "\n",
      "predicted soln= tensor([1228.2341, 1077.6314,  998.3609,  925.6155,  841.4933,  753.3762,\n",
      "         666.2017,  583.1274,  506.0332,  435.8959, 2261.8082]) sum of all execution= tensor(10277.7778)\n",
      "predicted cost= 15650567.537796307 \n",
      "\n",
      "Percent Error in cost= 2.2064569176087248 %\n",
      "\n",
      "size of total order= 10388.888888888889\n",
      "closed form soln= [1874.83645699  737.69066388  737.69066388  737.69066388  737.69066388\n",
      "  737.69066388  737.69066388  737.69066388  737.69066388  737.69066388\n",
      " 1874.83645699] sum of all execution= 10388.888888888889\n",
      "Closed form cost= 15645574.465807501 \n",
      "\n",
      "predicted soln= tensor([1241.5089, 1089.2780, 1009.1484,  935.6162,  850.5844,  761.5146,\n",
      "         673.3976,  589.4253,  511.4977,  440.6023, 2286.3155]) sum of all execution= tensor(10388.8889)\n",
      "predicted cost= 15990793.680788659 \n",
      "\n",
      "Percent Error in cost= 2.206497535361287 %\n",
      "\n",
      "size of total order= 10500.0\n",
      "closed form soln= [1894.8881838  745.5804036  745.5804036  745.5804036  745.5804036\n",
      "  745.5804036  745.5804036  745.5804036  745.5804036  745.5804036\n",
      " 1894.8881838] sum of all execution= 10500.0\n",
      "Closed form cost= 15982028.81103577 \n",
      "\n",
      "predicted soln= tensor([1254.7837, 1100.9245, 1019.9359,  945.6169,  859.6755,  769.6530,\n",
      "         680.5936,  595.7232,  516.9622,  445.3086, 2310.8229]) sum of all execution= tensor(10500.)\n",
      "predicted cost= 16334678.24006865 \n",
      "\n",
      "Percent Error in cost= 2.2065373126431265 %\n",
      "\n"
     ]
    }
   ],
   "source": [
    "from torch.nn.modules.pooling import MaxPool1d\n",
    "M1=10\n",
    "t_test=torch.zeros([M1,1])\n",
    "D_test=torch.zeros([M1,1])\n",
    "#D_test=torch.FloatTensor(M,1).uniform_(0.1,0.5)   #Price impact D_t\n",
    "#R_test=torch.FloatTensor(M1,1).uniform_(50,100)   #remaining balance R_t   #To get a positive solution R_t has to be greater than D_t\n",
    "R_test=torch.linspace(X0*0.95, X0*1.05, steps=M1).unsqueeze(1)\n",
    "x_test=torch.cat((t_test,D_test,R_test),dim=1)\n",
    "#print('Input=',x_test,'\\n')\n",
    "a=torch.zeros(M1,ite+1)\n",
    "#print(a.shape)\n",
    "for i in range(ite+1):\n",
    "  if(i!=ite):\n",
    "    soln_pred=model(x_test).squeeze(1).detach()\n",
    "    a[:,i]=soln_pred\n",
    "    x_test=update(x_test,soln_pred)\n",
    "    #print(x_test,'\\n')\n",
    "  else:\n",
    "    a[:,i]=R_test.squeeze(1)-torch.sum(a,dim=1)\n",
    "\n",
    "x1=R_test.squeeze().numpy()\n",
    "c_true=np.zeros(M1)\n",
    "c_pred=np.zeros(M1)\n",
    "c_num=np.zeros(M1)\n",
    "n_soln=np.zeros((M1,ite+1))\n",
    "t_soln=np.zeros((M1,ite+1))\n",
    "\n",
    "for i in range(M1):\n",
    "  print('size of total order=',x1[i])\n",
    "\n",
    "  t_soln[i,:]=closed_form(x1[i])\n",
    "  print('closed form soln=',t_soln[i,:],'sum of all execution=',np.sum(t_soln[i,:]))\n",
    "  true_cost=cost(t_soln[i,:])\n",
    "  c_true[i]=true_cost\n",
    "  print('Closed form cost=',true_cost,'\\n')\n",
    "\n",
    "  print('predicted soln=',a[i,:],'sum of all execution=',torch.sum(a[i,:]).detach())\n",
    "  pred_cost=cost(a[i,:].detach().numpy())\n",
    "  print('predicted cost=',pred_cost,'\\n')\n",
    "  c_pred[i]=pred_cost\n",
    "  print('Percent Error in cost=',np.abs(100*(true_cost-pred_cost)/true_cost),'%\\n')"
   ]
  },
  {
   "cell_type": "markdown",
   "metadata": {
    "id": "bIUWsQuCMJoI"
   },
   "source": [
    "Comparing the cost"
   ]
  },
  {
   "cell_type": "code",
   "execution_count": null,
   "metadata": {
    "colab": {
     "base_uri": "https://localhost:8080/",
     "height": 447
    },
    "id": "v2AdyYZLMHES",
    "outputId": "b299a6b2-a7cf-42e9-a2cf-5f39556e79d7"
   },
   "outputs": [],
   "source": [
    "# print(x1.shape)\n",
    "# name='E:/Robin research/ECMF_poster/N50.eps'\n",
    "# plt.figure()\n",
    "# plt.plot(x1,c_true,color='blue',label='cost_true',marker='1')\n",
    "# plt.plot(x1,c_pred,color='red',label='cost_predicted')\n",
    "# plt.plot(x1,c_num,color='green',label='cost_numeric')\n",
    "# plt.legend()\n",
    "# plt.savefig(name,format='eps')\n",
    "# plt.show()"
   ]
  },
  {
   "cell_type": "markdown",
   "metadata": {
    "id": "sDVg2A6yAt57"
   },
   "source": [
    "Comparing solution for diffeternt testing samples"
   ]
  },
  {
   "cell_type": "code",
   "execution_count": null,
   "metadata": {
    "colab": {
     "base_uri": "https://localhost:8080/",
     "height": 1000
    },
    "id": "vOZyCiOfA2ej",
    "outputId": "43fe60aa-e0af-41d1-ca70-b0e9e8652ed9",
    "scrolled": false
   },
   "outputs": [
    {
     "data": {
      "image/png": "[encoded data removed]",
      "text/plain": [
       "<Figure size 640x480 with 1 Axes>"
      ]
     },
     "metadata": {},
     "output_type": "display_data"
    },
    {
     "data": {
      "image/png": "[encoded data removed]",
      "text/plain": [
       "<Figure size 640x480 with 1 Axes>"
      ]
     },
     "metadata": {},
     "output_type": "display_data"
    },
    {
     "data": {
      "image/png": "[encoded data removed]",
      "text/plain": [
       "<Figure size 640x480 with 1 Axes>"
      ]
     },
     "metadata": {},
     "output_type": "display_data"
    },
    {
     "data": {
      "image/png": "[encoded data removed]",
      "text/plain": [
       "<Figure size 640x480 with 1 Axes>"
      ]
     },
     "metadata": {},
     "output_type": "display_data"
    }
   ],
   "source": [
    "p_soln=a.numpy()\n",
    "t_step=np.linspace(0,ite,num=ite+1)\n",
    "# name='/Users/shirinprovat/Desktop/Robin_Research/LOB_Linear/N_10_Linear.eps'\n",
    "def plotting(t):\n",
    "  #print('Total order size=',x1[t],np.sum(n_soln[t]),np.sum(p_soln[t]))\n",
    "  #print(n_soln[t],p_soln[t])\n",
    "  #plt.figure(figsize=(4,3))\n",
    "  plt.bar(t_step,t_soln[t],color='blue',width=0.3,label='Closed-Form',alpha=0.5)\n",
    "  plt.bar(t_step,p_soln[t],color='red',width=0.2,label='Predicted')\n",
    "  #plt.bar(t_step,n_soln[t],color='green',width=0.1,label='numeric')\n",
    "  plt.title('Total Order size X= %i' % (x1[t]))\n",
    "  plt.xlabel('Time steps')\n",
    "  plt.ylabel('Optimal orders')\n",
    "  plt.legend()\n",
    "\n",
    "  #plt.savefig('f.eps', format='eps')\n",
    "#   if(t==0):\n",
    "#     plt.savefig(name,format='eps')      \n",
    "  plt.show()\n",
    "for i in range(0,M1,3):\n",
    "  plotting(i)\n"
   ]
  },
  {
   "cell_type": "code",
   "execution_count": null,
   "metadata": {},
   "outputs": [],
   "source": [
    "#torch.save(model, 'model_N10_T1_K1_rho5_neo20.pth') \n",
    "#model_coarse = torch.load('model_N10.pth')"
   ]
  },
  {
   "cell_type": "code",
   "execution_count": null,
   "metadata": {},
   "outputs": [],
   "source": [
    "# import json\n",
    "# cost_numpy_list = [tensor.detach().item() for tensor in cost_ar]\n",
    "# my_dic = {'Num_sample':M,'Time_step':ite,'T':T,'kappa':kappa,'Rho':rho,'Total_balance':X0,\n",
    "#         'Num_neoron':neuron_model_psi,'Training_time':total_time,'epoch':max_epoch,\n",
    "#           'accuracy':0.005*1/100,'Training_cost':cost_numpy_list}\n",
    "\n",
    "# file_path=  'N10_T1_rho5_linear_dic.json'\n",
    "# with open(file_path,'w') as file:\n",
    "#     json.dump(my_dic,file)"
   ]
  },
  {
   "cell_type": "markdown",
   "metadata": {
    "id": "WDxwTUz0cM7i"
   },
   "source": [
    "Comparing solution at different time steps"
   ]
  },
  {
   "cell_type": "code",
   "execution_count": null,
   "metadata": {
    "colab": {
     "base_uri": "https://localhost:8080/",
     "height": 495
    },
    "id": "fhTjyEOhcTDi",
    "outputId": "f7434824-b622-4684-cba5-de03d91e7a07"
   },
   "outputs": [],
   "source": [
    "# #p_soln=a.numpy()\n",
    "# t_step=np.linspace(0,ite,num=ite+1)\n",
    "# X=R_test.squeeze(1).numpy()\n",
    "# def plotting_time(t):\n",
    "#   #print(t_soln[t],p_soln[t])\n",
    "#   plt.figure(figsize=(4,3))\n",
    "#   plt.plot(X,t_soln[:,0],color='blue',label='true')\n",
    "#   plt.plot(X,p_soln[:,0],color='red',label='pred')\n",
    "#   # plt.plot(X,n_soln[:,0],color='green',label='numeric')\n",
    "#   plt.title('At time= %d' % (t_step[t]))\n",
    "#   plt.xlabel('Total Order size')\n",
    "#   plt.ylabel('Optimal orders')\n",
    "#   plt.legend()\n",
    "#   plt.show\n",
    "# for i in range(0,t_step.shape[0],5):\n",
    "#   plotting_time(i)\n"
   ]
  },
  {
   "cell_type": "markdown",
   "metadata": {
    "id": "freyX0vxj9Gi"
   },
   "source": [
    "Absolute sum of the difference between true solution, predicted solution and true soln, numeric soln at each time step"
   ]
  },
  {
   "cell_type": "code",
   "execution_count": null,
   "metadata": {
    "colab": {
     "base_uri": "https://localhost:8080/",
     "height": 273
    },
    "id": "qKbuJp7tkOCY",
    "outputId": "7ae3d0aa-ccd8-442d-a735-0ac3915f0093"
   },
   "outputs": [],
   "source": [
    "# sq_error=np.zeros(M1)\n",
    "# sq_error_num=np.zeros(M1)\n",
    "\n",
    "# for i in range(M1):\n",
    "#   sq_error[i]=np.sum(np.abs(t_soln[i]-p_soln[i]))\n",
    "#   sq_error_num[i]=np.sum(np.abs(t_soln[i]-n_soln[i]))\n",
    "#   print(np.sum(t_soln[i]),'    ',sq_error[i])\n",
    "\n",
    "# plt.figure(figsize=(4,2))\n",
    "# plt.plot(X,sq_error,color='blue',label='pred')\n",
    "# #plt.plot(X,sq_error_num,color='green',label='numeric')\n",
    "# plt.title('Error with sample size= %d' % (M1))\n",
    "# plt.xlabel('Total Order size')\n",
    "# plt.ylabel('Sum of execution error')\n",
    "# plt.legend()"
   ]
  },
  {
   "cell_type": "markdown",
   "metadata": {
    "id": "wQzIyZHqqm5t"
   },
   "source": [
    "Additional rough test"
   ]
  },
  {
   "cell_type": "code",
   "execution_count": null,
   "metadata": {
    "id": "D-HLzw6CgLjT"
   },
   "outputs": [],
   "source": [
    "# from torch.nn.modules.pooling import MaxPool1d\n",
    "# M1=100\n",
    "# t_test=torch.zeros([M1,1])\n",
    "# D_test=torch.zeros([M1,1])\n",
    "# #D_test=torch.FloatTensor(M,1).uniform_(0.1,0.5)   #Price impact D_t\n",
    "# R_test=torch.linspace(50,100,100).unsqueeze(1)   #remaining balance R_t   #To get a positive solution R_t has to be greater than D_t\n",
    "# x_test=torch.cat((t_test,D_test,R_test),dim=1)\n",
    "# #print('Input=',x_test,'\\n')\n",
    "# soln=[]\n",
    "# x_update = x_test\n",
    "# #print(x_update)\n",
    "# for i in range(ite+1):\n",
    "#     #print(x_update)\n",
    "#     soln_pred=model(x_update)\n",
    "#     #print(soln_pred)\n",
    "#     x_udpate=update(x_update,soln_pred.squeeze(1))\n",
    "#     #print(x_update)\n",
    "#     soln.append(soln_pred)\n",
    "# strategy = torch.cat(soln,dim=1)\n",
    "# print(strategy)\n",
    "# # print('predicted soln=',strategy,'sum of all execution=',torch.sum(strategy,dim=1),'\\n')\n",
    "# a=[]\n",
    "# b=[]\n",
    "# c=[]\n",
    "# for x in R_test:\n",
    "#     a.append(x.numpy()[0])\n",
    "#     y=closed_form(x.numpy()[0],ite+1)\n",
    "#     #print(y)\n",
    "#     b.append(y[0][0])\n",
    "#     c.append(y[1])"
   ]
  },
  {
   "cell_type": "code",
   "execution_count": null,
   "metadata": {},
   "outputs": [],
   "source": [
    "#model= torch.load('model_N10.pth')\n",
    "\n"
   ]
  },
  {
   "cell_type": "code",
   "execution_count": null,
   "metadata": {},
   "outputs": [],
   "source": [
    "# from torch.nn.modules.pooling #model= torch.load('model_N10.pth')import MaxPool1d\n",
    "# M1=20\n",
    "# t_test=torch.zeros([M1,1])\n",
    "# D_test=torch.zeros([M1,1])\n",
    "# #D_test=torch.FloatTensor(M,1).uniform_(0.1,0.5)   #Price impact D_t\n",
    "# #R_test=torch.FloatTensor(M1,1).uniform_(50,100)   #remaining balance R_t   #To get a positive solution R_t has to be greater than D_t\n",
    "# R_test=torch.linspace(X0*0.95, X0*1.05, steps=M1).unsqueeze(1)\n",
    "# x_test=torch.cat((t_test,D_test,R_test),dim=1)\n",
    "# #print('Input=',x_test,'\\n')\n",
    "# a=torch.zeros(M1,ite+1)\n",
    "# #print(a.shape)\n",
    "# for i in range(ite+1):\n",
    "#   if(i!=ite):\n",
    "#     #print(x_test)\n",
    "#     soln_pred=model(x_test).squeeze(1).detach()\n",
    "#     a[:,i]=soln_pred\n",
    "#     x_test=update(x_test,soln_pred)\n",
    "#     #print(x_test,'\\n')\n",
    "#   else:\n",
    "#     a[:,i]=R_test.squeeze(1)-torch.sum(a,dim=1)\n",
    "\n",
    "# x1=R_test.squeeze().numpy()\n",
    "# c_true=np.zeros(M1)\n",
    "# c_pred=np.zeros(M1)\n",
    "# c_num=np.zeros(M1)\n",
    "# n_soln=np.zeros((M1,ite+1))\n",
    "# t_soln=np.zeros((M1,ite+1))\n",
    "\n",
    "# for i in range(M1):\n",
    "#   print('size of total order=',x1[i])\n",
    "\n",
    "#   t_soln[i,:]=closed_form(x1[i])\n",
    "#   print('closed form soln=',t_soln[i,:],'sum of all execution=',np.sum(t_soln[i,:]))\n",
    "#   true_cost=cost(t_soln[i,:])\n",
    "#   c_true[i]=true_cost\n",
    "#   print('Closed form cost=',true_cost,'\\n')\n",
    "\n",
    "#   print('predicted soln=',a[i,:],'sum of all execution=',torch.sum(a[i,:]).detach())\n",
    "#   pred_cost=cost(a[i,:].detach().numpy())\n",
    "#   print('predicted cost=',pred_cost,'\\n')\n",
    "#   c_pred[i]=pred_cost\n",
    "#   print('Percent Error in cost=',np.abs(100*(true_cost-pred_cost)/true_cost),'%\\n')\n",
    "    \n"
   ]
  },
  {
   "cell_type": "code",
   "execution_count": null,
   "metadata": {},
   "outputs": [],
   "source": []
  }
 ],
 "metadata": {
  "accelerator": "GPU",
  "colab": {
   "gpuType": "T4",
   "machine_shape": "hm",
   "provenance": []
  },
  "kernelspec": {
   "display_name": "Python 3 (ipykernel)",
   "language": "python",
   "name": "python3"
  },
  "language_info": {
   "codemirror_mode": {
    "name": "ipython",
    "version": 3
   },
   "file_extension": ".py",
   "mimetype": "text/x-python",
   "name": "python",
   "nbconvert_exporter": "python",
   "pygments_lexer": "ipython3",
   "version": "3.12.4"
  }
 },
 "nbformat": 4,
 "nbformat_minor": 1
}
